{
 "cells": [
  {
   "cell_type": "markdown",
   "id": "1efc9b4a",
   "metadata": {},
   "source": [
    "# Evaluation of final models predicting EMPO_3\n",
    "\n",
    "Load final models from model_joblibs folder and compares models by performance metrics.\n",
    "* Accuracy Score\n",
    "* Confusion Matrix\n",
    "* Classification Report\n",
    "\n",
    "model_comparison.py performs the same functions, and is useful to generate performance metrics for any given y_true and y_pred. \n"
   ]
  },
  {
   "cell_type": "code",
   "execution_count": 1,
   "id": "3b8dcdc0",
   "metadata": {},
   "outputs": [],
   "source": [
    "import os\n",
    "import sys\n",
    "module_path = os.path.abspath(os.path.join('..'))\n",
    "if module_path not in sys.path:\n",
    "    sys.path.append(module_path)\n",
    "from helpers import (get_training_observations, \n",
    "                     get_training_labels,\n",
    "                     get_test_observations,\n",
    "                     get_test_labels,\n",
    "                     get_protein_proportions)\n",
    "import pandas as pd\n",
    "import numpy as np\n",
    "import matplotlib.pyplot as plt\n",
    "from joblib import load\n",
    "# sklearn package functions\n",
    "from sklearn.model_selection import train_test_split\n",
    "from sklearn.tree import plot_tree\n",
    "from sklearn.metrics import accuracy_score\n",
    "from sklearn.metrics import classification_report\n",
    "from sklearn.metrics import confusion_matrix\n",
    "from sklearn.metrics import ConfusionMatrixDisplay"
   ]
  },
  {
   "cell_type": "markdown",
   "id": "93928532",
   "metadata": {},
   "source": [
    "# Load models and generate predictions"
   ]
  },
  {
   "cell_type": "code",
   "execution_count": 6,
   "id": "38330628",
   "metadata": {},
   "outputs": [
    {
     "name": "stdout",
     "output_type": "stream",
     "text": [
      "Getting all test observations from 'metagenome_classification.db'...\n",
      "Getting all test labels from 'metagenome_classification.db'...\n"
     ]
    }
   ],
   "source": [
    "# load test data\n",
    "x_test = get_test_observations()\n",
    "y_test = get_test_labels()['EMPO_3']"
   ]
  },
  {
   "cell_type": "code",
   "execution_count": 7,
   "id": "ae273c24",
   "metadata": {
    "scrolled": true
   },
   "outputs": [
    {
     "name": "stdout",
     "output_type": "stream",
     "text": [
      "['Aerosol (non-saline)' 'Animal corpus' 'Animal proximal gut'\n",
      " 'Hypersaline (saline)' 'Plant corpus' 'Plant rhizosphere' 'Plant surface'\n",
      " 'Sediment (non-saline)' 'Sediment (saline)' 'Soil (non-saline)'\n",
      " 'Subsurface (non-saline)' 'Surface (non-saline)' 'Surface (saline)'\n",
      " 'Water (non-saline)' 'Water (saline)']\n"
     ]
    }
   ],
   "source": [
    "# load XGB label encoder\n",
    "xgb_le=load('../model_joblibs/xgb_labelEncoder.joblib')\n",
    "# get list of labels\n",
    "labels = np.array(xgb_le.classes_)\n",
    "print(labels)"
   ]
  },
  {
   "cell_type": "code",
   "execution_count": 4,
   "id": "ea4c3570",
   "metadata": {},
   "outputs": [],
   "source": [
    "# put all models into a nested dictionary\n",
    "models = {}"
   ]
  },
  {
   "cell_type": "code",
   "execution_count": 5,
   "id": "ef8192d1",
   "metadata": {},
   "outputs": [
    {
     "name": "stderr",
     "output_type": "stream",
     "text": [
      "/Users/Sophie/opt/anaconda3/envs/xgb/lib/python3.10/site-packages/xgboost/compat.py:36: FutureWarning: pandas.Int64Index is deprecated and will be removed from pandas in a future version. Use pandas.Index with the appropriate dtype instead.\n",
      "  from pandas import MultiIndex, Int64Index\n"
     ]
    }
   ],
   "source": [
    "# load XGB model\n",
    "models['XGB'] = {}\n",
    "models['XGB']['model'] = load('../model_joblibs/xgb_model.joblib')\n",
    "# predict with testing data set\n",
    "xgb_pred = models['XGB']['model'].predict(x_test).astype('int64')\n",
    "# convert encoded predictions into labels\n",
    "models['XGB']['pred'] = xgb_le.inverse_transform(xgb_pred)"
   ]
  },
  {
   "cell_type": "code",
   "execution_count": 9,
   "id": "884f5c05",
   "metadata": {},
   "outputs": [
    {
     "name": "stderr",
     "output_type": "stream",
     "text": [
      "/Users/Sophie/opt/anaconda3/envs/xgb/lib/python3.10/site-packages/sklearn/base.py:329: UserWarning: Trying to unpickle estimator DecisionTreeClassifier from version 1.1.1 when using version 1.0.2. This might lead to breaking code or invalid results. Use at your own risk. For more info please refer to:\n",
      "https://scikit-learn.org/stable/modules/model_persistence.html#security-maintainability-limitations\n",
      "  warnings.warn(\n"
     ]
    }
   ],
   "source": [
    "# load decision tree model\n",
    "models['Decision Tree'] = {}\n",
    "models['Decision Tree']['model'] = load('../model_joblibs/decision_tree.joblib')\n",
    "models['Decision Tree']['pred'] = models['Decision Tree']['model'].predict(x_test)"
   ]
  },
  {
   "cell_type": "code",
   "execution_count": 16,
   "id": "1d75a013",
   "metadata": {},
   "outputs": [
    {
     "name": "stderr",
     "output_type": "stream",
     "text": [
      "2022-08-02 13:49:06.144291: I tensorflow/core/platform/cpu_feature_guard.cc:193] This TensorFlow binary is optimized with oneAPI Deep Neural Network Library (oneDNN) to use the following CPU instructions in performance-critical operations:  AVX2 FMA\n",
      "To enable them in other operations, rebuild TensorFlow with the appropriate compiler flags.\n"
     ]
    },
    {
     "name": "stdout",
     "output_type": "stream",
     "text": [
      "17/17 [==============================] - 0s 11ms/step\n"
     ]
    }
   ],
   "source": [
    "# load neural network model\n",
    "# models['NN'] = {}\n",
    "# models['NN']['model'] = load('../model_joblibs/neural_network_EMPO3.joblib')\n",
    "# models['NN']['pred'] = models['NN']['model'].predict(x_test).astype('int64')"
   ]
  },
  {
   "cell_type": "code",
   "execution_count": 46,
   "id": "f776dce3",
   "metadata": {},
   "outputs": [
    {
     "data": {
      "text/plain": [
       "array(['Water (non-saline)', 'Water (non-saline)', 'Plant rhizosphere',\n",
       "       'Subsurface (non-saline)', 'Water (non-saline)'], dtype=object)"
      ]
     },
     "execution_count": 46,
     "metadata": {},
     "output_type": "execute_result"
    }
   ],
   "source": [
    "# predictions should be an array of strings\n",
    "models['Decision Tree']['pred'][:5]"
   ]
  },
  {
   "cell_type": "markdown",
   "id": "4cee7ac3",
   "metadata": {},
   "source": [
    "## Accuracy"
   ]
  },
  {
   "cell_type": "code",
   "execution_count": 10,
   "id": "2761b732",
   "metadata": {},
   "outputs": [
    {
     "name": "stdout",
     "output_type": "stream",
     "text": [
      "XGB Accuracy Score 0.9794776119402985\n",
      "Decision Tree Accuracy Score 0.9626865671641791\n"
     ]
    }
   ],
   "source": [
    "for model in models.keys():\n",
    "    print(f\"{model} Accuracy Score\", accuracy_score(y_test, models[model]['pred']))"
   ]
  },
  {
   "cell_type": "markdown",
   "id": "d4b1d5a3",
   "metadata": {},
   "source": [
    "## Confusion Matrix"
   ]
  },
  {
   "cell_type": "code",
   "execution_count": 45,
   "id": "0d46a04d",
   "metadata": {},
   "outputs": [
    {
     "name": "stdout",
     "output_type": "stream",
     "text": [
      "XGB Confusion Matrix\n"
     ]
    },
    {
     "data": {
      "image/png": "[encoded data removed]",
      "text/plain": [
       "<Figure size 432x288 with 2 Axes>"
      ]
     },
     "metadata": {
      "needs_background": "light"
     },
     "output_type": "display_data"
    },
    {
     "name": "stdout",
     "output_type": "stream",
     "text": [
      "Decision Tree Confusion Matrix\n"
     ]
    },
    {
     "data": {
      "image/png": "[encoded data removed]",
      "text/plain": [
       "<Figure size 432x288 with 2 Axes>"
      ]
     },
     "metadata": {
      "needs_background": "light"
     },
     "output_type": "display_data"
    }
   ],
   "source": [
    "def cm(y_pred):\n",
    "    cm = confusion_matrix(y_test, y_pred, labels=labels)\n",
    "    disp = ConfusionMatrixDisplay(confusion_matrix=cm, display_labels=labels)\n",
    "    disp.plot(cmap=plt.cm.Blues)\n",
    "    plt.xticks(rotation=90)\n",
    "    plt.show()\n",
    "    \n",
    "# display confusion matrix for each model\n",
    "for model in models.keys():\n",
    "    print (f\"{model} Confusion Matrix\")\n",
    "    cm(models[model]['pred'])"
   ]
  },
  {
   "cell_type": "markdown",
   "id": "a2a0e465",
   "metadata": {},
   "source": [
    "# Classification Report"
   ]
  },
  {
   "cell_type": "markdown",
   "id": "b414ddc6",
   "metadata": {},
   "source": [
    "In a nutshell, the major difference between ROC AUC and F1 is related to class imbalance. Here is a summary of reading many StackOverflow threads on how to choose one over the other:\n",
    "\n",
    "**If you have a high class imbalance, always choose the F1 score because a high F1 score considers both precision and recall.** To get a high F1, both false positives and false negatives must be low. On the other hand, ROC AUC can give precious high scores with a high enough number of false positives. Besides, you can also think of the ROC AUC score as the average of F1 scores (both good and bad) evaluated at various thresholds. Always use F1 when you have a class imbalance. Higher ROC AUC does not necessarily mean a better classifier.\n",
    "\n",
    "[Source: Comprehensive Guide to Multiclass Classification Metrics](https://towardsdatascience.com/comprehensive-guide-on-multiclass-classification-metrics-af94cfb83fbd)"
   ]
  },
  {
   "cell_type": "code",
   "execution_count": 30,
   "id": "d736505c",
   "metadata": {},
   "outputs": [
    {
     "name": "stdout",
     "output_type": "stream",
     "text": [
      "XGB Classification Report\n",
      "                         precision    recall  f1-score   support\n",
      "\n",
      "   Aerosol (non-saline)       1.00      1.00      1.00         3\n",
      "          Animal corpus       1.00      1.00      1.00         3\n",
      "    Animal proximal gut       1.00      1.00      1.00        15\n",
      "   Hypersaline (saline)       1.00      1.00      1.00         6\n",
      "      Plant rhizosphere       1.00      0.93      0.96        40\n",
      "          Plant surface       1.00      0.75      0.86         4\n",
      "  Sediment (non-saline)       1.00      0.92      0.96        38\n",
      "      Sediment (saline)       1.00      1.00      1.00         8\n",
      "      Soil (non-saline)       0.97      1.00      0.99       135\n",
      "Subsurface (non-saline)       0.96      0.98      0.97        51\n",
      "   Surface (non-saline)       1.00      1.00      1.00         1\n",
      "     Water (non-saline)       0.98      0.97      0.98       106\n",
      "         Water (saline)       0.98      1.00      0.99       126\n",
      "\n",
      "               accuracy                           0.98       536\n",
      "              macro avg       0.99      0.97      0.98       536\n",
      "           weighted avg       0.98      0.98      0.98       536\n",
      "\n",
      "Decision Tree Classification Report\n",
      "                         precision    recall  f1-score   support\n",
      "\n",
      "   Aerosol (non-saline)       0.75      1.00      0.86         3\n",
      "          Animal corpus       1.00      1.00      1.00         3\n",
      "    Animal proximal gut       1.00      1.00      1.00        15\n",
      "   Hypersaline (saline)       1.00      1.00      1.00         6\n",
      "      Plant rhizosphere       0.95      0.95      0.95        40\n",
      "          Plant surface       0.75      0.75      0.75         4\n",
      "  Sediment (non-saline)       1.00      0.92      0.96        38\n",
      "      Sediment (saline)       0.89      1.00      0.94         8\n",
      "      Soil (non-saline)       0.97      0.98      0.97       135\n",
      "Subsurface (non-saline)       0.91      0.96      0.93        51\n",
      "   Surface (non-saline)       1.00      1.00      1.00         1\n",
      "     Water (non-saline)       0.97      0.93      0.95       106\n",
      "         Water (saline)       0.98      0.98      0.98       126\n",
      "\n",
      "               accuracy                           0.96       536\n",
      "              macro avg       0.94      0.96      0.95       536\n",
      "           weighted avg       0.96      0.96      0.96       536\n",
      "\n"
     ]
    }
   ],
   "source": [
    "def print_clf_rpt(y_true, y_pred):\n",
    "    print(classification_report(y_true, y_pred, zero_division=0))\n",
    "    # zero_divison hides UndefinedMetricWarning: zero scores are due to labels not appearing in y_pred\n",
    "    # In these instances, refer to the 'weighted avg'\n",
    "    \n",
    "for model in models.keys():\n",
    "    print(f\"{model} Classification Report\")\n",
    "    print_clf_rpt(y_test, models[model]['pred'])"
   ]
  },
  {
   "cell_type": "code",
   "execution_count": 31,
   "id": "02069bfb",
   "metadata": {},
   "outputs": [
    {
     "name": "stdout",
     "output_type": "stream",
     "text": [
      "XGB Classification Report\n"
     ]
    },
    {
     "data": {
      "text/html": [
       "<style type=\"text/css\">\n",
       "#T_01307_row0_col0, #T_01307_row0_col1, #T_01307_row0_col2, #T_01307_row1_col0, #T_01307_row1_col1, #T_01307_row1_col2, #T_01307_row2_col0, #T_01307_row2_col1, #T_01307_row2_col2, #T_01307_row3_col0, #T_01307_row3_col1, #T_01307_row3_col2, #T_01307_row4_col0, #T_01307_row5_col0, #T_01307_row6_col0, #T_01307_row7_col0, #T_01307_row7_col1, #T_01307_row7_col2, #T_01307_row8_col1, #T_01307_row10_col0, #T_01307_row10_col1, #T_01307_row10_col2, #T_01307_row12_col1 {\n",
       "  background-color: #08306b;\n",
       "  color: #f1f1f1;\n",
       "}\n",
       "#T_01307_row4_col1 {\n",
       "  background-color: #2e7ebc;\n",
       "  color: #f1f1f1;\n",
       "}\n",
       "#T_01307_row4_col2 {\n",
       "  background-color: #2676b8;\n",
       "  color: #f1f1f1;\n",
       "}\n",
       "#T_01307_row5_col1, #T_01307_row5_col2, #T_01307_row9_col0 {\n",
       "  background-color: #f7fbff;\n",
       "  color: #000000;\n",
       "}\n",
       "#T_01307_row6_col1 {\n",
       "  background-color: #3282be;\n",
       "  color: #f1f1f1;\n",
       "}\n",
       "#T_01307_row6_col2 {\n",
       "  background-color: #2b7bba;\n",
       "  color: #f1f1f1;\n",
       "}\n",
       "#T_01307_row8_col0 {\n",
       "  background-color: #c6dbef;\n",
       "  color: #000000;\n",
       "}\n",
       "#T_01307_row8_col2 {\n",
       "  background-color: #084b93;\n",
       "  color: #f1f1f1;\n",
       "}\n",
       "#T_01307_row9_col1 {\n",
       "  background-color: #08458a;\n",
       "  color: #f1f1f1;\n",
       "}\n",
       "#T_01307_row9_col2 {\n",
       "  background-color: #1865ac;\n",
       "  color: #f1f1f1;\n",
       "}\n",
       "#T_01307_row11_col0 {\n",
       "  background-color: #69add5;\n",
       "  color: #f1f1f1;\n",
       "}\n",
       "#T_01307_row11_col1 {\n",
       "  background-color: #084d96;\n",
       "  color: #f1f1f1;\n",
       "}\n",
       "#T_01307_row11_col2 {\n",
       "  background-color: #105ba4;\n",
       "  color: #f1f1f1;\n",
       "}\n",
       "#T_01307_row12_col0 {\n",
       "  background-color: #95c5df;\n",
       "  color: #000000;\n",
       "}\n",
       "#T_01307_row12_col2 {\n",
       "  background-color: #08468b;\n",
       "  color: #f1f1f1;\n",
       "}\n",
       "</style>\n",
       "<table id=\"T_01307\">\n",
       "  <thead>\n",
       "    <tr>\n",
       "      <th class=\"blank level0\" >&nbsp;</th>\n",
       "      <th id=\"T_01307_level0_col0\" class=\"col_heading level0 col0\" >precision</th>\n",
       "      <th id=\"T_01307_level0_col1\" class=\"col_heading level0 col1\" >recall</th>\n",
       "      <th id=\"T_01307_level0_col2\" class=\"col_heading level0 col2\" >f1-score</th>\n",
       "      <th id=\"T_01307_level0_col3\" class=\"col_heading level0 col3\" >support</th>\n",
       "    </tr>\n",
       "  </thead>\n",
       "  <tbody>\n",
       "    <tr>\n",
       "      <th id=\"T_01307_level0_row0\" class=\"row_heading level0 row0\" >Aerosol (non-saline)</th>\n",
       "      <td id=\"T_01307_row0_col0\" class=\"data row0 col0\" >1.0000</td>\n",
       "      <td id=\"T_01307_row0_col1\" class=\"data row0 col1\" >1.0000</td>\n",
       "      <td id=\"T_01307_row0_col2\" class=\"data row0 col2\" >1.0000</td>\n",
       "      <td id=\"T_01307_row0_col3\" class=\"data row0 col3\" >3</td>\n",
       "    </tr>\n",
       "    <tr>\n",
       "      <th id=\"T_01307_level0_row1\" class=\"row_heading level0 row1\" >Animal corpus</th>\n",
       "      <td id=\"T_01307_row1_col0\" class=\"data row1 col0\" >1.0000</td>\n",
       "      <td id=\"T_01307_row1_col1\" class=\"data row1 col1\" >1.0000</td>\n",
       "      <td id=\"T_01307_row1_col2\" class=\"data row1 col2\" >1.0000</td>\n",
       "      <td id=\"T_01307_row1_col3\" class=\"data row1 col3\" >3</td>\n",
       "    </tr>\n",
       "    <tr>\n",
       "      <th id=\"T_01307_level0_row2\" class=\"row_heading level0 row2\" >Animal proximal gut</th>\n",
       "      <td id=\"T_01307_row2_col0\" class=\"data row2 col0\" >1.0000</td>\n",
       "      <td id=\"T_01307_row2_col1\" class=\"data row2 col1\" >1.0000</td>\n",
       "      <td id=\"T_01307_row2_col2\" class=\"data row2 col2\" >1.0000</td>\n",
       "      <td id=\"T_01307_row2_col3\" class=\"data row2 col3\" >15</td>\n",
       "    </tr>\n",
       "    <tr>\n",
       "      <th id=\"T_01307_level0_row3\" class=\"row_heading level0 row3\" >Hypersaline (saline)</th>\n",
       "      <td id=\"T_01307_row3_col0\" class=\"data row3 col0\" >1.0000</td>\n",
       "      <td id=\"T_01307_row3_col1\" class=\"data row3 col1\" >1.0000</td>\n",
       "      <td id=\"T_01307_row3_col2\" class=\"data row3 col2\" >1.0000</td>\n",
       "      <td id=\"T_01307_row3_col3\" class=\"data row3 col3\" >6</td>\n",
       "    </tr>\n",
       "    <tr>\n",
       "      <th id=\"T_01307_level0_row4\" class=\"row_heading level0 row4\" >Plant rhizosphere</th>\n",
       "      <td id=\"T_01307_row4_col0\" class=\"data row4 col0\" >1.0000</td>\n",
       "      <td id=\"T_01307_row4_col1\" class=\"data row4 col1\" >0.9250</td>\n",
       "      <td id=\"T_01307_row4_col2\" class=\"data row4 col2\" >0.9610</td>\n",
       "      <td id=\"T_01307_row4_col3\" class=\"data row4 col3\" >40</td>\n",
       "    </tr>\n",
       "    <tr>\n",
       "      <th id=\"T_01307_level0_row5\" class=\"row_heading level0 row5\" >Plant surface</th>\n",
       "      <td id=\"T_01307_row5_col0\" class=\"data row5 col0\" >1.0000</td>\n",
       "      <td id=\"T_01307_row5_col1\" class=\"data row5 col1\" >0.7500</td>\n",
       "      <td id=\"T_01307_row5_col2\" class=\"data row5 col2\" >0.8571</td>\n",
       "      <td id=\"T_01307_row5_col3\" class=\"data row5 col3\" >4</td>\n",
       "    </tr>\n",
       "    <tr>\n",
       "      <th id=\"T_01307_level0_row6\" class=\"row_heading level0 row6\" >Sediment (non-saline)</th>\n",
       "      <td id=\"T_01307_row6_col0\" class=\"data row6 col0\" >1.0000</td>\n",
       "      <td id=\"T_01307_row6_col1\" class=\"data row6 col1\" >0.9211</td>\n",
       "      <td id=\"T_01307_row6_col2\" class=\"data row6 col2\" >0.9589</td>\n",
       "      <td id=\"T_01307_row6_col3\" class=\"data row6 col3\" >38</td>\n",
       "    </tr>\n",
       "    <tr>\n",
       "      <th id=\"T_01307_level0_row7\" class=\"row_heading level0 row7\" >Sediment (saline)</th>\n",
       "      <td id=\"T_01307_row7_col0\" class=\"data row7 col0\" >1.0000</td>\n",
       "      <td id=\"T_01307_row7_col1\" class=\"data row7 col1\" >1.0000</td>\n",
       "      <td id=\"T_01307_row7_col2\" class=\"data row7 col2\" >1.0000</td>\n",
       "      <td id=\"T_01307_row7_col3\" class=\"data row7 col3\" >8</td>\n",
       "    </tr>\n",
       "    <tr>\n",
       "      <th id=\"T_01307_level0_row8\" class=\"row_heading level0 row8\" >Soil (non-saline)</th>\n",
       "      <td id=\"T_01307_row8_col0\" class=\"data row8 col0\" >0.9712</td>\n",
       "      <td id=\"T_01307_row8_col1\" class=\"data row8 col1\" >1.0000</td>\n",
       "      <td id=\"T_01307_row8_col2\" class=\"data row8 col2\" >0.9854</td>\n",
       "      <td id=\"T_01307_row8_col3\" class=\"data row8 col3\" >135</td>\n",
       "    </tr>\n",
       "    <tr>\n",
       "      <th id=\"T_01307_level0_row9\" class=\"row_heading level0 row9\" >Subsurface (non-saline)</th>\n",
       "      <td id=\"T_01307_row9_col0\" class=\"data row9 col0\" >0.9615</td>\n",
       "      <td id=\"T_01307_row9_col1\" class=\"data row9 col1\" >0.9804</td>\n",
       "      <td id=\"T_01307_row9_col2\" class=\"data row9 col2\" >0.9709</td>\n",
       "      <td id=\"T_01307_row9_col3\" class=\"data row9 col3\" >51</td>\n",
       "    </tr>\n",
       "    <tr>\n",
       "      <th id=\"T_01307_level0_row10\" class=\"row_heading level0 row10\" >Surface (non-saline)</th>\n",
       "      <td id=\"T_01307_row10_col0\" class=\"data row10 col0\" >1.0000</td>\n",
       "      <td id=\"T_01307_row10_col1\" class=\"data row10 col1\" >1.0000</td>\n",
       "      <td id=\"T_01307_row10_col2\" class=\"data row10 col2\" >1.0000</td>\n",
       "      <td id=\"T_01307_row10_col3\" class=\"data row10 col3\" >1</td>\n",
       "    </tr>\n",
       "    <tr>\n",
       "      <th id=\"T_01307_level0_row11\" class=\"row_heading level0 row11\" >Water (non-saline)</th>\n",
       "      <td id=\"T_01307_row11_col0\" class=\"data row11 col0\" >0.9810</td>\n",
       "      <td id=\"T_01307_row11_col1\" class=\"data row11 col1\" >0.9717</td>\n",
       "      <td id=\"T_01307_row11_col2\" class=\"data row11 col2\" >0.9763</td>\n",
       "      <td id=\"T_01307_row11_col3\" class=\"data row11 col3\" >106</td>\n",
       "    </tr>\n",
       "    <tr>\n",
       "      <th id=\"T_01307_level0_row12\" class=\"row_heading level0 row12\" >Water (saline)</th>\n",
       "      <td id=\"T_01307_row12_col0\" class=\"data row12 col0\" >0.9767</td>\n",
       "      <td id=\"T_01307_row12_col1\" class=\"data row12 col1\" >1.0000</td>\n",
       "      <td id=\"T_01307_row12_col2\" class=\"data row12 col2\" >0.9882</td>\n",
       "      <td id=\"T_01307_row12_col3\" class=\"data row12 col3\" >126</td>\n",
       "    </tr>\n",
       "    <tr>\n",
       "      <th id=\"T_01307_level0_row13\" class=\"row_heading level0 row13\" >accuracy</th>\n",
       "      <td id=\"T_01307_row13_col0\" class=\"data row13 col0\" >0.9795</td>\n",
       "      <td id=\"T_01307_row13_col1\" class=\"data row13 col1\" >0.9795</td>\n",
       "      <td id=\"T_01307_row13_col2\" class=\"data row13 col2\" >0.9795</td>\n",
       "      <td id=\"T_01307_row13_col3\" class=\"data row13 col3\" >0</td>\n",
       "    </tr>\n",
       "    <tr>\n",
       "      <th id=\"T_01307_level0_row14\" class=\"row_heading level0 row14\" >macro avg</th>\n",
       "      <td id=\"T_01307_row14_col0\" class=\"data row14 col0\" >0.9916</td>\n",
       "      <td id=\"T_01307_row14_col1\" class=\"data row14 col1\" >0.9652</td>\n",
       "      <td id=\"T_01307_row14_col2\" class=\"data row14 col2\" >0.9768</td>\n",
       "      <td id=\"T_01307_row14_col3\" class=\"data row14 col3\" >536</td>\n",
       "    </tr>\n",
       "    <tr>\n",
       "      <th id=\"T_01307_level0_row15\" class=\"row_heading level0 row15\" >weighted avg</th>\n",
       "      <td id=\"T_01307_row15_col0\" class=\"data row15 col0\" >0.9799</td>\n",
       "      <td id=\"T_01307_row15_col1\" class=\"data row15 col1\" >0.9795</td>\n",
       "      <td id=\"T_01307_row15_col2\" class=\"data row15 col2\" >0.9792</td>\n",
       "      <td id=\"T_01307_row15_col3\" class=\"data row15 col3\" >536</td>\n",
       "    </tr>\n",
       "  </tbody>\n",
       "</table>\n"
      ],
      "text/plain": [
       "<pandas.io.formats.style.Styler at 0x7f9c099ea080>"
      ]
     },
     "metadata": {},
     "output_type": "display_data"
    },
    {
     "name": "stdout",
     "output_type": "stream",
     "text": [
      "Decision Tree Classification Report\n"
     ]
    },
    {
     "data": {
      "text/html": [
       "<style type=\"text/css\">\n",
       "#T_54803_row0_col0, #T_54803_row5_col0, #T_54803_row5_col1, #T_54803_row5_col2 {\n",
       "  background-color: #f7fbff;\n",
       "  color: #000000;\n",
       "}\n",
       "#T_54803_row0_col1, #T_54803_row1_col0, #T_54803_row1_col1, #T_54803_row1_col2, #T_54803_row2_col0, #T_54803_row2_col1, #T_54803_row2_col2, #T_54803_row3_col0, #T_54803_row3_col1, #T_54803_row3_col2, #T_54803_row6_col0, #T_54803_row7_col1, #T_54803_row10_col0, #T_54803_row10_col1, #T_54803_row10_col2 {\n",
       "  background-color: #08306b;\n",
       "  color: #f1f1f1;\n",
       "}\n",
       "#T_54803_row0_col2 {\n",
       "  background-color: #89bedc;\n",
       "  color: #000000;\n",
       "}\n",
       "#T_54803_row4_col0, #T_54803_row4_col1, #T_54803_row4_col2 {\n",
       "  background-color: #1764ab;\n",
       "  color: #f1f1f1;\n",
       "}\n",
       "#T_54803_row6_col1 {\n",
       "  background-color: #3282be;\n",
       "  color: #f1f1f1;\n",
       "}\n",
       "#T_54803_row6_col2 {\n",
       "  background-color: #105ba4;\n",
       "  color: #f1f1f1;\n",
       "}\n",
       "#T_54803_row7_col0 {\n",
       "  background-color: #58a1cf;\n",
       "  color: #f1f1f1;\n",
       "}\n",
       "#T_54803_row7_col2 {\n",
       "  background-color: #1e6db2;\n",
       "  color: #f1f1f1;\n",
       "}\n",
       "#T_54803_row8_col0, #T_54803_row11_col0 {\n",
       "  background-color: #084f99;\n",
       "  color: #f1f1f1;\n",
       "}\n",
       "#T_54803_row8_col1 {\n",
       "  background-color: #08478d;\n",
       "  color: #f1f1f1;\n",
       "}\n",
       "#T_54803_row8_col2 {\n",
       "  background-color: #084b93;\n",
       "  color: #f1f1f1;\n",
       "}\n",
       "#T_54803_row9_col0 {\n",
       "  background-color: #4090c5;\n",
       "  color: #f1f1f1;\n",
       "}\n",
       "#T_54803_row9_col1 {\n",
       "  background-color: #0e59a2;\n",
       "  color: #f1f1f1;\n",
       "}\n",
       "#T_54803_row9_col2 {\n",
       "  background-color: #2575b7;\n",
       "  color: #f1f1f1;\n",
       "}\n",
       "#T_54803_row11_col1 {\n",
       "  background-color: #2474b7;\n",
       "  color: #f1f1f1;\n",
       "}\n",
       "#T_54803_row11_col2 {\n",
       "  background-color: #1562a9;\n",
       "  color: #f1f1f1;\n",
       "}\n",
       "#T_54803_row12_col0 {\n",
       "  background-color: #084990;\n",
       "  color: #f1f1f1;\n",
       "}\n",
       "#T_54803_row12_col1 {\n",
       "  background-color: #084184;\n",
       "  color: #f1f1f1;\n",
       "}\n",
       "#T_54803_row12_col2 {\n",
       "  background-color: #08458a;\n",
       "  color: #f1f1f1;\n",
       "}\n",
       "</style>\n",
       "<table id=\"T_54803\">\n",
       "  <thead>\n",
       "    <tr>\n",
       "      <th class=\"blank level0\" >&nbsp;</th>\n",
       "      <th id=\"T_54803_level0_col0\" class=\"col_heading level0 col0\" >precision</th>\n",
       "      <th id=\"T_54803_level0_col1\" class=\"col_heading level0 col1\" >recall</th>\n",
       "      <th id=\"T_54803_level0_col2\" class=\"col_heading level0 col2\" >f1-score</th>\n",
       "      <th id=\"T_54803_level0_col3\" class=\"col_heading level0 col3\" >support</th>\n",
       "    </tr>\n",
       "  </thead>\n",
       "  <tbody>\n",
       "    <tr>\n",
       "      <th id=\"T_54803_level0_row0\" class=\"row_heading level0 row0\" >Aerosol (non-saline)</th>\n",
       "      <td id=\"T_54803_row0_col0\" class=\"data row0 col0\" >0.7500</td>\n",
       "      <td id=\"T_54803_row0_col1\" class=\"data row0 col1\" >1.0000</td>\n",
       "      <td id=\"T_54803_row0_col2\" class=\"data row0 col2\" >0.8571</td>\n",
       "      <td id=\"T_54803_row0_col3\" class=\"data row0 col3\" >3</td>\n",
       "    </tr>\n",
       "    <tr>\n",
       "      <th id=\"T_54803_level0_row1\" class=\"row_heading level0 row1\" >Animal corpus</th>\n",
       "      <td id=\"T_54803_row1_col0\" class=\"data row1 col0\" >1.0000</td>\n",
       "      <td id=\"T_54803_row1_col1\" class=\"data row1 col1\" >1.0000</td>\n",
       "      <td id=\"T_54803_row1_col2\" class=\"data row1 col2\" >1.0000</td>\n",
       "      <td id=\"T_54803_row1_col3\" class=\"data row1 col3\" >3</td>\n",
       "    </tr>\n",
       "    <tr>\n",
       "      <th id=\"T_54803_level0_row2\" class=\"row_heading level0 row2\" >Animal proximal gut</th>\n",
       "      <td id=\"T_54803_row2_col0\" class=\"data row2 col0\" >1.0000</td>\n",
       "      <td id=\"T_54803_row2_col1\" class=\"data row2 col1\" >1.0000</td>\n",
       "      <td id=\"T_54803_row2_col2\" class=\"data row2 col2\" >1.0000</td>\n",
       "      <td id=\"T_54803_row2_col3\" class=\"data row2 col3\" >15</td>\n",
       "    </tr>\n",
       "    <tr>\n",
       "      <th id=\"T_54803_level0_row3\" class=\"row_heading level0 row3\" >Hypersaline (saline)</th>\n",
       "      <td id=\"T_54803_row3_col0\" class=\"data row3 col0\" >1.0000</td>\n",
       "      <td id=\"T_54803_row3_col1\" class=\"data row3 col1\" >1.0000</td>\n",
       "      <td id=\"T_54803_row3_col2\" class=\"data row3 col2\" >1.0000</td>\n",
       "      <td id=\"T_54803_row3_col3\" class=\"data row3 col3\" >6</td>\n",
       "    </tr>\n",
       "    <tr>\n",
       "      <th id=\"T_54803_level0_row4\" class=\"row_heading level0 row4\" >Plant rhizosphere</th>\n",
       "      <td id=\"T_54803_row4_col0\" class=\"data row4 col0\" >0.9500</td>\n",
       "      <td id=\"T_54803_row4_col1\" class=\"data row4 col1\" >0.9500</td>\n",
       "      <td id=\"T_54803_row4_col2\" class=\"data row4 col2\" >0.9500</td>\n",
       "      <td id=\"T_54803_row4_col3\" class=\"data row4 col3\" >40</td>\n",
       "    </tr>\n",
       "    <tr>\n",
       "      <th id=\"T_54803_level0_row5\" class=\"row_heading level0 row5\" >Plant surface</th>\n",
       "      <td id=\"T_54803_row5_col0\" class=\"data row5 col0\" >0.7500</td>\n",
       "      <td id=\"T_54803_row5_col1\" class=\"data row5 col1\" >0.7500</td>\n",
       "      <td id=\"T_54803_row5_col2\" class=\"data row5 col2\" >0.7500</td>\n",
       "      <td id=\"T_54803_row5_col3\" class=\"data row5 col3\" >4</td>\n",
       "    </tr>\n",
       "    <tr>\n",
       "      <th id=\"T_54803_level0_row6\" class=\"row_heading level0 row6\" >Sediment (non-saline)</th>\n",
       "      <td id=\"T_54803_row6_col0\" class=\"data row6 col0\" >1.0000</td>\n",
       "      <td id=\"T_54803_row6_col1\" class=\"data row6 col1\" >0.9211</td>\n",
       "      <td id=\"T_54803_row6_col2\" class=\"data row6 col2\" >0.9589</td>\n",
       "      <td id=\"T_54803_row6_col3\" class=\"data row6 col3\" >38</td>\n",
       "    </tr>\n",
       "    <tr>\n",
       "      <th id=\"T_54803_level0_row7\" class=\"row_heading level0 row7\" >Sediment (saline)</th>\n",
       "      <td id=\"T_54803_row7_col0\" class=\"data row7 col0\" >0.8889</td>\n",
       "      <td id=\"T_54803_row7_col1\" class=\"data row7 col1\" >1.0000</td>\n",
       "      <td id=\"T_54803_row7_col2\" class=\"data row7 col2\" >0.9412</td>\n",
       "      <td id=\"T_54803_row7_col3\" class=\"data row7 col3\" >8</td>\n",
       "    </tr>\n",
       "    <tr>\n",
       "      <th id=\"T_54803_level0_row8\" class=\"row_heading level0 row8\" >Soil (non-saline)</th>\n",
       "      <td id=\"T_54803_row8_col0\" class=\"data row8 col0\" >0.9706</td>\n",
       "      <td id=\"T_54803_row8_col1\" class=\"data row8 col1\" >0.9778</td>\n",
       "      <td id=\"T_54803_row8_col2\" class=\"data row8 col2\" >0.9742</td>\n",
       "      <td id=\"T_54803_row8_col3\" class=\"data row8 col3\" >135</td>\n",
       "    </tr>\n",
       "    <tr>\n",
       "      <th id=\"T_54803_level0_row9\" class=\"row_heading level0 row9\" >Subsurface (non-saline)</th>\n",
       "      <td id=\"T_54803_row9_col0\" class=\"data row9 col0\" >0.9074</td>\n",
       "      <td id=\"T_54803_row9_col1\" class=\"data row9 col1\" >0.9608</td>\n",
       "      <td id=\"T_54803_row9_col2\" class=\"data row9 col2\" >0.9333</td>\n",
       "      <td id=\"T_54803_row9_col3\" class=\"data row9 col3\" >51</td>\n",
       "    </tr>\n",
       "    <tr>\n",
       "      <th id=\"T_54803_level0_row10\" class=\"row_heading level0 row10\" >Surface (non-saline)</th>\n",
       "      <td id=\"T_54803_row10_col0\" class=\"data row10 col0\" >1.0000</td>\n",
       "      <td id=\"T_54803_row10_col1\" class=\"data row10 col1\" >1.0000</td>\n",
       "      <td id=\"T_54803_row10_col2\" class=\"data row10 col2\" >1.0000</td>\n",
       "      <td id=\"T_54803_row10_col3\" class=\"data row10 col3\" >1</td>\n",
       "    </tr>\n",
       "    <tr>\n",
       "      <th id=\"T_54803_level0_row11\" class=\"row_heading level0 row11\" >Water (non-saline)</th>\n",
       "      <td id=\"T_54803_row11_col0\" class=\"data row11 col0\" >0.9706</td>\n",
       "      <td id=\"T_54803_row11_col1\" class=\"data row11 col1\" >0.9340</td>\n",
       "      <td id=\"T_54803_row11_col2\" class=\"data row11 col2\" >0.9519</td>\n",
       "      <td id=\"T_54803_row11_col3\" class=\"data row11 col3\" >106</td>\n",
       "    </tr>\n",
       "    <tr>\n",
       "      <th id=\"T_54803_level0_row12\" class=\"row_heading level0 row12\" >Water (saline)</th>\n",
       "      <td id=\"T_54803_row12_col0\" class=\"data row12 col0\" >0.9764</td>\n",
       "      <td id=\"T_54803_row12_col1\" class=\"data row12 col1\" >0.9841</td>\n",
       "      <td id=\"T_54803_row12_col2\" class=\"data row12 col2\" >0.9802</td>\n",
       "      <td id=\"T_54803_row12_col3\" class=\"data row12 col3\" >126</td>\n",
       "    </tr>\n",
       "    <tr>\n",
       "      <th id=\"T_54803_level0_row13\" class=\"row_heading level0 row13\" >accuracy</th>\n",
       "      <td id=\"T_54803_row13_col0\" class=\"data row13 col0\" >0.9627</td>\n",
       "      <td id=\"T_54803_row13_col1\" class=\"data row13 col1\" >0.9627</td>\n",
       "      <td id=\"T_54803_row13_col2\" class=\"data row13 col2\" >0.9627</td>\n",
       "      <td id=\"T_54803_row13_col3\" class=\"data row13 col3\" >0</td>\n",
       "    </tr>\n",
       "    <tr>\n",
       "      <th id=\"T_54803_level0_row14\" class=\"row_heading level0 row14\" >macro avg</th>\n",
       "      <td id=\"T_54803_row14_col0\" class=\"data row14 col0\" >0.9357</td>\n",
       "      <td id=\"T_54803_row14_col1\" class=\"data row14 col1\" >0.9598</td>\n",
       "      <td id=\"T_54803_row14_col2\" class=\"data row14 col2\" >0.9459</td>\n",
       "      <td id=\"T_54803_row14_col3\" class=\"data row14 col3\" >536</td>\n",
       "    </tr>\n",
       "    <tr>\n",
       "      <th id=\"T_54803_level0_row15\" class=\"row_heading level0 row15\" >weighted avg</th>\n",
       "      <td id=\"T_54803_row15_col0\" class=\"data row15 col0\" >0.9638</td>\n",
       "      <td id=\"T_54803_row15_col1\" class=\"data row15 col1\" >0.9627</td>\n",
       "      <td id=\"T_54803_row15_col2\" class=\"data row15 col2\" >0.9628</td>\n",
       "      <td id=\"T_54803_row15_col3\" class=\"data row15 col3\" >536</td>\n",
       "    </tr>\n",
       "  </tbody>\n",
       "</table>\n"
      ],
      "text/plain": [
       "<pandas.io.formats.style.Styler at 0x7f9c099e93f0>"
      ]
     },
     "metadata": {},
     "output_type": "display_data"
    }
   ],
   "source": [
    "def plot_classification_report(y_true, y_pred):\n",
    "    # Generates classification report with color gradation for scores\n",
    "    df = pd.DataFrame(classification_report(y_true, \n",
    "                                   y_pred, \n",
    "                                   zero_division=0, \n",
    "                                   output_dict=True)).T\n",
    "    # zero_divison hides UndefinedMetricWarning: zero scores are due to labels not appearing in y_pred\n",
    "    # In these instances, refer to the 'weighted avg'\n",
    "    df['support'] = df.support.apply(int)\n",
    "    df = df.style.background_gradient(cmap='Blues',\n",
    "                             subset=(df.index[:-3],\n",
    "            df.columns[:df.columns.get_loc('f1-score')+1])).format(precision=4)\n",
    "    display(df)\n",
    "\n",
    "    \n",
    "    \n",
    "for model in models.keys():\n",
    "    print(f\"{model} Classification Report\")\n",
    "    plot_classification_report(y_test, models[model]['pred'])"
   ]
  },
  {
   "cell_type": "markdown",
   "id": "a52f59a9",
   "metadata": {},
   "source": [
    "# Put funcions into a wrapper for individual evaluation"
   ]
  },
  {
   "cell_type": "code",
   "execution_count": 40,
   "id": "cc964274",
   "metadata": {},
   "outputs": [
    {
     "name": "stdout",
     "output_type": "stream",
     "text": [
      "Test Set Accuracy 0.9794776119402985\n",
      "Confusion Matrix\n"
     ]
    },
    {
     "data": {
      "image/png": "[encoded data removed]",
      "text/plain": [
       "<Figure size 432x288 with 2 Axes>"
      ]
     },
     "metadata": {
      "needs_background": "light"
     },
     "output_type": "display_data"
    },
    {
     "name": "stdout",
     "output_type": "stream",
     "text": [
      "Classification Report\n"
     ]
    },
    {
     "data": {
      "text/html": [
       "<style type=\"text/css\">\n",
       "#T_644e6_row0_col0, #T_644e6_row0_col1, #T_644e6_row0_col2, #T_644e6_row1_col0, #T_644e6_row1_col1, #T_644e6_row1_col2, #T_644e6_row2_col0, #T_644e6_row2_col1, #T_644e6_row2_col2, #T_644e6_row3_col0, #T_644e6_row3_col1, #T_644e6_row3_col2, #T_644e6_row4_col0, #T_644e6_row5_col0, #T_644e6_row6_col0, #T_644e6_row7_col0, #T_644e6_row7_col1, #T_644e6_row7_col2, #T_644e6_row8_col1, #T_644e6_row10_col0, #T_644e6_row10_col1, #T_644e6_row10_col2, #T_644e6_row12_col1 {\n",
       "  background-color: #08306b;\n",
       "  color: #f1f1f1;\n",
       "}\n",
       "#T_644e6_row4_col1 {\n",
       "  background-color: #2e7ebc;\n",
       "  color: #f1f1f1;\n",
       "}\n",
       "#T_644e6_row4_col2 {\n",
       "  background-color: #2676b8;\n",
       "  color: #f1f1f1;\n",
       "}\n",
       "#T_644e6_row5_col1, #T_644e6_row5_col2, #T_644e6_row9_col0 {\n",
       "  background-color: #f7fbff;\n",
       "  color: #000000;\n",
       "}\n",
       "#T_644e6_row6_col1 {\n",
       "  background-color: #3282be;\n",
       "  color: #f1f1f1;\n",
       "}\n",
       "#T_644e6_row6_col2 {\n",
       "  background-color: #2b7bba;\n",
       "  color: #f1f1f1;\n",
       "}\n",
       "#T_644e6_row8_col0 {\n",
       "  background-color: #c6dbef;\n",
       "  color: #000000;\n",
       "}\n",
       "#T_644e6_row8_col2 {\n",
       "  background-color: #084b93;\n",
       "  color: #f1f1f1;\n",
       "}\n",
       "#T_644e6_row9_col1 {\n",
       "  background-color: #08458a;\n",
       "  color: #f1f1f1;\n",
       "}\n",
       "#T_644e6_row9_col2 {\n",
       "  background-color: #1865ac;\n",
       "  color: #f1f1f1;\n",
       "}\n",
       "#T_644e6_row11_col0 {\n",
       "  background-color: #69add5;\n",
       "  color: #f1f1f1;\n",
       "}\n",
       "#T_644e6_row11_col1 {\n",
       "  background-color: #084d96;\n",
       "  color: #f1f1f1;\n",
       "}\n",
       "#T_644e6_row11_col2 {\n",
       "  background-color: #105ba4;\n",
       "  color: #f1f1f1;\n",
       "}\n",
       "#T_644e6_row12_col0 {\n",
       "  background-color: #95c5df;\n",
       "  color: #000000;\n",
       "}\n",
       "#T_644e6_row12_col2 {\n",
       "  background-color: #08468b;\n",
       "  color: #f1f1f1;\n",
       "}\n",
       "</style>\n",
       "<table id=\"T_644e6\">\n",
       "  <thead>\n",
       "    <tr>\n",
       "      <th class=\"blank level0\" >&nbsp;</th>\n",
       "      <th id=\"T_644e6_level0_col0\" class=\"col_heading level0 col0\" >precision</th>\n",
       "      <th id=\"T_644e6_level0_col1\" class=\"col_heading level0 col1\" >recall</th>\n",
       "      <th id=\"T_644e6_level0_col2\" class=\"col_heading level0 col2\" >f1-score</th>\n",
       "      <th id=\"T_644e6_level0_col3\" class=\"col_heading level0 col3\" >support</th>\n",
       "    </tr>\n",
       "  </thead>\n",
       "  <tbody>\n",
       "    <tr>\n",
       "      <th id=\"T_644e6_level0_row0\" class=\"row_heading level0 row0\" >Aerosol (non-saline)</th>\n",
       "      <td id=\"T_644e6_row0_col0\" class=\"data row0 col0\" >1.000000</td>\n",
       "      <td id=\"T_644e6_row0_col1\" class=\"data row0 col1\" >1.000000</td>\n",
       "      <td id=\"T_644e6_row0_col2\" class=\"data row0 col2\" >1.000000</td>\n",
       "      <td id=\"T_644e6_row0_col3\" class=\"data row0 col3\" >3</td>\n",
       "    </tr>\n",
       "    <tr>\n",
       "      <th id=\"T_644e6_level0_row1\" class=\"row_heading level0 row1\" >Animal corpus</th>\n",
       "      <td id=\"T_644e6_row1_col0\" class=\"data row1 col0\" >1.000000</td>\n",
       "      <td id=\"T_644e6_row1_col1\" class=\"data row1 col1\" >1.000000</td>\n",
       "      <td id=\"T_644e6_row1_col2\" class=\"data row1 col2\" >1.000000</td>\n",
       "      <td id=\"T_644e6_row1_col3\" class=\"data row1 col3\" >3</td>\n",
       "    </tr>\n",
       "    <tr>\n",
       "      <th id=\"T_644e6_level0_row2\" class=\"row_heading level0 row2\" >Animal proximal gut</th>\n",
       "      <td id=\"T_644e6_row2_col0\" class=\"data row2 col0\" >1.000000</td>\n",
       "      <td id=\"T_644e6_row2_col1\" class=\"data row2 col1\" >1.000000</td>\n",
       "      <td id=\"T_644e6_row2_col2\" class=\"data row2 col2\" >1.000000</td>\n",
       "      <td id=\"T_644e6_row2_col3\" class=\"data row2 col3\" >15</td>\n",
       "    </tr>\n",
       "    <tr>\n",
       "      <th id=\"T_644e6_level0_row3\" class=\"row_heading level0 row3\" >Hypersaline (saline)</th>\n",
       "      <td id=\"T_644e6_row3_col0\" class=\"data row3 col0\" >1.000000</td>\n",
       "      <td id=\"T_644e6_row3_col1\" class=\"data row3 col1\" >1.000000</td>\n",
       "      <td id=\"T_644e6_row3_col2\" class=\"data row3 col2\" >1.000000</td>\n",
       "      <td id=\"T_644e6_row3_col3\" class=\"data row3 col3\" >6</td>\n",
       "    </tr>\n",
       "    <tr>\n",
       "      <th id=\"T_644e6_level0_row4\" class=\"row_heading level0 row4\" >Plant rhizosphere</th>\n",
       "      <td id=\"T_644e6_row4_col0\" class=\"data row4 col0\" >1.000000</td>\n",
       "      <td id=\"T_644e6_row4_col1\" class=\"data row4 col1\" >0.925000</td>\n",
       "      <td id=\"T_644e6_row4_col2\" class=\"data row4 col2\" >0.961039</td>\n",
       "      <td id=\"T_644e6_row4_col3\" class=\"data row4 col3\" >40</td>\n",
       "    </tr>\n",
       "    <tr>\n",
       "      <th id=\"T_644e6_level0_row5\" class=\"row_heading level0 row5\" >Plant surface</th>\n",
       "      <td id=\"T_644e6_row5_col0\" class=\"data row5 col0\" >1.000000</td>\n",
       "      <td id=\"T_644e6_row5_col1\" class=\"data row5 col1\" >0.750000</td>\n",
       "      <td id=\"T_644e6_row5_col2\" class=\"data row5 col2\" >0.857143</td>\n",
       "      <td id=\"T_644e6_row5_col3\" class=\"data row5 col3\" >4</td>\n",
       "    </tr>\n",
       "    <tr>\n",
       "      <th id=\"T_644e6_level0_row6\" class=\"row_heading level0 row6\" >Sediment (non-saline)</th>\n",
       "      <td id=\"T_644e6_row6_col0\" class=\"data row6 col0\" >1.000000</td>\n",
       "      <td id=\"T_644e6_row6_col1\" class=\"data row6 col1\" >0.921053</td>\n",
       "      <td id=\"T_644e6_row6_col2\" class=\"data row6 col2\" >0.958904</td>\n",
       "      <td id=\"T_644e6_row6_col3\" class=\"data row6 col3\" >38</td>\n",
       "    </tr>\n",
       "    <tr>\n",
       "      <th id=\"T_644e6_level0_row7\" class=\"row_heading level0 row7\" >Sediment (saline)</th>\n",
       "      <td id=\"T_644e6_row7_col0\" class=\"data row7 col0\" >1.000000</td>\n",
       "      <td id=\"T_644e6_row7_col1\" class=\"data row7 col1\" >1.000000</td>\n",
       "      <td id=\"T_644e6_row7_col2\" class=\"data row7 col2\" >1.000000</td>\n",
       "      <td id=\"T_644e6_row7_col3\" class=\"data row7 col3\" >8</td>\n",
       "    </tr>\n",
       "    <tr>\n",
       "      <th id=\"T_644e6_level0_row8\" class=\"row_heading level0 row8\" >Soil (non-saline)</th>\n",
       "      <td id=\"T_644e6_row8_col0\" class=\"data row8 col0\" >0.971223</td>\n",
       "      <td id=\"T_644e6_row8_col1\" class=\"data row8 col1\" >1.000000</td>\n",
       "      <td id=\"T_644e6_row8_col2\" class=\"data row8 col2\" >0.985401</td>\n",
       "      <td id=\"T_644e6_row8_col3\" class=\"data row8 col3\" >135</td>\n",
       "    </tr>\n",
       "    <tr>\n",
       "      <th id=\"T_644e6_level0_row9\" class=\"row_heading level0 row9\" >Subsurface (non-saline)</th>\n",
       "      <td id=\"T_644e6_row9_col0\" class=\"data row9 col0\" >0.961538</td>\n",
       "      <td id=\"T_644e6_row9_col1\" class=\"data row9 col1\" >0.980392</td>\n",
       "      <td id=\"T_644e6_row9_col2\" class=\"data row9 col2\" >0.970874</td>\n",
       "      <td id=\"T_644e6_row9_col3\" class=\"data row9 col3\" >51</td>\n",
       "    </tr>\n",
       "    <tr>\n",
       "      <th id=\"T_644e6_level0_row10\" class=\"row_heading level0 row10\" >Surface (non-saline)</th>\n",
       "      <td id=\"T_644e6_row10_col0\" class=\"data row10 col0\" >1.000000</td>\n",
       "      <td id=\"T_644e6_row10_col1\" class=\"data row10 col1\" >1.000000</td>\n",
       "      <td id=\"T_644e6_row10_col2\" class=\"data row10 col2\" >1.000000</td>\n",
       "      <td id=\"T_644e6_row10_col3\" class=\"data row10 col3\" >1</td>\n",
       "    </tr>\n",
       "    <tr>\n",
       "      <th id=\"T_644e6_level0_row11\" class=\"row_heading level0 row11\" >Water (non-saline)</th>\n",
       "      <td id=\"T_644e6_row11_col0\" class=\"data row11 col0\" >0.980952</td>\n",
       "      <td id=\"T_644e6_row11_col1\" class=\"data row11 col1\" >0.971698</td>\n",
       "      <td id=\"T_644e6_row11_col2\" class=\"data row11 col2\" >0.976303</td>\n",
       "      <td id=\"T_644e6_row11_col3\" class=\"data row11 col3\" >106</td>\n",
       "    </tr>\n",
       "    <tr>\n",
       "      <th id=\"T_644e6_level0_row12\" class=\"row_heading level0 row12\" >Water (saline)</th>\n",
       "      <td id=\"T_644e6_row12_col0\" class=\"data row12 col0\" >0.976744</td>\n",
       "      <td id=\"T_644e6_row12_col1\" class=\"data row12 col1\" >1.000000</td>\n",
       "      <td id=\"T_644e6_row12_col2\" class=\"data row12 col2\" >0.988235</td>\n",
       "      <td id=\"T_644e6_row12_col3\" class=\"data row12 col3\" >126</td>\n",
       "    </tr>\n",
       "    <tr>\n",
       "      <th id=\"T_644e6_level0_row13\" class=\"row_heading level0 row13\" >accuracy</th>\n",
       "      <td id=\"T_644e6_row13_col0\" class=\"data row13 col0\" >0.979478</td>\n",
       "      <td id=\"T_644e6_row13_col1\" class=\"data row13 col1\" >0.979478</td>\n",
       "      <td id=\"T_644e6_row13_col2\" class=\"data row13 col2\" >0.979478</td>\n",
       "      <td id=\"T_644e6_row13_col3\" class=\"data row13 col3\" >0</td>\n",
       "    </tr>\n",
       "    <tr>\n",
       "      <th id=\"T_644e6_level0_row14\" class=\"row_heading level0 row14\" >macro avg</th>\n",
       "      <td id=\"T_644e6_row14_col0\" class=\"data row14 col0\" >0.991574</td>\n",
       "      <td id=\"T_644e6_row14_col1\" class=\"data row14 col1\" >0.965242</td>\n",
       "      <td id=\"T_644e6_row14_col2\" class=\"data row14 col2\" >0.976762</td>\n",
       "      <td id=\"T_644e6_row14_col3\" class=\"data row14 col3\" >536</td>\n",
       "    </tr>\n",
       "    <tr>\n",
       "      <th id=\"T_644e6_level0_row15\" class=\"row_heading level0 row15\" >weighted avg</th>\n",
       "      <td id=\"T_644e6_row15_col0\" class=\"data row15 col0\" >0.979859</td>\n",
       "      <td id=\"T_644e6_row15_col1\" class=\"data row15 col1\" >0.979478</td>\n",
       "      <td id=\"T_644e6_row15_col2\" class=\"data row15 col2\" >0.979213</td>\n",
       "      <td id=\"T_644e6_row15_col3\" class=\"data row15 col3\" >536</td>\n",
       "    </tr>\n",
       "  </tbody>\n",
       "</table>\n"
      ],
      "text/plain": [
       "<pandas.io.formats.style.Styler at 0x7fef6b3c9240>"
      ]
     },
     "metadata": {},
     "output_type": "display_data"
    }
   ],
   "source": [
    "# example of how eval wrapper is used in model_comparison.py\n",
    "def eval_wrapper(y_pred):\n",
    "    print(f\"Accuracy Score\", accuracy_score(y_test, y_pred))\n",
    "    print (f\"Confusion Matrix\")\n",
    "    cm(y_pred)\n",
    "    print(f\"Classification Report\")\n",
    "    plot_classification_report(y_pred)\n",
    "\n",
    "eval_wrapper(models['XGB']['pred'])"
   ]
  },
  {
   "cell_type": "code",
   "execution_count": null,
   "id": "b4b78b80",
   "metadata": {},
   "outputs": [],
   "source": []
  }
 ],
 "metadata": {
  "kernelspec": {
   "display_name": "xgb",
   "language": "python",
   "name": "xgb"
  },
  "language_info": {
   "codemirror_mode": {
    "name": "ipython",
    "version": 3
   },
   "file_extension": ".py",
   "mimetype": "text/x-python",
   "name": "python",
   "nbconvert_exporter": "python",
   "pygments_lexer": "ipython3",
   "version": "3.10.4"
  }
 },
 "nbformat": 4,
 "nbformat_minor": 5
}
