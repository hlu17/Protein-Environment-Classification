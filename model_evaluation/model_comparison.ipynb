{
 "cells": [
  {
   "cell_type": "markdown",
   "id": "1efc9b4a",
   "metadata": {},
   "source": [
    "* Load models from model_joblibs folder\n",
    "* Make table comparing performance metrics of each model"
   ]
  },
  {
   "cell_type": "code",
   "execution_count": null,
   "id": "dca816b6",
   "metadata": {},
   "outputs": [],
   "source": []
  }
 ],
 "metadata": {
  "kernelspec": {
   "display_name": "Python 3 (ipykernel)",
   "language": "python",
   "name": "python3"
  },
  "language_info": {
   "codemirror_mode": {
    "name": "ipython",
    "version": 3
   },
   "file_extension": ".py",
   "mimetype": "text/x-python",
   "name": "python",
   "nbconvert_exporter": "python",
   "pygments_lexer": "ipython3",
   "version": "3.7.11"
  }
 },
 "nbformat": 4,
 "nbformat_minor": 5
}
