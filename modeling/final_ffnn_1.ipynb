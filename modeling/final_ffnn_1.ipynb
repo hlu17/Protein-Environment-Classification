{
 "cells": [
  {
   "cell_type": "code",
   "execution_count": 1,
   "id": "b512f4d3-c74c-4847-a95e-132a25d1cd6f",
   "metadata": {},
   "outputs": [],
   "source": [
    "import os\n",
    "import sys\n",
    "module_path = os.path.abspath(os.path.join('..'))\n",
    "if module_path not in sys.path:\n",
    "    sys.path.append(module_path)\n",
    "\n",
    "from helpers import (get_training_observations, \n",
    "                     get_training_labels)\n",
    "import pandas as pd\n",
    "import numpy as np\n",
    "from joblib import dump\n",
    "from joblib import load\n",
    "\n",
    "# Model specific imports\n",
    "from sklearn.model_selection import train_test_split\n",
    "from sklearn.preprocessing import LabelEncoder\n",
    "from sklearn.metrics import accuracy_score, f1_score\n",
    "import matplotlib.pyplot as plt\n",
    "\n",
    "import tensorflow as tf\n",
    "import tensorflow_addons as tfa\n",
    "from tensorflow.keras import metrics\n",
    "tf.get_logger().setLevel('INFO')\n",
    "\n",
    "import optuna"
   ]
  },
  {
   "cell_type": "code",
   "execution_count": 2,
   "id": "b3a81fe3-6c84-4e51-9ad7-31bc4e78a1d4",
   "metadata": {},
   "outputs": [
    {
     "name": "stdout",
     "output_type": "stream",
     "text": [
      "Getting all training observations from 'metagenome_classification.db'...\n",
      "Getting all training labels from 'metagenome_classification.db'...\n"
     ]
    }
   ],
   "source": [
    "# Set up data\n",
    "x_train = get_training_observations()\n",
    "y_train = get_training_labels()\n",
    "le = load('../model_joblibs/final_labelEncoder.joblib')\n",
    "    \n",
    "y_train_transformed = le.transform(y_train['EMPO_3'])\n",
    "y_train_transformed\n",
    "\n",
    "x_tr, x_val, y_tr, y_val = train_test_split(x_train, y_train_transformed, test_size=0.2, random_state=27)   "
   ]
  },
  {
   "cell_type": "code",
   "execution_count": 3,
   "id": "b70d5f99-b4ae-4aae-b342-466f7c67f1ab",
   "metadata": {},
   "outputs": [],
   "source": [
    "K = tf.keras.backend\n",
    "\n",
    "def build_model(\n",
    "    activation='relu',\n",
    "    hidden_layer_sizes=[],\n",
    "    final_layer_activation='softmax',\n",
    "    dropout=0.0,\n",
    "    optimizer='Adam',\n",
    "    learning_rate=0.01,\n",
    "    kernel_regularizer=1e-5,\n",
    "    bias_regularizer=1e-5,\n",
    "    activity_regularizer=1e-5,\n",
    "    n_classes=15\n",
    "):\n",
    "    \"\"\"Build a multi-class logistic regression model using Keras.\n",
    "\n",
    "    Args:\n",
    "      n_classes: Number of output classes in the dataset.\n",
    "      hidden_layer_sizes: A list with the number of units in each hidden layer.\n",
    "      activation: The activation function to use for the hidden layers.\n",
    "      optimizer: The optimizer to use (SGD, Adam).\n",
    "      learning_rate: The desired learning rate for the optimizer.\n",
    "\n",
    "    Returns:\n",
    "      model: A tf.keras model (graph).\n",
    "    \"\"\"\n",
    "    tf.keras.backend.clear_session()\n",
    "    np.random.seed(0)\n",
    "    tf.random.set_seed(0)\n",
    "    model = tf.keras.Sequential()\n",
    "    model.add(tf.keras.layers.Flatten())\n",
    "    \n",
    "    for hidden_layer_size in hidden_layer_sizes:\n",
    "        if hidden_layer_size > n_classes:\n",
    "            model.add(tf.keras.layers.Dense(\n",
    "                hidden_layer_size,\n",
    "                activation=activation,\n",
    "                kernel_regularizer=tf.keras.regularizers.L2(kernel_regularizer),\n",
    "                bias_regularizer=tf.keras.regularizers.L2(bias_regularizer),\n",
    "                activity_regularizer=tf.keras.regularizers.L2(activity_regularizer)\n",
    "            ))\n",
    "            if dropout > 0:\n",
    "                model.add(tf.keras.layers.Dropout(dropout))\n",
    "\n",
    "    model.add(tf.keras.layers.Dense(\n",
    "        n_classes,\n",
    "        activation=final_layer_activation,\n",
    "        kernel_regularizer=tf.keras.regularizers.L2(kernel_regularizer),\n",
    "        bias_regularizer=tf.keras.regularizers.L2(bias_regularizer),\n",
    "        activity_regularizer=tf.keras.regularizers.L2(activity_regularizer)\n",
    "    ))\n",
    "    opt = None\n",
    "    if optimizer == \"SGD\":\n",
    "        opt = tf.keras.optimizers.SGD(learning_rate=learning_rate)\n",
    "    elif optimizer == \"Adam\":\n",
    "        opt = tf.keras.optimizers.Adam(learning_rate=learning_rate)\n",
    "    else:\n",
    "        raise f\"Unsupported optimizer, {optimizer}\"\n",
    "    model.compile(\n",
    "        loss=\"categorical_crossentropy\", optimizer=opt, \n",
    "        metrics=[tfa.metrics.F1Score(num_classes=15, average='weighted')]\n",
    "    )\n",
    "    return model\n",
    "    "
   ]
  },
  {
   "cell_type": "code",
   "execution_count": 4,
   "id": "2b89d716-c125-4678-960a-dabe2d66e73a",
   "metadata": {},
   "outputs": [],
   "source": [
    "def objective_1_layer(trial, x_tr=x_tr, x_val=x_val, y_tr=y_tr, y_val=y_val):\n",
    "    \n",
    "    # Set up XGBoost hyperparameter space\n",
    "    params = {\n",
    "        'learning_rate': trial.suggest_float('learning_rate', 0.0001, 0.01),\n",
    "        'hidden_layer_size1': trial.suggest_int('hidden_layer_size1', 0, 1024),\n",
    "        'kernel_regularizer': trial.suggest_float('kernel_regularizer', 1e-10, 1e-4),\n",
    "        'bias_regularizer': trial.suggest_float('bias_regularizer', 1e-10, 1e-4),\n",
    "        'activity_regularizer': trial.suggest_float('activity_regularizer', 1e-10, 1e-4),\n",
    "        'dropout': trial.suggest_float('dropout', 0, 0.1)\n",
    "    }\n",
    "    \n",
    "    hidden_layer_sizes = [params.pop('hidden_layer_size1')]\n",
    "    \n",
    "    y_tr_one_hot = K.one_hot(K.cast(y_tr, dtype='int64'), 15)\n",
    "    y_val_one_hot = K.one_hot(K.cast(y_val, dtype='int64'), 15)\n",
    "    \n",
    "    # Create model\n",
    "    nn = build_model(\n",
    "        **params,\n",
    "        n_classes=15,\n",
    "        optimizer='Adam',\n",
    "        final_layer_activation='softmax',\n",
    "        hidden_layer_sizes=hidden_layer_sizes\n",
    "    )\n",
    "    \n",
    "    # Fit model\n",
    "    nn.fit(x=x_tr,\n",
    "           y=y_tr_one_hot,\n",
    "           epochs=50,\n",
    "           batch_size=64,\n",
    "           verbose=0)\n",
    "    \n",
    "    evaluation = nn.evaluate(x=x_val, y=y_val_one_hot, verbose=0, return_dict=True)\n",
    "    f1_score = evaluation['f1_score']\n",
    "    loss = evaluation['loss']\n",
    "    \n",
    "    print(f'F1 Score: {f1_score}; Loss={loss}')\n",
    "    \n",
    "    return f1_score\n",
    "    "
   ]
  },
  {
   "cell_type": "code",
   "execution_count": 5,
   "id": "ebaada76-7bcb-4854-87a0-4b904aa47dd1",
   "metadata": {},
   "outputs": [
    {
     "name": "stderr",
     "output_type": "stream",
     "text": [
      "\u001b[32m[I 2022-08-03 01:34:21,850]\u001b[0m A new study created in memory with name: no-name-e28342d7-e96e-4d3b-8315-cf1df41e3c66\u001b[0m\n"
     ]
    },
    {
     "name": "stdout",
     "output_type": "stream",
     "text": [
      "Metal device set to: Apple M1 Pro\n"
     ]
    },
    {
     "name": "stderr",
     "output_type": "stream",
     "text": [
      "2022-08-03 01:34:21.851961: I tensorflow/core/common_runtime/pluggable_device/pluggable_device_factory.cc:305] Could not identify NUMA node of platform GPU ID 0, defaulting to 0. Your kernel may not have been built with NUMA support.\n",
      "2022-08-03 01:34:21.852083: I tensorflow/core/common_runtime/pluggable_device/pluggable_device_factory.cc:271] Created TensorFlow device (/job:localhost/replica:0/task:0/device:GPU:0 with 0 MB memory) -> physical PluggableDevice (device: 0, name: METAL, pci bus id: <undefined>)\n",
      "2022-08-03 01:34:21.942979: W tensorflow/core/platform/profile_utils/cpu_utils.cc:128] Failed to get CPU frequency: 0 Hz\n",
      "2022-08-03 01:34:22.336501: I tensorflow/core/grappler/optimizers/custom_graph_optimizer_registry.cc:113] Plugin optimizer for device_type GPU is enabled.\n",
      "2022-08-03 01:34:29.893032: I tensorflow/core/grappler/optimizers/custom_graph_optimizer_registry.cc:113] Plugin optimizer for device_type GPU is enabled.\n",
      "\u001b[32m[I 2022-08-03 01:34:30,084]\u001b[0m Trial 0 finished with value: 0.43968647718429565 and parameters: {'learning_rate': 0.001717497644816855, 'hidden_layer_size1': 113, 'kernel_regularizer': 8.820368373677261e-05, 'bias_regularizer': 2.240597533792466e-05, 'activity_regularizer': 1.533247515926409e-05, 'dropout': 0.09650566351408019}. Best is trial 0 with value: 0.43968647718429565.\u001b[0m\n"
     ]
    },
    {
     "name": "stdout",
     "output_type": "stream",
     "text": [
      "F1 Score: 0.43968647718429565; Loss=1.578752040863037\n"
     ]
    },
    {
     "name": "stderr",
     "output_type": "stream",
     "text": [
      "2022-08-03 01:34:30.516910: I tensorflow/core/grappler/optimizers/custom_graph_optimizer_registry.cc:113] Plugin optimizer for device_type GPU is enabled.\n",
      "2022-08-03 01:34:38.973928: I tensorflow/core/grappler/optimizers/custom_graph_optimizer_registry.cc:113] Plugin optimizer for device_type GPU is enabled.\n",
      "\u001b[32m[I 2022-08-03 01:34:39,153]\u001b[0m Trial 1 finished with value: 0.7103368639945984 and parameters: {'learning_rate': 0.006157370390094691, 'hidden_layer_size1': 103, 'kernel_regularizer': 4.169960217605032e-05, 'bias_regularizer': 8.928046413399411e-05, 'activity_regularizer': 1.5131700476953886e-05, 'dropout': 0.09008210837154888}. Best is trial 1 with value: 0.7103368639945984.\u001b[0m\n"
     ]
    },
    {
     "name": "stdout",
     "output_type": "stream",
     "text": [
      "F1 Score: 0.7103368639945984; Loss=1.1218141317367554\n"
     ]
    },
    {
     "name": "stderr",
     "output_type": "stream",
     "text": [
      "2022-08-03 01:34:39.580135: I tensorflow/core/grappler/optimizers/custom_graph_optimizer_registry.cc:113] Plugin optimizer for device_type GPU is enabled.\n",
      "2022-08-03 01:34:53.077867: I tensorflow/core/grappler/optimizers/custom_graph_optimizer_registry.cc:113] Plugin optimizer for device_type GPU is enabled.\n",
      "\u001b[32m[I 2022-08-03 01:34:53,290]\u001b[0m Trial 2 finished with value: 0.7397149801254272 and parameters: {'learning_rate': 0.00839165157029917, 'hidden_layer_size1': 284, 'kernel_regularizer': 3.951025737114154e-05, 'bias_regularizer': 1.4773311584273213e-05, 'activity_regularizer': 6.720308042442839e-05, 'dropout': 0.0666275753723069}. Best is trial 2 with value: 0.7397149801254272.\u001b[0m\n"
     ]
    },
    {
     "name": "stdout",
     "output_type": "stream",
     "text": [
      "F1 Score: 0.7397149801254272; Loss=1.0110622644424438\n"
     ]
    },
    {
     "name": "stderr",
     "output_type": "stream",
     "text": [
      "2022-08-03 01:34:53.756056: I tensorflow/core/grappler/optimizers/custom_graph_optimizer_registry.cc:113] Plugin optimizer for device_type GPU is enabled.\n",
      "2022-08-03 01:35:18.671934: I tensorflow/core/grappler/optimizers/custom_graph_optimizer_registry.cc:113] Plugin optimizer for device_type GPU is enabled.\n",
      "\u001b[32m[I 2022-08-03 01:35:18,908]\u001b[0m Trial 3 finished with value: 0.7694517970085144 and parameters: {'learning_rate': 0.003705037566073512, 'hidden_layer_size1': 1015, 'kernel_regularizer': 3.0032100263158324e-05, 'bias_regularizer': 7.83885893683371e-05, 'activity_regularizer': 6.786617616448e-05, 'dropout': 0.07219525327699301}. Best is trial 3 with value: 0.7694517970085144.\u001b[0m\n"
     ]
    },
    {
     "name": "stdout",
     "output_type": "stream",
     "text": [
      "F1 Score: 0.7694517970085144; Loss=0.9685338139533997\n"
     ]
    },
    {
     "name": "stderr",
     "output_type": "stream",
     "text": [
      "2022-08-03 01:35:19.400241: I tensorflow/core/grappler/optimizers/custom_graph_optimizer_registry.cc:113] Plugin optimizer for device_type GPU is enabled.\n",
      "2022-08-03 01:35:35.381704: I tensorflow/core/grappler/optimizers/custom_graph_optimizer_registry.cc:113] Plugin optimizer for device_type GPU is enabled.\n",
      "\u001b[32m[I 2022-08-03 01:35:35,597]\u001b[0m Trial 4 finished with value: 0.604408860206604 and parameters: {'learning_rate': 0.002552480469413594, 'hidden_layer_size1': 623, 'kernel_regularizer': 9.753717618625207e-05, 'bias_regularizer': 2.9189087918415954e-05, 'activity_regularizer': 9.969314344237466e-06, 'dropout': 0.0437478601703809}. Best is trial 3 with value: 0.7694517970085144.\u001b[0m\n"
     ]
    },
    {
     "name": "stdout",
     "output_type": "stream",
     "text": [
      "F1 Score: 0.604408860206604; Loss=1.3318198919296265\n"
     ]
    },
    {
     "name": "stderr",
     "output_type": "stream",
     "text": [
      "2022-08-03 01:35:36.043195: I tensorflow/core/grappler/optimizers/custom_graph_optimizer_registry.cc:113] Plugin optimizer for device_type GPU is enabled.\n",
      "2022-08-03 01:35:59.322755: I tensorflow/core/grappler/optimizers/custom_graph_optimizer_registry.cc:113] Plugin optimizer for device_type GPU is enabled.\n",
      "\u001b[32m[I 2022-08-03 01:35:59,607]\u001b[0m Trial 5 finished with value: 0.6726415753364563 and parameters: {'learning_rate': 0.006967517207895159, 'hidden_layer_size1': 759, 'kernel_regularizer': 8.779079733462383e-05, 'bias_regularizer': 7.616534515134332e-06, 'activity_regularizer': 4.5471006289026475e-05, 'dropout': 0.00854887809445457}. Best is trial 3 with value: 0.7694517970085144.\u001b[0m\n"
     ]
    },
    {
     "name": "stdout",
     "output_type": "stream",
     "text": [
      "F1 Score: 0.6726415753364563; Loss=1.2355337142944336\n"
     ]
    },
    {
     "name": "stderr",
     "output_type": "stream",
     "text": [
      "2022-08-03 01:36:00.150706: I tensorflow/core/grappler/optimizers/custom_graph_optimizer_registry.cc:113] Plugin optimizer for device_type GPU is enabled.\n",
      "2022-08-03 01:36:20.186847: I tensorflow/core/grappler/optimizers/custom_graph_optimizer_registry.cc:113] Plugin optimizer for device_type GPU is enabled.\n",
      "\u001b[32m[I 2022-08-03 01:36:20,428]\u001b[0m Trial 6 finished with value: 0.694920539855957 and parameters: {'learning_rate': 0.002365230194423379, 'hidden_layer_size1': 829, 'kernel_regularizer': 7.424603659644936e-05, 'bias_regularizer': 2.6153634334632464e-05, 'activity_regularizer': 2.776000342166873e-05, 'dropout': 0.010227771626931271}. Best is trial 3 with value: 0.7694517970085144.\u001b[0m\n"
     ]
    },
    {
     "name": "stdout",
     "output_type": "stream",
     "text": [
      "F1 Score: 0.694920539855957; Loss=1.2368559837341309\n"
     ]
    },
    {
     "name": "stderr",
     "output_type": "stream",
     "text": [
      "2022-08-03 01:36:20.980776: I tensorflow/core/grappler/optimizers/custom_graph_optimizer_registry.cc:113] Plugin optimizer for device_type GPU is enabled.\n",
      "2022-08-03 01:36:43.583392: I tensorflow/core/grappler/optimizers/custom_graph_optimizer_registry.cc:113] Plugin optimizer for device_type GPU is enabled.\n",
      "\u001b[32m[I 2022-08-03 01:36:43,878]\u001b[0m Trial 7 finished with value: 0.7988898158073425 and parameters: {'learning_rate': 0.009466441413999119, 'hidden_layer_size1': 976, 'kernel_regularizer': 1.5733291355489878e-05, 'bias_regularizer': 7.623040725508374e-05, 'activity_regularizer': 9.487935173399754e-05, 'dropout': 0.03586568112174846}. Best is trial 7 with value: 0.7988898158073425.\u001b[0m\n"
     ]
    },
    {
     "name": "stdout",
     "output_type": "stream",
     "text": [
      "F1 Score: 0.7988898158073425; Loss=0.7704227566719055\n"
     ]
    },
    {
     "name": "stderr",
     "output_type": "stream",
     "text": [
      "2022-08-03 01:36:44.706317: I tensorflow/core/grappler/optimizers/custom_graph_optimizer_registry.cc:113] Plugin optimizer for device_type GPU is enabled.\n",
      "2022-08-03 01:36:56.118305: I tensorflow/core/grappler/optimizers/custom_graph_optimizer_registry.cc:113] Plugin optimizer for device_type GPU is enabled.\n",
      "\u001b[32m[I 2022-08-03 01:36:56,348]\u001b[0m Trial 8 finished with value: 0.6805610656738281 and parameters: {'learning_rate': 0.0052317802127205045, 'hidden_layer_size1': 72, 'kernel_regularizer': 6.106816881832571e-05, 'bias_regularizer': 4.8266423440886945e-06, 'activity_regularizer': 9.537772740518233e-06, 'dropout': 0.059313291134582884}. Best is trial 7 with value: 0.7988898158073425.\u001b[0m\n"
     ]
    },
    {
     "name": "stdout",
     "output_type": "stream",
     "text": [
      "F1 Score: 0.6805610656738281; Loss=1.2803285121917725\n"
     ]
    },
    {
     "name": "stderr",
     "output_type": "stream",
     "text": [
      "2022-08-03 01:36:56.890959: I tensorflow/core/grappler/optimizers/custom_graph_optimizer_registry.cc:113] Plugin optimizer for device_type GPU is enabled.\n",
      "2022-08-03 01:37:17.246053: I tensorflow/core/grappler/optimizers/custom_graph_optimizer_registry.cc:113] Plugin optimizer for device_type GPU is enabled.\n",
      "\u001b[32m[I 2022-08-03 01:37:17,505]\u001b[0m Trial 9 finished with value: 0.8070728778839111 and parameters: {'learning_rate': 0.005506017821316653, 'hidden_layer_size1': 947, 'kernel_regularizer': 1.7910354618990554e-05, 'bias_regularizer': 7.71814561005683e-05, 'activity_regularizer': 2.095580761512356e-05, 'dropout': 0.08156902578239277}. Best is trial 9 with value: 0.8070728778839111.\u001b[0m\n"
     ]
    },
    {
     "name": "stdout",
     "output_type": "stream",
     "text": [
      "F1 Score: 0.8070728778839111; Loss=0.8088039755821228\n"
     ]
    },
    {
     "name": "stderr",
     "output_type": "stream",
     "text": [
      "2022-08-03 01:37:18.141864: I tensorflow/core/grappler/optimizers/custom_graph_optimizer_registry.cc:113] Plugin optimizer for device_type GPU is enabled.\n",
      "2022-08-03 01:37:32.419496: I tensorflow/core/grappler/optimizers/custom_graph_optimizer_registry.cc:113] Plugin optimizer for device_type GPU is enabled.\n",
      "\u001b[32m[I 2022-08-03 01:37:32,714]\u001b[0m Trial 10 finished with value: 0.3532301187515259 and parameters: {'learning_rate': 0.00011624166776665838, 'hidden_layer_size1': 441, 'kernel_regularizer': 8.789954513077085e-08, 'bias_regularizer': 5.462380722131829e-05, 'activity_regularizer': 3.9084388443305476e-05, 'dropout': 0.08181094022170382}. Best is trial 9 with value: 0.8070728778839111.\u001b[0m\n"
     ]
    },
    {
     "name": "stdout",
     "output_type": "stream",
     "text": [
      "F1 Score: 0.3532301187515259; Loss=1.7318719625473022\n"
     ]
    },
    {
     "name": "stderr",
     "output_type": "stream",
     "text": [
      "2022-08-03 01:37:33.672730: I tensorflow/core/grappler/optimizers/custom_graph_optimizer_registry.cc:113] Plugin optimizer for device_type GPU is enabled.\n",
      "2022-08-03 01:37:55.438863: I tensorflow/core/grappler/optimizers/custom_graph_optimizer_registry.cc:113] Plugin optimizer for device_type GPU is enabled.\n",
      "\u001b[32m[I 2022-08-03 01:37:55,770]\u001b[0m Trial 11 finished with value: 0.8396716117858887 and parameters: {'learning_rate': 0.00942830311932776, 'hidden_layer_size1': 984, 'kernel_regularizer': 8.682785701228587e-06, 'bias_regularizer': 7.052341813022923e-05, 'activity_regularizer': 9.992682338816342e-05, 'dropout': 0.039852954098941185}. Best is trial 11 with value: 0.8396716117858887.\u001b[0m\n"
     ]
    },
    {
     "name": "stdout",
     "output_type": "stream",
     "text": [
      "F1 Score: 0.8396716117858887; Loss=0.6717198491096497\n"
     ]
    },
    {
     "name": "stderr",
     "output_type": "stream",
     "text": [
      "2022-08-03 01:37:56.369362: I tensorflow/core/grappler/optimizers/custom_graph_optimizer_registry.cc:113] Plugin optimizer for device_type GPU is enabled.\n",
      "2022-08-03 01:38:13.889876: I tensorflow/core/grappler/optimizers/custom_graph_optimizer_registry.cc:113] Plugin optimizer for device_type GPU is enabled.\n",
      "\u001b[32m[I 2022-08-03 01:38:14,214]\u001b[0m Trial 12 finished with value: 0.9080566167831421 and parameters: {'learning_rate': 0.007282144743919621, 'hidden_layer_size1': 816, 'kernel_regularizer': 1.179387066120878e-06, 'bias_regularizer': 5.8273975578022706e-05, 'activity_regularizer': 9.961429511990297e-05, 'dropout': 0.02559319582851278}. Best is trial 12 with value: 0.9080566167831421.\u001b[0m\n"
     ]
    },
    {
     "name": "stdout",
     "output_type": "stream",
     "text": [
      "F1 Score: 0.9080566167831421; Loss=0.47715792059898376\n"
     ]
    },
    {
     "name": "stderr",
     "output_type": "stream",
     "text": [
      "2022-08-03 01:38:14.799269: I tensorflow/core/grappler/optimizers/custom_graph_optimizer_registry.cc:113] Plugin optimizer for device_type GPU is enabled.\n",
      "2022-08-03 01:38:34.713818: I tensorflow/core/grappler/optimizers/custom_graph_optimizer_registry.cc:113] Plugin optimizer for device_type GPU is enabled.\n",
      "\u001b[32m[I 2022-08-03 01:38:35,006]\u001b[0m Trial 13 finished with value: 0.9043979644775391 and parameters: {'learning_rate': 0.007829631340133973, 'hidden_layer_size1': 724, 'kernel_regularizer': 8.011535772571157e-07, 'bias_regularizer': 4.957570357038163e-05, 'activity_regularizer': 9.548340613008892e-05, 'dropout': 0.025939067830423664}. Best is trial 12 with value: 0.9080566167831421.\u001b[0m\n"
     ]
    },
    {
     "name": "stdout",
     "output_type": "stream",
     "text": [
      "F1 Score: 0.9043979644775391; Loss=0.46623560786247253\n"
     ]
    },
    {
     "name": "stderr",
     "output_type": "stream",
     "text": [
      "2022-08-03 01:38:35.741655: I tensorflow/core/grappler/optimizers/custom_graph_optimizer_registry.cc:113] Plugin optimizer for device_type GPU is enabled.\n",
      "2022-08-03 01:39:00.011922: I tensorflow/core/grappler/optimizers/custom_graph_optimizer_registry.cc:113] Plugin optimizer for device_type GPU is enabled.\n",
      "\u001b[32m[I 2022-08-03 01:39:00,390]\u001b[0m Trial 14 finished with value: 0.8985251188278198 and parameters: {'learning_rate': 0.007440700797186796, 'hidden_layer_size1': 653, 'kernel_regularizer': 8.858131975296445e-07, 'bias_regularizer': 4.602273177976318e-05, 'activity_regularizer': 8.095903541034224e-05, 'dropout': 0.02359314872503722}. Best is trial 12 with value: 0.9080566167831421.\u001b[0m\n"
     ]
    },
    {
     "name": "stdout",
     "output_type": "stream",
     "text": [
      "F1 Score: 0.8985251188278198; Loss=0.47915205359458923\n"
     ]
    },
    {
     "name": "stderr",
     "output_type": "stream",
     "text": [
      "2022-08-03 01:39:01.635718: I tensorflow/core/grappler/optimizers/custom_graph_optimizer_registry.cc:113] Plugin optimizer for device_type GPU is enabled.\n",
      "2022-08-03 01:39:24.109498: I tensorflow/core/grappler/optimizers/custom_graph_optimizer_registry.cc:113] Plugin optimizer for device_type GPU is enabled.\n",
      "\u001b[32m[I 2022-08-03 01:39:24,512]\u001b[0m Trial 15 finished with value: 0.7710276246070862 and parameters: {'learning_rate': 0.007904585225752263, 'hidden_layer_size1': 470, 'kernel_regularizer': 2.6522076089772308e-05, 'bias_regularizer': 4.982078989279587e-05, 'activity_regularizer': 8.231942832923579e-05, 'dropout': 0.026892179805097612}. Best is trial 12 with value: 0.9080566167831421.\u001b[0m\n"
     ]
    },
    {
     "name": "stdout",
     "output_type": "stream",
     "text": [
      "F1 Score: 0.7710276246070862; Loss=0.8899821639060974\n"
     ]
    },
    {
     "name": "stderr",
     "output_type": "stream",
     "text": [
      "2022-08-03 01:39:25.124457: I tensorflow/core/grappler/optimizers/custom_graph_optimizer_registry.cc:113] Plugin optimizer for device_type GPU is enabled.\n",
      "2022-08-03 01:39:52.030909: I tensorflow/core/grappler/optimizers/custom_graph_optimizer_registry.cc:113] Plugin optimizer for device_type GPU is enabled.\n",
      "\u001b[32m[I 2022-08-03 01:39:52,414]\u001b[0m Trial 16 finished with value: 0.7421510219573975 and parameters: {'learning_rate': 0.004127487026965108, 'hidden_layer_size1': 819, 'kernel_regularizer': 5.7821993338037416e-05, 'bias_regularizer': 5.881464340376798e-05, 'activity_regularizer': 6.281417601891541e-05, 'dropout': 0.022578404454598664}. Best is trial 12 with value: 0.9080566167831421.\u001b[0m\n"
     ]
    },
    {
     "name": "stdout",
     "output_type": "stream",
     "text": [
      "F1 Score: 0.7421510219573975; Loss=1.1132359504699707\n"
     ]
    },
    {
     "name": "stderr",
     "output_type": "stream",
     "text": [
      "2022-08-03 01:39:53.196237: I tensorflow/core/grappler/optimizers/custom_graph_optimizer_registry.cc:113] Plugin optimizer for device_type GPU is enabled.\n",
      "2022-08-03 01:40:19.218298: I tensorflow/core/grappler/optimizers/custom_graph_optimizer_registry.cc:113] Plugin optimizer for device_type GPU is enabled.\n",
      "\u001b[32m[I 2022-08-03 01:40:19,668]\u001b[0m Trial 17 finished with value: 0.7604434490203857 and parameters: {'learning_rate': 0.006534940284002737, 'hidden_layer_size1': 644, 'kernel_regularizer': 2.3569512866278706e-05, 'bias_regularizer': 3.9189947186585736e-05, 'activity_regularizer': 8.71103910099051e-05, 'dropout': 0.003385409451377795}. Best is trial 12 with value: 0.9080566167831421.\u001b[0m\n"
     ]
    },
    {
     "name": "stdout",
     "output_type": "stream",
     "text": [
      "F1 Score: 0.7604434490203857; Loss=0.8695855140686035\n"
     ]
    },
    {
     "name": "stderr",
     "output_type": "stream",
     "text": [
      "2022-08-03 01:40:20.735372: I tensorflow/core/grappler/optimizers/custom_graph_optimizer_registry.cc:113] Plugin optimizer for device_type GPU is enabled.\n",
      "2022-08-03 01:40:46.070122: I tensorflow/core/grappler/optimizers/custom_graph_optimizer_registry.cc:113] Plugin optimizer for device_type GPU is enabled.\n",
      "\u001b[32m[I 2022-08-03 01:40:46,495]\u001b[0m Trial 18 finished with value: 0.829521656036377 and parameters: {'learning_rate': 0.008476897487742063, 'hidden_layer_size1': 731, 'kernel_regularizer': 9.568281041124718e-06, 'bias_regularizer': 9.832083679163195e-05, 'activity_regularizer': 5.9605919627333075e-05, 'dropout': 0.04955728554594078}. Best is trial 12 with value: 0.9080566167831421.\u001b[0m\n"
     ]
    },
    {
     "name": "stdout",
     "output_type": "stream",
     "text": [
      "F1 Score: 0.829521656036377; Loss=0.6914893388748169\n"
     ]
    },
    {
     "name": "stderr",
     "output_type": "stream",
     "text": [
      "2022-08-03 01:40:47.181970: I tensorflow/core/grappler/optimizers/custom_graph_optimizer_registry.cc:113] Plugin optimizer for device_type GPU is enabled.\n",
      "2022-08-03 01:41:09.573634: I tensorflow/core/grappler/optimizers/custom_graph_optimizer_registry.cc:113] Plugin optimizer for device_type GPU is enabled.\n",
      "\u001b[32m[I 2022-08-03 01:41:09,916]\u001b[0m Trial 19 finished with value: 0.7300224304199219 and parameters: {'learning_rate': 0.009626746116096365, 'hidden_layer_size1': 553, 'kernel_regularizer': 3.905931419900242e-05, 'bias_regularizer': 6.053881769204614e-05, 'activity_regularizer': 7.588223047899592e-05, 'dropout': 0.016985291632618728}. Best is trial 12 with value: 0.9080566167831421.\u001b[0m\n"
     ]
    },
    {
     "name": "stdout",
     "output_type": "stream",
     "text": [
      "F1 Score: 0.7300224304199219; Loss=1.0064891576766968\n"
     ]
    },
    {
     "name": "stderr",
     "output_type": "stream",
     "text": [
      "2022-08-03 01:41:10.557204: I tensorflow/core/grappler/optimizers/custom_graph_optimizer_registry.cc:113] Plugin optimizer for device_type GPU is enabled.\n",
      "2022-08-03 01:41:32.635738: I tensorflow/core/grappler/optimizers/custom_graph_optimizer_registry.cc:113] Plugin optimizer for device_type GPU is enabled.\n",
      "\u001b[32m[I 2022-08-03 01:41:33,029]\u001b[0m Trial 20 finished with value: 0.7789082527160645 and parameters: {'learning_rate': 0.004313743136090789, 'hidden_layer_size1': 376, 'kernel_regularizer': 9.690201389848032e-06, 'bias_regularizer': 3.662460984925635e-05, 'activity_regularizer': 9.182758551015895e-05, 'dropout': 0.03391343974164929}. Best is trial 12 with value: 0.9080566167831421.\u001b[0m\n"
     ]
    },
    {
     "name": "stdout",
     "output_type": "stream",
     "text": [
      "F1 Score: 0.7789082527160645; Loss=0.802188515663147\n"
     ]
    },
    {
     "name": "stderr",
     "output_type": "stream",
     "text": [
      "2022-08-03 01:41:33.799636: I tensorflow/core/grappler/optimizers/custom_graph_optimizer_registry.cc:113] Plugin optimizer for device_type GPU is enabled.\n",
      "2022-08-03 01:41:56.376317: I tensorflow/core/grappler/optimizers/custom_graph_optimizer_registry.cc:113] Plugin optimizer for device_type GPU is enabled.\n",
      "\u001b[32m[I 2022-08-03 01:41:57,030]\u001b[0m Trial 21 finished with value: 0.8603008985519409 and parameters: {'learning_rate': 0.007426761642109283, 'hidden_layer_size1': 675, 'kernel_regularizer': 4.469904121772764e-06, 'bias_regularizer': 4.505595778822361e-05, 'activity_regularizer': 8.134917538548972e-05, 'dropout': 0.02349850467104778}. Best is trial 12 with value: 0.9080566167831421.\u001b[0m\n"
     ]
    },
    {
     "name": "stdout",
     "output_type": "stream",
     "text": [
      "F1 Score: 0.8603008985519409; Loss=0.5863327383995056\n"
     ]
    },
    {
     "name": "stderr",
     "output_type": "stream",
     "text": [
      "2022-08-03 01:41:58.160049: I tensorflow/core/grappler/optimizers/custom_graph_optimizer_registry.cc:113] Plugin optimizer for device_type GPU is enabled.\n",
      "2022-08-03 01:42:23.491905: I tensorflow/core/grappler/optimizers/custom_graph_optimizer_registry.cc:113] Plugin optimizer for device_type GPU is enabled.\n",
      "\u001b[32m[I 2022-08-03 01:42:23,941]\u001b[0m Trial 22 finished with value: 0.892475962638855 and parameters: {'learning_rate': 0.006104057999285276, 'hidden_layer_size1': 864, 'kernel_regularizer': 1.5918319788033437e-06, 'bias_regularizer': 6.643575335269965e-05, 'activity_regularizer': 9.996940106002252e-05, 'dropout': 0.016440061021097154}. Best is trial 12 with value: 0.9080566167831421.\u001b[0m\n"
     ]
    },
    {
     "name": "stdout",
     "output_type": "stream",
     "text": [
      "F1 Score: 0.892475962638855; Loss=0.5121470093727112\n"
     ]
    },
    {
     "name": "stderr",
     "output_type": "stream",
     "text": [
      "2022-08-03 01:42:24.611128: I tensorflow/core/grappler/optimizers/custom_graph_optimizer_registry.cc:113] Plugin optimizer for device_type GPU is enabled.\n",
      "2022-08-03 01:42:47.342464: I tensorflow/core/grappler/optimizers/custom_graph_optimizer_registry.cc:113] Plugin optimizer for device_type GPU is enabled.\n",
      "\u001b[32m[I 2022-08-03 01:42:47,763]\u001b[0m Trial 23 finished with value: 0.7827686071395874 and parameters: {'learning_rate': 0.00855995419436037, 'hidden_layer_size1': 544, 'kernel_regularizer': 1.8218319675461457e-05, 'bias_regularizer': 4.338476100809516e-05, 'activity_regularizer': 7.692984305956971e-05, 'dropout': 0.0316558016458514}. Best is trial 12 with value: 0.9080566167831421.\u001b[0m\n"
     ]
    },
    {
     "name": "stdout",
     "output_type": "stream",
     "text": [
      "F1 Score: 0.7827686071395874; Loss=0.8051586747169495\n"
     ]
    },
    {
     "name": "stderr",
     "output_type": "stream",
     "text": [
      "2022-08-03 01:42:48.519797: I tensorflow/core/grappler/optimizers/custom_graph_optimizer_registry.cc:113] Plugin optimizer for device_type GPU is enabled.\n",
      "2022-08-03 01:43:14.088408: I tensorflow/core/grappler/optimizers/custom_graph_optimizer_registry.cc:113] Plugin optimizer for device_type GPU is enabled.\n",
      "\u001b[32m[I 2022-08-03 01:43:14,506]\u001b[0m Trial 24 finished with value: 0.8116825819015503 and parameters: {'learning_rate': 0.007257604365740314, 'hidden_layer_size1': 886, 'kernel_regularizer': 1.3313090660620732e-05, 'bias_regularizer': 5.133712992590774e-05, 'activity_regularizer': 8.924252777480282e-05, 'dropout': 0.04578113769086503}. Best is trial 12 with value: 0.9080566167831421.\u001b[0m\n"
     ]
    },
    {
     "name": "stdout",
     "output_type": "stream",
     "text": [
      "F1 Score: 0.8116825819015503; Loss=0.7426764965057373\n"
     ]
    },
    {
     "name": "stderr",
     "output_type": "stream",
     "text": [
      "2022-08-03 01:43:15.543018: I tensorflow/core/grappler/optimizers/custom_graph_optimizer_registry.cc:113] Plugin optimizer for device_type GPU is enabled.\n",
      "2022-08-03 01:43:40.948534: I tensorflow/core/grappler/optimizers/custom_graph_optimizer_registry.cc:113] Plugin optimizer for device_type GPU is enabled.\n",
      "\u001b[32m[I 2022-08-03 01:43:41,327]\u001b[0m Trial 25 finished with value: 0.749775767326355 and parameters: {'learning_rate': 0.007791621069451768, 'hidden_layer_size1': 739, 'kernel_regularizer': 2.943475734585771e-05, 'bias_regularizer': 3.3370806597550654e-05, 'activity_regularizer': 5.454411109423867e-05, 'dropout': 0.057007507747281035}. Best is trial 12 with value: 0.9080566167831421.\u001b[0m\n"
     ]
    },
    {
     "name": "stdout",
     "output_type": "stream",
     "text": [
      "F1 Score: 0.749775767326355; Loss=0.9192525744438171\n"
     ]
    },
    {
     "name": "stderr",
     "output_type": "stream",
     "text": [
      "2022-08-03 01:43:42.089609: I tensorflow/core/grappler/optimizers/custom_graph_optimizer_registry.cc:113] Plugin optimizer for device_type GPU is enabled.\n",
      "2022-08-03 01:44:04.330543: I tensorflow/core/grappler/optimizers/custom_graph_optimizer_registry.cc:113] Plugin optimizer for device_type GPU is enabled.\n",
      "\u001b[32m[I 2022-08-03 01:44:04,775]\u001b[0m Trial 26 finished with value: 0.8952988386154175 and parameters: {'learning_rate': 0.008964156857761323, 'hidden_layer_size1': 599, 'kernel_regularizer': 4.007427285731308e-06, 'bias_regularizer': 6.404040510809883e-05, 'activity_regularizer': 7.217888578179774e-05, 'dropout': 0.00036858819581080116}. Best is trial 12 with value: 0.9080566167831421.\u001b[0m\n"
     ]
    },
    {
     "name": "stdout",
     "output_type": "stream",
     "text": [
      "F1 Score: 0.8952988386154175; Loss=0.5612097978591919\n"
     ]
    },
    {
     "name": "stderr",
     "output_type": "stream",
     "text": [
      "2022-08-03 01:44:05.568054: I tensorflow/core/grappler/optimizers/custom_graph_optimizer_registry.cc:113] Plugin optimizer for device_type GPU is enabled.\n",
      "2022-08-03 01:44:28.429148: I tensorflow/core/grappler/optimizers/custom_graph_optimizer_registry.cc:113] Plugin optimizer for device_type GPU is enabled.\n",
      "\u001b[32m[I 2022-08-03 01:44:28,934]\u001b[0m Trial 27 finished with value: 0.768778383731842 and parameters: {'learning_rate': 0.006659445865749052, 'hidden_layer_size1': 722, 'kernel_regularizer': 2.1523445553150646e-05, 'bias_regularizer': 4.7867573704947204e-05, 'activity_regularizer': 8.501175059975156e-05, 'dropout': 0.020281340336018236}. Best is trial 12 with value: 0.9080566167831421.\u001b[0m\n"
     ]
    },
    {
     "name": "stdout",
     "output_type": "stream",
     "text": [
      "F1 Score: 0.768778383731842; Loss=0.8410029411315918\n"
     ]
    },
    {
     "name": "stderr",
     "output_type": "stream",
     "text": [
      "2022-08-03 01:44:29.679277: I tensorflow/core/grappler/optimizers/custom_graph_optimizer_registry.cc:113] Plugin optimizer for device_type GPU is enabled.\n",
      "2022-08-03 01:44:56.497741: I tensorflow/core/grappler/optimizers/custom_graph_optimizer_registry.cc:113] Plugin optimizer for device_type GPU is enabled.\n",
      "\u001b[32m[I 2022-08-03 01:44:57,071]\u001b[0m Trial 28 finished with value: 0.8984185457229614 and parameters: {'learning_rate': 0.00573021153913189, 'hidden_layer_size1': 804, 'kernel_regularizer': 1.3909963136176185e-07, 'bias_regularizer': 5.5767344795369214e-05, 'activity_regularizer': 9.486886429633647e-05, 'dropout': 0.03161761292945236}. Best is trial 12 with value: 0.9080566167831421.\u001b[0m\n"
     ]
    },
    {
     "name": "stdout",
     "output_type": "stream",
     "text": [
      "F1 Score: 0.8984185457229614; Loss=0.4172135591506958\n"
     ]
    },
    {
     "name": "stderr",
     "output_type": "stream",
     "text": [
      "2022-08-03 01:44:57.668163: I tensorflow/core/grappler/optimizers/custom_graph_optimizer_registry.cc:113] Plugin optimizer for device_type GPU is enabled.\n",
      "2022-08-03 01:45:17.154874: I tensorflow/core/grappler/optimizers/custom_graph_optimizer_registry.cc:113] Plugin optimizer for device_type GPU is enabled.\n",
      "\u001b[32m[I 2022-08-03 01:45:17,694]\u001b[0m Trial 29 finished with value: 0.7424275875091553 and parameters: {'learning_rate': 0.004762718248712014, 'hidden_layer_size1': 206, 'kernel_regularizer': 3.35104978819482e-05, 'bias_regularizer': 4.200120847632459e-05, 'activity_regularizer': 8.09664317064102e-05, 'dropout': 0.011256045447952327}. Best is trial 12 with value: 0.9080566167831421.\u001b[0m\n"
     ]
    },
    {
     "name": "stdout",
     "output_type": "stream",
     "text": [
      "F1 Score: 0.7424275875091553; Loss=1.0481656789779663\n"
     ]
    },
    {
     "name": "stderr",
     "output_type": "stream",
     "text": [
      "2022-08-03 01:45:18.537634: I tensorflow/core/grappler/optimizers/custom_graph_optimizer_registry.cc:113] Plugin optimizer for device_type GPU is enabled.\n",
      "2022-08-03 01:45:43.966061: I tensorflow/core/grappler/optimizers/custom_graph_optimizer_registry.cc:113] Plugin optimizer for device_type GPU is enabled.\n",
      "\u001b[32m[I 2022-08-03 01:45:44,424]\u001b[0m Trial 30 finished with value: 0.7296657562255859 and parameters: {'learning_rate': 0.007823420147183527, 'hidden_layer_size1': 915, 'kernel_regularizer': 4.7432588203954107e-05, 'bias_regularizer': 1.8671706156477407e-05, 'activity_regularizer': 9.223280320477134e-05, 'dropout': 0.02682864894132859}. Best is trial 12 with value: 0.9080566167831421.\u001b[0m\n"
     ]
    },
    {
     "name": "stdout",
     "output_type": "stream",
     "text": [
      "F1 Score: 0.7296657562255859; Loss=1.0651479959487915\n"
     ]
    },
    {
     "name": "stderr",
     "output_type": "stream",
     "text": [
      "2022-08-03 01:45:45.199793: I tensorflow/core/grappler/optimizers/custom_graph_optimizer_registry.cc:113] Plugin optimizer for device_type GPU is enabled.\n",
      "2022-08-03 01:46:11.049293: I tensorflow/core/grappler/optimizers/custom_graph_optimizer_registry.cc:113] Plugin optimizer for device_type GPU is enabled.\n",
      "\u001b[32m[I 2022-08-03 01:46:11,565]\u001b[0m Trial 31 finished with value: 0.8760943412780762 and parameters: {'learning_rate': 0.005551391486728492, 'hidden_layer_size1': 782, 'kernel_regularizer': 1.0134590128285182e-06, 'bias_regularizer': 5.545339108257116e-05, 'activity_regularizer': 9.669869873119465e-05, 'dropout': 0.03196143598255538}. Best is trial 12 with value: 0.9080566167831421.\u001b[0m\n"
     ]
    },
    {
     "name": "stdout",
     "output_type": "stream",
     "text": [
      "F1 Score: 0.8760943412780762; Loss=0.5191583037376404\n"
     ]
    },
    {
     "name": "stderr",
     "output_type": "stream",
     "text": [
      "2022-08-03 01:46:12.875560: I tensorflow/core/grappler/optimizers/custom_graph_optimizer_registry.cc:113] Plugin optimizer for device_type GPU is enabled.\n",
      "2022-08-03 01:46:37.752524: I tensorflow/core/grappler/optimizers/custom_graph_optimizer_registry.cc:113] Plugin optimizer for device_type GPU is enabled.\n",
      "\u001b[32m[I 2022-08-03 01:46:38,274]\u001b[0m Trial 32 finished with value: 0.8181033134460449 and parameters: {'learning_rate': 0.00600883677406221, 'hidden_layer_size1': 682, 'kernel_regularizer': 8.988402618964892e-06, 'bias_regularizer': 7.091284472478723e-05, 'activity_regularizer': 8.980034076266255e-05, 'dropout': 0.03856646216409444}. Best is trial 12 with value: 0.9080566167831421.\u001b[0m\n"
     ]
    },
    {
     "name": "stdout",
     "output_type": "stream",
     "text": [
      "F1 Score: 0.8181033134460449; Loss=0.6969962120056152\n"
     ]
    },
    {
     "name": "stderr",
     "output_type": "stream",
     "text": [
      "2022-08-03 01:46:38.964571: I tensorflow/core/grappler/optimizers/custom_graph_optimizer_registry.cc:113] Plugin optimizer for device_type GPU is enabled.\n",
      "2022-08-03 01:47:04.883500: I tensorflow/core/grappler/optimizers/custom_graph_optimizer_registry.cc:113] Plugin optimizer for device_type GPU is enabled.\n",
      "\u001b[32m[I 2022-08-03 01:47:05,347]\u001b[0m Trial 33 finished with value: 0.8130922317504883 and parameters: {'learning_rate': 0.006861003117875281, 'hidden_layer_size1': 798, 'kernel_regularizer': 1.1440318638572913e-05, 'bias_regularizer': 5.997923840285904e-05, 'activity_regularizer': 9.465118290959777e-05, 'dropout': 0.02881558754856943}. Best is trial 12 with value: 0.9080566167831421.\u001b[0m\n"
     ]
    },
    {
     "name": "stdout",
     "output_type": "stream",
     "text": [
      "F1 Score: 0.8130922317504883; Loss=0.7134171724319458\n"
     ]
    },
    {
     "name": "stderr",
     "output_type": "stream",
     "text": [
      "2022-08-03 01:47:06.095334: I tensorflow/core/grappler/optimizers/custom_graph_optimizer_registry.cc:113] Plugin optimizer for device_type GPU is enabled.\n",
      "2022-08-03 01:47:29.867210: I tensorflow/core/grappler/optimizers/custom_graph_optimizer_registry.cc:113] Plugin optimizer for device_type GPU is enabled.\n",
      "\u001b[32m[I 2022-08-03 01:47:30,390]\u001b[0m Trial 34 finished with value: 0.8470569849014282 and parameters: {'learning_rate': 0.006430174481650329, 'hidden_layer_size1': 588, 'kernel_regularizer': 6.2877336151511814e-06, 'bias_regularizer': 8.781358863475623e-05, 'activity_regularizer': 7.279295347806244e-05, 'dropout': 0.017961062983576796}. Best is trial 12 with value: 0.9080566167831421.\u001b[0m\n"
     ]
    },
    {
     "name": "stdout",
     "output_type": "stream",
     "text": [
      "F1 Score: 0.8470569849014282; Loss=0.6421809196472168\n"
     ]
    },
    {
     "name": "stderr",
     "output_type": "stream",
     "text": [
      "2022-08-03 01:47:31.677292: I tensorflow/core/grappler/optimizers/custom_graph_optimizer_registry.cc:113] Plugin optimizer for device_type GPU is enabled.\n",
      "2022-08-03 01:47:57.215135: I tensorflow/core/grappler/optimizers/custom_graph_optimizer_registry.cc:113] Plugin optimizer for device_type GPU is enabled.\n",
      "\u001b[32m[I 2022-08-03 01:47:57,671]\u001b[0m Trial 35 finished with value: 0.8006404042243958 and parameters: {'learning_rate': 0.008173526861896391, 'hidden_layer_size1': 856, 'kernel_regularizer': 1.7193281013506755e-05, 'bias_regularizer': 3.2361500250253043e-05, 'activity_regularizer': 8.774492677288475e-05, 'dropout': 0.042012927565896474}. Best is trial 12 with value: 0.9080566167831421.\u001b[0m\n"
     ]
    },
    {
     "name": "stdout",
     "output_type": "stream",
     "text": [
      "F1 Score: 0.8006404042243958; Loss=0.8029458522796631\n"
     ]
    },
    {
     "name": "stderr",
     "output_type": "stream",
     "text": [
      "2022-08-03 01:47:58.469852: I tensorflow/core/grappler/optimizers/custom_graph_optimizer_registry.cc:113] Plugin optimizer for device_type GPU is enabled.\n",
      "2022-08-03 01:48:22.568460: I tensorflow/core/grappler/optimizers/custom_graph_optimizer_registry.cc:113] Plugin optimizer for device_type GPU is enabled.\n",
      "\u001b[32m[I 2022-08-03 01:48:23,027]\u001b[0m Trial 36 finished with value: 0.9115889668464661 and parameters: {'learning_rate': 0.008879578150909647, 'hidden_layer_size1': 685, 'kernel_regularizer': 9.567950266745087e-07, 'bias_regularizer': 5.3028595854819256e-05, 'activity_regularizer': 9.932597892677845e-05, 'dropout': 0.05412188759530091}. Best is trial 36 with value: 0.9115889668464661.\u001b[0m\n"
     ]
    },
    {
     "name": "stdout",
     "output_type": "stream",
     "text": [
      "F1 Score: 0.9115889668464661; Loss=0.45972225069999695\n"
     ]
    },
    {
     "name": "stderr",
     "output_type": "stream",
     "text": [
      "2022-08-03 01:48:23.749681: I tensorflow/core/grappler/optimizers/custom_graph_optimizer_registry.cc:113] Plugin optimizer for device_type GPU is enabled.\n",
      "2022-08-03 01:48:49.419305: I tensorflow/core/grappler/optimizers/custom_graph_optimizer_registry.cc:113] Plugin optimizer for device_type GPU is enabled.\n",
      "\u001b[32m[I 2022-08-03 01:48:49,928]\u001b[0m Trial 37 finished with value: 0.7336134910583496 and parameters: {'learning_rate': 0.008963364354376935, 'hidden_layer_size1': 682, 'kernel_regularizer': 3.3921318112552355e-05, 'bias_regularizer': 2.3961280085611208e-05, 'activity_regularizer': 1.654450237053025e-06, 'dropout': 0.0995336358482309}. Best is trial 36 with value: 0.9115889668464661.\u001b[0m\n"
     ]
    },
    {
     "name": "stdout",
     "output_type": "stream",
     "text": [
      "F1 Score: 0.7336134910583496; Loss=0.9739627242088318\n"
     ]
    },
    {
     "name": "stderr",
     "output_type": "stream",
     "text": [
      "2022-08-03 01:48:50.739690: I tensorflow/core/grappler/optimizers/custom_graph_optimizer_registry.cc:113] Plugin optimizer for device_type GPU is enabled.\n",
      "2022-08-03 01:49:13.869362: I tensorflow/core/grappler/optimizers/custom_graph_optimizer_registry.cc:113] Plugin optimizer for device_type GPU is enabled.\n",
      "\u001b[32m[I 2022-08-03 01:49:14,392]\u001b[0m Trial 38 finished with value: 0.7609962224960327 and parameters: {'learning_rate': 0.008940490206854352, 'hidden_layer_size1': 497, 'kernel_regularizer': 2.3794201166013354e-05, 'bias_regularizer': 4.96501729802368e-05, 'activity_regularizer': 9.969142118572279e-05, 'dropout': 0.058149316020987225}. Best is trial 36 with value: 0.9115889668464661.\u001b[0m\n"
     ]
    },
    {
     "name": "stdout",
     "output_type": "stream",
     "text": [
      "F1 Score: 0.7609962224960327; Loss=0.8716033697128296\n"
     ]
    },
    {
     "name": "stderr",
     "output_type": "stream",
     "text": [
      "2022-08-03 01:49:15.757675: I tensorflow/core/grappler/optimizers/custom_graph_optimizer_registry.cc:113] Plugin optimizer for device_type GPU is enabled.\n",
      "2022-08-03 01:49:40.879393: I tensorflow/core/grappler/optimizers/custom_graph_optimizer_registry.cc:113] Plugin optimizer for device_type GPU is enabled.\n",
      "\u001b[32m[I 2022-08-03 01:49:41,395]\u001b[0m Trial 39 finished with value: 0.6989314556121826 and parameters: {'learning_rate': 0.0074182727094645046, 'hidden_layer_size1': 649, 'kernel_regularizer': 8.490001207482102e-05, 'bias_regularizer': 8.532933590747977e-05, 'activity_regularizer': 6.751289365699239e-05, 'dropout': 0.05214933103683239}. Best is trial 36 with value: 0.9115889668464661.\u001b[0m\n"
     ]
    },
    {
     "name": "stdout",
     "output_type": "stream",
     "text": [
      "F1 Score: 0.6989314556121826; Loss=1.218489170074463\n"
     ]
    },
    {
     "name": "stderr",
     "output_type": "stream",
     "text": [
      "2022-08-03 01:49:42.268486: I tensorflow/core/grappler/optimizers/custom_graph_optimizer_registry.cc:113] Plugin optimizer for device_type GPU is enabled.\n",
      "2022-08-03 01:50:07.240581: I tensorflow/core/grappler/optimizers/custom_graph_optimizer_registry.cc:113] Plugin optimizer for device_type GPU is enabled.\n",
      "\u001b[32m[I 2022-08-03 01:50:07,665]\u001b[0m Trial 40 finished with value: 0.7040804028511047 and parameters: {'learning_rate': 0.003239852888451901, 'hidden_layer_size1': 559, 'kernel_regularizer': 6.653274208905251e-05, 'bias_regularizer': 1.2185939574093603e-05, 'activity_regularizer': 4.764178454194454e-05, 'dropout': 0.06798527518171935}. Best is trial 36 with value: 0.9115889668464661.\u001b[0m\n"
     ]
    },
    {
     "name": "stdout",
     "output_type": "stream",
     "text": [
      "F1 Score: 0.7040804028511047; Loss=1.201858401298523\n"
     ]
    },
    {
     "name": "stderr",
     "output_type": "stream",
     "text": [
      "2022-08-03 01:50:08.350942: I tensorflow/core/grappler/optimizers/custom_graph_optimizer_registry.cc:113] Plugin optimizer for device_type GPU is enabled.\n",
      "2022-08-03 01:50:31.811180: I tensorflow/core/grappler/optimizers/custom_graph_optimizer_registry.cc:113] Plugin optimizer for device_type GPU is enabled.\n",
      "\u001b[32m[I 2022-08-03 01:50:32,266]\u001b[0m Trial 41 finished with value: 0.9175162315368652 and parameters: {'learning_rate': 0.009918593285114147, 'hidden_layer_size1': 762, 'kernel_regularizer': 5.716100905642986e-07, 'bias_regularizer': 5.320287378816648e-05, 'activity_regularizer': 9.428688298181889e-05, 'dropout': 0.010376766913914861}. Best is trial 41 with value: 0.9175162315368652.\u001b[0m\n"
     ]
    },
    {
     "name": "stdout",
     "output_type": "stream",
     "text": [
      "F1 Score: 0.9175162315368652; Loss=0.4405185580253601\n"
     ]
    },
    {
     "name": "stderr",
     "output_type": "stream",
     "text": [
      "2022-08-03 01:50:33.436520: I tensorflow/core/grappler/optimizers/custom_graph_optimizer_registry.cc:113] Plugin optimizer for device_type GPU is enabled.\n",
      "2022-08-03 01:50:56.153126: I tensorflow/core/grappler/optimizers/custom_graph_optimizer_registry.cc:113] Plugin optimizer for device_type GPU is enabled.\n",
      "\u001b[32m[I 2022-08-03 01:50:56,644]\u001b[0m Trial 42 finished with value: 0.8524589538574219 and parameters: {'learning_rate': 0.009855935322252672, 'hidden_layer_size1': 728, 'kernel_regularizer': 6.308960180221191e-06, 'bias_regularizer': 6.378516532769938e-05, 'activity_regularizer': 8.407564412787541e-05, 'dropout': 0.008827329650365444}. Best is trial 41 with value: 0.9175162315368652.\u001b[0m\n"
     ]
    },
    {
     "name": "stdout",
     "output_type": "stream",
     "text": [
      "F1 Score: 0.8524589538574219; Loss=0.6315165162086487\n"
     ]
    },
    {
     "name": "stderr",
     "output_type": "stream",
     "text": [
      "2022-08-03 01:50:57.328699: I tensorflow/core/grappler/optimizers/custom_graph_optimizer_registry.cc:113] Plugin optimizer for device_type GPU is enabled.\n",
      "2022-08-03 01:51:18.211489: I tensorflow/core/grappler/optimizers/custom_graph_optimizer_registry.cc:113] Plugin optimizer for device_type GPU is enabled.\n",
      "\u001b[32m[I 2022-08-03 01:51:18,587]\u001b[0m Trial 43 finished with value: 0.8074692487716675 and parameters: {'learning_rate': 0.009209224598303164, 'hidden_layer_size1': 616, 'kernel_regularizer': 1.3804215554152102e-05, 'bias_regularizer': 3.844839352763612e-05, 'activity_regularizer': 9.403450303709709e-05, 'dropout': 0.014221799119978024}. Best is trial 41 with value: 0.9175162315368652.\u001b[0m\n"
     ]
    },
    {
     "name": "stdout",
     "output_type": "stream",
     "text": [
      "F1 Score: 0.8074692487716675; Loss=0.7608211040496826\n"
     ]
    },
    {
     "name": "stderr",
     "output_type": "stream",
     "text": [
      "2022-08-03 01:51:19.292449: I tensorflow/core/grappler/optimizers/custom_graph_optimizer_registry.cc:113] Plugin optimizer for device_type GPU is enabled.\n",
      "2022-08-03 01:51:38.296315: I tensorflow/core/grappler/optimizers/custom_graph_optimizer_registry.cc:113] Plugin optimizer for device_type GPU is enabled.\n",
      "\u001b[32m[I 2022-08-03 01:51:38,738]\u001b[0m Trial 44 finished with value: 0.8540838956832886 and parameters: {'learning_rate': 0.008450172970396868, 'hidden_layer_size1': 393, 'kernel_regularizer': 5.5088619765187145e-06, 'bias_regularizer': 7.138966241549761e-05, 'activity_regularizer': 7.973747581661933e-05, 'dropout': 0.0656930204091664}. Best is trial 41 with value: 0.9175162315368652.\u001b[0m\n"
     ]
    },
    {
     "name": "stdout",
     "output_type": "stream",
     "text": [
      "F1 Score: 0.8540838956832886; Loss=0.6219912767410278\n"
     ]
    },
    {
     "name": "stderr",
     "output_type": "stream",
     "text": [
      "2022-08-03 01:51:39.388385: I tensorflow/core/grappler/optimizers/custom_graph_optimizer_registry.cc:113] Plugin optimizer for device_type GPU is enabled.\n",
      "2022-08-03 01:52:02.199099: I tensorflow/core/grappler/optimizers/custom_graph_optimizer_registry.cc:113] Plugin optimizer for device_type GPU is enabled.\n",
      "\u001b[32m[I 2022-08-03 01:52:02,624]\u001b[0m Trial 45 finished with value: 0.8029634952545166 and parameters: {'learning_rate': 0.009934285457060932, 'hidden_layer_size1': 920, 'kernel_regularizer': 1.3446566087370156e-05, 'bias_regularizer': 5.222293422112025e-05, 'activity_regularizer': 8.83929838024057e-05, 'dropout': 0.004447824681444499}. Best is trial 41 with value: 0.9175162315368652.\u001b[0m\n"
     ]
    },
    {
     "name": "stdout",
     "output_type": "stream",
     "text": [
      "F1 Score: 0.8029634952545166; Loss=0.7411364912986755\n"
     ]
    },
    {
     "name": "stderr",
     "output_type": "stream",
     "text": [
      "2022-08-03 01:52:04.071939: I tensorflow/core/grappler/optimizers/custom_graph_optimizer_registry.cc:113] Plugin optimizer for device_type GPU is enabled.\n",
      "2022-08-03 01:52:24.282780: I tensorflow/core/grappler/optimizers/custom_graph_optimizer_registry.cc:113] Plugin optimizer for device_type GPU is enabled.\n",
      "\u001b[32m[I 2022-08-03 01:52:24,653]\u001b[0m Trial 46 finished with value: 0.6677731275558472 and parameters: {'learning_rate': 0.007132290581741594, 'hidden_layer_size1': 754, 'kernel_regularizer': 9.673655123994342e-05, 'bias_regularizer': 4.378088464712811e-05, 'activity_regularizer': 9.666949303792322e-05, 'dropout': 0.04807663706332578}. Best is trial 41 with value: 0.9175162315368652.\u001b[0m\n"
     ]
    },
    {
     "name": "stdout",
     "output_type": "stream",
     "text": [
      "F1 Score: 0.6677731275558472; Loss=1.263559341430664\n"
     ]
    },
    {
     "name": "stderr",
     "output_type": "stream",
     "text": [
      "2022-08-03 01:52:25.372968: I tensorflow/core/grappler/optimizers/custom_graph_optimizer_registry.cc:113] Plugin optimizer for device_type GPU is enabled.\n",
      "2022-08-03 01:52:46.074237: I tensorflow/core/grappler/optimizers/custom_graph_optimizer_registry.cc:113] Plugin optimizer for device_type GPU is enabled.\n",
      "\u001b[32m[I 2022-08-03 01:52:46,494]\u001b[0m Trial 47 finished with value: 0.9151002168655396 and parameters: {'learning_rate': 0.008085770732142368, 'hidden_layer_size1': 695, 'kernel_regularizer': 8.128160007403876e-08, 'bias_regularizer': 5.6883740949352e-05, 'activity_regularizer': 3.189526631178224e-05, 'dropout': 0.012825173364464863}. Best is trial 41 with value: 0.9175162315368652.\u001b[0m\n"
     ]
    },
    {
     "name": "stdout",
     "output_type": "stream",
     "text": [
      "F1 Score: 0.9151002168655396; Loss=0.3951786160469055\n"
     ]
    },
    {
     "name": "stderr",
     "output_type": "stream",
     "text": [
      "2022-08-03 01:52:47.165983: I tensorflow/core/grappler/optimizers/custom_graph_optimizer_registry.cc:113] Plugin optimizer for device_type GPU is enabled.\n",
      "2022-08-03 01:53:13.818857: I tensorflow/core/grappler/optimizers/custom_graph_optimizer_registry.cc:113] Plugin optimizer for device_type GPU is enabled.\n",
      "\u001b[32m[I 2022-08-03 01:53:14,214]\u001b[0m Trial 48 finished with value: 0.7716841697692871 and parameters: {'learning_rate': 0.008037914872924039, 'hidden_layer_size1': 995, 'kernel_regularizer': 1.963916224666157e-05, 'bias_regularizer': 8.193543696967405e-05, 'activity_regularizer': 3.4366747523870944e-05, 'dropout': 0.005066665357084765}. Best is trial 41 with value: 0.9175162315368652.\u001b[0m\n"
     ]
    },
    {
     "name": "stdout",
     "output_type": "stream",
     "text": [
      "F1 Score: 0.7716841697692871; Loss=0.8362934589385986\n"
     ]
    },
    {
     "name": "stderr",
     "output_type": "stream",
     "text": [
      "2022-08-03 01:53:15.407321: I tensorflow/core/grappler/optimizers/custom_graph_optimizer_registry.cc:113] Plugin optimizer for device_type GPU is enabled.\n",
      "2022-08-03 01:53:35.642734: I tensorflow/core/grappler/optimizers/custom_graph_optimizer_registry.cc:113] Plugin optimizer for device_type GPU is enabled.\n",
      "\u001b[32m[I 2022-08-03 01:53:36,069]\u001b[0m Trial 49 finished with value: 0.8621883392333984 and parameters: {'learning_rate': 0.008807071987054303, 'hidden_layer_size1': 842, 'kernel_regularizer': 5.799002170337113e-06, 'bias_regularizer': 5.746279130973764e-05, 'activity_regularizer': 4.2682162722830974e-05, 'dropout': 0.012529252697811076}. Best is trial 41 with value: 0.9175162315368652.\u001b[0m\n"
     ]
    },
    {
     "name": "stdout",
     "output_type": "stream",
     "text": [
      "F1 Score: 0.8621883392333984; Loss=0.62070631980896\n"
     ]
    },
    {
     "name": "stderr",
     "output_type": "stream",
     "text": [
      "2022-08-03 01:53:36.774554: I tensorflow/core/grappler/optimizers/custom_graph_optimizer_registry.cc:113] Plugin optimizer for device_type GPU is enabled.\n",
      "2022-08-03 01:53:58.986744: I tensorflow/core/grappler/optimizers/custom_graph_optimizer_registry.cc:113] Plugin optimizer for device_type GPU is enabled.\n",
      "\u001b[32m[I 2022-08-03 01:53:59,556]\u001b[0m Trial 50 finished with value: 0.8077906370162964 and parameters: {'learning_rate': 0.009411067395540656, 'hidden_layer_size1': 766, 'kernel_regularizer': 1.0729636843143028e-05, 'bias_regularizer': 6.672515791667455e-05, 'activity_regularizer': 2.8210950535277146e-05, 'dropout': 0.09057524921812075}. Best is trial 41 with value: 0.9175162315368652.\u001b[0m\n"
     ]
    },
    {
     "name": "stdout",
     "output_type": "stream",
     "text": [
      "F1 Score: 0.8077906370162964; Loss=0.7267329096794128\n"
     ]
    },
    {
     "name": "stderr",
     "output_type": "stream",
     "text": [
      "2022-08-03 01:54:00.456684: I tensorflow/core/grappler/optimizers/custom_graph_optimizer_registry.cc:113] Plugin optimizer for device_type GPU is enabled.\n",
      "2022-08-03 01:54:27.176553: I tensorflow/core/grappler/optimizers/custom_graph_optimizer_registry.cc:113] Plugin optimizer for device_type GPU is enabled.\n",
      "\u001b[32m[I 2022-08-03 01:54:27,724]\u001b[0m Trial 51 finished with value: 0.9109125137329102 and parameters: {'learning_rate': 0.007618783707045421, 'hidden_layer_size1': 694, 'kernel_regularizer': 4.4175410318716596e-07, 'bias_regularizer': 4.918612764159827e-05, 'activity_regularizer': 2.2806085688406344e-05, 'dropout': 0.023785914327088518}. Best is trial 41 with value: 0.9175162315368652.\u001b[0m\n"
     ]
    },
    {
     "name": "stdout",
     "output_type": "stream",
     "text": [
      "F1 Score: 0.9109125137329102; Loss=0.44116243720054626\n"
     ]
    },
    {
     "name": "stderr",
     "output_type": "stream",
     "text": [
      "2022-08-03 01:54:28.421692: I tensorflow/core/grappler/optimizers/custom_graph_optimizer_registry.cc:113] Plugin optimizer for device_type GPU is enabled.\n",
      "2022-08-03 01:54:50.498447: I tensorflow/core/grappler/optimizers/custom_graph_optimizer_registry.cc:113] Plugin optimizer for device_type GPU is enabled.\n",
      "\u001b[32m[I 2022-08-03 01:54:51,081]\u001b[0m Trial 52 finished with value: 0.6737735867500305 and parameters: {'learning_rate': 0.0004358291314385532, 'hidden_layer_size1': 694, 'kernel_regularizer': 3.2721713679836426e-06, 'bias_regularizer': 5.272316430476755e-05, 'activity_regularizer': 2.1465356166185312e-05, 'dropout': 0.03692341797492082}. Best is trial 41 with value: 0.9175162315368652.\u001b[0m\n"
     ]
    },
    {
     "name": "stdout",
     "output_type": "stream",
     "text": [
      "F1 Score: 0.6737735867500305; Loss=1.1653884649276733\n"
     ]
    },
    {
     "name": "stderr",
     "output_type": "stream",
     "text": [
      "2022-08-03 01:54:51.811271: I tensorflow/core/grappler/optimizers/custom_graph_optimizer_registry.cc:113] Plugin optimizer for device_type GPU is enabled.\n",
      "2022-08-03 01:55:14.780246: I tensorflow/core/grappler/optimizers/custom_graph_optimizer_registry.cc:113] Plugin optimizer for device_type GPU is enabled.\n",
      "\u001b[32m[I 2022-08-03 01:55:15,333]\u001b[0m Trial 53 finished with value: 0.9151002168655396 and parameters: {'learning_rate': 0.00825999660640376, 'hidden_layer_size1': 701, 'kernel_regularizer': 8.30879788354186e-08, 'bias_regularizer': 6.227074063949107e-05, 'activity_regularizer': 2.063423803678259e-05, 'dropout': 0.020686249791734387}. Best is trial 41 with value: 0.9175162315368652.\u001b[0m\n"
     ]
    },
    {
     "name": "stdout",
     "output_type": "stream",
     "text": [
      "F1 Score: 0.9151002168655396; Loss=0.39849886298179626\n"
     ]
    },
    {
     "name": "stderr",
     "output_type": "stream",
     "text": [
      "2022-08-03 01:55:16.128820: I tensorflow/core/grappler/optimizers/custom_graph_optimizer_registry.cc:113] Plugin optimizer for device_type GPU is enabled.\n",
      "2022-08-03 01:55:39.589030: I tensorflow/core/grappler/optimizers/custom_graph_optimizer_registry.cc:113] Plugin optimizer for device_type GPU is enabled.\n",
      "\u001b[32m[I 2022-08-03 01:55:40,221]\u001b[0m Trial 54 finished with value: 0.83201003074646 and parameters: {'learning_rate': 0.00934332697237613, 'hidden_layer_size1': 782, 'kernel_regularizer': 7.97076932466121e-06, 'bias_regularizer': 7.523058522594516e-05, 'activity_regularizer': 1.5051573269111369e-05, 'dropout': 0.020510526541819986}. Best is trial 41 with value: 0.9175162315368652.\u001b[0m\n"
     ]
    },
    {
     "name": "stdout",
     "output_type": "stream",
     "text": [
      "F1 Score: 0.83201003074646; Loss=0.6741693615913391\n"
     ]
    },
    {
     "name": "stderr",
     "output_type": "stream",
     "text": [
      "2022-08-03 01:55:40.814917: I tensorflow/core/grappler/optimizers/custom_graph_optimizer_registry.cc:113] Plugin optimizer for device_type GPU is enabled.\n",
      "2022-08-03 01:55:57.498220: I tensorflow/core/grappler/optimizers/custom_graph_optimizer_registry.cc:113] Plugin optimizer for device_type GPU is enabled.\n",
      "\u001b[32m[I 2022-08-03 01:55:58,102]\u001b[0m Trial 55 finished with value: 0.6705398559570312 and parameters: {'learning_rate': 0.008366439675505339, 'hidden_layer_size1': 15, 'kernel_regularizer': 1.455001394228758e-07, 'bias_regularizer': 6.263660603213608e-05, 'activity_regularizer': 2.593911532860016e-05, 'dropout': 0.00822578568296382}. Best is trial 41 with value: 0.9175162315368652.\u001b[0m\n"
     ]
    },
    {
     "name": "stdout",
     "output_type": "stream",
     "text": [
      "F1 Score: 0.6705398559570312; Loss=1.2998727560043335\n"
     ]
    },
    {
     "name": "stderr",
     "output_type": "stream",
     "text": [
      "2022-08-03 01:55:59.373599: I tensorflow/core/grappler/optimizers/custom_graph_optimizer_registry.cc:113] Plugin optimizer for device_type GPU is enabled.\n",
      "2022-08-03 01:56:23.844867: I tensorflow/core/grappler/optimizers/custom_graph_optimizer_registry.cc:113] Plugin optimizer for device_type GPU is enabled.\n",
      "\u001b[32m[I 2022-08-03 01:56:24,420]\u001b[0m Trial 56 finished with value: 0.8036924004554749 and parameters: {'learning_rate': 0.007615194256126574, 'hidden_layer_size1': 634, 'kernel_regularizer': 1.5133913595275836e-05, 'bias_regularizer': 6.767135537697262e-05, 'activity_regularizer': 3.2513128142272454e-05, 'dropout': 0.016833398353028384}. Best is trial 41 with value: 0.9175162315368652.\u001b[0m\n"
     ]
    },
    {
     "name": "stdout",
     "output_type": "stream",
     "text": [
      "F1 Score: 0.8036924004554749; Loss=0.7631840705871582\n"
     ]
    },
    {
     "name": "stderr",
     "output_type": "stream",
     "text": [
      "2022-08-03 01:56:25.331308: I tensorflow/core/grappler/optimizers/custom_graph_optimizer_registry.cc:113] Plugin optimizer for device_type GPU is enabled.\n",
      "2022-08-03 01:56:46.550896: I tensorflow/core/grappler/optimizers/custom_graph_optimizer_registry.cc:113] Plugin optimizer for device_type GPU is enabled.\n",
      "\u001b[32m[I 2022-08-03 01:56:47,187]\u001b[0m Trial 57 finished with value: 0.8689966797828674 and parameters: {'learning_rate': 0.008627625439414977, 'hidden_layer_size1': 703, 'kernel_regularizer': 4.820516899884602e-06, 'bias_regularizer': 5.893553710024491e-05, 'activity_regularizer': 1.48742573422392e-05, 'dropout': 0.07674841961749301}. Best is trial 41 with value: 0.9175162315368652.\u001b[0m\n"
     ]
    },
    {
     "name": "stdout",
     "output_type": "stream",
     "text": [
      "F1 Score: 0.8689966797828674; Loss=0.5859234929084778\n"
     ]
    },
    {
     "name": "stderr",
     "output_type": "stream",
     "text": [
      "2022-08-03 01:56:47.922086: I tensorflow/core/grappler/optimizers/custom_graph_optimizer_registry.cc:113] Plugin optimizer for device_type GPU is enabled.\n",
      "2022-08-03 02:09:58.698070: I tensorflow/core/grappler/optimizers/custom_graph_optimizer_registry.cc:113] Plugin optimizer for device_type GPU is enabled.\n",
      "\u001b[32m[I 2022-08-03 02:09:59,221]\u001b[0m Trial 58 finished with value: 0.8160809874534607 and parameters: {'learning_rate': 0.008212166541209515, 'hidden_layer_size1': 898, 'kernel_regularizer': 1.1749155527992488e-05, 'bias_regularizer': 5.608032539016341e-05, 'activity_regularizer': 7.312188429651606e-06, 'dropout': 0.022103105389719165}. Best is trial 41 with value: 0.9175162315368652.\u001b[0m\n"
     ]
    },
    {
     "name": "stdout",
     "output_type": "stream",
     "text": [
      "F1 Score: 0.8160809874534607; Loss=0.7338602542877197\n"
     ]
    },
    {
     "name": "stderr",
     "output_type": "stream",
     "text": [
      "2022-08-03 02:10:00.027228: I tensorflow/core/grappler/optimizers/custom_graph_optimizer_registry.cc:113] Plugin optimizer for device_type GPU is enabled.\n",
      "2022-08-03 02:10:19.626321: I tensorflow/core/grappler/optimizers/custom_graph_optimizer_registry.cc:113] Plugin optimizer for device_type GPU is enabled.\n",
      "\u001b[32m[I 2022-08-03 02:10:20,287]\u001b[0m Trial 59 finished with value: 0.8366849422454834 and parameters: {'learning_rate': 0.0096364576664051, 'hidden_layer_size1': 519, 'kernel_regularizer': 8.189834509172432e-06, 'bias_regularizer': 4.7725101064662154e-05, 'activity_regularizer': 2.082419395140823e-05, 'dropout': 0.05350480085053279}. Best is trial 41 with value: 0.9175162315368652.\u001b[0m\n"
     ]
    },
    {
     "name": "stdout",
     "output_type": "stream",
     "text": [
      "F1 Score: 0.8366849422454834; Loss=0.64991694688797\n"
     ]
    },
    {
     "name": "stderr",
     "output_type": "stream",
     "text": [
      "2022-08-03 02:10:21.311319: I tensorflow/core/grappler/optimizers/custom_graph_optimizer_registry.cc:113] Plugin optimizer for device_type GPU is enabled.\n",
      "2022-08-03 02:11:51.608886: I tensorflow/core/grappler/optimizers/custom_graph_optimizer_registry.cc:113] Plugin optimizer for device_type GPU is enabled.\n",
      "\u001b[32m[I 2022-08-03 02:11:52,158]\u001b[0m Trial 60 finished with value: 0.8804969787597656 and parameters: {'learning_rate': 0.009131799842631474, 'hidden_layer_size1': 831, 'kernel_regularizer': 3.3413473588058914e-06, 'bias_regularizer': 4.0574384296064455e-05, 'activity_regularizer': 3.5850312770626914e-05, 'dropout': 0.06314382834565418}. Best is trial 41 with value: 0.9175162315368652.\u001b[0m\n"
     ]
    },
    {
     "name": "stdout",
     "output_type": "stream",
     "text": [
      "F1 Score: 0.8804969787597656; Loss=0.542340874671936\n"
     ]
    },
    {
     "name": "stderr",
     "output_type": "stream",
     "text": [
      "2022-08-03 02:11:52.951283: I tensorflow/core/grappler/optimizers/custom_graph_optimizer_registry.cc:113] Plugin optimizer for device_type GPU is enabled.\n",
      "2022-08-03 02:12:14.821974: I tensorflow/core/grappler/optimizers/custom_graph_optimizer_registry.cc:113] Plugin optimizer for device_type GPU is enabled.\n",
      "\u001b[32m[I 2022-08-03 02:12:15,359]\u001b[0m Trial 61 finished with value: 0.9034847021102905 and parameters: {'learning_rate': 0.0070284714157115725, 'hidden_layer_size1': 717, 'kernel_regularizer': 6.036986905230007e-07, 'bias_regularizer': 5.206195014656856e-05, 'activity_regularizer': 2.2559461211233862e-05, 'dropout': 0.026354672072007205}. Best is trial 41 with value: 0.9175162315368652.\u001b[0m\n"
     ]
    },
    {
     "name": "stdout",
     "output_type": "stream",
     "text": [
      "F1 Score: 0.9034847021102905; Loss=0.46652501821517944\n"
     ]
    },
    {
     "name": "stderr",
     "output_type": "stream",
     "text": [
      "2022-08-03 02:12:16.176213: I tensorflow/core/grappler/optimizers/custom_graph_optimizer_registry.cc:113] Plugin optimizer for device_type GPU is enabled.\n",
      "2022-08-03 02:12:43.102840: I tensorflow/core/grappler/optimizers/custom_graph_optimizer_registry.cc:113] Plugin optimizer for device_type GPU is enabled.\n",
      "\u001b[32m[I 2022-08-03 02:12:43,998]\u001b[0m Trial 62 finished with value: 0.88611900806427 and parameters: {'learning_rate': 0.007998601643303625, 'hidden_layer_size1': 948, 'kernel_regularizer': 3.6482822894896197e-06, 'bias_regularizer': 4.695162312620245e-05, 'activity_regularizer': 5.2458418241975726e-05, 'dropout': 0.013676929484981752}. Best is trial 41 with value: 0.9175162315368652.\u001b[0m\n"
     ]
    },
    {
     "name": "stdout",
     "output_type": "stream",
     "text": [
      "F1 Score: 0.88611900806427; Loss=0.5431666374206543\n"
     ]
    },
    {
     "name": "stderr",
     "output_type": "stream",
     "text": [
      "2022-08-03 02:12:44.894842: I tensorflow/core/grappler/optimizers/custom_graph_optimizer_registry.cc:113] Plugin optimizer for device_type GPU is enabled.\n",
      "2022-08-03 02:13:15.192827: I tensorflow/core/grappler/optimizers/custom_graph_optimizer_registry.cc:113] Plugin optimizer for device_type GPU is enabled.\n",
      "\u001b[32m[I 2022-08-03 02:13:16,281]\u001b[0m Trial 63 finished with value: 0.8492894768714905 and parameters: {'learning_rate': 0.007595633582787414, 'hidden_layer_size1': 664, 'kernel_regularizer': 8.308461773793664e-06, 'bias_regularizer': 6.238302231684122e-05, 'activity_regularizer': 1.698727957539308e-05, 'dropout': 0.02534551176874578}. Best is trial 41 with value: 0.9175162315368652.\u001b[0m\n"
     ]
    },
    {
     "name": "stdout",
     "output_type": "stream",
     "text": [
      "F1 Score: 0.8492894768714905; Loss=0.6558790802955627\n"
     ]
    },
    {
     "name": "stderr",
     "output_type": "stream",
     "text": [
      "2022-08-03 02:13:17.442870: I tensorflow/core/grappler/optimizers/custom_graph_optimizer_registry.cc:113] Plugin optimizer for device_type GPU is enabled.\n",
      "2022-08-03 02:13:52.621503: I tensorflow/core/grappler/optimizers/custom_graph_optimizer_registry.cc:113] Plugin optimizer for device_type GPU is enabled.\n",
      "\u001b[32m[I 2022-08-03 02:13:53,779]\u001b[0m Trial 64 finished with value: 0.9110651016235352 and parameters: {'learning_rate': 0.008566422595493306, 'hidden_layer_size1': 759, 'kernel_regularizer': 1.9524418926063066e-07, 'bias_regularizer': 5.4893585028560634e-05, 'activity_regularizer': 2.9164440371540605e-05, 'dropout': 0.029212639544266977}. Best is trial 41 with value: 0.9175162315368652.\u001b[0m\n"
     ]
    },
    {
     "name": "stdout",
     "output_type": "stream",
     "text": [
      "F1 Score: 0.9110651016235352; Loss=0.4099820852279663\n"
     ]
    },
    {
     "name": "stderr",
     "output_type": "stream",
     "text": [
      "2022-08-03 02:13:54.951459: I tensorflow/core/grappler/optimizers/custom_graph_optimizer_registry.cc:113] Plugin optimizer for device_type GPU is enabled.\n",
      "2022-08-03 02:14:29.493751: I tensorflow/core/grappler/optimizers/custom_graph_optimizer_registry.cc:113] Plugin optimizer for device_type GPU is enabled.\n",
      "\u001b[32m[I 2022-08-03 02:14:30,829]\u001b[0m Trial 65 finished with value: 0.7949463129043579 and parameters: {'learning_rate': 0.00872640329834129, 'hidden_layer_size1': 589, 'kernel_regularizer': 1.6485432714055246e-05, 'bias_regularizer': 5.919946511919847e-05, 'activity_regularizer': 3.1156258846346895e-05, 'dropout': 0.0183433922826503}. Best is trial 41 with value: 0.9175162315368652.\u001b[0m\n"
     ]
    },
    {
     "name": "stdout",
     "output_type": "stream",
     "text": [
      "F1 Score: 0.7949463129043579; Loss=0.7838916778564453\n"
     ]
    },
    {
     "name": "stderr",
     "output_type": "stream",
     "text": [
      "2022-08-03 02:14:32.320407: I tensorflow/core/grappler/optimizers/custom_graph_optimizer_registry.cc:113] Plugin optimizer for device_type GPU is enabled.\n",
      "2022-08-03 02:15:14.438706: I tensorflow/core/grappler/optimizers/custom_graph_optimizer_registry.cc:113] Plugin optimizer for device_type GPU is enabled.\n",
      "\u001b[32m[I 2022-08-03 02:15:15,861]\u001b[0m Trial 66 finished with value: 0.8771086931228638 and parameters: {'learning_rate': 0.009599974347727613, 'hidden_layer_size1': 749, 'kernel_regularizer': 3.915805948021814e-06, 'bias_regularizer': 5.3833416224713507e-05, 'activity_regularizer': 2.7256242737909706e-05, 'dropout': 5.3556413873816905e-05}. Best is trial 41 with value: 0.9175162315368652.\u001b[0m\n"
     ]
    },
    {
     "name": "stdout",
     "output_type": "stream",
     "text": [
      "F1 Score: 0.8771086931228638; Loss=0.5677480101585388\n"
     ]
    },
    {
     "name": "stderr",
     "output_type": "stream",
     "text": [
      "2022-08-03 02:15:18.213558: I tensorflow/core/grappler/optimizers/custom_graph_optimizer_registry.cc:113] Plugin optimizer for device_type GPU is enabled.\n",
      "2022-08-03 02:16:08.792048: I tensorflow/core/grappler/optimizers/custom_graph_optimizer_registry.cc:113] Plugin optimizer for device_type GPU is enabled.\n",
      "\u001b[32m[I 2022-08-03 02:16:10,635]\u001b[0m Trial 67 finished with value: 0.739303469657898 and parameters: {'learning_rate': 0.008299296941514477, 'hidden_layer_size1': 781, 'kernel_regularizer': 5.422213645024757e-05, 'bias_regularizer': 6.831589672311665e-05, 'activity_regularizer': 3.978746201965778e-05, 'dropout': 0.007335635443846269}. Best is trial 41 with value: 0.9175162315368652.\u001b[0m\n"
     ]
    },
    {
     "name": "stdout",
     "output_type": "stream",
     "text": [
      "F1 Score: 0.739303469657898; Loss=1.099908709526062\n"
     ]
    },
    {
     "name": "stderr",
     "output_type": "stream",
     "text": [
      "2022-08-03 02:16:12.188415: I tensorflow/core/grappler/optimizers/custom_graph_optimizer_registry.cc:113] Plugin optimizer for device_type GPU is enabled.\n",
      "2022-08-03 02:17:04.854499: I tensorflow/core/grappler/optimizers/custom_graph_optimizer_registry.cc:113] Plugin optimizer for device_type GPU is enabled.\n",
      "\u001b[32m[I 2022-08-03 02:17:06,520]\u001b[0m Trial 68 finished with value: 0.9026196002960205 and parameters: {'learning_rate': 0.006718005991719917, 'hidden_layer_size1': 822, 'kernel_regularizer': 7.662491436808679e-08, 'bias_regularizer': 3.611947560330878e-05, 'activity_regularizer': 5.702912395007454e-06, 'dropout': 0.029932682667327445}. Best is trial 41 with value: 0.9175162315368652.\u001b[0m\n"
     ]
    },
    {
     "name": "stdout",
     "output_type": "stream",
     "text": [
      "F1 Score: 0.9026196002960205; Loss=0.393276572227478\n"
     ]
    },
    {
     "name": "stderr",
     "output_type": "stream",
     "text": [
      "2022-08-03 02:17:08.336721: I tensorflow/core/grappler/optimizers/custom_graph_optimizer_registry.cc:113] Plugin optimizer for device_type GPU is enabled.\n",
      "2022-08-03 02:18:02.309929: I tensorflow/core/grappler/optimizers/custom_graph_optimizer_registry.cc:113] Plugin optimizer for device_type GPU is enabled.\n",
      "\u001b[32m[I 2022-08-03 02:18:04,518]\u001b[0m Trial 69 finished with value: 0.8193079233169556 and parameters: {'learning_rate': 0.00915284669461303, 'hidden_layer_size1': 624, 'kernel_regularizer': 1.1986860164292771e-05, 'bias_regularizer': 7.506450834783248e-05, 'activity_regularizer': 1.8802688639989448e-05, 'dropout': 0.02359154080345175}. Best is trial 41 with value: 0.9175162315368652.\u001b[0m\n"
     ]
    },
    {
     "name": "stdout",
     "output_type": "stream",
     "text": [
      "F1 Score: 0.8193079233169556; Loss=0.7303360104560852\n"
     ]
    },
    {
     "name": "stderr",
     "output_type": "stream",
     "text": [
      "2022-08-03 02:18:06.516962: I tensorflow/core/grappler/optimizers/custom_graph_optimizer_registry.cc:113] Plugin optimizer for device_type GPU is enabled.\n",
      "2022-08-03 02:19:09.300273: I tensorflow/core/grappler/optimizers/custom_graph_optimizer_registry.cc:113] Plugin optimizer for device_type GPU is enabled.\n",
      "\u001b[32m[I 2022-08-03 02:19:11,355]\u001b[0m Trial 70 finished with value: 0.8341599702835083 and parameters: {'learning_rate': 0.006416837257225673, 'hidden_layer_size1': 858, 'kernel_regularizer': 7.474340270951774e-06, 'bias_regularizer': 4.5211815297694236e-05, 'activity_regularizer': 3.768969410160394e-05, 'dropout': 0.042491754023667554}. Best is trial 41 with value: 0.9175162315368652.\u001b[0m\n"
     ]
    },
    {
     "name": "stdout",
     "output_type": "stream",
     "text": [
      "F1 Score: 0.8341599702835083; Loss=0.6542094945907593\n"
     ]
    },
    {
     "name": "stderr",
     "output_type": "stream",
     "text": [
      "2022-08-03 02:19:13.398654: I tensorflow/core/grappler/optimizers/custom_graph_optimizer_registry.cc:113] Plugin optimizer for device_type GPU is enabled.\n",
      "2022-08-03 02:20:13.934928: I tensorflow/core/grappler/optimizers/custom_graph_optimizer_registry.cc:113] Plugin optimizer for device_type GPU is enabled.\n",
      "\u001b[32m[I 2022-08-03 02:20:15,816]\u001b[0m Trial 71 finished with value: 0.892212986946106 and parameters: {'learning_rate': 0.00776425982514965, 'hidden_layer_size1': 725, 'kernel_regularizer': 3.1279444791029923e-06, 'bias_regularizer': 4.892459033696616e-05, 'activity_regularizer': 2.4509642932186055e-05, 'dropout': 0.033080987318897984}. Best is trial 41 with value: 0.9175162315368652.\u001b[0m\n"
     ]
    },
    {
     "name": "stdout",
     "output_type": "stream",
     "text": [
      "F1 Score: 0.892212986946106; Loss=0.5429368019104004\n"
     ]
    },
    {
     "name": "stderr",
     "output_type": "stream",
     "text": [
      "2022-08-03 02:20:17.860468: I tensorflow/core/grappler/optimizers/custom_graph_optimizer_registry.cc:113] Plugin optimizer for device_type GPU is enabled.\n",
      "2022-08-03 02:21:14.958233: I tensorflow/core/grappler/optimizers/custom_graph_optimizer_registry.cc:113] Plugin optimizer for device_type GPU is enabled.\n",
      "\u001b[32m[I 2022-08-03 02:21:17,232]\u001b[0m Trial 72 finished with value: 0.8915830850601196 and parameters: {'learning_rate': 0.007324445536854232, 'hidden_layer_size1': 658, 'kernel_regularizer': 2.5216332512569256e-06, 'bias_regularizer': 5.5878503962498566e-05, 'activity_regularizer': 9.828186826249116e-05, 'dropout': 0.02074148221925979}. Best is trial 41 with value: 0.9175162315368652.\u001b[0m\n"
     ]
    },
    {
     "name": "stdout",
     "output_type": "stream",
     "text": [
      "F1 Score: 0.8915830850601196; Loss=0.536164402961731\n"
     ]
    },
    {
     "name": "stderr",
     "output_type": "stream",
     "text": [
      "2022-08-03 02:21:20.286996: I tensorflow/core/grappler/optimizers/custom_graph_optimizer_registry.cc:113] Plugin optimizer for device_type GPU is enabled.\n",
      "2022-08-03 02:22:21.647777: I tensorflow/core/grappler/optimizers/custom_graph_optimizer_registry.cc:113] Plugin optimizer for device_type GPU is enabled.\n",
      "\u001b[32m[I 2022-08-03 02:22:24,089]\u001b[0m Trial 73 finished with value: 0.8203400373458862 and parameters: {'learning_rate': 0.008506821404856361, 'hidden_layer_size1': 800, 'kernel_regularizer': 1.104861135606593e-05, 'bias_regularizer': 6.044562594346584e-05, 'activity_regularizer': 3.013974669767739e-05, 'dropout': 0.010815495401063947}. Best is trial 41 with value: 0.9175162315368652.\u001b[0m\n"
     ]
    },
    {
     "name": "stdout",
     "output_type": "stream",
     "text": [
      "F1 Score: 0.8203400373458862; Loss=0.7145030498504639\n"
     ]
    },
    {
     "name": "stderr",
     "output_type": "stream",
     "text": [
      "2022-08-03 02:22:25.766349: I tensorflow/core/grappler/optimizers/custom_graph_optimizer_registry.cc:113] Plugin optimizer for device_type GPU is enabled.\n",
      "2022-08-03 02:23:18.072616: I tensorflow/core/grappler/optimizers/custom_graph_optimizer_registry.cc:113] Plugin optimizer for device_type GPU is enabled.\n",
      "\u001b[32m[I 2022-08-03 02:23:19,926]\u001b[0m Trial 74 finished with value: 0.7357776165008545 and parameters: {'learning_rate': 0.007939129843517613, 'hidden_layer_size1': 694, 'kernel_regularizer': 4.482218499320311e-05, 'bias_regularizer': 5.017125599005557e-05, 'activity_regularizer': 1.1069474228826298e-05, 'dropout': 0.015105806221489122}. Best is trial 41 with value: 0.9175162315368652.\u001b[0m\n"
     ]
    },
    {
     "name": "stdout",
     "output_type": "stream",
     "text": [
      "F1 Score: 0.7357776165008545; Loss=1.0327885150909424\n"
     ]
    },
    {
     "name": "stderr",
     "output_type": "stream",
     "text": [
      "2022-08-03 02:23:21.366422: I tensorflow/core/grappler/optimizers/custom_graph_optimizer_registry.cc:113] Plugin optimizer for device_type GPU is enabled.\n",
      "2022-08-03 02:24:15.964921: I tensorflow/core/grappler/optimizers/custom_graph_optimizer_registry.cc:113] Plugin optimizer for device_type GPU is enabled.\n",
      "\u001b[32m[I 2022-08-03 02:24:17,526]\u001b[0m Trial 75 finished with value: 0.9229278564453125 and parameters: {'learning_rate': 0.008842046029948113, 'hidden_layer_size1': 735, 'kernel_regularizer': 3.25276114331844e-08, 'bias_regularizer': 5.484746504195214e-05, 'activity_regularizer': 9.161273662322264e-05, 'dropout': 0.03432482015904013}. Best is trial 75 with value: 0.9229278564453125.\u001b[0m\n"
     ]
    },
    {
     "name": "stdout",
     "output_type": "stream",
     "text": [
      "F1 Score: 0.9229278564453125; Loss=0.3802984654903412\n"
     ]
    },
    {
     "name": "stderr",
     "output_type": "stream",
     "text": [
      "2022-08-03 02:24:19.076348: I tensorflow/core/grappler/optimizers/custom_graph_optimizer_registry.cc:113] Plugin optimizer for device_type GPU is enabled.\n",
      "2022-08-03 02:25:13.977086: I tensorflow/core/grappler/optimizers/custom_graph_optimizer_registry.cc:113] Plugin optimizer for device_type GPU is enabled.\n",
      "\u001b[32m[I 2022-08-03 02:25:15,398]\u001b[0m Trial 76 finished with value: 0.7033628225326538 and parameters: {'learning_rate': 0.008796300363895452, 'hidden_layer_size1': 749, 'kernel_regularizer': 7.45697019753282e-05, 'bias_regularizer': 6.36309287883032e-05, 'activity_regularizer': 9.34109306764016e-05, 'dropout': 0.035690708057614914}. Best is trial 75 with value: 0.9229278564453125.\u001b[0m\n"
     ]
    },
    {
     "name": "stdout",
     "output_type": "stream",
     "text": [
      "F1 Score: 0.7033628225326538; Loss=1.1957941055297852\n"
     ]
    },
    {
     "name": "stderr",
     "output_type": "stream",
     "text": [
      "2022-08-03 02:25:17.110073: I tensorflow/core/grappler/optimizers/custom_graph_optimizer_registry.cc:113] Plugin optimizer for device_type GPU is enabled.\n",
      "2022-08-03 02:26:13.993303: I tensorflow/core/grappler/optimizers/custom_graph_optimizer_registry.cc:113] Plugin optimizer for device_type GPU is enabled.\n",
      "\u001b[32m[I 2022-08-03 02:26:15,625]\u001b[0m Trial 77 finished with value: 0.8369884490966797 and parameters: {'learning_rate': 0.009725353557194932, 'hidden_layer_size1': 870, 'kernel_regularizer': 6.53346095974333e-06, 'bias_regularizer': 5.409349097569139e-05, 'activity_regularizer': 1.217041224621034e-05, 'dropout': 0.028651340468318517}. Best is trial 75 with value: 0.9229278564453125.\u001b[0m\n"
     ]
    },
    {
     "name": "stdout",
     "output_type": "stream",
     "text": [
      "F1 Score: 0.8369884490966797; Loss=0.6543924808502197\n"
     ]
    },
    {
     "name": "stderr",
     "output_type": "stream",
     "text": [
      "2022-08-03 02:26:17.205813: I tensorflow/core/grappler/optimizers/custom_graph_optimizer_registry.cc:113] Plugin optimizer for device_type GPU is enabled.\n",
      "2022-08-03 02:26:58.062553: I tensorflow/core/grappler/optimizers/custom_graph_optimizer_registry.cc:113] Plugin optimizer for device_type GPU is enabled.\n",
      "\u001b[32m[I 2022-08-03 02:26:59,795]\u001b[0m Trial 78 finished with value: 0.8169569969177246 and parameters: {'learning_rate': 0.00913551829909339, 'hidden_layer_size1': 282, 'kernel_regularizer': 9.495148151263777e-06, 'bias_regularizer': 9.738369746742167e-05, 'activity_regularizer': 6.456105645405264e-05, 'dropout': 0.04000929641924831}. Best is trial 75 with value: 0.9229278564453125.\u001b[0m\n"
     ]
    },
    {
     "name": "stdout",
     "output_type": "stream",
     "text": [
      "F1 Score: 0.8169569969177246; Loss=0.7054212689399719\n"
     ]
    },
    {
     "name": "stderr",
     "output_type": "stream",
     "text": [
      "2022-08-03 02:27:01.260336: I tensorflow/core/grappler/optimizers/custom_graph_optimizer_registry.cc:113] Plugin optimizer for device_type GPU is enabled.\n",
      "2022-08-03 02:27:55.566951: I tensorflow/core/grappler/optimizers/custom_graph_optimizer_registry.cc:113] Plugin optimizer for device_type GPU is enabled.\n",
      "\u001b[32m[I 2022-08-03 02:27:57,316]\u001b[0m Trial 79 finished with value: 0.9188627004623413 and parameters: {'learning_rate': 0.00829000181640872, 'hidden_layer_size1': 803, 'kernel_regularizer': 3.176632579134655e-08, 'bias_regularizer': 5.7722011499055554e-05, 'activity_regularizer': 9.00999528128364e-05, 'dropout': 0.01916118205283035}. Best is trial 75 with value: 0.9229278564453125.\u001b[0m\n"
     ]
    },
    {
     "name": "stdout",
     "output_type": "stream",
     "text": [
      "F1 Score: 0.9188627004623413; Loss=0.37616434693336487\n"
     ]
    },
    {
     "name": "stderr",
     "output_type": "stream",
     "text": [
      "2022-08-03 02:27:58.782393: I tensorflow/core/grappler/optimizers/custom_graph_optimizer_registry.cc:113] Plugin optimizer for device_type GPU is enabled.\n",
      "2022-08-03 02:28:44.934682: I tensorflow/core/grappler/optimizers/custom_graph_optimizer_registry.cc:113] Plugin optimizer for device_type GPU is enabled.\n",
      "\u001b[32m[I 2022-08-03 02:28:46,448]\u001b[0m Trial 80 finished with value: 0.7801491618156433 and parameters: {'learning_rate': 0.009466513608261415, 'hidden_layer_size1': 568, 'kernel_regularizer': 2.0337120340886638e-05, 'bias_regularizer': 5.770445171692238e-05, 'activity_regularizer': 9.100543641275325e-05, 'dropout': 0.019555661255260523}. Best is trial 75 with value: 0.9229278564453125.\u001b[0m\n"
     ]
    },
    {
     "name": "stdout",
     "output_type": "stream",
     "text": [
      "F1 Score: 0.7801491618156433; Loss=0.8377339839935303\n"
     ]
    },
    {
     "name": "stderr",
     "output_type": "stream",
     "text": [
      "2022-08-03 02:28:48.265861: I tensorflow/core/grappler/optimizers/custom_graph_optimizer_registry.cc:113] Plugin optimizer for device_type GPU is enabled.\n",
      "2022-08-03 02:29:40.969589: I tensorflow/core/grappler/optimizers/custom_graph_optimizer_registry.cc:113] Plugin optimizer for device_type GPU is enabled.\n",
      "\u001b[32m[I 2022-08-03 02:29:42,278]\u001b[0m Trial 81 finished with value: 0.9000285863876343 and parameters: {'learning_rate': 0.008169575113376324, 'hidden_layer_size1': 770, 'kernel_regularizer': 2.1253552672634243e-06, 'bias_regularizer': 6.148384637998783e-05, 'activity_regularizer': 8.615133433085492e-05, 'dropout': 0.02442469823350648}. Best is trial 75 with value: 0.9229278564453125.\u001b[0m\n"
     ]
    },
    {
     "name": "stdout",
     "output_type": "stream",
     "text": [
      "F1 Score: 0.9000285863876343; Loss=0.5113596320152283\n"
     ]
    },
    {
     "name": "stderr",
     "output_type": "stream",
     "text": [
      "2022-08-03 02:29:43.707892: I tensorflow/core/grappler/optimizers/custom_graph_optimizer_registry.cc:113] Plugin optimizer for device_type GPU is enabled.\n",
      "2022-08-03 02:30:33.632837: I tensorflow/core/grappler/optimizers/custom_graph_optimizer_registry.cc:113] Plugin optimizer for device_type GPU is enabled.\n",
      "\u001b[32m[I 2022-08-03 02:30:35,186]\u001b[0m Trial 82 finished with value: 0.9094074964523315 and parameters: {'learning_rate': 0.008538751026049507, 'hidden_layer_size1': 700, 'kernel_regularizer': 1.5490452091061765e-07, 'bias_regularizer': 6.542667509109661e-05, 'activity_regularizer': 9.59803850293058e-05, 'dropout': 0.029145643915350274}. Best is trial 75 with value: 0.9229278564453125.\u001b[0m\n"
     ]
    },
    {
     "name": "stdout",
     "output_type": "stream",
     "text": [
      "F1 Score: 0.9094074964523315; Loss=0.41185271739959717\n"
     ]
    },
    {
     "name": "stderr",
     "output_type": "stream",
     "text": [
      "2022-08-03 02:30:36.716703: I tensorflow/core/grappler/optimizers/custom_graph_optimizer_registry.cc:113] Plugin optimizer for device_type GPU is enabled.\n",
      "2022-08-03 02:31:27.942461: I tensorflow/core/grappler/optimizers/custom_graph_optimizer_registry.cc:113] Plugin optimizer for device_type GPU is enabled.\n",
      "\u001b[32m[I 2022-08-03 02:31:29,352]\u001b[0m Trial 83 finished with value: 0.8593405485153198 and parameters: {'learning_rate': 0.008554669658234433, 'hidden_layer_size1': 704, 'kernel_regularizer': 5.7080857797822525e-06, 'bias_regularizer': 5.3788223037861076e-05, 'activity_regularizer': 9.708326906685882e-05, 'dropout': 0.046247793382033935}. Best is trial 75 with value: 0.9229278564453125.\u001b[0m\n"
     ]
    },
    {
     "name": "stdout",
     "output_type": "stream",
     "text": [
      "F1 Score: 0.8593405485153198; Loss=0.6007339954376221\n"
     ]
    },
    {
     "name": "stderr",
     "output_type": "stream",
     "text": [
      "2022-08-03 02:31:30.802654: I tensorflow/core/grappler/optimizers/custom_graph_optimizer_registry.cc:113] Plugin optimizer for device_type GPU is enabled.\n",
      "2022-08-03 02:32:43.168637: I tensorflow/core/grappler/optimizers/custom_graph_optimizer_registry.cc:113] Plugin optimizer for device_type GPU is enabled.\n",
      "\u001b[32m[I 2022-08-03 02:32:44,698]\u001b[0m Trial 84 finished with value: 0.9132164120674133 and parameters: {'learning_rate': 0.00999073435790104, 'hidden_layer_size1': 670, 'kernel_regularizer': 1.497141632969562e-07, 'bias_regularizer': 6.943905225785219e-05, 'activity_regularizer': 9.199918912951546e-05, 'dropout': 0.05509676377593396}. Best is trial 75 with value: 0.9229278564453125.\u001b[0m\n"
     ]
    },
    {
     "name": "stdout",
     "output_type": "stream",
     "text": [
      "F1 Score: 0.9132164120674133; Loss=0.4015944302082062\n"
     ]
    },
    {
     "name": "stderr",
     "output_type": "stream",
     "text": [
      "2022-08-03 02:32:46.242804: I tensorflow/core/grappler/optimizers/custom_graph_optimizer_registry.cc:113] Plugin optimizer for device_type GPU is enabled.\n",
      "2022-08-03 02:33:37.359448: I tensorflow/core/grappler/optimizers/custom_graph_optimizer_registry.cc:113] Plugin optimizer for device_type GPU is enabled.\n",
      "\u001b[32m[I 2022-08-03 02:33:39,050]\u001b[0m Trial 85 finished with value: 0.8827431797981262 and parameters: {'learning_rate': 0.008982905229567668, 'hidden_layer_size1': 609, 'kernel_regularizer': 3.894309479001127e-06, 'bias_regularizer': 7.326468222733797e-05, 'activity_regularizer': 9.126379014350963e-05, 'dropout': 0.06006161749942125}. Best is trial 75 with value: 0.9229278564453125.\u001b[0m\n"
     ]
    },
    {
     "name": "stdout",
     "output_type": "stream",
     "text": [
      "F1 Score: 0.8827431797981262; Loss=0.5673998594284058\n"
     ]
    },
    {
     "name": "stderr",
     "output_type": "stream",
     "text": [
      "2022-08-03 02:33:40.442290: I tensorflow/core/grappler/optimizers/custom_graph_optimizer_registry.cc:113] Plugin optimizer for device_type GPU is enabled.\n",
      "2022-08-03 02:34:32.406326: I tensorflow/core/grappler/optimizers/custom_graph_optimizer_registry.cc:113] Plugin optimizer for device_type GPU is enabled.\n",
      "\u001b[32m[I 2022-08-03 02:34:34,253]\u001b[0m Trial 86 finished with value: 0.819725751876831 and parameters: {'learning_rate': 0.009792697774317832, 'hidden_layer_size1': 665, 'kernel_regularizer': 7.632670777023674e-06, 'bias_regularizer': 7.949217177846373e-05, 'activity_regularizer': 8.655623002247717e-05, 'dropout': 0.05444499266807451}. Best is trial 75 with value: 0.9229278564453125.\u001b[0m\n"
     ]
    },
    {
     "name": "stdout",
     "output_type": "stream",
     "text": [
      "F1 Score: 0.819725751876831; Loss=0.6702952980995178\n"
     ]
    },
    {
     "name": "stderr",
     "output_type": "stream",
     "text": [
      "2022-08-03 02:34:35.675832: I tensorflow/core/grappler/optimizers/custom_graph_optimizer_registry.cc:113] Plugin optimizer for device_type GPU is enabled.\n",
      "2022-08-03 02:35:33.362980: I tensorflow/core/grappler/optimizers/custom_graph_optimizer_registry.cc:113] Plugin optimizer for device_type GPU is enabled.\n",
      "\u001b[32m[I 2022-08-03 02:35:35,242]\u001b[0m Trial 87 finished with value: 0.891472339630127 and parameters: {'learning_rate': 0.009251120326922034, 'hidden_layer_size1': 802, 'kernel_regularizer': 2.5088696329470296e-06, 'bias_regularizer': 7.060004540598394e-05, 'activity_regularizer': 8.378211768139991e-05, 'dropout': 0.051629023064798815}. Best is trial 75 with value: 0.9229278564453125.\u001b[0m\n"
     ]
    },
    {
     "name": "stdout",
     "output_type": "stream",
     "text": [
      "F1 Score: 0.891472339630127; Loss=0.5187525153160095\n"
     ]
    },
    {
     "name": "stderr",
     "output_type": "stream",
     "text": [
      "2022-08-03 02:35:37.618248: I tensorflow/core/grappler/optimizers/custom_graph_optimizer_registry.cc:113] Plugin optimizer for device_type GPU is enabled.\n",
      "2022-08-03 02:36:30.769370: I tensorflow/core/grappler/optimizers/custom_graph_optimizer_registry.cc:113] Plugin optimizer for device_type GPU is enabled.\n",
      "\u001b[32m[I 2022-08-03 02:36:32,571]\u001b[0m Trial 88 finished with value: 0.7994980812072754 and parameters: {'learning_rate': 0.008841878756918496, 'hidden_layer_size1': 640, 'kernel_regularizer': 1.508941925214537e-05, 'bias_regularizer': 5.703176825077504e-05, 'activity_regularizer': 2.3451834569203536e-05, 'dropout': 0.05686893090105426}. Best is trial 75 with value: 0.9229278564453125.\u001b[0m\n"
     ]
    },
    {
     "name": "stdout",
     "output_type": "stream",
     "text": [
      "F1 Score: 0.7994980812072754; Loss=0.7795683145523071\n"
     ]
    },
    {
     "name": "stderr",
     "output_type": "stream",
     "text": [
      "2022-08-03 02:36:33.962250: I tensorflow/core/grappler/optimizers/custom_graph_optimizer_registry.cc:113] Plugin optimizer for device_type GPU is enabled.\n",
      "2022-08-03 02:37:32.021781: I tensorflow/core/grappler/optimizers/custom_graph_optimizer_registry.cc:113] Plugin optimizer for device_type GPU is enabled.\n",
      "\u001b[32m[I 2022-08-03 02:37:33,749]\u001b[0m Trial 89 finished with value: 0.8524589538574219 and parameters: {'learning_rate': 0.009902024578629908, 'hidden_layer_size1': 745, 'kernel_regularizer': 5.630588362972557e-06, 'bias_regularizer': 6.549331439398087e-05, 'activity_regularizer': 7.849541043081562e-05, 'dropout': 0.016440530094802598}. Best is trial 75 with value: 0.9229278564453125.\u001b[0m\n"
     ]
    },
    {
     "name": "stdout",
     "output_type": "stream",
     "text": [
      "F1 Score: 0.8524589538574219; Loss=0.6211036443710327\n"
     ]
    },
    {
     "name": "stderr",
     "output_type": "stream",
     "text": [
      "2022-08-03 02:37:35.249003: I tensorflow/core/grappler/optimizers/custom_graph_optimizer_registry.cc:113] Plugin optimizer for device_type GPU is enabled.\n",
      "2022-08-03 02:38:30.091943: I tensorflow/core/grappler/optimizers/custom_graph_optimizer_registry.cc:113] Plugin optimizer for device_type GPU is enabled.\n",
      "\u001b[32m[I 2022-08-03 02:38:31,872]\u001b[0m Trial 90 finished with value: 0.7632842659950256 and parameters: {'learning_rate': 0.0019101294467942492, 'hidden_layer_size1': 680, 'kernel_regularizer': 1.0813269332415135e-05, 'bias_regularizer': 4.3024330298743536e-05, 'activity_regularizer': 9.298011234257343e-05, 'dropout': 0.06158295930606193}. Best is trial 75 with value: 0.9229278564453125.\u001b[0m\n"
     ]
    },
    {
     "name": "stdout",
     "output_type": "stream",
     "text": [
      "F1 Score: 0.7632842659950256; Loss=0.9301891326904297\n"
     ]
    },
    {
     "name": "stderr",
     "output_type": "stream",
     "text": [
      "2022-08-03 02:38:33.522324: I tensorflow/core/grappler/optimizers/custom_graph_optimizer_registry.cc:113] Plugin optimizer for device_type GPU is enabled.\n",
      "2022-08-03 02:39:47.935805: I tensorflow/core/grappler/optimizers/custom_graph_optimizer_registry.cc:113] Plugin optimizer for device_type GPU is enabled.\n",
      "\u001b[32m[I 2022-08-03 02:39:49,420]\u001b[0m Trial 91 finished with value: 0.9188627004623413 and parameters: {'learning_rate': 0.008229844943411606, 'hidden_layer_size1': 721, 'kernel_regularizer': 5.519063421253214e-08, 'bias_regularizer': 6.884829895469909e-05, 'activity_regularizer': 9.558160115321353e-05, 'dropout': 0.029685675364203138}. Best is trial 75 with value: 0.9229278564453125.\u001b[0m\n"
     ]
    },
    {
     "name": "stdout",
     "output_type": "stream",
     "text": [
      "F1 Score: 0.9188627004623413; Loss=0.38378316164016724\n"
     ]
    },
    {
     "name": "stderr",
     "output_type": "stream",
     "text": [
      "2022-08-03 02:39:51.071962: I tensorflow/core/grappler/optimizers/custom_graph_optimizer_registry.cc:113] Plugin optimizer for device_type GPU is enabled.\n",
      "2022-08-03 02:40:47.403150: I tensorflow/core/grappler/optimizers/custom_graph_optimizer_registry.cc:113] Plugin optimizer for device_type GPU is enabled.\n",
      "\u001b[32m[I 2022-08-03 02:40:49,386]\u001b[0m Trial 92 finished with value: 0.9151002168655396 and parameters: {'learning_rate': 0.007655440047927782, 'hidden_layer_size1': 720, 'kernel_regularizer': 1.4148541524498064e-07, 'bias_regularizer': 5.155304058655158e-05, 'activity_regularizer': 8.968200056811195e-05, 'dropout': 0.034442724791775146}. Best is trial 75 with value: 0.9229278564453125.\u001b[0m\n"
     ]
    },
    {
     "name": "stdout",
     "output_type": "stream",
     "text": [
      "F1 Score: 0.9151002168655396; Loss=0.4173268973827362\n"
     ]
    },
    {
     "name": "stderr",
     "output_type": "stream",
     "text": [
      "2022-08-03 02:40:50.863145: I tensorflow/core/grappler/optimizers/custom_graph_optimizer_registry.cc:113] Plugin optimizer for device_type GPU is enabled.\n",
      "2022-08-03 02:41:51.774065: I tensorflow/core/grappler/optimizers/custom_graph_optimizer_registry.cc:113] Plugin optimizer for device_type GPU is enabled.\n",
      "\u001b[32m[I 2022-08-03 02:41:54,056]\u001b[0m Trial 93 finished with value: 0.8846293687820435 and parameters: {'learning_rate': 0.009968837190496335, 'hidden_layer_size1': 719, 'kernel_regularizer': 2.5991083273966766e-06, 'bias_regularizer': 6.874957195424796e-05, 'activity_regularizer': 8.846550202251861e-05, 'dropout': 0.03670242391090003}. Best is trial 75 with value: 0.9229278564453125.\u001b[0m\n"
     ]
    },
    {
     "name": "stdout",
     "output_type": "stream",
     "text": [
      "F1 Score: 0.8846293687820435; Loss=0.5336959958076477\n"
     ]
    },
    {
     "name": "stderr",
     "output_type": "stream",
     "text": [
      "2022-08-03 02:41:55.582445: I tensorflow/core/grappler/optimizers/custom_graph_optimizer_registry.cc:113] Plugin optimizer for device_type GPU is enabled.\n",
      "2022-08-03 02:42:55.809267: I tensorflow/core/grappler/optimizers/custom_graph_optimizer_registry.cc:113] Plugin optimizer for device_type GPU is enabled.\n",
      "\u001b[32m[I 2022-08-03 02:42:57,773]\u001b[0m Trial 94 finished with value: 0.8611912727355957 and parameters: {'learning_rate': 0.008210789875188874, 'hidden_layer_size1': 778, 'kernel_regularizer': 5.441965831161608e-06, 'bias_regularizer': 5.116737909167317e-05, 'activity_regularizer': 5.7793145027132285e-05, 'dropout': 0.047198938854372055}. Best is trial 75 with value: 0.9229278564453125.\u001b[0m\n"
     ]
    },
    {
     "name": "stdout",
     "output_type": "stream",
     "text": [
      "F1 Score: 0.8611912727355957; Loss=0.5933899283409119\n"
     ]
    },
    {
     "name": "stderr",
     "output_type": "stream",
     "text": [
      "2022-08-03 02:43:00.127295: I tensorflow/core/grappler/optimizers/custom_graph_optimizer_registry.cc:113] Plugin optimizer for device_type GPU is enabled.\n",
      "2022-08-03 02:44:23.380457: I tensorflow/core/grappler/optimizers/custom_graph_optimizer_registry.cc:113] Plugin optimizer for device_type GPU is enabled.\n",
      "\u001b[32m[I 2022-08-03 02:44:25,279]\u001b[0m Trial 95 finished with value: 0.9039143323898315 and parameters: {'learning_rate': 0.009402193216545698, 'hidden_layer_size1': 759, 'kernel_regularizer': 1.5450846975588407e-06, 'bias_regularizer': 6.041499264647175e-05, 'activity_regularizer': 8.960734836335146e-05, 'dropout': 0.04038492959056429}. Best is trial 75 with value: 0.9229278564453125.\u001b[0m\n"
     ]
    },
    {
     "name": "stdout",
     "output_type": "stream",
     "text": [
      "F1 Score: 0.9039143323898315; Loss=0.48229026794433594\n"
     ]
    },
    {
     "name": "stderr",
     "output_type": "stream",
     "text": [
      "2022-08-03 02:44:26.967452: I tensorflow/core/grappler/optimizers/custom_graph_optimizer_registry.cc:113] Plugin optimizer for device_type GPU is enabled.\n",
      "2022-08-03 02:45:30.305165: I tensorflow/core/grappler/optimizers/custom_graph_optimizer_registry.cc:113] Plugin optimizer for device_type GPU is enabled.\n",
      "\u001b[32m[I 2022-08-03 02:45:32,517]\u001b[0m Trial 96 finished with value: 0.8205235004425049 and parameters: {'learning_rate': 0.00898589614790736, 'hidden_layer_size1': 821, 'kernel_regularizer': 9.101544149854483e-06, 'bias_regularizer': 6.422436935132626e-05, 'activity_regularizer': 9.900742596335054e-05, 'dropout': 0.006570060741069188}. Best is trial 75 with value: 0.9229278564453125.\u001b[0m\n"
     ]
    },
    {
     "name": "stdout",
     "output_type": "stream",
     "text": [
      "F1 Score: 0.8205235004425049; Loss=0.6967028379440308\n"
     ]
    },
    {
     "name": "stderr",
     "output_type": "stream",
     "text": [
      "2022-08-03 02:45:33.900106: I tensorflow/core/grappler/optimizers/custom_graph_optimizer_registry.cc:113] Plugin optimizer for device_type GPU is enabled.\n",
      "2022-08-03 02:46:55.866090: I tensorflow/core/grappler/optimizers/custom_graph_optimizer_registry.cc:113] Plugin optimizer for device_type GPU is enabled.\n",
      "\u001b[32m[I 2022-08-03 02:46:57,935]\u001b[0m Trial 97 finished with value: 0.8689966797828674 and parameters: {'learning_rate': 0.00810637926397631, 'hidden_layer_size1': 729, 'kernel_regularizer': 4.81941454166848e-06, 'bias_regularizer': 5.801562300499266e-05, 'activity_regularizer': 9.447528691917685e-05, 'dropout': 0.05025461827600474}. Best is trial 75 with value: 0.9229278564453125.\u001b[0m\n"
     ]
    },
    {
     "name": "stdout",
     "output_type": "stream",
     "text": [
      "F1 Score: 0.8689966797828674; Loss=0.5892887115478516\n"
     ]
    },
    {
     "name": "stderr",
     "output_type": "stream",
     "text": [
      "2022-08-03 02:47:00.403246: I tensorflow/core/grappler/optimizers/custom_graph_optimizer_registry.cc:113] Plugin optimizer for device_type GPU is enabled.\n",
      "2022-08-03 02:48:07.897149: I tensorflow/core/grappler/optimizers/custom_graph_optimizer_registry.cc:113] Plugin optimizer for device_type GPU is enabled.\n",
      "\u001b[32m[I 2022-08-03 02:48:10,442]\u001b[0m Trial 98 finished with value: 0.8032995462417603 and parameters: {'learning_rate': 0.008705945709016753, 'hidden_layer_size1': 841, 'kernel_regularizer': 1.3062936761511166e-05, 'bias_regularizer': 5.4457552343703e-05, 'activity_regularizer': 8.410883539667867e-05, 'dropout': 0.034424406635207135}. Best is trial 75 with value: 0.9229278564453125.\u001b[0m\n"
     ]
    },
    {
     "name": "stdout",
     "output_type": "stream",
     "text": [
      "F1 Score: 0.8032995462417603; Loss=0.7634505033493042\n"
     ]
    },
    {
     "name": "stderr",
     "output_type": "stream",
     "text": [
      "2022-08-03 02:48:12.068638: I tensorflow/core/grappler/optimizers/custom_graph_optimizer_registry.cc:113] Plugin optimizer for device_type GPU is enabled.\n",
      "2022-08-03 02:49:39.412983: I tensorflow/core/grappler/optimizers/custom_graph_optimizer_registry.cc:113] Plugin optimizer for device_type GPU is enabled.\n",
      "\u001b[32m[I 2022-08-03 02:49:41,630]\u001b[0m Trial 99 finished with value: 0.9171270132064819 and parameters: {'learning_rate': 0.008354025242450897, 'hidden_layer_size1': 673, 'kernel_regularizer': 1.1125679365427548e-07, 'bias_regularizer': 7.318637596125882e-05, 'activity_regularizer': 9.150259045644493e-05, 'dropout': 0.044440481061509066}. Best is trial 75 with value: 0.9229278564453125.\u001b[0m\n"
     ]
    },
    {
     "name": "stdout",
     "output_type": "stream",
     "text": [
      "F1 Score: 0.9171270132064819; Loss=0.41011345386505127\n",
      "Number of finished trials: 100\n",
      "Best trial: {'learning_rate': 0.008842046029948113, 'hidden_layer_size1': 735, 'kernel_regularizer': 3.25276114331844e-08, 'bias_regularizer': 5.484746504195214e-05, 'activity_regularizer': 9.161273662322264e-05, 'dropout': 0.03432482015904013}\n"
     ]
    }
   ],
   "source": [
    "study_nn_1 = optuna.create_study(direction='maximize')\n",
    "study_nn_1.optimize(objective_1_layer, n_trials=100)\n",
    "\n",
    "print('Number of finished trials:', len(study_nn_1.trials))\n",
    "print('Best trial:', study_nn_1.best_trial.params)"
   ]
  },
  {
   "cell_type": "markdown",
   "id": "ef153f63-bd27-479f-b429-12be4f52157f",
   "metadata": {},
   "source": [
    "Best trial params:\n",
    "* {'learning_rate': 0.008842046029948113, 'hidden_layer_size1': 735, 'kernel_regularizer': 3.25276114331844e-08, 'bias_regularizer': 5.484746504195214e-05, 'activity_regularizer': 9.161273662322264e-05, 'dropout': 0.03432482015904013}"
   ]
  },
  {
   "cell_type": "code",
   "execution_count": null,
   "id": "b265726c-dd5b-4db8-8227-72cdfbf878e7",
   "metadata": {},
   "outputs": [],
   "source": []
  }
 ],
 "metadata": {
  "kernelspec": {
   "display_name": "Python 3 (ipykernel)",
   "language": "python",
   "name": "python3"
  },
  "language_info": {
   "codemirror_mode": {
    "name": "ipython",
    "version": 3
   },
   "file_extension": ".py",
   "mimetype": "text/x-python",
   "name": "python",
   "nbconvert_exporter": "python",
   "pygments_lexer": "ipython3",
   "version": "3.10.5"
  }
 },
 "nbformat": 4,
 "nbformat_minor": 5
}
