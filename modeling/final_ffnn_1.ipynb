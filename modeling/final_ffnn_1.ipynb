{
 "cells": [
  {
   "cell_type": "code",
   "execution_count": 1,
   "id": "b512f4d3-c74c-4847-a95e-132a25d1cd6f",
   "metadata": {},
   "outputs": [],
   "source": [
    "import os\n",
    "import sys\n",
    "module_path = os.path.abspath(os.path.join('..'))\n",
    "if module_path not in sys.path:\n",
    "    sys.path.append(module_path)\n",
    "\n",
    "from helpers import (get_training_observations, \n",
    "                     get_training_labels)\n",
    "import pandas as pd\n",
    "import numpy as np\n",
    "from joblib import dump\n",
    "from joblib import load\n",
    "\n",
    "# Model specific imports\n",
    "from sklearn.model_selection import train_test_split\n",
    "from sklearn.preprocessing import LabelEncoder\n",
    "from sklearn.metrics import accuracy_score, f1_score\n",
    "import matplotlib.pyplot as plt\n",
    "\n",
    "import tensorflow as tf\n",
    "import tensorflow_addons as tfa\n",
    "from tensorflow.keras import metrics\n",
    "tf.get_logger().setLevel('INFO')\n",
    "\n",
    "import optuna"
   ]
  },
  {
   "cell_type": "code",
   "execution_count": 4,
   "id": "b3a81fe3-6c84-4e51-9ad7-31bc4e78a1d4",
   "metadata": {},
   "outputs": [
    {
     "name": "stdout",
     "output_type": "stream",
     "text": [
      "Getting all training observations from 'metagenome_classification.db'...\n",
      "Getting all training labels from 'metagenome_classification.db'...\n"
     ]
    }
   ],
   "source": [
    "# Set up data\n",
    "x_train = get_training_observations()\n",
    "y_train = get_training_labels()\n",
    "le = load('../model_joblibs/final_labelEncoder.joblib')\n",
    "    \n",
    "y_train_transformed = le.transform(y_train['EMPO_3'])\n",
    "y_train_transformed\n",
    "\n",
    "x_tr, x_val, y_tr, y_val = train_test_split(x_train, y_train_transformed, test_size=0.2, random_state=0, stratify=y_train_transformed)   \n"
   ]
  },
  {
   "cell_type": "code",
   "execution_count": 5,
   "id": "b70d5f99-b4ae-4aae-b342-466f7c67f1ab",
   "metadata": {},
   "outputs": [],
   "source": [
    "K = tf.keras.backend\n",
    "\n",
    "def build_model(\n",
    "    activation='relu',\n",
    "    hidden_layer_sizes=[],\n",
    "    final_layer_activation='softmax',\n",
    "    dropout=0.0,\n",
    "    optimizer='Adam',\n",
    "    learning_rate=0.01,\n",
    "    kernel_regularizer=1e-5,\n",
    "    bias_regularizer=1e-5,\n",
    "    activity_regularizer=1e-5,\n",
    "    n_classes=15\n",
    "):\n",
    "    \"\"\"Build a multi-class logistic regression model using Keras.\n",
    "\n",
    "    Args:\n",
    "      n_classes: Number of output classes in the dataset.\n",
    "      hidden_layer_sizes: A list with the number of units in each hidden layer.\n",
    "      activation: The activation function to use for the hidden layers.\n",
    "      optimizer: The optimizer to use (SGD, Adam).\n",
    "      learning_rate: The desired learning rate for the optimizer.\n",
    "\n",
    "    Returns:\n",
    "      model: A tf.keras model (graph).\n",
    "    \"\"\"\n",
    "    tf.keras.backend.clear_session()\n",
    "    np.random.seed(0)\n",
    "    tf.random.set_seed(0)\n",
    "    model = tf.keras.Sequential()\n",
    "    model.add(tf.keras.layers.Flatten())\n",
    "    \n",
    "    for hidden_layer_size in hidden_layer_sizes:\n",
    "        if hidden_layer_size > n_classes:\n",
    "            model.add(tf.keras.layers.Dense(\n",
    "                hidden_layer_size,\n",
    "                activation=activation,\n",
    "                kernel_regularizer=tf.keras.regularizers.L2(kernel_regularizer),\n",
    "                bias_regularizer=tf.keras.regularizers.L2(bias_regularizer),\n",
    "                activity_regularizer=tf.keras.regularizers.L2(activity_regularizer)\n",
    "            ))\n",
    "            if dropout > 0:\n",
    "                model.add(tf.keras.layers.Dropout(dropout))\n",
    "\n",
    "    model.add(tf.keras.layers.Dense(\n",
    "        n_classes,\n",
    "        activation=final_layer_activation,\n",
    "        kernel_regularizer=tf.keras.regularizers.L2(kernel_regularizer),\n",
    "        bias_regularizer=tf.keras.regularizers.L2(bias_regularizer),\n",
    "        activity_regularizer=tf.keras.regularizers.L2(activity_regularizer)\n",
    "    ))\n",
    "    opt = None\n",
    "    if optimizer == \"SGD\":\n",
    "        opt = tf.keras.optimizers.SGD(learning_rate=learning_rate)\n",
    "    elif optimizer == \"Adam\":\n",
    "        opt = tf.keras.optimizers.Adam(learning_rate=learning_rate)\n",
    "    else:\n",
    "        raise f\"Unsupported optimizer, {optimizer}\"\n",
    "    model.compile(\n",
    "        loss=\"categorical_crossentropy\", optimizer=opt, \n",
    "        metrics=[tfa.metrics.F1Score(num_classes=15, average='weighted')]\n",
    "    )\n",
    "    return model\n",
    "    "
   ]
  },
  {
   "cell_type": "code",
   "execution_count": 6,
   "id": "2b89d716-c125-4678-960a-dabe2d66e73a",
   "metadata": {},
   "outputs": [],
   "source": [
    "def objective_1_layer(trial, x_tr=x_tr, x_val=x_val, y_tr=y_tr, y_val=y_val):\n",
    "    \n",
    "    # Set up XGBoost hyperparameter space\n",
    "    params = {\n",
    "        'learning_rate': trial.suggest_float('learning_rate', 0.0001, 0.01),\n",
    "        'hidden_layer_size1': trial.suggest_int('hidden_layer_size1', 0, 1024),\n",
    "        'kernel_regularizer': trial.suggest_float('kernel_regularizer', 1e-10, 1e-4),\n",
    "        'bias_regularizer': trial.suggest_float('bias_regularizer', 1e-10, 1e-4),\n",
    "        'activity_regularizer': trial.suggest_float('activity_regularizer', 1e-10, 1e-4),\n",
    "        'dropout': trial.suggest_float('dropout', 0, 0.1)\n",
    "    }\n",
    "    \n",
    "    hidden_layer_sizes = [params.pop('hidden_layer_size1')]\n",
    "    \n",
    "    y_tr_one_hot = K.one_hot(K.cast(y_tr, dtype='int64'), 15)\n",
    "    y_val_one_hot = K.one_hot(K.cast(y_val, dtype='int64'), 15)\n",
    "    \n",
    "    # Create model\n",
    "    nn = build_model(\n",
    "        **params,\n",
    "        n_classes=15,\n",
    "        optimizer='Adam',\n",
    "        final_layer_activation='softmax',\n",
    "        hidden_layer_sizes=hidden_layer_sizes\n",
    "    )\n",
    "    \n",
    "    # Fit model\n",
    "    nn.fit(x=x_tr,\n",
    "           y=y_tr_one_hot,\n",
    "           epochs=50,\n",
    "           batch_size=64,\n",
    "           verbose=0)\n",
    "    \n",
    "    evaluation = nn.evaluate(x=x_val, y=y_val_one_hot, verbose=0, return_dict=True)\n",
    "    f1_score = evaluation['f1_score']\n",
    "    loss = evaluation['loss']\n",
    "    \n",
    "    print(f'F1 Score: {f1_score}; Loss={loss}')\n",
    "    \n",
    "    return f1_score\n",
    "    "
   ]
  },
  {
   "cell_type": "code",
   "execution_count": 7,
   "id": "ebaada76-7bcb-4854-87a0-4b904aa47dd1",
   "metadata": {},
   "outputs": [
    {
     "name": "stderr",
     "output_type": "stream",
     "text": [
      "\u001b[32m[I 2022-08-03 12:27:33,886]\u001b[0m A new study created in memory with name: no-name-e01a18be-2164-4735-a53a-cca45992ccdd\u001b[0m\n",
      "2022-08-03 12:27:33.895479: I tensorflow/core/common_runtime/pluggable_device/pluggable_device_factory.cc:305] Could not identify NUMA node of platform GPU ID 0, defaulting to 0. Your kernel may not have been built with NUMA support.\n",
      "2022-08-03 12:27:33.895877: I tensorflow/core/common_runtime/pluggable_device/pluggable_device_factory.cc:271] Created TensorFlow device (/job:localhost/replica:0/task:0/device:GPU:0 with 0 MB memory) -> physical PluggableDevice (device: 0, name: METAL, pci bus id: <undefined>)\n",
      "2022-08-03 12:27:34.003207: W tensorflow/core/platform/profile_utils/cpu_utils.cc:128] Failed to get CPU frequency: 0 Hz\n"
     ]
    },
    {
     "name": "stdout",
     "output_type": "stream",
     "text": [
      "Metal device set to: Apple M1 Pro\n"
     ]
    },
    {
     "name": "stderr",
     "output_type": "stream",
     "text": [
      "2022-08-03 12:27:34.458202: I tensorflow/core/grappler/optimizers/custom_graph_optimizer_registry.cc:113] Plugin optimizer for device_type GPU is enabled.\n",
      "2022-08-03 12:27:45.545452: I tensorflow/core/grappler/optimizers/custom_graph_optimizer_registry.cc:113] Plugin optimizer for device_type GPU is enabled.\n",
      "\u001b[32m[I 2022-08-03 12:27:45,716]\u001b[0m Trial 0 finished with value: 0.7691457867622375 and parameters: {'learning_rate': 0.00953325013159356, 'hidden_layer_size1': 766, 'kernel_regularizer': 6.88890159678785e-05, 'bias_regularizer': 4.725846676750513e-05, 'activity_regularizer': 5.822785882696898e-05, 'dropout': 0.03081991436366728}. Best is trial 0 with value: 0.7691457867622375.\u001b[0m\n"
     ]
    },
    {
     "name": "stdout",
     "output_type": "stream",
     "text": [
      "F1 Score: 0.7691457867622375; Loss=1.0762218236923218\n"
     ]
    },
    {
     "name": "stderr",
     "output_type": "stream",
     "text": [
      "2022-08-03 12:27:46.040208: I tensorflow/core/grappler/optimizers/custom_graph_optimizer_registry.cc:113] Plugin optimizer for device_type GPU is enabled.\n",
      "2022-08-03 12:27:53.543880: I tensorflow/core/grappler/optimizers/custom_graph_optimizer_registry.cc:113] Plugin optimizer for device_type GPU is enabled.\n",
      "\u001b[32m[I 2022-08-03 12:27:53,699]\u001b[0m Trial 1 finished with value: 0.7330021858215332 and parameters: {'learning_rate': 0.00567869353715606, 'hidden_layer_size1': 136, 'kernel_regularizer': 3.3137920656898724e-05, 'bias_regularizer': 3.8474014255903916e-05, 'activity_regularizer': 2.8087369320368406e-05, 'dropout': 0.09083281167360414}. Best is trial 0 with value: 0.7691457867622375.\u001b[0m\n"
     ]
    },
    {
     "name": "stdout",
     "output_type": "stream",
     "text": [
      "F1 Score: 0.7330021858215332; Loss=1.0061240196228027\n"
     ]
    },
    {
     "name": "stderr",
     "output_type": "stream",
     "text": [
      "2022-08-03 12:27:54.021939: I tensorflow/core/grappler/optimizers/custom_graph_optimizer_registry.cc:113] Plugin optimizer for device_type GPU is enabled.\n",
      "2022-08-03 12:28:02.641178: I tensorflow/core/grappler/optimizers/custom_graph_optimizer_registry.cc:113] Plugin optimizer for device_type GPU is enabled.\n",
      "\u001b[32m[I 2022-08-03 12:28:02,805]\u001b[0m Trial 2 finished with value: 0.4139156937599182 and parameters: {'learning_rate': 0.001119388049820831, 'hidden_layer_size1': 371, 'kernel_regularizer': 9.557010148088613e-05, 'bias_regularizer': 2.7993256710995653e-05, 'activity_regularizer': 5.104135060117715e-05, 'dropout': 0.019227691150819695}. Best is trial 0 with value: 0.7691457867622375.\u001b[0m\n"
     ]
    },
    {
     "name": "stdout",
     "output_type": "stream",
     "text": [
      "F1 Score: 0.4139156937599182; Loss=1.5317661762237549\n"
     ]
    },
    {
     "name": "stderr",
     "output_type": "stream",
     "text": [
      "2022-08-03 12:28:03.124008: I tensorflow/core/grappler/optimizers/custom_graph_optimizer_registry.cc:113] Plugin optimizer for device_type GPU is enabled.\n",
      "2022-08-03 12:28:14.891834: I tensorflow/core/grappler/optimizers/custom_graph_optimizer_registry.cc:113] Plugin optimizer for device_type GPU is enabled.\n",
      "\u001b[32m[I 2022-08-03 12:28:15,055]\u001b[0m Trial 3 finished with value: 0.7647405862808228 and parameters: {'learning_rate': 0.009053330609951329, 'hidden_layer_size1': 831, 'kernel_regularizer': 7.340529138871866e-05, 'bias_regularizer': 2.9020441297061817e-05, 'activity_regularizer': 4.613098079255464e-05, 'dropout': 0.013449595430901053}. Best is trial 0 with value: 0.7691457867622375.\u001b[0m\n"
     ]
    },
    {
     "name": "stdout",
     "output_type": "stream",
     "text": [
      "F1 Score: 0.7647405862808228; Loss=1.0914604663848877\n"
     ]
    },
    {
     "name": "stderr",
     "output_type": "stream",
     "text": [
      "2022-08-03 12:28:15.370084: I tensorflow/core/grappler/optimizers/custom_graph_optimizer_registry.cc:113] Plugin optimizer for device_type GPU is enabled.\n",
      "2022-08-03 12:28:23.290563: I tensorflow/core/grappler/optimizers/custom_graph_optimizer_registry.cc:113] Plugin optimizer for device_type GPU is enabled.\n",
      "\u001b[32m[I 2022-08-03 12:28:23,444]\u001b[0m Trial 4 finished with value: 0.3129878044128418 and parameters: {'learning_rate': 0.0005237978409253735, 'hidden_layer_size1': 156, 'kernel_regularizer': 6.698764800876511e-05, 'bias_regularizer': 4.979145421364764e-05, 'activity_regularizer': 4.903013866424734e-05, 'dropout': 0.005814620819628547}. Best is trial 0 with value: 0.7691457867622375.\u001b[0m\n"
     ]
    },
    {
     "name": "stdout",
     "output_type": "stream",
     "text": [
      "F1 Score: 0.3129878044128418; Loss=1.7113032341003418\n"
     ]
    },
    {
     "name": "stderr",
     "output_type": "stream",
     "text": [
      "2022-08-03 12:28:23.764462: I tensorflow/core/grappler/optimizers/custom_graph_optimizer_registry.cc:113] Plugin optimizer for device_type GPU is enabled.\n",
      "2022-08-03 12:28:32.819945: I tensorflow/core/grappler/optimizers/custom_graph_optimizer_registry.cc:113] Plugin optimizer for device_type GPU is enabled.\n",
      "\u001b[32m[I 2022-08-03 12:28:33,003]\u001b[0m Trial 5 finished with value: 0.7202213406562805 and parameters: {'learning_rate': 0.0006049873563070423, 'hidden_layer_size1': 392, 'kernel_regularizer': 1.1781800271834088e-06, 'bias_regularizer': 6.955628450584698e-05, 'activity_regularizer': 2.6874721988111448e-05, 'dropout': 0.016660413353890912}. Best is trial 0 with value: 0.7691457867622375.\u001b[0m\n"
     ]
    },
    {
     "name": "stdout",
     "output_type": "stream",
     "text": [
      "F1 Score: 0.7202213406562805; Loss=1.0618144273757935\n"
     ]
    },
    {
     "name": "stderr",
     "output_type": "stream",
     "text": [
      "2022-08-03 12:28:33.319482: I tensorflow/core/grappler/optimizers/custom_graph_optimizer_registry.cc:113] Plugin optimizer for device_type GPU is enabled.\n",
      "2022-08-03 12:28:45.529884: I tensorflow/core/grappler/optimizers/custom_graph_optimizer_registry.cc:113] Plugin optimizer for device_type GPU is enabled.\n",
      "\u001b[32m[I 2022-08-03 12:28:45,700]\u001b[0m Trial 6 finished with value: 0.8485903739929199 and parameters: {'learning_rate': 0.006568749457397086, 'hidden_layer_size1': 841, 'kernel_regularizer': 8.652640076777465e-06, 'bias_regularizer': 7.849436577745566e-05, 'activity_regularizer': 7.207343181154565e-05, 'dropout': 0.097576568283383}. Best is trial 6 with value: 0.8485903739929199.\u001b[0m\n"
     ]
    },
    {
     "name": "stdout",
     "output_type": "stream",
     "text": [
      "F1 Score: 0.8485903739929199; Loss=0.6875369548797607\n"
     ]
    },
    {
     "name": "stderr",
     "output_type": "stream",
     "text": [
      "2022-08-03 12:28:46.138460: I tensorflow/core/grappler/optimizers/custom_graph_optimizer_registry.cc:113] Plugin optimizer for device_type GPU is enabled.\n",
      "2022-08-03 12:28:54.439212: I tensorflow/core/grappler/optimizers/custom_graph_optimizer_registry.cc:113] Plugin optimizer for device_type GPU is enabled.\n",
      "\u001b[32m[I 2022-08-03 12:28:54,607]\u001b[0m Trial 7 finished with value: 0.5839992761611938 and parameters: {'learning_rate': 0.002921798958193027, 'hidden_layer_size1': 219, 'kernel_regularizer': 8.736962927860188e-05, 'bias_regularizer': 4.6008615500502844e-05, 'activity_regularizer': 2.936653648252131e-05, 'dropout': 0.045162134506681696}. Best is trial 6 with value: 0.8485903739929199.\u001b[0m\n"
     ]
    },
    {
     "name": "stdout",
     "output_type": "stream",
     "text": [
      "F1 Score: 0.5839992761611938; Loss=1.3495854139328003\n"
     ]
    },
    {
     "name": "stderr",
     "output_type": "stream",
     "text": [
      "2022-08-03 12:28:54.912252: I tensorflow/core/grappler/optimizers/custom_graph_optimizer_registry.cc:113] Plugin optimizer for device_type GPU is enabled.\n",
      "2022-08-03 12:29:02.979025: I tensorflow/core/grappler/optimizers/custom_graph_optimizer_registry.cc:113] Plugin optimizer for device_type GPU is enabled.\n",
      "\u001b[32m[I 2022-08-03 12:29:03,169]\u001b[0m Trial 8 finished with value: 0.4332236349582672 and parameters: {'learning_rate': 0.0019677851740958078, 'hidden_layer_size1': 136, 'kernel_regularizer': 9.284826975727589e-05, 'bias_regularizer': 2.316075275386546e-05, 'activity_regularizer': 7.261644938656633e-06, 'dropout': 0.027357601641440944}. Best is trial 6 with value: 0.8485903739929199.\u001b[0m\n"
     ]
    },
    {
     "name": "stdout",
     "output_type": "stream",
     "text": [
      "F1 Score: 0.4332236349582672; Loss=1.4964319467544556\n"
     ]
    },
    {
     "name": "stderr",
     "output_type": "stream",
     "text": [
      "2022-08-03 12:29:03.485005: I tensorflow/core/grappler/optimizers/custom_graph_optimizer_registry.cc:113] Plugin optimizer for device_type GPU is enabled.\n",
      "2022-08-03 12:29:12.405150: I tensorflow/core/grappler/optimizers/custom_graph_optimizer_registry.cc:113] Plugin optimizer for device_type GPU is enabled.\n",
      "\u001b[32m[I 2022-08-03 12:29:12,576]\u001b[0m Trial 9 finished with value: 0.7173987627029419 and parameters: {'learning_rate': 0.006856700577902629, 'hidden_layer_size1': 309, 'kernel_regularizer': 7.458617615978578e-05, 'bias_regularizer': 4.1507966227865466e-05, 'activity_regularizer': 5.87767903538505e-05, 'dropout': 0.032693072163078984}. Best is trial 6 with value: 0.8485903739929199.\u001b[0m\n"
     ]
    },
    {
     "name": "stdout",
     "output_type": "stream",
     "text": [
      "F1 Score: 0.7173987627029419; Loss=1.132574439048767\n"
     ]
    },
    {
     "name": "stderr",
     "output_type": "stream",
     "text": [
      "2022-08-03 12:29:12.910597: I tensorflow/core/grappler/optimizers/custom_graph_optimizer_registry.cc:113] Plugin optimizer for device_type GPU is enabled.\n",
      "2022-08-03 12:29:27.130168: I tensorflow/core/grappler/optimizers/custom_graph_optimizer_registry.cc:113] Plugin optimizer for device_type GPU is enabled.\n",
      "\u001b[32m[I 2022-08-03 12:29:27,353]\u001b[0m Trial 10 finished with value: 0.8536771535873413 and parameters: {'learning_rate': 0.0038988151089790323, 'hidden_layer_size1': 1002, 'kernel_regularizer': 2.077617940925407e-06, 'bias_regularizer': 9.950217783762387e-05, 'activity_regularizer': 9.555891345566043e-05, 'dropout': 0.09331343224997068}. Best is trial 10 with value: 0.8536771535873413.\u001b[0m\n"
     ]
    },
    {
     "name": "stdout",
     "output_type": "stream",
     "text": [
      "F1 Score: 0.8536771535873413; Loss=0.5512916445732117\n"
     ]
    },
    {
     "name": "stderr",
     "output_type": "stream",
     "text": [
      "2022-08-03 12:29:27.692003: I tensorflow/core/grappler/optimizers/custom_graph_optimizer_registry.cc:113] Plugin optimizer for device_type GPU is enabled.\n",
      "2022-08-03 12:29:41.967578: I tensorflow/core/grappler/optimizers/custom_graph_optimizer_registry.cc:113] Plugin optimizer for device_type GPU is enabled.\n",
      "\u001b[32m[I 2022-08-03 12:29:42,169]\u001b[0m Trial 11 finished with value: 0.8453493118286133 and parameters: {'learning_rate': 0.004163384028065179, 'hidden_layer_size1': 1005, 'kernel_regularizer': 3.507214189390289e-06, 'bias_regularizer': 9.805896372392094e-05, 'activity_regularizer': 9.467598218152358e-05, 'dropout': 0.0987186273666308}. Best is trial 10 with value: 0.8536771535873413.\u001b[0m\n"
     ]
    },
    {
     "name": "stdout",
     "output_type": "stream",
     "text": [
      "F1 Score: 0.8453493118286133; Loss=0.5966655015945435\n"
     ]
    },
    {
     "name": "stderr",
     "output_type": "stream",
     "text": [
      "2022-08-03 12:29:42.496843: I tensorflow/core/grappler/optimizers/custom_graph_optimizer_registry.cc:113] Plugin optimizer for device_type GPU is enabled.\n",
      "2022-08-03 12:29:53.490031: I tensorflow/core/grappler/optimizers/custom_graph_optimizer_registry.cc:113] Plugin optimizer for device_type GPU is enabled.\n",
      "\u001b[32m[I 2022-08-03 12:29:53,703]\u001b[0m Trial 12 finished with value: 0.8137552738189697 and parameters: {'learning_rate': 0.007073511558472591, 'hidden_layer_size1': 632, 'kernel_regularizer': 2.2783303385763938e-05, 'bias_regularizer': 9.804606733586262e-05, 'activity_regularizer': 9.425211988571115e-05, 'dropout': 0.07834445892787895}. Best is trial 10 with value: 0.8536771535873413.\u001b[0m\n"
     ]
    },
    {
     "name": "stdout",
     "output_type": "stream",
     "text": [
      "F1 Score: 0.8137552738189697; Loss=0.8560622930526733\n"
     ]
    },
    {
     "name": "stderr",
     "output_type": "stream",
     "text": [
      "2022-08-03 12:29:54.052630: I tensorflow/core/grappler/optimizers/custom_graph_optimizer_registry.cc:113] Plugin optimizer for device_type GPU is enabled.\n",
      "2022-08-03 12:30:06.660420: I tensorflow/core/grappler/optimizers/custom_graph_optimizer_registry.cc:113] Plugin optimizer for device_type GPU is enabled.\n",
      "\u001b[32m[I 2022-08-03 12:30:06,865]\u001b[0m Trial 13 finished with value: 0.8024740815162659 and parameters: {'learning_rate': 0.005249700251626033, 'hidden_layer_size1': 917, 'kernel_regularizer': 2.039325429175583e-05, 'bias_regularizer': 7.500505639309811e-05, 'activity_regularizer': 7.712064872242385e-05, 'dropout': 0.07017524579883755}. Best is trial 10 with value: 0.8536771535873413.\u001b[0m\n"
     ]
    },
    {
     "name": "stdout",
     "output_type": "stream",
     "text": [
      "F1 Score: 0.8024740815162659; Loss=0.8351746797561646\n"
     ]
    },
    {
     "name": "stderr",
     "output_type": "stream",
     "text": [
      "2022-08-03 12:30:07.374924: I tensorflow/core/grappler/optimizers/custom_graph_optimizer_registry.cc:113] Plugin optimizer for device_type GPU is enabled.\n",
      "2022-08-03 12:30:18.314840: I tensorflow/core/grappler/optimizers/custom_graph_optimizer_registry.cc:113] Plugin optimizer for device_type GPU is enabled.\n",
      "\u001b[32m[I 2022-08-03 12:30:18,524]\u001b[0m Trial 14 finished with value: 0.7290943264961243 and parameters: {'learning_rate': 0.0035507370115449013, 'hidden_layer_size1': 630, 'kernel_regularizer': 4.469834927801514e-05, 'bias_regularizer': 7.807110233001311e-05, 'activity_regularizer': 7.822736775177736e-05, 'dropout': 0.06962843105301239}. Best is trial 10 with value: 0.8536771535873413.\u001b[0m\n"
     ]
    },
    {
     "name": "stdout",
     "output_type": "stream",
     "text": [
      "F1 Score: 0.7290943264961243; Loss=1.0402072668075562\n"
     ]
    },
    {
     "name": "stderr",
     "output_type": "stream",
     "text": [
      "2022-08-03 12:30:18.914854: I tensorflow/core/grappler/optimizers/custom_graph_optimizer_registry.cc:113] Plugin optimizer for device_type GPU is enabled.\n",
      "2022-08-03 12:30:32.305482: I tensorflow/core/grappler/optimizers/custom_graph_optimizer_registry.cc:113] Plugin optimizer for device_type GPU is enabled.\n",
      "\u001b[32m[I 2022-08-03 12:30:32,534]\u001b[0m Trial 15 finished with value: 0.8352062702178955 and parameters: {'learning_rate': 0.007725751971051047, 'hidden_layer_size1': 988, 'kernel_regularizer': 1.4904513138757802e-05, 'bias_regularizer': 8.668489339862252e-05, 'activity_regularizer': 8.117216483791989e-05, 'dropout': 0.08426105768094756}. Best is trial 10 with value: 0.8536771535873413.\u001b[0m\n"
     ]
    },
    {
     "name": "stdout",
     "output_type": "stream",
     "text": [
      "F1 Score: 0.8352062702178955; Loss=0.761202871799469\n"
     ]
    },
    {
     "name": "stderr",
     "output_type": "stream",
     "text": [
      "2022-08-03 12:30:32.919230: I tensorflow/core/grappler/optimizers/custom_graph_optimizer_registry.cc:113] Plugin optimizer for device_type GPU is enabled.\n",
      "2022-08-03 12:30:44.815112: I tensorflow/core/grappler/optimizers/custom_graph_optimizer_registry.cc:113] Plugin optimizer for device_type GPU is enabled.\n",
      "\u001b[32m[I 2022-08-03 12:30:45,045]\u001b[0m Trial 16 finished with value: 0.7694694399833679 and parameters: {'learning_rate': 0.0046053351884625905, 'hidden_layer_size1': 727, 'kernel_regularizer': 3.808944481994473e-05, 'bias_regularizer': 6.256029501833082e-05, 'activity_regularizer': 9.98359373811462e-05, 'dropout': 0.05230725507827899}. Best is trial 10 with value: 0.8536771535873413.\u001b[0m\n"
     ]
    },
    {
     "name": "stdout",
     "output_type": "stream",
     "text": [
      "F1 Score: 0.7694694399833679; Loss=0.9669409394264221\n"
     ]
    },
    {
     "name": "stderr",
     "output_type": "stream",
     "text": [
      "2022-08-03 12:30:45.525441: I tensorflow/core/grappler/optimizers/custom_graph_optimizer_registry.cc:113] Plugin optimizer for device_type GPU is enabled.\n",
      "2022-08-03 12:30:58.493565: I tensorflow/core/grappler/optimizers/custom_graph_optimizer_registry.cc:113] Plugin optimizer for device_type GPU is enabled.\n",
      "\u001b[32m[I 2022-08-03 12:30:58,708]\u001b[0m Trial 17 finished with value: 0.8410786390304565 and parameters: {'learning_rate': 0.006056783998732492, 'hidden_layer_size1': 879, 'kernel_regularizer': 1.0950442012926405e-05, 'bias_regularizer': 3.7435771835439484e-06, 'activity_regularizer': 7.088729081003494e-05, 'dropout': 0.09657860458130739}. Best is trial 10 with value: 0.8536771535873413.\u001b[0m\n"
     ]
    },
    {
     "name": "stdout",
     "output_type": "stream",
     "text": [
      "F1 Score: 0.8410786390304565; Loss=0.7415223717689514\n"
     ]
    },
    {
     "name": "stderr",
     "output_type": "stream",
     "text": [
      "2022-08-03 12:30:59.037378: I tensorflow/core/grappler/optimizers/custom_graph_optimizer_registry.cc:113] Plugin optimizer for device_type GPU is enabled.\n",
      "2022-08-03 12:31:10.163558: I tensorflow/core/grappler/optimizers/custom_graph_optimizer_registry.cc:113] Plugin optimizer for device_type GPU is enabled.\n",
      "\u001b[32m[I 2022-08-03 12:31:10,401]\u001b[0m Trial 18 finished with value: 0.7948920130729675 and parameters: {'learning_rate': 0.008459022207282233, 'hidden_layer_size1': 625, 'kernel_regularizer': 2.9371399466443174e-05, 'bias_regularizer': 8.455763856059189e-05, 'activity_regularizer': 8.748532872954613e-05, 'dropout': 0.060473949476669786}. Best is trial 10 with value: 0.8536771535873413.\u001b[0m\n"
     ]
    },
    {
     "name": "stdout",
     "output_type": "stream",
     "text": [
      "F1 Score: 0.7948920130729675; Loss=0.9045464992523193\n"
     ]
    },
    {
     "name": "stderr",
     "output_type": "stream",
     "text": [
      "2022-08-03 12:31:10.818929: I tensorflow/core/grappler/optimizers/custom_graph_optimizer_registry.cc:113] Plugin optimizer for device_type GPU is enabled.\n",
      "2022-08-03 12:31:21.695171: I tensorflow/core/grappler/optimizers/custom_graph_optimizer_registry.cc:113] Plugin optimizer for device_type GPU is enabled.\n",
      "\u001b[32m[I 2022-08-03 12:31:21,923]\u001b[0m Trial 19 finished with value: 0.7275059223175049 and parameters: {'learning_rate': 0.0028725421990226058, 'hidden_layer_size1': 528, 'kernel_regularizer': 4.8061863841916374e-05, 'bias_regularizer': 6.002403936448264e-05, 'activity_regularizer': 6.77879999339312e-05, 'dropout': 0.08277311790981833}. Best is trial 10 with value: 0.8536771535873413.\u001b[0m\n"
     ]
    },
    {
     "name": "stdout",
     "output_type": "stream",
     "text": [
      "F1 Score: 0.7275059223175049; Loss=1.1019479036331177\n"
     ]
    },
    {
     "name": "stderr",
     "output_type": "stream",
     "text": [
      "2022-08-03 12:31:22.323871: I tensorflow/core/grappler/optimizers/custom_graph_optimizer_registry.cc:113] Plugin optimizer for device_type GPU is enabled.\n",
      "2022-08-03 12:31:30.567305: I tensorflow/core/grappler/optimizers/custom_graph_optimizer_registry.cc:113] Plugin optimizer for device_type GPU is enabled.\n",
      "\u001b[32m[I 2022-08-03 12:31:30,793]\u001b[0m Trial 20 finished with value: 0.5349780321121216 and parameters: {'learning_rate': 0.0062688101123824815, 'hidden_layer_size1': 26, 'kernel_regularizer': 5.570274594884585e-05, 'bias_regularizer': 9.159086397633992e-05, 'activity_regularizer': 8.849370120498773e-05, 'dropout': 0.06563947470318612}. Best is trial 10 with value: 0.8536771535873413.\u001b[0m\n"
     ]
    },
    {
     "name": "stdout",
     "output_type": "stream",
     "text": [
      "F1 Score: 0.5349780321121216; Loss=1.360728144645691\n"
     ]
    },
    {
     "name": "stderr",
     "output_type": "stream",
     "text": [
      "2022-08-03 12:31:31.151429: I tensorflow/core/grappler/optimizers/custom_graph_optimizer_registry.cc:113] Plugin optimizer for device_type GPU is enabled.\n",
      "2022-08-03 12:31:45.210441: I tensorflow/core/grappler/optimizers/custom_graph_optimizer_registry.cc:113] Plugin optimizer for device_type GPU is enabled.\n",
      "\u001b[32m[I 2022-08-03 12:31:45,498]\u001b[0m Trial 21 finished with value: 0.8332651853561401 and parameters: {'learning_rate': 0.004459932986208014, 'hidden_layer_size1': 1023, 'kernel_regularizer': 4.117544999163337e-06, 'bias_regularizer': 9.994746669482104e-05, 'activity_regularizer': 9.88355594415849e-05, 'dropout': 0.09959930122466294}. Best is trial 10 with value: 0.8536771535873413.\u001b[0m\n"
     ]
    },
    {
     "name": "stdout",
     "output_type": "stream",
     "text": [
      "F1 Score: 0.8332651853561401; Loss=0.6078061461448669\n"
     ]
    },
    {
     "name": "stderr",
     "output_type": "stream",
     "text": [
      "2022-08-03 12:31:45.949806: I tensorflow/core/grappler/optimizers/custom_graph_optimizer_registry.cc:113] Plugin optimizer for device_type GPU is enabled.\n",
      "2022-08-03 12:32:01.438302: I tensorflow/core/grappler/optimizers/custom_graph_optimizer_registry.cc:113] Plugin optimizer for device_type GPU is enabled.\n",
      "\u001b[32m[I 2022-08-03 12:32:01,744]\u001b[0m Trial 22 finished with value: 0.8948334455490112 and parameters: {'learning_rate': 0.00427587297945334, 'hidden_layer_size1': 897, 'kernel_regularizer': 2.6040408632449036e-07, 'bias_regularizer': 9.19920946420755e-05, 'activity_regularizer': 8.965173891171156e-05, 'dropout': 0.09131453337783164}. Best is trial 22 with value: 0.8948334455490112.\u001b[0m\n"
     ]
    },
    {
     "name": "stdout",
     "output_type": "stream",
     "text": [
      "F1 Score: 0.8948334455490112; Loss=0.4149300158023834\n"
     ]
    },
    {
     "name": "stderr",
     "output_type": "stream",
     "text": [
      "2022-08-03 12:32:02.275815: I tensorflow/core/grappler/optimizers/custom_graph_optimizer_registry.cc:113] Plugin optimizer for device_type GPU is enabled.\n",
      "2022-08-03 12:32:18.849233: I tensorflow/core/grappler/optimizers/custom_graph_optimizer_registry.cc:113] Plugin optimizer for device_type GPU is enabled.\n",
      "\u001b[32m[I 2022-08-03 12:32:19,194]\u001b[0m Trial 23 finished with value: 0.7907532453536987 and parameters: {'learning_rate': 0.0036410272817621572, 'hidden_layer_size1': 793, 'kernel_regularizer': 1.5825248808360808e-05, 'bias_regularizer': 8.588601336895633e-05, 'activity_regularizer': 8.606147879413614e-05, 'dropout': 0.0892849388883368}. Best is trial 22 with value: 0.8948334455490112.\u001b[0m\n"
     ]
    },
    {
     "name": "stdout",
     "output_type": "stream",
     "text": [
      "F1 Score: 0.7907532453536987; Loss=0.8207676410675049\n"
     ]
    },
    {
     "name": "stderr",
     "output_type": "stream",
     "text": [
      "2022-08-03 12:32:19.718637: I tensorflow/core/grappler/optimizers/custom_graph_optimizer_registry.cc:113] Plugin optimizer for device_type GPU is enabled.\n",
      "2022-08-03 12:32:37.053122: I tensorflow/core/grappler/optimizers/custom_graph_optimizer_registry.cc:113] Plugin optimizer for device_type GPU is enabled.\n",
      "\u001b[32m[I 2022-08-03 12:32:37,414]\u001b[0m Trial 24 finished with value: 0.7873185873031616 and parameters: {'learning_rate': 0.0022180746176717614, 'hidden_layer_size1': 889, 'kernel_regularizer': 7.88885154164583e-06, 'bias_regularizer': 7.581013291485785e-05, 'activity_regularizer': 7.258867366236372e-05, 'dropout': 0.07887666467043614}. Best is trial 22 with value: 0.8948334455490112.\u001b[0m\n"
     ]
    },
    {
     "name": "stdout",
     "output_type": "stream",
     "text": [
      "F1 Score: 0.7873185873031616; Loss=0.781044065952301\n"
     ]
    },
    {
     "name": "stderr",
     "output_type": "stream",
     "text": [
      "2022-08-03 12:32:37.942015: I tensorflow/core/grappler/optimizers/custom_graph_optimizer_registry.cc:113] Plugin optimizer for device_type GPU is enabled.\n",
      "2022-08-03 12:32:54.132289: I tensorflow/core/grappler/optimizers/custom_graph_optimizer_registry.cc:113] Plugin optimizer for device_type GPU is enabled.\n",
      "\u001b[32m[I 2022-08-03 12:32:54,463]\u001b[0m Trial 25 finished with value: 0.7779527902603149 and parameters: {'learning_rate': 0.005163245863316822, 'hidden_layer_size1': 701, 'kernel_regularizer': 2.6851568274940665e-05, 'bias_regularizer': 6.080685699740202e-05, 'activity_regularizer': 6.40763001061953e-05, 'dropout': 0.09175438048688454}. Best is trial 22 with value: 0.8948334455490112.\u001b[0m\n"
     ]
    },
    {
     "name": "stdout",
     "output_type": "stream",
     "text": [
      "F1 Score: 0.7779527902603149; Loss=0.8926082253456116\n"
     ]
    },
    {
     "name": "stderr",
     "output_type": "stream",
     "text": [
      "2022-08-03 12:32:54.956875: I tensorflow/core/grappler/optimizers/custom_graph_optimizer_registry.cc:113] Plugin optimizer for device_type GPU is enabled.\n",
      "2022-08-03 12:33:12.669881: I tensorflow/core/grappler/optimizers/custom_graph_optimizer_registry.cc:113] Plugin optimizer for device_type GPU is enabled.\n",
      "\u001b[32m[I 2022-08-03 12:33:13,212]\u001b[0m Trial 26 finished with value: 0.8490164279937744 and parameters: {'learning_rate': 0.007654675164323237, 'hidden_layer_size1': 930, 'kernel_regularizer': 1.2250924146994193e-05, 'bias_regularizer': 9.134086757467481e-05, 'activity_regularizer': 8.424854741536384e-05, 'dropout': 0.07551677983628607}. Best is trial 22 with value: 0.8948334455490112.\u001b[0m\n"
     ]
    },
    {
     "name": "stdout",
     "output_type": "stream",
     "text": [
      "F1 Score: 0.8490164279937744; Loss=0.7222720384597778\n"
     ]
    },
    {
     "name": "stderr",
     "output_type": "stream",
     "text": [
      "2022-08-03 12:33:13.850060: I tensorflow/core/grappler/optimizers/custom_graph_optimizer_registry.cc:113] Plugin optimizer for device_type GPU is enabled.\n",
      "2022-08-03 12:33:39.496499: I tensorflow/core/grappler/optimizers/custom_graph_optimizer_registry.cc:113] Plugin optimizer for device_type GPU is enabled.\n",
      "\u001b[32m[I 2022-08-03 12:33:40,112]\u001b[0m Trial 27 finished with value: 0.8662207126617432 and parameters: {'learning_rate': 0.007763452673034054, 'hidden_layer_size1': 933, 'kernel_regularizer': 1.265570126531741e-06, 'bias_regularizer': 9.080371435420393e-05, 'activity_regularizer': 9.028125364875738e-05, 'dropout': 0.07529339657429363}. Best is trial 22 with value: 0.8948334455490112.\u001b[0m\n"
     ]
    },
    {
     "name": "stdout",
     "output_type": "stream",
     "text": [
      "F1 Score: 0.8662207126617432; Loss=0.4857240319252014\n"
     ]
    },
    {
     "name": "stderr",
     "output_type": "stream",
     "text": [
      "2022-08-03 12:33:40.659268: I tensorflow/core/grappler/optimizers/custom_graph_optimizer_registry.cc:113] Plugin optimizer for device_type GPU is enabled.\n",
      "2022-08-03 12:34:04.619137: I tensorflow/core/grappler/optimizers/custom_graph_optimizer_registry.cc:113] Plugin optimizer for device_type GPU is enabled.\n",
      "\u001b[32m[I 2022-08-03 12:34:05,022]\u001b[0m Trial 28 finished with value: 0.8213698863983154 and parameters: {'learning_rate': 0.009955035093605001, 'hidden_layer_size1': 949, 'kernel_regularizer': 2.1657894518005037e-05, 'bias_regularizer': 9.223492989582653e-05, 'activity_regularizer': 8.803162126930217e-05, 'dropout': 0.05772729640649438}. Best is trial 22 with value: 0.8948334455490112.\u001b[0m\n"
     ]
    },
    {
     "name": "stdout",
     "output_type": "stream",
     "text": [
      "F1 Score: 0.8213698863983154; Loss=0.8198769688606262\n"
     ]
    },
    {
     "name": "stderr",
     "output_type": "stream",
     "text": [
      "2022-08-03 12:34:05.505161: I tensorflow/core/grappler/optimizers/custom_graph_optimizer_registry.cc:113] Plugin optimizer for device_type GPU is enabled.\n",
      "2022-08-03 12:34:27.097788: I tensorflow/core/grappler/optimizers/custom_graph_optimizer_registry.cc:113] Plugin optimizer for device_type GPU is enabled.\n",
      "\u001b[32m[I 2022-08-03 12:34:27,460]\u001b[0m Trial 29 finished with value: 0.8762032985687256 and parameters: {'learning_rate': 0.0038696984198952874, 'hidden_layer_size1': 715, 'kernel_regularizer': 1.193252623757739e-07, 'bias_regularizer': 6.920992033136878e-05, 'activity_regularizer': 9.283161493465209e-05, 'dropout': 0.08556965118429596}. Best is trial 22 with value: 0.8948334455490112.\u001b[0m\n"
     ]
    },
    {
     "name": "stdout",
     "output_type": "stream",
     "text": [
      "F1 Score: 0.8762032985687256; Loss=0.40155214071273804\n"
     ]
    },
    {
     "name": "stderr",
     "output_type": "stream",
     "text": [
      "2022-08-03 12:34:28.004745: I tensorflow/core/grappler/optimizers/custom_graph_optimizer_registry.cc:113] Plugin optimizer for device_type GPU is enabled.\n",
      "2022-08-03 12:34:48.681437: I tensorflow/core/grappler/optimizers/custom_graph_optimizer_registry.cc:113] Plugin optimizer for device_type GPU is enabled.\n",
      "\u001b[32m[I 2022-08-03 12:34:49,176]\u001b[0m Trial 30 finished with value: 0.7612794041633606 and parameters: {'learning_rate': 0.003032887087857791, 'hidden_layer_size1': 753, 'kernel_regularizer': 1.8197676022906127e-05, 'bias_regularizer': 6.711300447106438e-05, 'activity_regularizer': 3.895763640287768e-05, 'dropout': 0.08487346282342602}. Best is trial 22 with value: 0.8948334455490112.\u001b[0m\n"
     ]
    },
    {
     "name": "stdout",
     "output_type": "stream",
     "text": [
      "F1 Score: 0.7612794041633606; Loss=0.8692917823791504\n"
     ]
    },
    {
     "name": "stderr",
     "output_type": "stream",
     "text": [
      "2022-08-03 12:34:50.068689: I tensorflow/core/grappler/optimizers/custom_graph_optimizer_registry.cc:113] Plugin optimizer for device_type GPU is enabled.\n",
      "2022-08-03 12:35:14.537518: I tensorflow/core/grappler/optimizers/custom_graph_optimizer_registry.cc:113] Plugin optimizer for device_type GPU is enabled.\n",
      "\u001b[32m[I 2022-08-03 12:35:15,054]\u001b[0m Trial 31 finished with value: 0.8840832114219666 and parameters: {'learning_rate': 0.0035495759182934752, 'hidden_layer_size1': 865, 'kernel_regularizer': 8.143387650108438e-07, 'bias_regularizer': 8.353648234015119e-05, 'activity_regularizer': 9.313048296097835e-05, 'dropout': 0.07393656742038571}. Best is trial 22 with value: 0.8948334455490112.\u001b[0m\n"
     ]
    },
    {
     "name": "stdout",
     "output_type": "stream",
     "text": [
      "F1 Score: 0.8840832114219666; Loss=0.49075984954833984\n"
     ]
    },
    {
     "name": "stderr",
     "output_type": "stream",
     "text": [
      "2022-08-03 12:35:15.661326: I tensorflow/core/grappler/optimizers/custom_graph_optimizer_registry.cc:113] Plugin optimizer for device_type GPU is enabled.\n",
      "2022-08-03 12:35:37.669357: I tensorflow/core/grappler/optimizers/custom_graph_optimizer_registry.cc:113] Plugin optimizer for device_type GPU is enabled.\n",
      "\u001b[32m[I 2022-08-03 12:35:38,092]\u001b[0m Trial 32 finished with value: 0.8894548416137695 and parameters: {'learning_rate': 0.005658738564998226, 'hidden_layer_size1': 807, 'kernel_regularizer': 2.4945438011140813e-07, 'bias_regularizer': 8.186644780930582e-05, 'activity_regularizer': 9.012217120416058e-05, 'dropout': 0.07188039965941598}. Best is trial 22 with value: 0.8948334455490112.\u001b[0m\n"
     ]
    },
    {
     "name": "stdout",
     "output_type": "stream",
     "text": [
      "F1 Score: 0.8894548416137695; Loss=0.3967372179031372\n"
     ]
    },
    {
     "name": "stderr",
     "output_type": "stream",
     "text": [
      "2022-08-03 12:35:38.690738: I tensorflow/core/grappler/optimizers/custom_graph_optimizer_registry.cc:113] Plugin optimizer for device_type GPU is enabled.\n",
      "2022-08-03 12:35:59.018482: I tensorflow/core/grappler/optimizers/custom_graph_optimizer_registry.cc:113] Plugin optimizer for device_type GPU is enabled.\n",
      "\u001b[32m[I 2022-08-03 12:35:59,403]\u001b[0m Trial 33 finished with value: 0.8333384990692139 and parameters: {'learning_rate': 0.0055108487248165475, 'hidden_layer_size1': 679, 'kernel_regularizer': 8.174810442831011e-06, 'bias_regularizer': 8.160677177639091e-05, 'activity_regularizer': 8.089284124912694e-05, 'dropout': 0.06567714956953037}. Best is trial 22 with value: 0.8948334455490112.\u001b[0m\n"
     ]
    },
    {
     "name": "stdout",
     "output_type": "stream",
     "text": [
      "F1 Score: 0.8333384990692139; Loss=0.6885908246040344\n"
     ]
    },
    {
     "name": "stderr",
     "output_type": "stream",
     "text": [
      "2022-08-03 12:35:59.961500: I tensorflow/core/grappler/optimizers/custom_graph_optimizer_registry.cc:113] Plugin optimizer for device_type GPU is enabled.\n",
      "2022-08-03 12:36:23.797620: I tensorflow/core/grappler/optimizers/custom_graph_optimizer_registry.cc:113] Plugin optimizer for device_type GPU is enabled.\n",
      "\u001b[32m[I 2022-08-03 12:36:24,248]\u001b[0m Trial 34 finished with value: 0.7744741439819336 and parameters: {'learning_rate': 0.004705076663998218, 'hidden_layer_size1': 812, 'kernel_regularizer': 3.802100039559674e-05, 'bias_regularizer': 7.07225446103605e-05, 'activity_regularizer': 9.229006263767166e-05, 'dropout': 0.044361483436998056}. Best is trial 22 with value: 0.8948334455490112.\u001b[0m\n"
     ]
    },
    {
     "name": "stdout",
     "output_type": "stream",
     "text": [
      "F1 Score: 0.7744741439819336; Loss=0.9587738513946533\n"
     ]
    },
    {
     "name": "stderr",
     "output_type": "stream",
     "text": [
      "2022-08-03 12:36:24.860716: I tensorflow/core/grappler/optimizers/custom_graph_optimizer_registry.cc:113] Plugin optimizer for device_type GPU is enabled.\n",
      "2022-08-03 12:36:47.357664: I tensorflow/core/grappler/optimizers/custom_graph_optimizer_registry.cc:113] Plugin optimizer for device_type GPU is enabled.\n",
      "\u001b[32m[I 2022-08-03 12:36:47,944]\u001b[0m Trial 35 finished with value: 0.8031728267669678 and parameters: {'learning_rate': 0.001958993788765374, 'hidden_layer_size1': 537, 'kernel_regularizer': 6.860133459129843e-07, 'bias_regularizer': 5.738041583461007e-05, 'activity_regularizer': 5.91073480349773e-05, 'dropout': 0.08603046100042178}. Best is trial 22 with value: 0.8948334455490112.\u001b[0m\n"
     ]
    },
    {
     "name": "stdout",
     "output_type": "stream",
     "text": [
      "F1 Score: 0.8031728267669678; Loss=0.6380617618560791\n"
     ]
    },
    {
     "name": "stderr",
     "output_type": "stream",
     "text": [
      "2022-08-03 12:36:48.566236: I tensorflow/core/grappler/optimizers/custom_graph_optimizer_registry.cc:113] Plugin optimizer for device_type GPU is enabled.\n",
      "2022-08-03 12:37:13.350306: I tensorflow/core/grappler/optimizers/custom_graph_optimizer_registry.cc:113] Plugin optimizer for device_type GPU is enabled.\n",
      "\u001b[32m[I 2022-08-03 12:37:13,787]\u001b[0m Trial 36 finished with value: 0.8394532203674316 and parameters: {'learning_rate': 0.005757767080176361, 'hidden_layer_size1': 856, 'kernel_regularizer': 8.060548638828696e-06, 'bias_regularizer': 7.247389787527755e-05, 'activity_regularizer': 7.580797441570455e-05, 'dropout': 0.07078938752576257}. Best is trial 22 with value: 0.8948334455490112.\u001b[0m\n"
     ]
    },
    {
     "name": "stdout",
     "output_type": "stream",
     "text": [
      "F1 Score: 0.8394532203674316; Loss=0.6879534125328064\n"
     ]
    },
    {
     "name": "stderr",
     "output_type": "stream",
     "text": [
      "2022-08-03 12:37:14.328381: I tensorflow/core/grappler/optimizers/custom_graph_optimizer_registry.cc:113] Plugin optimizer for device_type GPU is enabled.\n",
      "2022-08-03 12:37:38.966385: I tensorflow/core/grappler/optimizers/custom_graph_optimizer_registry.cc:113] Plugin optimizer for device_type GPU is enabled.\n",
      "\u001b[32m[I 2022-08-03 12:37:39,425]\u001b[0m Trial 37 finished with value: 0.7225620150566101 and parameters: {'learning_rate': 0.0033137315369722252, 'hidden_layer_size1': 783, 'kernel_regularizer': 5.64615212182894e-05, 'bias_regularizer': 5.593936839954402e-05, 'activity_regularizer': 9.989232191671675e-05, 'dropout': 0.08930738270245529}. Best is trial 22 with value: 0.8948334455490112.\u001b[0m\n"
     ]
    },
    {
     "name": "stdout",
     "output_type": "stream",
     "text": [
      "F1 Score: 0.7225620150566101; Loss=1.0988985300064087\n"
     ]
    },
    {
     "name": "stderr",
     "output_type": "stream",
     "text": [
      "2022-08-03 12:37:40.399345: I tensorflow/core/grappler/optimizers/custom_graph_optimizer_registry.cc:113] Plugin optimizer for device_type GPU is enabled.\n",
      "2022-08-03 12:38:01.397817: I tensorflow/core/grappler/optimizers/custom_graph_optimizer_registry.cc:113] Plugin optimizer for device_type GPU is enabled.\n",
      "\u001b[32m[I 2022-08-03 12:38:01,855]\u001b[0m Trial 38 finished with value: 0.7616947293281555 and parameters: {'learning_rate': 0.002445630100808633, 'hidden_layer_size1': 567, 'kernel_regularizer': 1.2989868666462521e-05, 'bias_regularizer': 6.623248247307137e-05, 'activity_regularizer': 8.273941223082795e-05, 'dropout': 0.05960491071828937}. Best is trial 22 with value: 0.8948334455490112.\u001b[0m\n"
     ]
    },
    {
     "name": "stdout",
     "output_type": "stream",
     "text": [
      "F1 Score: 0.7616947293281555; Loss=0.8664027452468872\n"
     ]
    },
    {
     "name": "stderr",
     "output_type": "stream",
     "text": [
      "2022-08-03 12:38:02.455112: I tensorflow/core/grappler/optimizers/custom_graph_optimizer_registry.cc:113] Plugin optimizer for device_type GPU is enabled.\n",
      "2022-08-03 12:38:23.950223: I tensorflow/core/grappler/optimizers/custom_graph_optimizer_registry.cc:113] Plugin optimizer for device_type GPU is enabled.\n",
      "\u001b[32m[I 2022-08-03 12:38:24,294]\u001b[0m Trial 39 finished with value: 0.7808970212936401 and parameters: {'learning_rate': 0.00427859911528902, 'hidden_layer_size1': 746, 'kernel_regularizer': 2.6849471108420348e-05, 'bias_regularizer': 8.138464505770679e-05, 'activity_regularizer': 1.3815801358689085e-05, 'dropout': 0.08108237159773524}. Best is trial 22 with value: 0.8948334455490112.\u001b[0m\n"
     ]
    },
    {
     "name": "stdout",
     "output_type": "stream",
     "text": [
      "F1 Score: 0.7808970212936401; Loss=0.9139044880867004\n"
     ]
    },
    {
     "name": "stderr",
     "output_type": "stream",
     "text": [
      "2022-08-03 12:38:24.874849: I tensorflow/core/grappler/optimizers/custom_graph_optimizer_registry.cc:113] Plugin optimizer for device_type GPU is enabled.\n",
      "2022-08-03 12:38:43.503417: I tensorflow/core/grappler/optimizers/custom_graph_optimizer_registry.cc:113] Plugin optimizer for device_type GPU is enabled.\n",
      "\u001b[32m[I 2022-08-03 12:38:43,936]\u001b[0m Trial 40 finished with value: 0.7285522222518921 and parameters: {'learning_rate': 0.0012114548937314394, 'hidden_layer_size1': 442, 'kernel_regularizer': 7.286691520543247e-06, 'bias_regularizer': 8.607675892013823e-05, 'activity_regularizer': 6.489675176172424e-05, 'dropout': 0.005069930309803239}. Best is trial 22 with value: 0.8948334455490112.\u001b[0m\n"
     ]
    },
    {
     "name": "stdout",
     "output_type": "stream",
     "text": [
      "F1 Score: 0.7285522222518921; Loss=0.9870027899742126\n"
     ]
    },
    {
     "name": "stderr",
     "output_type": "stream",
     "text": [
      "2022-08-03 12:38:44.574970: I tensorflow/core/grappler/optimizers/custom_graph_optimizer_registry.cc:113] Plugin optimizer for device_type GPU is enabled.\n",
      "2022-08-03 12:39:07.713802: I tensorflow/core/grappler/optimizers/custom_graph_optimizer_registry.cc:113] Plugin optimizer for device_type GPU is enabled.\n",
      "\u001b[32m[I 2022-08-03 12:39:08,082]\u001b[0m Trial 41 finished with value: 0.9209491014480591 and parameters: {'learning_rate': 0.008332438863653634, 'hidden_layer_size1': 835, 'kernel_regularizer': 4.0233884867676783e-07, 'bias_regularizer': 9.350257295297112e-05, 'activity_regularizer': 9.063144225247435e-05, 'dropout': 0.07488561512653773}. Best is trial 41 with value: 0.9209491014480591.\u001b[0m\n"
     ]
    },
    {
     "name": "stdout",
     "output_type": "stream",
     "text": [
      "F1 Score: 0.9209491014480591; Loss=0.3821895122528076\n"
     ]
    },
    {
     "name": "stderr",
     "output_type": "stream",
     "text": [
      "2022-08-03 12:39:08.679322: I tensorflow/core/grappler/optimizers/custom_graph_optimizer_registry.cc:113] Plugin optimizer for device_type GPU is enabled.\n",
      "2022-08-03 12:39:31.152913: I tensorflow/core/grappler/optimizers/custom_graph_optimizer_registry.cc:113] Plugin optimizer for device_type GPU is enabled.\n",
      "\u001b[32m[I 2022-08-03 12:39:31,577]\u001b[0m Trial 42 finished with value: 0.9209477305412292 and parameters: {'learning_rate': 0.009213536489630837, 'hidden_layer_size1': 827, 'kernel_regularizer': 5.29150591159221e-07, 'bias_regularizer': 9.327134618391752e-05, 'activity_regularizer': 9.456551738833705e-05, 'dropout': 0.07284937931831617}. Best is trial 41 with value: 0.9209491014480591.\u001b[0m\n"
     ]
    },
    {
     "name": "stdout",
     "output_type": "stream",
     "text": [
      "F1 Score: 0.9209477305412292; Loss=0.3976764678955078\n"
     ]
    },
    {
     "name": "stderr",
     "output_type": "stream",
     "text": [
      "2022-08-03 12:39:32.205873: I tensorflow/core/grappler/optimizers/custom_graph_optimizer_registry.cc:113] Plugin optimizer for device_type GPU is enabled.\n",
      "2022-08-03 12:39:53.996132: I tensorflow/core/grappler/optimizers/custom_graph_optimizer_registry.cc:113] Plugin optimizer for device_type GPU is enabled.\n",
      "\u001b[32m[I 2022-08-03 12:39:54,454]\u001b[0m Trial 43 finished with value: 0.8725788593292236 and parameters: {'learning_rate': 0.00880185738430715, 'hidden_layer_size1': 836, 'kernel_regularizer': 5.782218773762457e-06, 'bias_regularizer': 9.586195696538929e-05, 'activity_regularizer': 8.471095582284249e-05, 'dropout': 0.07435384731035098}. Best is trial 41 with value: 0.9209491014480591.\u001b[0m\n"
     ]
    },
    {
     "name": "stdout",
     "output_type": "stream",
     "text": [
      "F1 Score: 0.8725788593292236; Loss=0.601774275302887\n"
     ]
    },
    {
     "name": "stderr",
     "output_type": "stream",
     "text": [
      "2022-08-03 12:39:55.159574: I tensorflow/core/grappler/optimizers/custom_graph_optimizer_registry.cc:113] Plugin optimizer for device_type GPU is enabled.\n",
      "2022-08-03 12:40:16.817195: I tensorflow/core/grappler/optimizers/custom_graph_optimizer_registry.cc:113] Plugin optimizer for device_type GPU is enabled.\n",
      "\u001b[32m[I 2022-08-03 12:40:17,267]\u001b[0m Trial 44 finished with value: 0.8490159511566162 and parameters: {'learning_rate': 0.009085975122977992, 'hidden_layer_size1': 872, 'kernel_regularizer': 1.2838237932387864e-05, 'bias_regularizer': 9.34967785246684e-05, 'activity_regularizer': 9.430462643450004e-05, 'dropout': 0.06461511382860115}. Best is trial 41 with value: 0.9209491014480591.\u001b[0m\n"
     ]
    },
    {
     "name": "stdout",
     "output_type": "stream",
     "text": [
      "F1 Score: 0.8490159511566162; Loss=0.7115978002548218\n"
     ]
    },
    {
     "name": "stderr",
     "output_type": "stream",
     "text": [
      "2022-08-03 12:40:18.050974: I tensorflow/core/grappler/optimizers/custom_graph_optimizer_registry.cc:113] Plugin optimizer for device_type GPU is enabled.\n",
      "2022-08-03 12:40:40.325945: I tensorflow/core/grappler/optimizers/custom_graph_optimizer_registry.cc:113] Plugin optimizer for device_type GPU is enabled.\n",
      "\u001b[32m[I 2022-08-03 12:40:40,762]\u001b[0m Trial 45 finished with value: 0.8731788396835327 and parameters: {'learning_rate': 0.00834192800413614, 'hidden_layer_size1': 971, 'kernel_regularizer': 4.672431992177935e-06, 'bias_regularizer': 8.935705408178947e-05, 'activity_regularizer': 5.189658066383839e-05, 'dropout': 0.0558375340281324}. Best is trial 41 with value: 0.9209491014480591.\u001b[0m\n"
     ]
    },
    {
     "name": "stdout",
     "output_type": "stream",
     "text": [
      "F1 Score: 0.8731788396835327; Loss=0.5848395824432373\n"
     ]
    },
    {
     "name": "stderr",
     "output_type": "stream",
     "text": [
      "2022-08-03 12:40:41.350236: I tensorflow/core/grappler/optimizers/custom_graph_optimizer_registry.cc:113] Plugin optimizer for device_type GPU is enabled.\n",
      "2022-08-03 12:41:02.941923: I tensorflow/core/grappler/optimizers/custom_graph_optimizer_registry.cc:113] Plugin optimizer for device_type GPU is enabled.\n",
      "\u001b[32m[I 2022-08-03 12:41:03,310]\u001b[0m Trial 46 finished with value: 0.8401862382888794 and parameters: {'learning_rate': 0.00942808576519218, 'hidden_layer_size1': 811, 'kernel_regularizer': 1.73770301300494e-05, 'bias_regularizer': 8.08279079536197e-05, 'activity_regularizer': 9.611407659539034e-05, 'dropout': 0.04425039695334733}. Best is trial 41 with value: 0.9209491014480591.\u001b[0m\n"
     ]
    },
    {
     "name": "stdout",
     "output_type": "stream",
     "text": [
      "F1 Score: 0.8401862382888794; Loss=0.7550255656242371\n"
     ]
    },
    {
     "name": "stderr",
     "output_type": "stream",
     "text": [
      "2022-08-03 12:41:03.894938: I tensorflow/core/grappler/optimizers/custom_graph_optimizer_registry.cc:113] Plugin optimizer for device_type GPU is enabled.\n",
      "2022-08-03 12:41:26.337612: I tensorflow/core/grappler/optimizers/custom_graph_optimizer_registry.cc:113] Plugin optimizer for device_type GPU is enabled.\n",
      "\u001b[32m[I 2022-08-03 12:41:26,788]\u001b[0m Trial 47 finished with value: 0.7500149011611938 and parameters: {'learning_rate': 0.007191650828169112, 'hidden_layer_size1': 908, 'kernel_regularizer': 8.382050228145157e-05, 'bias_regularizer': 3.2458027970145385e-05, 'activity_regularizer': 9.021469934270053e-05, 'dropout': 0.035393776936928086}. Best is trial 41 with value: 0.9209491014480591.\u001b[0m\n"
     ]
    },
    {
     "name": "stdout",
     "output_type": "stream",
     "text": [
      "F1 Score: 0.7500149011611938; Loss=1.1458392143249512\n"
     ]
    },
    {
     "name": "stderr",
     "output_type": "stream",
     "text": [
      "2022-08-03 12:41:27.652191: I tensorflow/core/grappler/optimizers/custom_graph_optimizer_registry.cc:113] Plugin optimizer for device_type GPU is enabled.\n",
      "2022-08-03 12:41:47.720977: I tensorflow/core/grappler/optimizers/custom_graph_optimizer_registry.cc:113] Plugin optimizer for device_type GPU is enabled.\n",
      "\u001b[32m[I 2022-08-03 12:41:48,199]\u001b[0m Trial 48 finished with value: 0.9458847641944885 and parameters: {'learning_rate': 0.009590263929390183, 'hidden_layer_size1': 663, 'kernel_regularizer': 3.224294748659483e-08, 'bias_regularizer': 9.494455246549682e-05, 'activity_regularizer': 7.54622803748681e-05, 'dropout': 0.07189361802417232}. Best is trial 48 with value: 0.9458847641944885.\u001b[0m\n"
     ]
    },
    {
     "name": "stdout",
     "output_type": "stream",
     "text": [
      "F1 Score: 0.9458847641944885; Loss=0.3007200062274933\n"
     ]
    },
    {
     "name": "stderr",
     "output_type": "stream",
     "text": [
      "2022-08-03 12:41:48.751898: I tensorflow/core/grappler/optimizers/custom_graph_optimizer_registry.cc:113] Plugin optimizer for device_type GPU is enabled.\n",
      "2022-08-03 12:42:08.248874: I tensorflow/core/grappler/optimizers/custom_graph_optimizer_registry.cc:113] Plugin optimizer for device_type GPU is enabled.\n",
      "\u001b[32m[I 2022-08-03 12:42:08,688]\u001b[0m Trial 49 finished with value: 0.8465372323989868 and parameters: {'learning_rate': 0.009762424842699053, 'hidden_layer_size1': 674, 'kernel_regularizer': 1.036791530835389e-05, 'bias_regularizer': 9.604200786895882e-05, 'activity_regularizer': 7.75062989563385e-05, 'dropout': 0.05135936508521227}. Best is trial 48 with value: 0.9458847641944885.\u001b[0m\n"
     ]
    },
    {
     "name": "stdout",
     "output_type": "stream",
     "text": [
      "F1 Score: 0.8465372323989868; Loss=0.6972183585166931\n"
     ]
    },
    {
     "name": "stderr",
     "output_type": "stream",
     "text": [
      "2022-08-03 12:42:09.231096: I tensorflow/core/grappler/optimizers/custom_graph_optimizer_registry.cc:113] Plugin optimizer for device_type GPU is enabled.\n",
      "2022-08-03 12:42:27.813258: I tensorflow/core/grappler/optimizers/custom_graph_optimizer_registry.cc:113] Plugin optimizer for device_type GPU is enabled.\n",
      "\u001b[32m[I 2022-08-03 12:42:28,274]\u001b[0m Trial 50 finished with value: 0.8689057230949402 and parameters: {'learning_rate': 0.009267203843936722, 'hidden_layer_size1': 602, 'kernel_regularizer': 4.857356370134431e-06, 'bias_regularizer': 8.794091521353392e-05, 'activity_regularizer': 8.052960335424184e-05, 'dropout': 0.06303332803275509}. Best is trial 48 with value: 0.9458847641944885.\u001b[0m\n"
     ]
    },
    {
     "name": "stdout",
     "output_type": "stream",
     "text": [
      "F1 Score: 0.8689057230949402; Loss=0.5939596891403198\n"
     ]
    },
    {
     "name": "stderr",
     "output_type": "stream",
     "text": [
      "2022-08-03 12:42:28.930318: I tensorflow/core/grappler/optimizers/custom_graph_optimizer_registry.cc:113] Plugin optimizer for device_type GPU is enabled.\n",
      "2022-08-03 12:42:49.895885: I tensorflow/core/grappler/optimizers/custom_graph_optimizer_registry.cc:113] Plugin optimizer for device_type GPU is enabled.\n",
      "\u001b[32m[I 2022-08-03 12:42:50,347]\u001b[0m Trial 51 finished with value: 0.8758615255355835 and parameters: {'learning_rate': 0.008450410690535941, 'hidden_layer_size1': 843, 'kernel_regularizer': 1.194854208884493e-06, 'bias_regularizer': 9.486200412557452e-05, 'activity_regularizer': 9.616263236282194e-05, 'dropout': 0.0715073812378219}. Best is trial 48 with value: 0.9458847641944885.\u001b[0m\n"
     ]
    },
    {
     "name": "stdout",
     "output_type": "stream",
     "text": [
      "F1 Score: 0.8758615255355835; Loss=0.4715663194656372\n"
     ]
    },
    {
     "name": "stderr",
     "output_type": "stream",
     "text": [
      "2022-08-03 12:42:51.279445: I tensorflow/core/grappler/optimizers/custom_graph_optimizer_registry.cc:113] Plugin optimizer for device_type GPU is enabled.\n",
      "2022-08-03 12:43:09.811057: I tensorflow/core/grappler/optimizers/custom_graph_optimizer_registry.cc:113] Plugin optimizer for device_type GPU is enabled.\n",
      "\u001b[32m[I 2022-08-03 12:43:10,248]\u001b[0m Trial 52 finished with value: 0.9090678095817566 and parameters: {'learning_rate': 0.008729055800263142, 'hidden_layer_size1': 475, 'kernel_regularizer': 4.909045195966517e-07, 'bias_regularizer': 8.282965634869966e-05, 'activity_regularizer': 8.977379557650053e-05, 'dropout': 0.07780621586404421}. Best is trial 48 with value: 0.9458847641944885.\u001b[0m\n"
     ]
    },
    {
     "name": "stdout",
     "output_type": "stream",
     "text": [
      "F1 Score: 0.9090678095817566; Loss=0.39755958318710327\n"
     ]
    },
    {
     "name": "stderr",
     "output_type": "stream",
     "text": [
      "2022-08-03 12:43:10.846020: I tensorflow/core/grappler/optimizers/custom_graph_optimizer_registry.cc:113] Plugin optimizer for device_type GPU is enabled.\n",
      "2022-08-03 12:43:29.542654: I tensorflow/core/grappler/optimizers/custom_graph_optimizer_registry.cc:113] Plugin optimizer for device_type GPU is enabled.\n",
      "\u001b[32m[I 2022-08-03 12:43:30,052]\u001b[0m Trial 53 finished with value: 0.8550314903259277 and parameters: {'learning_rate': 0.008862904513235337, 'hidden_layer_size1': 466, 'kernel_regularizer': 5.3594063839689835e-06, 'bias_regularizer': 7.868517019419889e-05, 'activity_regularizer': 7.453175429260461e-05, 'dropout': 0.07882508915838285}. Best is trial 48 with value: 0.9458847641944885.\u001b[0m\n"
     ]
    },
    {
     "name": "stdout",
     "output_type": "stream",
     "text": [
      "F1 Score: 0.8550314903259277; Loss=0.6263078451156616\n"
     ]
    },
    {
     "name": "stderr",
     "output_type": "stream",
     "text": [
      "2022-08-03 12:43:30.604079: I tensorflow/core/grappler/optimizers/custom_graph_optimizer_registry.cc:113] Plugin optimizer for device_type GPU is enabled.\n",
      "2022-08-03 12:43:49.384749: I tensorflow/core/grappler/optimizers/custom_graph_optimizer_registry.cc:113] Plugin optimizer for device_type GPU is enabled.\n",
      "\u001b[32m[I 2022-08-03 12:43:49,910]\u001b[0m Trial 54 finished with value: 0.8261552453041077 and parameters: {'learning_rate': 0.008081649035172563, 'hidden_layer_size1': 337, 'kernel_regularizer': 1.0999332746547327e-05, 'bias_regularizer': 1.2771274116115992e-05, 'activity_regularizer': 8.606475922015794e-05, 'dropout': 0.06888757079422059}. Best is trial 48 with value: 0.9458847641944885.\u001b[0m\n"
     ]
    },
    {
     "name": "stdout",
     "output_type": "stream",
     "text": [
      "F1 Score: 0.8261552453041077; Loss=0.7256795763969421\n"
     ]
    },
    {
     "name": "stderr",
     "output_type": "stream",
     "text": [
      "2022-08-03 12:43:50.710825: I tensorflow/core/grappler/optimizers/custom_graph_optimizer_registry.cc:113] Plugin optimizer for device_type GPU is enabled.\n",
      "2022-08-03 12:44:10.552018: I tensorflow/core/grappler/optimizers/custom_graph_optimizer_registry.cc:113] Plugin optimizer for device_type GPU is enabled.\n",
      "\u001b[32m[I 2022-08-03 12:44:11,086]\u001b[0m Trial 55 finished with value: 0.7598414421081543 and parameters: {'learning_rate': 0.009704421032869328, 'hidden_layer_size1': 418, 'kernel_regularizer': 6.938244366623898e-05, 'bias_regularizer': 7.53415522329809e-05, 'activity_regularizer': 6.931521119401822e-05, 'dropout': 0.09329462943090941}. Best is trial 48 with value: 0.9458847641944885.\u001b[0m\n"
     ]
    },
    {
     "name": "stdout",
     "output_type": "stream",
     "text": [
      "F1 Score: 0.7598414421081543; Loss=1.1052173376083374\n"
     ]
    },
    {
     "name": "stderr",
     "output_type": "stream",
     "text": [
      "2022-08-03 12:44:11.644270: I tensorflow/core/grappler/optimizers/custom_graph_optimizer_registry.cc:113] Plugin optimizer for device_type GPU is enabled.\n",
      "2022-08-03 12:44:32.199157: I tensorflow/core/grappler/optimizers/custom_graph_optimizer_registry.cc:113] Plugin optimizer for device_type GPU is enabled.\n",
      "\u001b[32m[I 2022-08-03 12:44:32,743]\u001b[0m Trial 56 finished with value: 0.8158084750175476 and parameters: {'learning_rate': 0.006698270378664297, 'hidden_layer_size1': 481, 'kernel_regularizer': 1.536340945244266e-05, 'bias_regularizer': 9.900436032640954e-05, 'activity_regularizer': 9.044784098029751e-05, 'dropout': 0.07971476313670747}. Best is trial 48 with value: 0.9458847641944885.\u001b[0m\n"
     ]
    },
    {
     "name": "stdout",
     "output_type": "stream",
     "text": [
      "F1 Score: 0.8158084750175476; Loss=0.7763140201568604\n"
     ]
    },
    {
     "name": "stderr",
     "output_type": "stream",
     "text": [
      "2022-08-03 12:44:33.337878: I tensorflow/core/grappler/optimizers/custom_graph_optimizer_registry.cc:113] Plugin optimizer for device_type GPU is enabled.\n",
      "2022-08-03 12:44:55.817292: I tensorflow/core/grappler/optimizers/custom_graph_optimizer_registry.cc:113] Plugin optimizer for device_type GPU is enabled.\n",
      "\u001b[32m[I 2022-08-03 12:44:56,339]\u001b[0m Trial 57 finished with value: 0.7270220518112183 and parameters: {'learning_rate': 0.0074262765372059844, 'hidden_layer_size1': 662, 'kernel_regularizer': 9.965412494456021e-05, 'bias_regularizer': 8.799181735717331e-05, 'activity_regularizer': 7.980419911745191e-05, 'dropout': 0.06718621440217463}. Best is trial 48 with value: 0.9458847641944885.\u001b[0m\n"
     ]
    },
    {
     "name": "stdout",
     "output_type": "stream",
     "text": [
      "F1 Score: 0.7270220518112183; Loss=1.188931941986084\n"
     ]
    },
    {
     "name": "stderr",
     "output_type": "stream",
     "text": [
      "2022-08-03 12:44:56.927343: I tensorflow/core/grappler/optimizers/custom_graph_optimizer_registry.cc:113] Plugin optimizer for device_type GPU is enabled.\n",
      "2022-08-03 12:45:18.438556: I tensorflow/core/grappler/optimizers/custom_graph_optimizer_registry.cc:113] Plugin optimizer for device_type GPU is enabled.\n",
      "\u001b[32m[I 2022-08-03 12:45:18,994]\u001b[0m Trial 58 finished with value: 0.8647223114967346 and parameters: {'learning_rate': 0.008084260582039407, 'hidden_layer_size1': 780, 'kernel_regularizer': 4.96724463292432e-06, 'bias_regularizer': 9.55037255704175e-05, 'activity_regularizer': 9.715435185898498e-05, 'dropout': 0.09630141186528249}. Best is trial 48 with value: 0.9458847641944885.\u001b[0m\n"
     ]
    },
    {
     "name": "stdout",
     "output_type": "stream",
     "text": [
      "F1 Score: 0.8647223114967346; Loss=0.599498987197876\n"
     ]
    },
    {
     "name": "stderr",
     "output_type": "stream",
     "text": [
      "2022-08-03 12:45:19.872559: I tensorflow/core/grappler/optimizers/custom_graph_optimizer_registry.cc:113] Plugin optimizer for device_type GPU is enabled.\n",
      "2022-08-03 12:45:38.398210: I tensorflow/core/grappler/optimizers/custom_graph_optimizer_registry.cc:113] Plugin optimizer for device_type GPU is enabled.\n",
      "\u001b[32m[I 2022-08-03 12:45:39,030]\u001b[0m Trial 59 finished with value: 0.7930630445480347 and parameters: {'learning_rate': 0.008828343375575197, 'hidden_layer_size1': 261, 'kernel_regularizer': 2.074294083567266e-05, 'bias_regularizer': 9.996057098218507e-05, 'activity_regularizer': 3.824105935901262e-05, 'dropout': 0.08750127362173855}. Best is trial 48 with value: 0.9458847641944885.\u001b[0m\n"
     ]
    },
    {
     "name": "stdout",
     "output_type": "stream",
     "text": [
      "F1 Score: 0.7930630445480347; Loss=0.8552155494689941\n"
     ]
    },
    {
     "name": "stderr",
     "output_type": "stream",
     "text": [
      "2022-08-03 12:45:39.573043: I tensorflow/core/grappler/optimizers/custom_graph_optimizer_registry.cc:113] Plugin optimizer for device_type GPU is enabled.\n",
      "2022-08-03 12:46:01.539948: I tensorflow/core/grappler/optimizers/custom_graph_optimizer_registry.cc:113] Plugin optimizer for device_type GPU is enabled.\n",
      "\u001b[32m[I 2022-08-03 12:46:02,177]\u001b[0m Trial 60 finished with value: 0.8485853672027588 and parameters: {'learning_rate': 0.009518200872464199, 'hidden_layer_size1': 577, 'kernel_regularizer': 9.962462447756706e-06, 'bias_regularizer': 8.358003214807155e-05, 'activity_regularizer': 8.38048290989943e-05, 'dropout': 0.07232582546219353}. Best is trial 48 with value: 0.9458847641944885.\u001b[0m\n"
     ]
    },
    {
     "name": "stdout",
     "output_type": "stream",
     "text": [
      "F1 Score: 0.8485853672027588; Loss=0.6846688389778137\n"
     ]
    },
    {
     "name": "stderr",
     "output_type": "stream",
     "text": [
      "2022-08-03 12:46:02.758825: I tensorflow/core/grappler/optimizers/custom_graph_optimizer_registry.cc:113] Plugin optimizer for device_type GPU is enabled.\n",
      "2022-08-03 12:46:26.922452: I tensorflow/core/grappler/optimizers/custom_graph_optimizer_registry.cc:113] Plugin optimizer for device_type GPU is enabled.\n",
      "\u001b[32m[I 2022-08-03 12:46:27,421]\u001b[0m Trial 61 finished with value: 0.8841738700866699 and parameters: {'learning_rate': 0.0049532090668859465, 'hidden_layer_size1': 899, 'kernel_regularizer': 7.725038789074432e-07, 'bias_regularizer': 8.334191247869489e-05, 'activity_regularizer': 9.241120166145508e-05, 'dropout': 0.07671089877597127}. Best is trial 48 with value: 0.9458847641944885.\u001b[0m\n"
     ]
    },
    {
     "name": "stdout",
     "output_type": "stream",
     "text": [
      "F1 Score: 0.8841738700866699; Loss=0.4612185060977936\n"
     ]
    },
    {
     "name": "stderr",
     "output_type": "stream",
     "text": [
      "2022-08-03 12:46:28.298208: I tensorflow/core/grappler/optimizers/custom_graph_optimizer_registry.cc:113] Plugin optimizer for device_type GPU is enabled.\n",
      "2022-08-03 12:46:52.620200: I tensorflow/core/grappler/optimizers/custom_graph_optimizer_registry.cc:113] Plugin optimizer for device_type GPU is enabled.\n",
      "\u001b[32m[I 2022-08-03 12:46:53,230]\u001b[0m Trial 62 finished with value: 0.8378259539604187 and parameters: {'learning_rate': 0.004810329145846259, 'hidden_layer_size1': 966, 'kernel_regularizer': 3.306506207982858e-06, 'bias_regularizer': 8.918849817027706e-05, 'activity_regularizer': 8.799581945015278e-05, 'dropout': 0.07819986993579393}. Best is trial 48 with value: 0.9458847641944885.\u001b[0m\n"
     ]
    },
    {
     "name": "stdout",
     "output_type": "stream",
     "text": [
      "F1 Score: 0.8378259539604187; Loss=0.571246862411499\n"
     ]
    },
    {
     "name": "stderr",
     "output_type": "stream",
     "text": [
      "2022-08-03 12:46:53.956991: I tensorflow/core/grappler/optimizers/custom_graph_optimizer_registry.cc:113] Plugin optimizer for device_type GPU is enabled.\n",
      "2022-08-03 12:47:18.689093: I tensorflow/core/grappler/optimizers/custom_graph_optimizer_registry.cc:113] Plugin optimizer for device_type GPU is enabled.\n",
      "\u001b[32m[I 2022-08-03 12:47:19,425]\u001b[0m Trial 63 finished with value: 0.9177345037460327 and parameters: {'learning_rate': 0.006451483285007942, 'hidden_layer_size1': 916, 'kernel_regularizer': 3.171917495205528e-08, 'bias_regularizer': 7.91962856274997e-05, 'activity_regularizer': 9.183312350447959e-05, 'dropout': 0.08234650197618947}. Best is trial 48 with value: 0.9458847641944885.\u001b[0m\n"
     ]
    },
    {
     "name": "stdout",
     "output_type": "stream",
     "text": [
      "F1 Score: 0.9177345037460327; Loss=0.33207595348358154\n"
     ]
    },
    {
     "name": "stderr",
     "output_type": "stream",
     "text": [
      "2022-08-03 12:47:20.014083: I tensorflow/core/grappler/optimizers/custom_graph_optimizer_registry.cc:113] Plugin optimizer for device_type GPU is enabled.\n",
      "2022-08-03 12:47:43.223712: I tensorflow/core/grappler/optimizers/custom_graph_optimizer_registry.cc:113] Plugin optimizer for device_type GPU is enabled.\n",
      "\u001b[32m[I 2022-08-03 12:47:43,904]\u001b[0m Trial 64 finished with value: 0.8525061011314392 and parameters: {'learning_rate': 0.006283240491302446, 'hidden_layer_size1': 744, 'kernel_regularizer': 7.413696957608501e-06, 'bias_regularizer': 7.916812521060024e-05, 'activity_regularizer': 9.774762250385845e-05, 'dropout': 0.08268308180926383}. Best is trial 48 with value: 0.9458847641944885.\u001b[0m\n"
     ]
    },
    {
     "name": "stdout",
     "output_type": "stream",
     "text": [
      "F1 Score: 0.8525061011314392; Loss=0.6671491265296936\n"
     ]
    },
    {
     "name": "stderr",
     "output_type": "stream",
     "text": [
      "2022-08-03 12:47:44.529925: I tensorflow/core/grappler/optimizers/custom_graph_optimizer_registry.cc:113] Plugin optimizer for device_type GPU is enabled.\n",
      "2022-08-03 12:48:09.323890: I tensorflow/core/grappler/optimizers/custom_graph_optimizer_registry.cc:113] Plugin optimizer for device_type GPU is enabled.\n",
      "\u001b[32m[I 2022-08-03 12:48:09,961]\u001b[0m Trial 65 finished with value: 0.8553546667098999 and parameters: {'learning_rate': 0.005528771846861231, 'hidden_layer_size1': 815, 'kernel_regularizer': 3.7346086466314046e-06, 'bias_regularizer': 9.245773453225242e-05, 'activity_regularizer': 9.047466299497485e-05, 'dropout': 0.0905505304304086}. Best is trial 48 with value: 0.9458847641944885.\u001b[0m\n"
     ]
    },
    {
     "name": "stdout",
     "output_type": "stream",
     "text": [
      "F1 Score: 0.8553546667098999; Loss=0.5764725804328918\n"
     ]
    },
    {
     "name": "stderr",
     "output_type": "stream",
     "text": [
      "2022-08-03 12:48:10.524829: I tensorflow/core/grappler/optimizers/custom_graph_optimizer_registry.cc:113] Plugin optimizer for device_type GPU is enabled.\n",
      "2022-08-03 12:48:36.671372: I tensorflow/core/grappler/optimizers/custom_graph_optimizer_registry.cc:113] Plugin optimizer for device_type GPU is enabled.\n",
      "\u001b[32m[I 2022-08-03 12:48:37,396]\u001b[0m Trial 66 finished with value: 0.842334508895874 and parameters: {'learning_rate': 0.009996816325426932, 'hidden_layer_size1': 1022, 'kernel_regularizer': 1.3822696854658151e-05, 'bias_regularizer': 7.397775833993084e-05, 'activity_regularizer': 8.488615094382601e-05, 'dropout': 0.08191240640847587}. Best is trial 48 with value: 0.9458847641944885.\u001b[0m\n"
     ]
    },
    {
     "name": "stdout",
     "output_type": "stream",
     "text": [
      "F1 Score: 0.842334508895874; Loss=0.7283332943916321\n"
     ]
    },
    {
     "name": "stderr",
     "output_type": "stream",
     "text": [
      "2022-08-03 12:48:38.032313: I tensorflow/core/grappler/optimizers/custom_graph_optimizer_registry.cc:113] Plugin optimizer for device_type GPU is enabled.\n",
      "2022-08-03 12:49:02.966916: I tensorflow/core/grappler/optimizers/custom_graph_optimizer_registry.cc:113] Plugin optimizer for device_type GPU is enabled.\n",
      "\u001b[32m[I 2022-08-03 12:49:03,510]\u001b[0m Trial 67 finished with value: 0.9141373634338379 and parameters: {'learning_rate': 0.005932110764385725, 'hidden_layer_size1': 905, 'kernel_regularizer': 6.669010998788875e-08, 'bias_regularizer': 8.616060896013533e-05, 'activity_regularizer': 8.778804681822134e-05, 'dropout': 0.061620654052830216}. Best is trial 48 with value: 0.9458847641944885.\u001b[0m\n"
     ]
    },
    {
     "name": "stdout",
     "output_type": "stream",
     "text": [
      "F1 Score: 0.9141373634338379; Loss=0.35010218620300293\n"
     ]
    },
    {
     "name": "stderr",
     "output_type": "stream",
     "text": [
      "2022-08-03 12:49:04.080341: I tensorflow/core/grappler/optimizers/custom_graph_optimizer_registry.cc:113] Plugin optimizer for device_type GPU is enabled.\n",
      "2022-08-03 12:49:28.215543: I tensorflow/core/grappler/optimizers/custom_graph_optimizer_registry.cc:113] Plugin optimizer for device_type GPU is enabled.\n",
      "\u001b[32m[I 2022-08-03 12:49:28,692]\u001b[0m Trial 68 finished with value: 0.8473955392837524 and parameters: {'learning_rate': 0.006905815901287943, 'hidden_layer_size1': 938, 'kernel_regularizer': 7.846728813291589e-06, 'bias_regularizer': 8.563265534864941e-05, 'activity_regularizer': 7.32005637864536e-05, 'dropout': 0.054116889788248565}. Best is trial 48 with value: 0.9458847641944885.\u001b[0m\n"
     ]
    },
    {
     "name": "stdout",
     "output_type": "stream",
     "text": [
      "F1 Score: 0.8473955392837524; Loss=0.6556915640830994\n"
     ]
    },
    {
     "name": "stderr",
     "output_type": "stream",
     "text": [
      "2022-08-03 12:49:29.577658: I tensorflow/core/grappler/optimizers/custom_graph_optimizer_registry.cc:113] Plugin optimizer for device_type GPU is enabled.\n",
      "2022-08-03 12:49:52.695975: I tensorflow/core/grappler/optimizers/custom_graph_optimizer_registry.cc:113] Plugin optimizer for device_type GPU is enabled.\n",
      "\u001b[32m[I 2022-08-03 12:49:53,210]\u001b[0m Trial 69 finished with value: 0.844428539276123 and parameters: {'learning_rate': 0.006419034643337609, 'hidden_layer_size1': 898, 'kernel_regularizer': 1.7159126342028713e-05, 'bias_regularizer': 9.074569372434343e-05, 'activity_regularizer': 9.999487380712414e-05, 'dropout': 0.06014822078208666}. Best is trial 48 with value: 0.9458847641944885.\u001b[0m\n"
     ]
    },
    {
     "name": "stdout",
     "output_type": "stream",
     "text": [
      "F1 Score: 0.844428539276123; Loss=0.7885534763336182\n"
     ]
    },
    {
     "name": "stderr",
     "output_type": "stream",
     "text": [
      "2022-08-03 12:49:53.810079: I tensorflow/core/grappler/optimizers/custom_graph_optimizer_registry.cc:113] Plugin optimizer for device_type GPU is enabled.\n",
      "2022-08-03 12:50:17.866466: I tensorflow/core/grappler/optimizers/custom_graph_optimizer_registry.cc:113] Plugin optimizer for device_type GPU is enabled.\n",
      "\u001b[32m[I 2022-08-03 12:50:18,481]\u001b[0m Trial 70 finished with value: 0.8633816242218018 and parameters: {'learning_rate': 0.005959295929567213, 'hidden_layer_size1': 981, 'kernel_regularizer': 2.850529916705599e-06, 'bias_regularizer': 4.941369773739439e-05, 'activity_regularizer': 7.780855868751194e-05, 'dropout': 0.04793597728030448}. Best is trial 48 with value: 0.9458847641944885.\u001b[0m\n"
     ]
    },
    {
     "name": "stdout",
     "output_type": "stream",
     "text": [
      "F1 Score: 0.8633816242218018; Loss=0.5476189851760864\n"
     ]
    },
    {
     "name": "stderr",
     "output_type": "stream",
     "text": [
      "2022-08-03 12:50:19.111280: I tensorflow/core/grappler/optimizers/custom_graph_optimizer_registry.cc:113] Plugin optimizer for device_type GPU is enabled.\n",
      "2022-08-03 12:50:42.857750: I tensorflow/core/grappler/optimizers/custom_graph_optimizer_registry.cc:113] Plugin optimizer for device_type GPU is enabled.\n",
      "\u001b[32m[I 2022-08-03 12:50:43,450]\u001b[0m Trial 71 finished with value: 0.8959465026855469 and parameters: {'learning_rate': 0.005235380191340832, 'hidden_layer_size1': 858, 'kernel_regularizer': 5.593347331584549e-07, 'bias_regularizer': 9.67969461068622e-05, 'activity_regularizer': 8.763703465474941e-05, 'dropout': 0.06851810134051607}. Best is trial 48 with value: 0.9458847641944885.\u001b[0m\n"
     ]
    },
    {
     "name": "stdout",
     "output_type": "stream",
     "text": [
      "F1 Score: 0.8959465026855469; Loss=0.43362462520599365\n"
     ]
    },
    {
     "name": "stderr",
     "output_type": "stream",
     "text": [
      "2022-08-03 12:50:44.503424: I tensorflow/core/grappler/optimizers/custom_graph_optimizer_registry.cc:113] Plugin optimizer for device_type GPU is enabled.\n",
      "2022-08-03 12:51:08.083788: I tensorflow/core/grappler/optimizers/custom_graph_optimizer_registry.cc:113] Plugin optimizer for device_type GPU is enabled.\n",
      "\u001b[32m[I 2022-08-03 12:51:08,606]\u001b[0m Trial 72 finished with value: 0.8508461713790894 and parameters: {'learning_rate': 0.009224104777541695, 'hidden_layer_size1': 864, 'kernel_regularizer': 9.582976760302005e-06, 'bias_regularizer': 9.584766692680713e-05, 'activity_regularizer': 8.722679218479353e-05, 'dropout': 0.06855655883071753}. Best is trial 48 with value: 0.9458847641944885.\u001b[0m\n"
     ]
    },
    {
     "name": "stdout",
     "output_type": "stream",
     "text": [
      "F1 Score: 0.8508461713790894; Loss=0.6723510026931763\n"
     ]
    },
    {
     "name": "stderr",
     "output_type": "stream",
     "text": [
      "2022-08-03 12:51:09.236376: I tensorflow/core/grappler/optimizers/custom_graph_optimizer_registry.cc:113] Plugin optimizer for device_type GPU is enabled.\n",
      "2022-08-03 12:51:32.571238: I tensorflow/core/grappler/optimizers/custom_graph_optimizer_registry.cc:113] Plugin optimizer for device_type GPU is enabled.\n",
      "\u001b[32m[I 2022-08-03 12:51:33,248]\u001b[0m Trial 73 finished with value: 0.8589115738868713 and parameters: {'learning_rate': 0.005282443645679757, 'hidden_layer_size1': 922, 'kernel_regularizer': 3.477788580415618e-06, 'bias_regularizer': 9.290158117833461e-05, 'activity_regularizer': 8.260161183039835e-05, 'dropout': 0.010960483265951691}. Best is trial 48 with value: 0.9458847641944885.\u001b[0m\n"
     ]
    },
    {
     "name": "stdout",
     "output_type": "stream",
     "text": [
      "F1 Score: 0.8589115738868713; Loss=0.5633227825164795\n"
     ]
    },
    {
     "name": "stderr",
     "output_type": "stream",
     "text": [
      "2022-08-03 12:51:33.921223: I tensorflow/core/grappler/optimizers/custom_graph_optimizer_registry.cc:113] Plugin optimizer for device_type GPU is enabled.\n",
      "2022-08-03 12:51:59.724738: I tensorflow/core/grappler/optimizers/custom_graph_optimizer_registry.cc:113] Plugin optimizer for device_type GPU is enabled.\n",
      "\u001b[32m[I 2022-08-03 12:52:00,361]\u001b[0m Trial 74 finished with value: 0.8676185011863708 and parameters: {'learning_rate': 0.008642955871963095, 'hidden_layer_size1': 951, 'kernel_regularizer': 6.387636253166109e-06, 'bias_regularizer': 9.699654302882188e-05, 'activity_regularizer': 9.56030891525006e-05, 'dropout': 0.0764145146152856}. Best is trial 48 with value: 0.9458847641944885.\u001b[0m\n"
     ]
    },
    {
     "name": "stdout",
     "output_type": "stream",
     "text": [
      "F1 Score: 0.8676185011863708; Loss=0.6327961087226868\n"
     ]
    },
    {
     "name": "stderr",
     "output_type": "stream",
     "text": [
      "2022-08-03 12:52:01.035494: I tensorflow/core/grappler/optimizers/custom_graph_optimizer_registry.cc:113] Plugin optimizer for device_type GPU is enabled.\n",
      "2022-08-03 12:52:26.485798: I tensorflow/core/grappler/optimizers/custom_graph_optimizer_registry.cc:113] Plugin optimizer for device_type GPU is enabled.\n",
      "\u001b[32m[I 2022-08-03 12:52:27,192]\u001b[0m Trial 75 finished with value: 0.9306896924972534 and parameters: {'learning_rate': 0.008127463402247815, 'hidden_layer_size1': 771, 'kernel_regularizer': 2.7624495333947986e-07, 'bias_regularizer': 8.763417888411926e-05, 'activity_regularizer': 9.287818212812454e-05, 'dropout': 0.06355638936202651}. Best is trial 48 with value: 0.9458847641944885.\u001b[0m\n"
     ]
    },
    {
     "name": "stdout",
     "output_type": "stream",
     "text": [
      "F1 Score: 0.9306896924972534; Loss=0.35529646277427673\n"
     ]
    },
    {
     "name": "stderr",
     "output_type": "stream",
     "text": [
      "2022-08-03 12:52:28.196687: I tensorflow/core/grappler/optimizers/custom_graph_optimizer_registry.cc:113] Plugin optimizer for device_type GPU is enabled.\n",
      "2022-08-03 12:52:53.137447: I tensorflow/core/grappler/optimizers/custom_graph_optimizer_registry.cc:113] Plugin optimizer for device_type GPU is enabled.\n",
      "\u001b[32m[I 2022-08-03 12:52:53,785]\u001b[0m Trial 76 finished with value: 0.8616390228271484 and parameters: {'learning_rate': 0.00796925144849635, 'hidden_layer_size1': 783, 'kernel_regularizer': 2.706377450189736e-06, 'bias_regularizer': 7.727159915140965e-05, 'activity_regularizer': 9.286360239923327e-05, 'dropout': 0.0630977228191695}. Best is trial 48 with value: 0.9458847641944885.\u001b[0m\n"
     ]
    },
    {
     "name": "stdout",
     "output_type": "stream",
     "text": [
      "F1 Score: 0.8616390228271484; Loss=0.5486257076263428\n"
     ]
    },
    {
     "name": "stderr",
     "output_type": "stream",
     "text": [
      "2022-08-03 12:52:54.353042: I tensorflow/core/grappler/optimizers/custom_graph_optimizer_registry.cc:113] Plugin optimizer for device_type GPU is enabled.\n",
      "2022-08-03 12:53:18.964481: I tensorflow/core/grappler/optimizers/custom_graph_optimizer_registry.cc:113] Plugin optimizer for device_type GPU is enabled.\n",
      "\u001b[32m[I 2022-08-03 12:53:19,684]\u001b[0m Trial 77 finished with value: 0.9257915019989014 and parameters: {'learning_rate': 0.007525999036980466, 'hidden_layer_size1': 715, 'kernel_regularizer': 3.568874951985338e-08, 'bias_regularizer': 8.646468913432277e-05, 'activity_regularizer': 8.714434813637435e-05, 'dropout': 0.06274262992490624}. Best is trial 48 with value: 0.9458847641944885.\u001b[0m\n"
     ]
    },
    {
     "name": "stdout",
     "output_type": "stream",
     "text": [
      "F1 Score: 0.9257915019989014; Loss=0.3148301839828491\n"
     ]
    },
    {
     "name": "stderr",
     "output_type": "stream",
     "text": [
      "2022-08-03 12:53:20.285839: I tensorflow/core/grappler/optimizers/custom_graph_optimizer_registry.cc:113] Plugin optimizer for device_type GPU is enabled.\n",
      "2022-08-03 12:53:43.966143: I tensorflow/core/grappler/optimizers/custom_graph_optimizer_registry.cc:113] Plugin optimizer for device_type GPU is enabled.\n",
      "\u001b[32m[I 2022-08-03 12:53:44,676]\u001b[0m Trial 78 finished with value: 0.8451302647590637 and parameters: {'learning_rate': 0.0073927161253322556, 'hidden_layer_size1': 635, 'kernel_regularizer': 9.71637937645999e-06, 'bias_regularizer': 8.71453272867773e-05, 'activity_regularizer': 9.753400683550236e-07, 'dropout': 0.06194607364709513}. Best is trial 48 with value: 0.9458847641944885.\u001b[0m\n"
     ]
    },
    {
     "name": "stdout",
     "output_type": "stream",
     "text": [
      "F1 Score: 0.8451302647590637; Loss=0.7050413489341736\n"
     ]
    },
    {
     "name": "stderr",
     "output_type": "stream",
     "text": [
      "2022-08-03 12:53:45.606287: I tensorflow/core/grappler/optimizers/custom_graph_optimizer_registry.cc:113] Plugin optimizer for device_type GPU is enabled.\n",
      "2022-08-03 12:54:09.470843: I tensorflow/core/grappler/optimizers/custom_graph_optimizer_registry.cc:113] Plugin optimizer for device_type GPU is enabled.\n",
      "\u001b[32m[I 2022-08-03 12:54:10,227]\u001b[0m Trial 79 finished with value: 0.8183863162994385 and parameters: {'learning_rate': 0.008249324462544292, 'hidden_layer_size1': 703, 'kernel_regularizer': 2.401070764403353e-05, 'bias_regularizer': 8.497089788522167e-05, 'activity_regularizer': 9.411610585940312e-05, 'dropout': 0.05699886167931422}. Best is trial 48 with value: 0.9458847641944885.\u001b[0m\n"
     ]
    },
    {
     "name": "stdout",
     "output_type": "stream",
     "text": [
      "F1 Score: 0.8183863162994385; Loss=0.8461992144584656\n"
     ]
    },
    {
     "name": "stderr",
     "output_type": "stream",
     "text": [
      "2022-08-03 12:54:10.956924: I tensorflow/core/grappler/optimizers/custom_graph_optimizer_registry.cc:113] Plugin optimizer for device_type GPU is enabled.\n",
      "2022-08-03 12:54:35.543619: I tensorflow/core/grappler/optimizers/custom_graph_optimizer_registry.cc:113] Plugin optimizer for device_type GPU is enabled.\n",
      "\u001b[32m[I 2022-08-03 12:54:36,355]\u001b[0m Trial 80 finished with value: 0.7712199091911316 and parameters: {'learning_rate': 0.007491187634127315, 'hidden_layer_size1': 748, 'kernel_regularizer': 5.617041196499633e-05, 'bias_regularizer': 8.933430314849464e-05, 'activity_regularizer': 8.196079131174589e-05, 'dropout': 0.06649751854512514}. Best is trial 48 with value: 0.9458847641944885.\u001b[0m\n"
     ]
    },
    {
     "name": "stdout",
     "output_type": "stream",
     "text": [
      "F1 Score: 0.7712199091911316; Loss=1.0410268306732178\n"
     ]
    },
    {
     "name": "stderr",
     "output_type": "stream",
     "text": [
      "2022-08-03 12:54:37.052292: I tensorflow/core/grappler/optimizers/custom_graph_optimizer_registry.cc:113] Plugin optimizer for device_type GPU is enabled.\n",
      "2022-08-03 12:55:03.659279: I tensorflow/core/grappler/optimizers/custom_graph_optimizer_registry.cc:113] Plugin optimizer for device_type GPU is enabled.\n",
      "\u001b[32m[I 2022-08-03 12:55:04,244]\u001b[0m Trial 81 finished with value: 0.8601303100585938 and parameters: {'learning_rate': 0.007865943384228578, 'hidden_layer_size1': 842, 'kernel_regularizer': 5.819242300873473e-06, 'bias_regularizer': 9.42014787989688e-05, 'activity_regularizer': 8.887531417595552e-05, 'dropout': 0.0731326158310496}. Best is trial 48 with value: 0.9458847641944885.\u001b[0m\n"
     ]
    },
    {
     "name": "stdout",
     "output_type": "stream",
     "text": [
      "F1 Score: 0.8601303100585938; Loss=0.6153897047042847\n"
     ]
    },
    {
     "name": "stderr",
     "output_type": "stream",
     "text": [
      "2022-08-03 12:55:04.973690: I tensorflow/core/grappler/optimizers/custom_graph_optimizer_registry.cc:113] Plugin optimizer for device_type GPU is enabled.\n",
      "2022-08-03 12:55:38.051816: I tensorflow/core/grappler/optimizers/custom_graph_optimizer_registry.cc:113] Plugin optimizer for device_type GPU is enabled.\n",
      "\u001b[32m[I 2022-08-03 12:55:38,775]\u001b[0m Trial 82 finished with value: 0.9007008075714111 and parameters: {'learning_rate': 0.007118973334335438, 'hidden_layer_size1': 728, 'kernel_regularizer': 8.684543883992769e-07, 'bias_regularizer': 9.00936645965362e-05, 'activity_regularizer': 8.584331318003597e-05, 'dropout': 0.06809987968275015}. Best is trial 48 with value: 0.9458847641944885.\u001b[0m\n"
     ]
    },
    {
     "name": "stdout",
     "output_type": "stream",
     "text": [
      "F1 Score: 0.9007008075714111; Loss=0.4335550367832184\n"
     ]
    },
    {
     "name": "stderr",
     "output_type": "stream",
     "text": [
      "2022-08-03 12:55:39.853742: I tensorflow/core/grappler/optimizers/custom_graph_optimizer_registry.cc:113] Plugin optimizer for device_type GPU is enabled.\n",
      "2022-08-03 12:56:04.127056: I tensorflow/core/grappler/optimizers/custom_graph_optimizer_registry.cc:113] Plugin optimizer for device_type GPU is enabled.\n",
      "\u001b[32m[I 2022-08-03 12:56:04,708]\u001b[0m Trial 83 finished with value: 0.921330451965332 and parameters: {'learning_rate': 0.006956214909279024, 'hidden_layer_size1': 730, 'kernel_regularizer': 2.235097464004e-07, 'bias_regularizer': 8.024462625623944e-05, 'activity_regularizer': 8.54876120281997e-05, 'dropout': 0.06532099947889154}. Best is trial 48 with value: 0.9458847641944885.\u001b[0m\n"
     ]
    },
    {
     "name": "stdout",
     "output_type": "stream",
     "text": [
      "F1 Score: 0.921330451965332; Loss=0.37089306116104126\n"
     ]
    },
    {
     "name": "stderr",
     "output_type": "stream",
     "text": [
      "2022-08-03 12:56:05.397038: I tensorflow/core/grappler/optimizers/custom_graph_optimizer_registry.cc:113] Plugin optimizer for device_type GPU is enabled.\n",
      "2022-08-03 12:56:30.251341: I tensorflow/core/grappler/optimizers/custom_graph_optimizer_registry.cc:113] Plugin optimizer for device_type GPU is enabled.\n",
      "\u001b[32m[I 2022-08-03 12:56:30,904]\u001b[0m Trial 84 finished with value: 0.8633816242218018 and parameters: {'learning_rate': 0.006601153342181813, 'hidden_layer_size1': 766, 'kernel_regularizer': 3.2443561681093605e-06, 'bias_regularizer': 7.981064578615007e-05, 'activity_regularizer': 9.209053477603675e-05, 'dropout': 0.05932627579190822}. Best is trial 48 with value: 0.9458847641944885.\u001b[0m\n"
     ]
    },
    {
     "name": "stdout",
     "output_type": "stream",
     "text": [
      "F1 Score: 0.8633816242218018; Loss=0.566165030002594\n"
     ]
    },
    {
     "name": "stderr",
     "output_type": "stream",
     "text": [
      "2022-08-03 12:56:31.559470: I tensorflow/core/grappler/optimizers/custom_graph_optimizer_registry.cc:113] Plugin optimizer for device_type GPU is enabled.\n",
      "2022-08-03 12:56:56.123388: I tensorflow/core/grappler/optimizers/custom_graph_optimizer_registry.cc:113] Plugin optimizer for device_type GPU is enabled.\n",
      "\u001b[32m[I 2022-08-03 12:56:56,782]\u001b[0m Trial 85 finished with value: 0.8356813192367554 and parameters: {'learning_rate': 0.006068456088730751, 'hidden_layer_size1': 667, 'kernel_regularizer': 1.2162518372089134e-05, 'bias_regularizer': 7.110323772947316e-05, 'activity_regularizer': 7.939298740834255e-05, 'dropout': 0.06282419247221789}. Best is trial 48 with value: 0.9458847641944885.\u001b[0m\n"
     ]
    },
    {
     "name": "stdout",
     "output_type": "stream",
     "text": [
      "F1 Score: 0.8356813192367554; Loss=0.7507914304733276\n"
     ]
    },
    {
     "name": "stderr",
     "output_type": "stream",
     "text": [
      "2022-08-03 12:56:57.769665: I tensorflow/core/grappler/optimizers/custom_graph_optimizer_registry.cc:113] Plugin optimizer for device_type GPU is enabled.\n",
      "2022-08-03 12:57:22.221358: I tensorflow/core/grappler/optimizers/custom_graph_optimizer_registry.cc:113] Plugin optimizer for device_type GPU is enabled.\n",
      "\u001b[32m[I 2022-08-03 12:57:23,008]\u001b[0m Trial 86 finished with value: 0.7905630469322205 and parameters: {'learning_rate': 0.008547729024258191, 'hidden_layer_size1': 693, 'kernel_regularizer': 3.542211575985635e-05, 'bias_regularizer': 4.336492205675762e-05, 'activity_regularizer': 9.785864035610733e-05, 'dropout': 0.05391314069626392}. Best is trial 48 with value: 0.9458847641944885.\u001b[0m\n"
     ]
    },
    {
     "name": "stdout",
     "output_type": "stream",
     "text": [
      "F1 Score: 0.7905630469322205; Loss=0.9199270606040955\n"
     ]
    },
    {
     "name": "stderr",
     "output_type": "stream",
     "text": [
      "2022-08-03 12:57:23.703507: I tensorflow/core/grappler/optimizers/custom_graph_optimizer_registry.cc:113] Plugin optimizer for device_type GPU is enabled.\n",
      "2022-08-03 12:57:45.441750: I tensorflow/core/grappler/optimizers/custom_graph_optimizer_registry.cc:113] Plugin optimizer for device_type GPU is enabled.\n",
      "\u001b[32m[I 2022-08-03 12:57:46,257]\u001b[0m Trial 87 finished with value: 0.7754426002502441 and parameters: {'learning_rate': 0.009038597431031272, 'hidden_layer_size1': 391, 'kernel_regularizer': 4.3259902571483176e-05, 'bias_regularizer': 8.282745044528509e-05, 'activity_regularizer': 2.0949103364131662e-05, 'dropout': 0.06475052990261665}. Best is trial 48 with value: 0.9458847641944885.\u001b[0m\n"
     ]
    },
    {
     "name": "stdout",
     "output_type": "stream",
     "text": [
      "F1 Score: 0.7754426002502441; Loss=0.9834322929382324\n"
     ]
    },
    {
     "name": "stderr",
     "output_type": "stream",
     "text": [
      "2022-08-03 12:57:46.988050: I tensorflow/core/grappler/optimizers/custom_graph_optimizer_registry.cc:113] Plugin optimizer for device_type GPU is enabled.\n",
      "2022-08-03 12:58:10.470913: I tensorflow/core/grappler/optimizers/custom_graph_optimizer_registry.cc:113] Plugin optimizer for device_type GPU is enabled.\n",
      "\u001b[32m[I 2022-08-03 12:58:11,190]\u001b[0m Trial 88 finished with value: 0.8473303318023682 and parameters: {'learning_rate': 0.006954939151364125, 'hidden_layer_size1': 524, 'kernel_regularizer': 6.531399793557681e-06, 'bias_regularizer': 7.712200227994427e-05, 'activity_regularizer': 7.575429509902907e-05, 'dropout': 0.07069281662459846}. Best is trial 48 with value: 0.9458847641944885.\u001b[0m\n"
     ]
    },
    {
     "name": "stdout",
     "output_type": "stream",
     "text": [
      "F1 Score: 0.8473303318023682; Loss=0.6463161110877991\n"
     ]
    },
    {
     "name": "stderr",
     "output_type": "stream",
     "text": [
      "2022-08-03 12:58:11.883006: I tensorflow/core/grappler/optimizers/custom_graph_optimizer_registry.cc:113] Plugin optimizer for device_type GPU is enabled.\n",
      "2022-08-03 12:58:33.914505: I tensorflow/core/grappler/optimizers/custom_graph_optimizer_registry.cc:113] Plugin optimizer for device_type GPU is enabled.\n",
      "\u001b[32m[I 2022-08-03 12:58:34,589]\u001b[0m Trial 89 finished with value: 0.7602405548095703 and parameters: {'learning_rate': 0.0075584926355705085, 'hidden_layer_size1': 489, 'kernel_regularizer': 6.198281305176112e-05, 'bias_regularizer': 6.495856091964717e-05, 'activity_regularizer': 9.50618155584972e-05, 'dropout': 0.07533929126878858}. Best is trial 48 with value: 0.9458847641944885.\u001b[0m\n"
     ]
    },
    {
     "name": "stdout",
     "output_type": "stream",
     "text": [
      "F1 Score: 0.7602405548095703; Loss=1.074061393737793\n"
     ]
    },
    {
     "name": "stderr",
     "output_type": "stream",
     "text": [
      "2022-08-03 12:58:35.077870: I tensorflow/core/grappler/optimizers/custom_graph_optimizer_registry.cc:113] Plugin optimizer for device_type GPU is enabled.\n",
      "2022-08-03 12:58:56.889165: I tensorflow/core/grappler/optimizers/custom_graph_optimizer_registry.cc:113] Plugin optimizer for device_type GPU is enabled.\n",
      "\u001b[32m[I 2022-08-03 12:58:57,639]\u001b[0m Trial 90 finished with value: 0.7535704374313354 and parameters: {'learning_rate': 0.008216170260930215, 'hidden_layer_size1': 821, 'kernel_regularizer': 8.239154841345593e-05, 'bias_regularizer': 8.611741673972052e-05, 'activity_regularizer': 8.369923952899753e-05, 'dropout': 0.048764977411413266}. Best is trial 48 with value: 0.9458847641944885.\u001b[0m\n"
     ]
    },
    {
     "name": "stdout",
     "output_type": "stream",
     "text": [
      "F1 Score: 0.7535704374313354; Loss=1.1321827173233032\n"
     ]
    },
    {
     "name": "stderr",
     "output_type": "stream",
     "text": [
      "2022-08-03 12:58:58.219642: I tensorflow/core/grappler/optimizers/custom_graph_optimizer_registry.cc:113] Plugin optimizer for device_type GPU is enabled.\n",
      "2022-08-03 12:59:22.280921: I tensorflow/core/grappler/optimizers/custom_graph_optimizer_registry.cc:113] Plugin optimizer for device_type GPU is enabled.\n",
      "\u001b[32m[I 2022-08-03 12:59:22,970]\u001b[0m Trial 91 finished with value: 0.9067116379737854 and parameters: {'learning_rate': 0.006739518337372362, 'hidden_layer_size1': 739, 'kernel_regularizer': 6.811890390541109e-08, 'bias_regularizer': 8.976541189210436e-05, 'activity_regularizer': 8.562957094175079e-05, 'dropout': 0.0671825773208161}. Best is trial 48 with value: 0.9458847641944885.\u001b[0m\n"
     ]
    },
    {
     "name": "stdout",
     "output_type": "stream",
     "text": [
      "F1 Score: 0.9067116379737854; Loss=0.3446858823299408\n"
     ]
    },
    {
     "name": "stderr",
     "output_type": "stream",
     "text": [
      "2022-08-03 12:59:23.544524: I tensorflow/core/grappler/optimizers/custom_graph_optimizer_registry.cc:113] Plugin optimizer for device_type GPU is enabled.\n",
      "2022-08-03 12:59:56.166531: I tensorflow/core/grappler/optimizers/custom_graph_optimizer_registry.cc:113] Plugin optimizer for device_type GPU is enabled.\n",
      "\u001b[32m[I 2022-08-03 12:59:56,880]\u001b[0m Trial 92 finished with value: 0.8613567352294922 and parameters: {'learning_rate': 0.007240568187461332, 'hidden_layer_size1': 725, 'kernel_regularizer': 2.636252436781223e-06, 'bias_regularizer': 8.750518330218987e-05, 'activity_regularizer': 9.021429584877313e-05, 'dropout': 0.00012830362462375178}. Best is trial 48 with value: 0.9458847641944885.\u001b[0m\n"
     ]
    },
    {
     "name": "stdout",
     "output_type": "stream",
     "text": [
      "F1 Score: 0.8613567352294922; Loss=0.5458847880363464\n"
     ]
    },
    {
     "name": "stderr",
     "output_type": "stream",
     "text": [
      "2022-08-03 12:59:57.680552: I tensorflow/core/grappler/optimizers/custom_graph_optimizer_registry.cc:113] Plugin optimizer for device_type GPU is enabled.\n",
      "2022-08-03 13:00:21.182149: I tensorflow/core/grappler/optimizers/custom_graph_optimizer_registry.cc:113] Plugin optimizer for device_type GPU is enabled.\n",
      "\u001b[32m[I 2022-08-03 13:00:21,858]\u001b[0m Trial 93 finished with value: 0.8647223114967346 and parameters: {'learning_rate': 0.00773378250001476, 'hidden_layer_size1': 793, 'kernel_regularizer': 5.240273107249154e-06, 'bias_regularizer': 9.336201319556841e-05, 'activity_regularizer': 8.610944284933618e-05, 'dropout': 0.07221417161316723}. Best is trial 48 with value: 0.9458847641944885.\u001b[0m\n"
     ]
    },
    {
     "name": "stdout",
     "output_type": "stream",
     "text": [
      "F1 Score: 0.8647223114967346; Loss=0.6140843033790588\n"
     ]
    },
    {
     "name": "stderr",
     "output_type": "stream",
     "text": [
      "2022-08-03 13:00:22.430662: I tensorflow/core/grappler/optimizers/custom_graph_optimizer_registry.cc:113] Plugin optimizer for device_type GPU is enabled.\n",
      "2022-08-03 13:00:46.722145: I tensorflow/core/grappler/optimizers/custom_graph_optimizer_registry.cc:113] Plugin optimizer for device_type GPU is enabled.\n",
      "\u001b[32m[I 2022-08-03 13:00:47,423]\u001b[0m Trial 94 finished with value: 0.8968141078948975 and parameters: {'learning_rate': 0.0068034454911675086, 'hidden_layer_size1': 769, 'kernel_regularizer': 2.1298370779722735e-08, 'bias_regularizer': 8.205436581208825e-05, 'activity_regularizer': 9.264712693003035e-05, 'dropout': 0.06548999242974865}. Best is trial 48 with value: 0.9458847641944885.\u001b[0m\n"
     ]
    },
    {
     "name": "stdout",
     "output_type": "stream",
     "text": [
      "F1 Score: 0.8968141078948975; Loss=0.328847736120224\n"
     ]
    },
    {
     "name": "stderr",
     "output_type": "stream",
     "text": [
      "2022-08-03 13:00:47.934072: I tensorflow/core/grappler/optimizers/custom_graph_optimizer_registry.cc:113] Plugin optimizer for device_type GPU is enabled.\n",
      "2022-08-03 13:01:21.385886: I tensorflow/core/grappler/optimizers/custom_graph_optimizer_registry.cc:113] Plugin optimizer for device_type GPU is enabled.\n",
      "\u001b[32m[I 2022-08-03 13:01:22,158]\u001b[0m Trial 95 finished with value: 0.8428183794021606 and parameters: {'learning_rate': 0.006457314240477742, 'hidden_layer_size1': 603, 'kernel_regularizer': 8.44566829869225e-06, 'bias_regularizer': 9.115683741935408e-05, 'activity_regularizer': 5.427839390291408e-05, 'dropout': 0.0583610095051772}. Best is trial 48 with value: 0.9458847641944885.\u001b[0m\n"
     ]
    },
    {
     "name": "stdout",
     "output_type": "stream",
     "text": [
      "F1 Score: 0.8428183794021606; Loss=0.6947514414787292\n"
     ]
    },
    {
     "name": "stderr",
     "output_type": "stream",
     "text": [
      "2022-08-03 13:01:22.987324: I tensorflow/core/grappler/optimizers/custom_graph_optimizer_registry.cc:113] Plugin optimizer for device_type GPU is enabled.\n",
      "2022-08-03 13:01:47.547863: I tensorflow/core/grappler/optimizers/custom_graph_optimizer_registry.cc:113] Plugin optimizer for device_type GPU is enabled.\n",
      "\u001b[32m[I 2022-08-03 13:01:48,295]\u001b[0m Trial 96 finished with value: 0.8641843795776367 and parameters: {'learning_rate': 0.008623764524616488, 'hidden_layer_size1': 876, 'kernel_regularizer': 2.5050623574350138e-06, 'bias_regularizer': 8.512207606159791e-05, 'activity_regularizer': 8.166222225206918e-05, 'dropout': 0.0798214481915258}. Best is trial 48 with value: 0.9458847641944885.\u001b[0m\n"
     ]
    },
    {
     "name": "stdout",
     "output_type": "stream",
     "text": [
      "F1 Score: 0.8641843795776367; Loss=0.5319728255271912\n"
     ]
    },
    {
     "name": "stderr",
     "output_type": "stream",
     "text": [
      "2022-08-03 13:01:48.914531: I tensorflow/core/grappler/optimizers/custom_graph_optimizer_registry.cc:113] Plugin optimizer for device_type GPU is enabled.\n",
      "2022-08-03 13:02:12.809195: I tensorflow/core/grappler/optimizers/custom_graph_optimizer_registry.cc:113] Plugin optimizer for device_type GPU is enabled.\n",
      "\u001b[32m[I 2022-08-03 13:02:13,572]\u001b[0m Trial 97 finished with value: 0.8731788396835327 and parameters: {'learning_rate': 0.009726399938308093, 'hidden_layer_size1': 655, 'kernel_regularizer': 4.933530310701302e-06, 'bias_regularizer': 7.324469499173737e-05, 'activity_regularizer': 8.865251499420435e-05, 'dropout': 0.06129495558407562}. Best is trial 48 with value: 0.9458847641944885.\u001b[0m\n"
     ]
    },
    {
     "name": "stdout",
     "output_type": "stream",
     "text": [
      "F1 Score: 0.8731788396835327; Loss=0.5912575721740723\n"
     ]
    },
    {
     "name": "stderr",
     "output_type": "stream",
     "text": [
      "2022-08-03 13:02:14.107729: I tensorflow/core/grappler/optimizers/custom_graph_optimizer_registry.cc:113] Plugin optimizer for device_type GPU is enabled.\n",
      "2022-08-03 13:02:37.572336: I tensorflow/core/grappler/optimizers/custom_graph_optimizer_registry.cc:113] Plugin optimizer for device_type GPU is enabled.\n",
      "\u001b[32m[I 2022-08-03 13:02:38,311]\u001b[0m Trial 98 finished with value: 0.9070559740066528 and parameters: {'learning_rate': 0.005911042371411944, 'hidden_layer_size1': 553, 'kernel_regularizer': 1.3369437767420948e-08, 'bias_regularizer': 9.80464976520079e-05, 'activity_regularizer': 4.589242948117302e-05, 'dropout': 0.07062744423822057}. Best is trial 48 with value: 0.9458847641944885.\u001b[0m\n"
     ]
    },
    {
     "name": "stdout",
     "output_type": "stream",
     "text": [
      "F1 Score: 0.9070559740066528; Loss=0.3481776714324951\n"
     ]
    },
    {
     "name": "stderr",
     "output_type": "stream",
     "text": [
      "2022-08-03 13:02:38.807013: I tensorflow/core/grappler/optimizers/custom_graph_optimizer_registry.cc:113] Plugin optimizer for device_type GPU is enabled.\n",
      "2022-08-03 13:03:14.156818: I tensorflow/core/grappler/optimizers/custom_graph_optimizer_registry.cc:113] Plugin optimizer for device_type GPU is enabled.\n",
      "\u001b[32m[I 2022-08-03 13:03:15,000]\u001b[0m Trial 99 finished with value: 0.84844970703125 and parameters: {'learning_rate': 0.009371599620245185, 'hidden_layer_size1': 436, 'kernel_regularizer': 1.2094243508471935e-05, 'bias_regularizer': 9.871898403147731e-05, 'activity_regularizer': 3.432117518507776e-05, 'dropout': 0.07707651873284366}. Best is trial 48 with value: 0.9458847641944885.\u001b[0m\n"
     ]
    },
    {
     "name": "stdout",
     "output_type": "stream",
     "text": [
      "F1 Score: 0.84844970703125; Loss=0.7259964346885681\n",
      "Number of finished trials: 100\n",
      "Best trial: {'learning_rate': 0.009590263929390183, 'hidden_layer_size1': 663, 'kernel_regularizer': 3.224294748659483e-08, 'bias_regularizer': 9.494455246549682e-05, 'activity_regularizer': 7.54622803748681e-05, 'dropout': 0.07189361802417232}\n"
     ]
    }
   ],
   "source": [
    "study_nn_1 = optuna.create_study(direction='maximize')\n",
    "study_nn_1.optimize(objective_1_layer, n_trials=100)\n",
    "\n",
    "print('Number of finished trials:', len(study_nn_1.trials))\n",
    "print('Best trial:', study_nn_1.best_trial.params)"
   ]
  },
  {
   "cell_type": "markdown",
   "id": "ef153f63-bd27-479f-b429-12be4f52157f",
   "metadata": {},
   "source": [
    "Best trial params:\n",
    "* {'learning_rate': 0.008842046029948113, 'hidden_layer_size1': 735, 'kernel_regularizer': 3.25276114331844e-08, 'bias_regularizer': 5.484746504195214e-05, 'activity_regularizer': 9.161273662322264e-05, 'dropout': 0.03432482015904013}\n",
    "\n",
    "* **With stratified split:** Trial 48 finished with value: 0.9458847641944885 and parameters: {'learning_rate': 0.009590263929390183, 'hidden_layer_size1': 663, 'kernel_regularizer': 3.224294748659483e-08, 'bias_regularizer': 9.494455246549682e-05, 'activity_regularizer': 7.54622803748681e-05, 'dropout': 0.07189361802417232}. Best is trial 48 with value: 0.9458847641944885."
   ]
  },
  {
   "cell_type": "code",
   "execution_count": null,
   "id": "b265726c-dd5b-4db8-8227-72cdfbf878e7",
   "metadata": {},
   "outputs": [],
   "source": []
  }
 ],
 "metadata": {
  "kernelspec": {
   "display_name": "Python 3 (ipykernel)",
   "language": "python",
   "name": "python3"
  },
  "language_info": {
   "codemirror_mode": {
    "name": "ipython",
    "version": 3
   },
   "file_extension": ".py",
   "mimetype": "text/x-python",
   "name": "python",
   "nbconvert_exporter": "python",
   "pygments_lexer": "ipython3",
   "version": "3.10.5"
  }
 },
 "nbformat": 4,
 "nbformat_minor": 5
}
