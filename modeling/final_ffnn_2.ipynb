{
 "cells": [
  {
   "cell_type": "code",
   "execution_count": 1,
   "id": "b512f4d3-c74c-4847-a95e-132a25d1cd6f",
   "metadata": {},
   "outputs": [],
   "source": [
    "import os\n",
    "import sys\n",
    "module_path = os.path.abspath(os.path.join('..'))\n",
    "if module_path not in sys.path:\n",
    "    sys.path.append(module_path)\n",
    "\n",
    "from helpers import (get_training_observations, \n",
    "                     get_training_labels)\n",
    "import pandas as pd\n",
    "import numpy as np\n",
    "from joblib import dump\n",
    "from joblib import load\n",
    "\n",
    "# Model specific imports\n",
    "from sklearn.model_selection import train_test_split\n",
    "from sklearn.preprocessing import LabelEncoder\n",
    "from sklearn.metrics import accuracy_score, f1_score\n",
    "import matplotlib.pyplot as plt\n",
    "\n",
    "import tensorflow as tf\n",
    "import tensorflow_addons as tfa\n",
    "from tensorflow.keras import metrics\n",
    "tf.get_logger().setLevel('INFO')\n",
    "\n",
    "import optuna"
   ]
  },
  {
   "cell_type": "code",
   "execution_count": 2,
   "id": "b3a81fe3-6c84-4e51-9ad7-31bc4e78a1d4",
   "metadata": {},
   "outputs": [
    {
     "name": "stdout",
     "output_type": "stream",
     "text": [
      "Getting all training observations from 'metagenome_classification.db'...\n",
      "Getting all training labels from 'metagenome_classification.db'...\n"
     ]
    }
   ],
   "source": [
    "# Set up data\n",
    "x_train = get_training_observations()\n",
    "y_train = get_training_labels()\n",
    "le = load('../model_joblibs/final_labelEncoder.joblib')\n",
    "    \n",
    "y_train_transformed = le.transform(y_train['EMPO_3'])\n",
    "y_train_transformed\n",
    "\n",
    "x_tr, x_val, y_tr, y_val = train_test_split(x_train, y_train_transformed, test_size=0.2, random_state=0, stratify=y_train_transformed)   \n"
   ]
  },
  {
   "cell_type": "code",
   "execution_count": 3,
   "id": "b70d5f99-b4ae-4aae-b342-466f7c67f1ab",
   "metadata": {},
   "outputs": [],
   "source": [
    "K = tf.keras.backend\n",
    "\n",
    "def build_model(\n",
    "    activation='relu',\n",
    "    hidden_layer_sizes=[],\n",
    "    final_layer_activation='softmax',\n",
    "    dropout=0.0,\n",
    "    optimizer='Adam',\n",
    "    learning_rate=0.01,\n",
    "    kernel_regularizer=1e-5,\n",
    "    bias_regularizer=1e-5,\n",
    "    activity_regularizer=1e-5,\n",
    "    n_classes=15\n",
    "):\n",
    "    \"\"\"Build a multi-class logistic regression model using Keras.\n",
    "\n",
    "    Args:\n",
    "      n_classes: Number of output classes in the dataset.\n",
    "      hidden_layer_sizes: A list with the number of units in each hidden layer.\n",
    "      activation: The activation function to use for the hidden layers.\n",
    "      optimizer: The optimizer to use (SGD, Adam).\n",
    "      learning_rate: The desired learning rate for the optimizer.\n",
    "\n",
    "    Returns:\n",
    "      model: A tf.keras model (graph).\n",
    "    \"\"\"\n",
    "    tf.keras.backend.clear_session()\n",
    "    np.random.seed(0)\n",
    "    tf.random.set_seed(0)\n",
    "    model = tf.keras.Sequential()\n",
    "    model.add(tf.keras.layers.Flatten())\n",
    "    \n",
    "    for hidden_layer_size in hidden_layer_sizes:\n",
    "        if hidden_layer_size > n_classes:\n",
    "            model.add(tf.keras.layers.Dense(\n",
    "                hidden_layer_size,\n",
    "                activation=activation,\n",
    "                kernel_regularizer=tf.keras.regularizers.L2(kernel_regularizer),\n",
    "                bias_regularizer=tf.keras.regularizers.L2(bias_regularizer),\n",
    "                activity_regularizer=tf.keras.regularizers.L2(activity_regularizer)\n",
    "            ))\n",
    "            if dropout > 0:\n",
    "                model.add(tf.keras.layers.Dropout(dropout))\n",
    "\n",
    "    model.add(tf.keras.layers.Dense(\n",
    "        n_classes,\n",
    "        activation=final_layer_activation,\n",
    "        kernel_regularizer=tf.keras.regularizers.L2(kernel_regularizer),\n",
    "        bias_regularizer=tf.keras.regularizers.L2(bias_regularizer),\n",
    "        activity_regularizer=tf.keras.regularizers.L2(activity_regularizer)\n",
    "    ))\n",
    "    opt = None\n",
    "    if optimizer == \"SGD\":\n",
    "        opt = tf.keras.optimizers.SGD(learning_rate=learning_rate)\n",
    "    elif optimizer == \"Adam\":\n",
    "        opt = tf.keras.optimizers.Adam(learning_rate=learning_rate)\n",
    "    else:\n",
    "        raise f\"Unsupported optimizer, {optimizer}\"\n",
    "    model.compile(\n",
    "        loss=\"categorical_crossentropy\", optimizer=opt, \n",
    "        metrics=[tfa.metrics.F1Score(num_classes=15, average='weighted')]\n",
    "    )\n",
    "    return model\n",
    "    "
   ]
  },
  {
   "cell_type": "code",
   "execution_count": 4,
   "id": "2b89d716-c125-4678-960a-dabe2d66e73a",
   "metadata": {},
   "outputs": [],
   "source": [
    "def objective_2_layer(trial, x_tr=x_tr, x_val=x_val, y_tr=y_tr, y_val=y_val):\n",
    "    \n",
    "    # Set up XGBoost hyperparameter space\n",
    "    params = {\n",
    "        'learning_rate': trial.suggest_float('learning_rate', 0.0001, 0.01),\n",
    "        'hidden_layer_size1': trial.suggest_int('hidden_layer_size1', 0, 1024),\n",
    "        'hidden_layer_size2': trial.suggest_int('hidden_layer_size2', 0, 1024),\n",
    "        'kernel_regularizer': trial.suggest_float('kernel_regularizer', 1e-10, 1e-4),\n",
    "        'bias_regularizer': trial.suggest_float('bias_regularizer', 1e-10, 1e-4),\n",
    "        'activity_regularizer': trial.suggest_float('activity_regularizer', 1e-10, 1e-4),\n",
    "        'dropout': trial.suggest_float('dropout', 0, 0.1)\n",
    "    }\n",
    "    \n",
    "    hidden_layer_sizes = [params.pop('hidden_layer_size1'), params.pop('hidden_layer_size2')]\n",
    "    \n",
    "    y_tr_one_hot = K.one_hot(K.cast(y_tr, dtype='int64'), 15)\n",
    "    y_val_one_hot = K.one_hot(K.cast(y_val, dtype='int64'), 15)\n",
    "    \n",
    "    # Create model\n",
    "    nn = build_model(\n",
    "        **params,\n",
    "        n_classes=15,\n",
    "        optimizer='Adam',\n",
    "        final_layer_activation='softmax',\n",
    "        hidden_layer_sizes=hidden_layer_sizes\n",
    "    )\n",
    "    \n",
    "    # Fit model\n",
    "    nn.fit(x=x_tr,\n",
    "           y=y_tr_one_hot,\n",
    "           epochs=50,\n",
    "           batch_size=64,\n",
    "           verbose=0)\n",
    "    \n",
    "    evaluation = nn.evaluate(x=x_val, y=y_val_one_hot, verbose=0, return_dict=True)\n",
    "    f1_score = evaluation['f1_score']\n",
    "    loss = evaluation['loss']\n",
    "    \n",
    "    print(f'F1 Score: {f1_score}; Loss={loss}')\n",
    "    \n",
    "    return f1_score\n",
    "    "
   ]
  },
  {
   "cell_type": "code",
   "execution_count": null,
   "id": "ebaada76-7bcb-4854-87a0-4b904aa47dd1",
   "metadata": {},
   "outputs": [
    {
     "name": "stderr",
     "output_type": "stream",
     "text": [
      "\u001b[32m[I 2022-08-03 12:31:54,008]\u001b[0m A new study created in memory with name: no-name-4ee244b8-aa56-4b5e-bbd1-c35406a80ee9\u001b[0m\n"
     ]
    },
    {
     "name": "stdout",
     "output_type": "stream",
     "text": [
      "Metal device set to: Apple M1 Pro\n"
     ]
    },
    {
     "name": "stderr",
     "output_type": "stream",
     "text": [
      "2022-08-03 12:31:54.010958: I tensorflow/core/common_runtime/pluggable_device/pluggable_device_factory.cc:305] Could not identify NUMA node of platform GPU ID 0, defaulting to 0. Your kernel may not have been built with NUMA support.\n",
      "2022-08-03 12:31:54.011178: I tensorflow/core/common_runtime/pluggable_device/pluggable_device_factory.cc:271] Created TensorFlow device (/job:localhost/replica:0/task:0/device:GPU:0 with 0 MB memory) -> physical PluggableDevice (device: 0, name: METAL, pci bus id: <undefined>)\n",
      "2022-08-03 12:31:54.171308: W tensorflow/core/platform/profile_utils/cpu_utils.cc:128] Failed to get CPU frequency: 0 Hz\n",
      "2022-08-03 12:31:54.737876: I tensorflow/core/grappler/optimizers/custom_graph_optimizer_registry.cc:113] Plugin optimizer for device_type GPU is enabled.\n",
      "2022-08-03 12:32:14.188500: I tensorflow/core/grappler/optimizers/custom_graph_optimizer_registry.cc:113] Plugin optimizer for device_type GPU is enabled.\n",
      "\u001b[32m[I 2022-08-03 12:32:14,505]\u001b[0m Trial 0 finished with value: 0.8621349930763245 and parameters: {'learning_rate': 0.0005489807818503291, 'hidden_layer_size1': 847, 'hidden_layer_size2': 828, 'kernel_regularizer': 1.1777366213312235e-06, 'bias_regularizer': 2.2757436969280147e-07, 'activity_regularizer': 6.952622674903818e-05, 'dropout': 0.04031914918890958}. Best is trial 0 with value: 0.8621349930763245.\u001b[0m\n"
     ]
    },
    {
     "name": "stdout",
     "output_type": "stream",
     "text": [
      "F1 Score: 0.8621349930763245; Loss=0.5191724300384521\n"
     ]
    },
    {
     "name": "stderr",
     "output_type": "stream",
     "text": [
      "2022-08-03 12:32:15.197682: I tensorflow/core/grappler/optimizers/custom_graph_optimizer_registry.cc:113] Plugin optimizer for device_type GPU is enabled.\n",
      "2022-08-03 12:32:31.386446: I tensorflow/core/grappler/optimizers/custom_graph_optimizer_registry.cc:113] Plugin optimizer for device_type GPU is enabled.\n",
      "\u001b[32m[I 2022-08-03 12:32:31,594]\u001b[0m Trial 1 finished with value: 0.8356996774673462 and parameters: {'learning_rate': 0.0017405811690168818, 'hidden_layer_size1': 620, 'hidden_layer_size2': 771, 'kernel_regularizer': 8.049638530729605e-05, 'bias_regularizer': 2.089079845766651e-05, 'activity_regularizer': 8.428014160691361e-05, 'dropout': 0.04922527612036457}. Best is trial 0 with value: 0.8621349930763245.\u001b[0m\n"
     ]
    },
    {
     "name": "stdout",
     "output_type": "stream",
     "text": [
      "F1 Score: 0.8356996774673462; Loss=0.791915237903595\n"
     ]
    },
    {
     "name": "stderr",
     "output_type": "stream",
     "text": [
      "2022-08-03 12:32:32.088082: I tensorflow/core/grappler/optimizers/custom_graph_optimizer_registry.cc:113] Plugin optimizer for device_type GPU is enabled.\n",
      "2022-08-03 12:32:49.889868: I tensorflow/core/grappler/optimizers/custom_graph_optimizer_registry.cc:113] Plugin optimizer for device_type GPU is enabled.\n",
      "\u001b[32m[I 2022-08-03 12:32:50,085]\u001b[0m Trial 2 finished with value: 0.7527511119842529 and parameters: {'learning_rate': 0.009669776930811974, 'hidden_layer_size1': 846, 'hidden_layer_size2': 6, 'kernel_regularizer': 8.185706475798443e-05, 'bias_regularizer': 7.21494512983381e-05, 'activity_regularizer': 5.849711816658201e-05, 'dropout': 0.08929868199537339}. Best is trial 0 with value: 0.8621349930763245.\u001b[0m\n"
     ]
    },
    {
     "name": "stdout",
     "output_type": "stream",
     "text": [
      "F1 Score: 0.7527511119842529; Loss=1.1273365020751953\n"
     ]
    },
    {
     "name": "stderr",
     "output_type": "stream",
     "text": [
      "2022-08-03 12:32:50.538480: I tensorflow/core/grappler/optimizers/custom_graph_optimizer_registry.cc:113] Plugin optimizer for device_type GPU is enabled.\n",
      "2022-08-03 12:33:03.003327: I tensorflow/core/grappler/optimizers/custom_graph_optimizer_registry.cc:113] Plugin optimizer for device_type GPU is enabled.\n",
      "\u001b[32m[I 2022-08-03 12:33:03,222]\u001b[0m Trial 3 finished with value: 0.7133933305740356 and parameters: {'learning_rate': 0.004926667668569311, 'hidden_layer_size1': 9, 'hidden_layer_size2': 294, 'kernel_regularizer': 9.097082770151733e-05, 'bias_regularizer': 4.6709729145586726e-05, 'activity_regularizer': 6.942984701710888e-05, 'dropout': 0.05666587796630841}. Best is trial 0 with value: 0.8621349930763245.\u001b[0m\n"
     ]
    },
    {
     "name": "stdout",
     "output_type": "stream",
     "text": [
      "F1 Score: 0.7133933305740356; Loss=1.2490036487579346\n"
     ]
    },
    {
     "name": "stderr",
     "output_type": "stream",
     "text": [
      "2022-08-03 12:33:03.998394: I tensorflow/core/grappler/optimizers/custom_graph_optimizer_registry.cc:113] Plugin optimizer for device_type GPU is enabled.\n",
      "2022-08-03 12:33:27.723369: I tensorflow/core/grappler/optimizers/custom_graph_optimizer_registry.cc:113] Plugin optimizer for device_type GPU is enabled.\n",
      "\u001b[32m[I 2022-08-03 12:33:27,975]\u001b[0m Trial 4 finished with value: 0.8118399977684021 and parameters: {'learning_rate': 0.007577522889120356, 'hidden_layer_size1': 645, 'hidden_layer_size2': 195, 'kernel_regularizer': 6.143528614669809e-05, 'bias_regularizer': 8.746748765478407e-05, 'activity_regularizer': 7.54668421160489e-05, 'dropout': 0.016517386362014785}. Best is trial 0 with value: 0.8621349930763245.\u001b[0m\n"
     ]
    },
    {
     "name": "stdout",
     "output_type": "stream",
     "text": [
      "F1 Score: 0.8118399977684021; Loss=0.8216938972473145\n"
     ]
    },
    {
     "name": "stderr",
     "output_type": "stream",
     "text": [
      "2022-08-03 12:33:28.882778: I tensorflow/core/grappler/optimizers/custom_graph_optimizer_registry.cc:113] Plugin optimizer for device_type GPU is enabled.\n",
      "2022-08-03 12:34:10.092611: I tensorflow/core/grappler/optimizers/custom_graph_optimizer_registry.cc:113] Plugin optimizer for device_type GPU is enabled.\n",
      "\u001b[32m[I 2022-08-03 12:34:10,521]\u001b[0m Trial 5 finished with value: 0.9025764465332031 and parameters: {'learning_rate': 0.0059687330659847606, 'hidden_layer_size1': 883, 'hidden_layer_size2': 968, 'kernel_regularizer': 2.851965377108677e-06, 'bias_regularizer': 2.0920092487742182e-05, 'activity_regularizer': 4.849365763125791e-05, 'dropout': 0.027612965742078555}. Best is trial 5 with value: 0.9025764465332031.\u001b[0m\n"
     ]
    },
    {
     "name": "stdout",
     "output_type": "stream",
     "text": [
      "F1 Score: 0.9025764465332031; Loss=0.5008919835090637\n"
     ]
    },
    {
     "name": "stderr",
     "output_type": "stream",
     "text": [
      "2022-08-03 12:34:11.553169: I tensorflow/core/grappler/optimizers/custom_graph_optimizer_registry.cc:113] Plugin optimizer for device_type GPU is enabled.\n",
      "2022-08-03 12:34:34.342570: I tensorflow/core/grappler/optimizers/custom_graph_optimizer_registry.cc:113] Plugin optimizer for device_type GPU is enabled.\n",
      "\u001b[32m[I 2022-08-03 12:34:34,678]\u001b[0m Trial 6 finished with value: 0.8420179486274719 and parameters: {'learning_rate': 0.004221995963025084, 'hidden_layer_size1': 575, 'hidden_layer_size2': 201, 'kernel_regularizer': 2.862142979578176e-05, 'bias_regularizer': 9.972472494390141e-05, 'activity_regularizer': 3.5454900255710964e-05, 'dropout': 0.00021552726403267775}. Best is trial 5 with value: 0.9025764465332031.\u001b[0m\n"
     ]
    },
    {
     "name": "stdout",
     "output_type": "stream",
     "text": [
      "F1 Score: 0.8420179486274719; Loss=0.699239194393158\n"
     ]
    },
    {
     "name": "stderr",
     "output_type": "stream",
     "text": [
      "2022-08-03 12:34:35.368360: I tensorflow/core/grappler/optimizers/custom_graph_optimizer_registry.cc:113] Plugin optimizer for device_type GPU is enabled.\n",
      "2022-08-03 12:34:53.090924: I tensorflow/core/grappler/optimizers/custom_graph_optimizer_registry.cc:113] Plugin optimizer for device_type GPU is enabled.\n",
      "\u001b[32m[I 2022-08-03 12:34:53,434]\u001b[0m Trial 7 finished with value: 0.8252936601638794 and parameters: {'learning_rate': 0.009734302781343167, 'hidden_layer_size1': 25, 'hidden_layer_size2': 229, 'kernel_regularizer': 7.486544058610675e-05, 'bias_regularizer': 4.4047808976330694e-05, 'activity_regularizer': 6.9323894918222e-05, 'dropout': 0.035275500291136096}. Best is trial 5 with value: 0.9025764465332031.\u001b[0m\n"
     ]
    },
    {
     "name": "stdout",
     "output_type": "stream",
     "text": [
      "F1 Score: 0.8252936601638794; Loss=0.8077046275138855\n"
     ]
    },
    {
     "name": "stderr",
     "output_type": "stream",
     "text": [
      "2022-08-03 12:34:54.141568: I tensorflow/core/grappler/optimizers/custom_graph_optimizer_registry.cc:113] Plugin optimizer for device_type GPU is enabled.\n",
      "2022-08-03 12:35:20.880746: I tensorflow/core/grappler/optimizers/custom_graph_optimizer_registry.cc:113] Plugin optimizer for device_type GPU is enabled.\n",
      "\u001b[32m[I 2022-08-03 12:35:21,254]\u001b[0m Trial 8 finished with value: 0.8662173748016357 and parameters: {'learning_rate': 0.005250516176852604, 'hidden_layer_size1': 956, 'hidden_layer_size2': 922, 'kernel_regularizer': 7.276005946355412e-05, 'bias_regularizer': 1.4014169227228642e-05, 'activity_regularizer': 3.9497771720896264e-05, 'dropout': 0.05641033240316834}. Best is trial 5 with value: 0.9025764465332031.\u001b[0m\n"
     ]
    },
    {
     "name": "stdout",
     "output_type": "stream",
     "text": [
      "F1 Score: 0.8662173748016357; Loss=0.6823139786720276\n"
     ]
    },
    {
     "name": "stderr",
     "output_type": "stream",
     "text": [
      "2022-08-03 12:35:22.151541: I tensorflow/core/grappler/optimizers/custom_graph_optimizer_registry.cc:113] Plugin optimizer for device_type GPU is enabled.\n",
      "2022-08-03 12:35:41.843217: I tensorflow/core/grappler/optimizers/custom_graph_optimizer_registry.cc:113] Plugin optimizer for device_type GPU is enabled.\n",
      "\u001b[32m[I 2022-08-03 12:35:42,195]\u001b[0m Trial 9 finished with value: 0.7486563920974731 and parameters: {'learning_rate': 0.00038228915421180756, 'hidden_layer_size1': 291, 'hidden_layer_size2': 667, 'kernel_regularizer': 1.9316099284667994e-05, 'bias_regularizer': 2.5964673407996772e-05, 'activity_regularizer': 5.480466999261182e-05, 'dropout': 0.021833841622437455}. Best is trial 5 with value: 0.9025764465332031.\u001b[0m\n"
     ]
    },
    {
     "name": "stdout",
     "output_type": "stream",
     "text": [
      "F1 Score: 0.7486563920974731; Loss=0.8326882719993591\n"
     ]
    },
    {
     "name": "stderr",
     "output_type": "stream",
     "text": [
      "2022-08-03 12:35:42.862382: I tensorflow/core/grappler/optimizers/custom_graph_optimizer_registry.cc:113] Plugin optimizer for device_type GPU is enabled.\n",
      "2022-08-03 12:36:03.096099: I tensorflow/core/grappler/optimizers/custom_graph_optimizer_registry.cc:113] Plugin optimizer for device_type GPU is enabled.\n",
      "\u001b[32m[I 2022-08-03 12:36:03,494]\u001b[0m Trial 10 finished with value: 0.8497450947761536 and parameters: {'learning_rate': 0.007174961134944923, 'hidden_layer_size1': 340, 'hidden_layer_size2': 1009, 'kernel_regularizer': 4.046210519991728e-05, 'bias_regularizer': 6.79426961170691e-05, 'activity_regularizer': 6.5077200181222226e-06, 'dropout': 0.0770160935168081}. Best is trial 5 with value: 0.9025764465332031.\u001b[0m\n"
     ]
    },
    {
     "name": "stdout",
     "output_type": "stream",
     "text": [
      "F1 Score: 0.8497450947761536; Loss=0.6789963245391846\n"
     ]
    },
    {
     "name": "stderr",
     "output_type": "stream",
     "text": [
      "2022-08-03 12:36:04.171460: I tensorflow/core/grappler/optimizers/custom_graph_optimizer_registry.cc:113] Plugin optimizer for device_type GPU is enabled.\n",
      "2022-08-03 12:36:30.659387: I tensorflow/core/grappler/optimizers/custom_graph_optimizer_registry.cc:113] Plugin optimizer for device_type GPU is enabled.\n",
      "\u001b[32m[I 2022-08-03 12:36:31,101]\u001b[0m Trial 11 finished with value: 0.8548022508621216 and parameters: {'learning_rate': 0.003481488555596759, 'hidden_layer_size1': 1023, 'hidden_layer_size2': 1021, 'kernel_regularizer': 5.7859567332515943e-05, 'bias_regularizer': 7.52731587406695e-06, 'activity_regularizer': 3.2059558211211927e-05, 'dropout': 0.06979371653482477}. Best is trial 5 with value: 0.9025764465332031.\u001b[0m\n"
     ]
    },
    {
     "name": "stdout",
     "output_type": "stream",
     "text": [
      "F1 Score: 0.8548022508621216; Loss=0.7260360717773438\n"
     ]
    },
    {
     "name": "stderr",
     "output_type": "stream",
     "text": [
      "2022-08-03 12:36:31.781489: I tensorflow/core/grappler/optimizers/custom_graph_optimizer_registry.cc:113] Plugin optimizer for device_type GPU is enabled.\n",
      "2022-08-03 12:36:58.294167: I tensorflow/core/grappler/optimizers/custom_graph_optimizer_registry.cc:113] Plugin optimizer for device_type GPU is enabled.\n",
      "\u001b[32m[I 2022-08-03 12:36:58,724]\u001b[0m Trial 12 finished with value: 0.8722731471061707 and parameters: {'learning_rate': 0.006555718733102999, 'hidden_layer_size1': 997, 'hidden_layer_size2': 526, 'kernel_regularizer': 2.090539596323789e-06, 'bias_regularizer': 2.636730150770576e-05, 'activity_regularizer': 3.463939063431434e-05, 'dropout': 0.06190282656431809}. Best is trial 5 with value: 0.9025764465332031.\u001b[0m\n"
     ]
    },
    {
     "name": "stdout",
     "output_type": "stream",
     "text": [
      "F1 Score: 0.8722731471061707; Loss=0.5766523480415344\n"
     ]
    },
    {
     "name": "stderr",
     "output_type": "stream",
     "text": [
      "2022-08-03 12:36:59.361570: I tensorflow/core/grappler/optimizers/custom_graph_optimizer_registry.cc:113] Plugin optimizer for device_type GPU is enabled.\n",
      "2022-08-03 12:37:24.052649: I tensorflow/core/grappler/optimizers/custom_graph_optimizer_registry.cc:113] Plugin optimizer for device_type GPU is enabled.\n",
      "\u001b[32m[I 2022-08-03 12:37:24,427]\u001b[0m Trial 13 finished with value: 0.914857804775238 and parameters: {'learning_rate': 0.006404401044838975, 'hidden_layer_size1': 777, 'hidden_layer_size2': 502, 'kernel_regularizer': 1.1796119735321559e-06, 'bias_regularizer': 2.9493306122517665e-05, 'activity_regularizer': 1.5485806367122636e-05, 'dropout': 0.027666351947058965}. Best is trial 13 with value: 0.914857804775238.\u001b[0m\n"
     ]
    },
    {
     "name": "stdout",
     "output_type": "stream",
     "text": [
      "F1 Score: 0.914857804775238; Loss=0.45407626032829285\n"
     ]
    },
    {
     "name": "stderr",
     "output_type": "stream",
     "text": [
      "2022-08-03 12:37:25.365896: I tensorflow/core/grappler/optimizers/custom_graph_optimizer_registry.cc:113] Plugin optimizer for device_type GPU is enabled.\n",
      "2022-08-03 12:37:49.757202: I tensorflow/core/grappler/optimizers/custom_graph_optimizer_registry.cc:113] Plugin optimizer for device_type GPU is enabled.\n",
      "\u001b[32m[I 2022-08-03 12:37:50,149]\u001b[0m Trial 14 finished with value: 0.8530076742172241 and parameters: {'learning_rate': 0.008144469927478625, 'hidden_layer_size1': 769, 'hidden_layer_size2': 513, 'kernel_regularizer': 1.7997576824274337e-05, 'bias_regularizer': 3.3704545552114044e-05, 'activity_regularizer': 7.683113278680358e-06, 'dropout': 0.024905189499052703}. Best is trial 13 with value: 0.914857804775238.\u001b[0m\n"
     ]
    },
    {
     "name": "stdout",
     "output_type": "stream",
     "text": [
      "F1 Score: 0.8530076742172241; Loss=0.643714427947998\n"
     ]
    },
    {
     "name": "stderr",
     "output_type": "stream",
     "text": [
      "2022-08-03 12:37:50.817315: I tensorflow/core/grappler/optimizers/custom_graph_optimizer_registry.cc:113] Plugin optimizer for device_type GPU is enabled.\n",
      "2022-08-03 12:38:13.691106: I tensorflow/core/grappler/optimizers/custom_graph_optimizer_registry.cc:113] Plugin optimizer for device_type GPU is enabled.\n",
      "\u001b[32m[I 2022-08-03 12:38:14,087]\u001b[0m Trial 15 finished with value: 0.8793989419937134 and parameters: {'learning_rate': 0.00649495493855039, 'hidden_layer_size1': 740, 'hidden_layer_size2': 647, 'kernel_regularizer': 1.6306569528756224e-05, 'bias_regularizer': 5.848969949991577e-05, 'activity_regularizer': 1.5363132703574212e-05, 'dropout': 0.007652872175868533}. Best is trial 13 with value: 0.914857804775238.\u001b[0m\n"
     ]
    },
    {
     "name": "stdout",
     "output_type": "stream",
     "text": [
      "F1 Score: 0.8793989419937134; Loss=0.5852981209754944\n"
     ]
    },
    {
     "name": "stderr",
     "output_type": "stream",
     "text": [
      "2022-08-03 12:38:14.771122: I tensorflow/core/grappler/optimizers/custom_graph_optimizer_registry.cc:113] Plugin optimizer for device_type GPU is enabled.\n",
      "2022-08-03 12:38:34.304790: I tensorflow/core/grappler/optimizers/custom_graph_optimizer_registry.cc:113] Plugin optimizer for device_type GPU is enabled.\n",
      "\u001b[32m[I 2022-08-03 12:38:34,664]\u001b[0m Trial 16 finished with value: 0.828367292881012 and parameters: {'learning_rate': 0.003080870050785608, 'hidden_layer_size1': 451, 'hidden_layer_size2': 361, 'kernel_regularizer': 3.991887938950076e-05, 'bias_regularizer': 3.859068570958834e-05, 'activity_regularizer': 1.8423512609472583e-05, 'dropout': 0.03384735171092005}. Best is trial 13 with value: 0.914857804775238.\u001b[0m\n"
     ]
    },
    {
     "name": "stdout",
     "output_type": "stream",
     "text": [
      "F1 Score: 0.828367292881012; Loss=0.7028815746307373\n"
     ]
    },
    {
     "name": "stderr",
     "output_type": "stream",
     "text": [
      "2022-08-03 12:38:35.572369: I tensorflow/core/grappler/optimizers/custom_graph_optimizer_registry.cc:113] Plugin optimizer for device_type GPU is enabled.\n",
      "2022-08-03 12:38:59.452172: I tensorflow/core/grappler/optimizers/custom_graph_optimizer_registry.cc:113] Plugin optimizer for device_type GPU is enabled.\n",
      "\u001b[32m[I 2022-08-03 12:38:59,872]\u001b[0m Trial 17 finished with value: 0.9017432928085327 and parameters: {'learning_rate': 0.0056778420666047085, 'hidden_layer_size1': 881, 'hidden_layer_size2': 394, 'kernel_regularizer': 8.163498731905605e-06, 'bias_regularizer': 1.448429258670918e-05, 'activity_regularizer': 9.323070940957221e-05, 'dropout': 0.043296074764217554}. Best is trial 13 with value: 0.914857804775238.\u001b[0m\n"
     ]
    },
    {
     "name": "stdout",
     "output_type": "stream",
     "text": [
      "F1 Score: 0.9017432928085327; Loss=0.5044547319412231\n"
     ]
    },
    {
     "name": "stderr",
     "output_type": "stream",
     "text": [
      "2022-08-03 12:39:00.545932: I tensorflow/core/grappler/optimizers/custom_graph_optimizer_registry.cc:113] Plugin optimizer for device_type GPU is enabled.\n",
      "2022-08-03 12:39:24.655692: I tensorflow/core/grappler/optimizers/custom_graph_optimizer_registry.cc:113] Plugin optimizer for device_type GPU is enabled.\n",
      "\u001b[32m[I 2022-08-03 12:39:25,112]\u001b[0m Trial 18 finished with value: 0.8804128170013428 and parameters: {'learning_rate': 0.00805253442981971, 'hidden_layer_size1': 725, 'hidden_layer_size2': 658, 'kernel_regularizer': 3.081922814516689e-05, 'bias_regularizer': 3.2312256708393866e-05, 'activity_regularizer': 4.777092580197177e-05, 'dropout': 0.027820201186279016}. Best is trial 13 with value: 0.914857804775238.\u001b[0m\n"
     ]
    },
    {
     "name": "stdout",
     "output_type": "stream",
     "text": [
      "F1 Score: 0.8804128170013428; Loss=0.6234255433082581\n"
     ]
    },
    {
     "name": "stderr",
     "output_type": "stream",
     "text": [
      "2022-08-03 12:39:25.953536: I tensorflow/core/grappler/optimizers/custom_graph_optimizer_registry.cc:113] Plugin optimizer for device_type GPU is enabled.\n",
      "2022-08-03 12:39:47.496424: I tensorflow/core/grappler/optimizers/custom_graph_optimizer_registry.cc:113] Plugin optimizer for device_type GPU is enabled.\n",
      "\u001b[32m[I 2022-08-03 12:39:47,966]\u001b[0m Trial 19 finished with value: 0.9049557447433472 and parameters: {'learning_rate': 0.008871422410936558, 'hidden_layer_size1': 457, 'hidden_layer_size2': 422, 'kernel_regularizer': 1.131012292331847e-05, 'bias_regularizer': 5.5305085690755266e-05, 'activity_regularizer': 1.8608807960694103e-05, 'dropout': 0.011990035307080246}. Best is trial 13 with value: 0.914857804775238.\u001b[0m\n"
     ]
    },
    {
     "name": "stdout",
     "output_type": "stream",
     "text": [
      "F1 Score: 0.9049557447433472; Loss=0.5132765769958496\n"
     ]
    },
    {
     "name": "stderr",
     "output_type": "stream",
     "text": [
      "2022-08-03 12:39:48.990797: I tensorflow/core/grappler/optimizers/custom_graph_optimizer_registry.cc:113] Plugin optimizer for device_type GPU is enabled.\n",
      "2022-08-03 12:40:10.438857: I tensorflow/core/grappler/optimizers/custom_graph_optimizer_registry.cc:113] Plugin optimizer for device_type GPU is enabled.\n",
      "\u001b[32m[I 2022-08-03 12:40:10,989]\u001b[0m Trial 20 finished with value: 0.8866286277770996 and parameters: {'learning_rate': 0.008765702291821359, 'hidden_layer_size1': 450, 'hidden_layer_size2': 437, 'kernel_regularizer': 2.8097084611466436e-05, 'bias_regularizer': 5.333509719995351e-05, 'activity_regularizer': 2.6132679135076358e-05, 'dropout': 0.01188992236997879}. Best is trial 13 with value: 0.914857804775238.\u001b[0m\n"
     ]
    },
    {
     "name": "stdout",
     "output_type": "stream",
     "text": [
      "F1 Score: 0.8866286277770996; Loss=0.5516805052757263\n"
     ]
    },
    {
     "name": "stderr",
     "output_type": "stream",
     "text": [
      "2022-08-03 12:40:11.673983: I tensorflow/core/grappler/optimizers/custom_graph_optimizer_registry.cc:113] Plugin optimizer for device_type GPU is enabled.\n",
      "2022-08-03 12:40:31.702636: I tensorflow/core/grappler/optimizers/custom_graph_optimizer_registry.cc:113] Plugin optimizer for device_type GPU is enabled.\n",
      "\u001b[32m[I 2022-08-03 12:40:32,248]\u001b[0m Trial 21 finished with value: 0.8904566764831543 and parameters: {'learning_rate': 0.006345231232074776, 'hidden_layer_size1': 240, 'hidden_layer_size2': 569, 'kernel_regularizer': 1.0411273108336447e-05, 'bias_regularizer': 6.43543640518529e-05, 'activity_regularizer': 1.4501376852811312e-06, 'dropout': 0.0062756774942126885}. Best is trial 13 with value: 0.914857804775238.\u001b[0m\n"
     ]
    },
    {
     "name": "stdout",
     "output_type": "stream",
     "text": [
      "F1 Score: 0.8904566764831543; Loss=0.5177717208862305\n"
     ]
    },
    {
     "name": "stderr",
     "output_type": "stream",
     "text": [
      "2022-08-03 12:40:33.215941: I tensorflow/core/grappler/optimizers/custom_graph_optimizer_registry.cc:113] Plugin optimizer for device_type GPU is enabled.\n",
      "2022-08-03 12:40:56.149240: I tensorflow/core/grappler/optimizers/custom_graph_optimizer_registry.cc:113] Plugin optimizer for device_type GPU is enabled.\n",
      "\u001b[32m[I 2022-08-03 12:40:56,635]\u001b[0m Trial 22 finished with value: 0.936034083366394 and parameters: {'learning_rate': 0.008898464308222692, 'hidden_layer_size1': 495, 'hidden_layer_size2': 765, 'kernel_regularizer': 8.856221026715601e-07, 'bias_regularizer': 7.737459161815707e-05, 'activity_regularizer': 1.561737020593232e-05, 'dropout': 0.018195406988695262}. Best is trial 22 with value: 0.936034083366394.\u001b[0m\n"
     ]
    },
    {
     "name": "stdout",
     "output_type": "stream",
     "text": [
      "F1 Score: 0.936034083366394; Loss=0.38997045159339905\n"
     ]
    },
    {
     "name": "stderr",
     "output_type": "stream",
     "text": [
      "2022-08-03 12:40:57.266548: I tensorflow/core/grappler/optimizers/custom_graph_optimizer_registry.cc:113] Plugin optimizer for device_type GPU is enabled.\n",
      "2022-08-03 12:41:20.519639: I tensorflow/core/grappler/optimizers/custom_graph_optimizer_registry.cc:113] Plugin optimizer for device_type GPU is enabled.\n",
      "\u001b[32m[I 2022-08-03 12:41:21,054]\u001b[0m Trial 23 finished with value: 0.8470404148101807 and parameters: {'learning_rate': 0.008584003729824225, 'hidden_layer_size1': 519, 'hidden_layer_size2': 773, 'kernel_regularizer': 1.348975959393239e-05, 'bias_regularizer': 7.569524601872739e-05, 'activity_regularizer': 1.967231736682899e-05, 'dropout': 0.015967106791913592}. Best is trial 22 with value: 0.936034083366394.\u001b[0m\n"
     ]
    },
    {
     "name": "stdout",
     "output_type": "stream",
     "text": [
      "F1 Score: 0.8470404148101807; Loss=0.6846743226051331\n"
     ]
    },
    {
     "name": "stderr",
     "output_type": "stream",
     "text": [
      "2022-08-03 12:41:21.819923: I tensorflow/core/grappler/optimizers/custom_graph_optimizer_registry.cc:113] Plugin optimizer for device_type GPU is enabled.\n",
      "2022-08-03 12:41:42.204878: I tensorflow/core/grappler/optimizers/custom_graph_optimizer_registry.cc:113] Plugin optimizer for device_type GPU is enabled.\n",
      "\u001b[32m[I 2022-08-03 12:41:42,664]\u001b[0m Trial 24 finished with value: 0.837950587272644 and parameters: {'learning_rate': 0.00911546354381947, 'hidden_layer_size1': 393, 'hidden_layer_size2': 452, 'kernel_regularizer': 2.3158847530898375e-05, 'bias_regularizer': 8.138988547648286e-05, 'activity_regularizer': 1.2509544384554391e-05, 'dropout': 0.0009472424858236149}. Best is trial 22 with value: 0.936034083366394.\u001b[0m\n"
     ]
    },
    {
     "name": "stdout",
     "output_type": "stream",
     "text": [
      "F1 Score: 0.837950587272644; Loss=0.676811695098877\n"
     ]
    },
    {
     "name": "stderr",
     "output_type": "stream",
     "text": [
      "2022-08-03 12:41:43.693761: I tensorflow/core/grappler/optimizers/custom_graph_optimizer_registry.cc:113] Plugin optimizer for device_type GPU is enabled.\n",
      "2022-08-03 12:42:02.522001: I tensorflow/core/grappler/optimizers/custom_graph_optimizer_registry.cc:113] Plugin optimizer for device_type GPU is enabled.\n",
      "\u001b[32m[I 2022-08-03 12:42:02,960]\u001b[0m Trial 25 finished with value: 0.8672984838485718 and parameters: {'learning_rate': 0.007236219248283727, 'hidden_layer_size1': 232, 'hidden_layer_size2': 586, 'kernel_regularizer': 8.880900721649437e-06, 'bias_regularizer': 9.05108307859199e-05, 'activity_regularizer': 2.442306205894263e-05, 'dropout': 0.019866827084043824}. Best is trial 22 with value: 0.936034083366394.\u001b[0m\n"
     ]
    },
    {
     "name": "stdout",
     "output_type": "stream",
     "text": [
      "F1 Score: 0.8672984838485718; Loss=0.5138079524040222\n"
     ]
    },
    {
     "name": "stderr",
     "output_type": "stream",
     "text": [
      "2022-08-03 12:42:03.635583: I tensorflow/core/grappler/optimizers/custom_graph_optimizer_registry.cc:113] Plugin optimizer for device_type GPU is enabled.\n",
      "2022-08-03 12:42:22.166720: I tensorflow/core/grappler/optimizers/custom_graph_optimizer_registry.cc:113] Plugin optimizer for device_type GPU is enabled.\n",
      "\u001b[32m[I 2022-08-03 12:42:22,700]\u001b[0m Trial 26 finished with value: 0.9257280826568604 and parameters: {'learning_rate': 0.0098375703384622, 'hidden_layer_size1': 133, 'hidden_layer_size2': 309, 'kernel_regularizer': 1.0783533672488488e-07, 'bias_regularizer': 5.64757485994455e-05, 'activity_regularizer': 1.0310082050351866e-07, 'dropout': 0.03292074329728963}. Best is trial 22 with value: 0.936034083366394.\u001b[0m\n"
     ]
    },
    {
     "name": "stdout",
     "output_type": "stream",
     "text": [
      "F1 Score: 0.9257280826568604; Loss=0.3798333704471588\n"
     ]
    },
    {
     "name": "stderr",
     "output_type": "stream",
     "text": [
      "2022-08-03 12:42:23.392899: I tensorflow/core/grappler/optimizers/custom_graph_optimizer_registry.cc:113] Plugin optimizer for device_type GPU is enabled.\n",
      "2022-08-03 12:42:42.874114: I tensorflow/core/grappler/optimizers/custom_graph_optimizer_registry.cc:113] Plugin optimizer for device_type GPU is enabled.\n",
      "\u001b[32m[I 2022-08-03 12:42:43,431]\u001b[0m Trial 27 finished with value: 0.8772428035736084 and parameters: {'learning_rate': 0.009848499914333493, 'hidden_layer_size1': 116, 'hidden_layer_size2': 306, 'kernel_regularizer': 3.443886647855381e-05, 'bias_regularizer': 6.486239117925487e-05, 'activity_regularizer': 8.029897168650314e-06, 'dropout': 0.03401410774897497}. Best is trial 22 with value: 0.936034083366394.\u001b[0m\n"
     ]
    },
    {
     "name": "stdout",
     "output_type": "stream",
     "text": [
      "F1 Score: 0.8772428035736084; Loss=0.6627274751663208\n"
     ]
    },
    {
     "name": "stderr",
     "output_type": "stream",
     "text": [
      "2022-08-03 12:42:44.052547: I tensorflow/core/grappler/optimizers/custom_graph_optimizer_registry.cc:113] Plugin optimizer for device_type GPU is enabled.\n",
      "2022-08-03 12:43:02.976822: I tensorflow/core/grappler/optimizers/custom_graph_optimizer_registry.cc:113] Plugin optimizer for device_type GPU is enabled.\n",
      "\u001b[32m[I 2022-08-03 12:43:03,412]\u001b[0m Trial 28 finished with value: 0.805579662322998 and parameters: {'learning_rate': 0.00799599161877034, 'hidden_layer_size1': 144, 'hidden_layer_size2': 38, 'kernel_regularizer': 4.7761264956601756e-05, 'bias_regularizer': 4.137807539137364e-05, 'activity_regularizer': 3.4293218106589576e-07, 'dropout': 0.04585145618781409}. Best is trial 22 with value: 0.936034083366394.\u001b[0m\n"
     ]
    },
    {
     "name": "stdout",
     "output_type": "stream",
     "text": [
      "F1 Score: 0.805579662322998; Loss=0.7812761664390564\n"
     ]
    },
    {
     "name": "stderr",
     "output_type": "stream",
     "text": [
      "2022-08-03 12:43:04.175164: I tensorflow/core/grappler/optimizers/custom_graph_optimizer_registry.cc:113] Plugin optimizer for device_type GPU is enabled.\n",
      "2022-08-03 12:43:22.519195: I tensorflow/core/grappler/optimizers/custom_graph_optimizer_registry.cc:113] Plugin optimizer for device_type GPU is enabled.\n",
      "\u001b[32m[I 2022-08-03 12:43:23,033]\u001b[0m Trial 29 finished with value: 0.8360947370529175 and parameters: {'learning_rate': 0.0014416950849248321, 'hidden_layer_size1': 125, 'hidden_layer_size2': 863, 'kernel_regularizer': 3.690898091352806e-06, 'bias_regularizer': 1.6453106432736729e-06, 'activity_regularizer': 2.6354410668447848e-05, 'dropout': 0.03805646278483804}. Best is trial 22 with value: 0.936034083366394.\u001b[0m\n"
     ]
    },
    {
     "name": "stdout",
     "output_type": "stream",
     "text": [
      "F1 Score: 0.8360947370529175; Loss=0.5281209349632263\n"
     ]
    },
    {
     "name": "stderr",
     "output_type": "stream",
     "text": [
      "2022-08-03 12:43:23.964395: I tensorflow/core/grappler/optimizers/custom_graph_optimizer_registry.cc:113] Plugin optimizer for device_type GPU is enabled.\n",
      "2022-08-03 12:43:45.995597: I tensorflow/core/grappler/optimizers/custom_graph_optimizer_registry.cc:113] Plugin optimizer for device_type GPU is enabled.\n",
      "\u001b[32m[I 2022-08-03 12:43:46,516]\u001b[0m Trial 30 finished with value: 0.9213483333587646 and parameters: {'learning_rate': 0.009261076442868749, 'hidden_layer_size1': 667, 'hidden_layer_size2': 120, 'kernel_regularizer': 8.227646967468199e-07, 'bias_regularizer': 7.915061856825722e-05, 'activity_regularizer': 1.183271559313672e-05, 'dropout': 0.030046017253663036}. Best is trial 22 with value: 0.936034083366394.\u001b[0m\n"
     ]
    },
    {
     "name": "stdout",
     "output_type": "stream",
     "text": [
      "F1 Score: 0.9213483333587646; Loss=0.4007433354854584\n"
     ]
    },
    {
     "name": "stderr",
     "output_type": "stream",
     "text": [
      "2022-08-03 12:43:47.306463: I tensorflow/core/grappler/optimizers/custom_graph_optimizer_registry.cc:113] Plugin optimizer for device_type GPU is enabled.\n",
      "2022-08-03 12:44:09.972160: I tensorflow/core/grappler/optimizers/custom_graph_optimizer_registry.cc:113] Plugin optimizer for device_type GPU is enabled.\n",
      "\u001b[32m[I 2022-08-03 12:44:10,442]\u001b[0m Trial 31 finished with value: 0.9148932099342346 and parameters: {'learning_rate': 0.00924604205313174, 'hidden_layer_size1': 673, 'hidden_layer_size2': 142, 'kernel_regularizer': 2.7357540492402433e-06, 'bias_regularizer': 7.915668030980144e-05, 'activity_regularizer': 9.426117073949254e-06, 'dropout': 0.030258392903244117}. Best is trial 22 with value: 0.936034083366394.\u001b[0m\n"
     ]
    },
    {
     "name": "stdout",
     "output_type": "stream",
     "text": [
      "F1 Score: 0.9148932099342346; Loss=0.4711571931838989\n"
     ]
    },
    {
     "name": "stderr",
     "output_type": "stream",
     "text": [
      "2022-08-03 12:44:11.143769: I tensorflow/core/grappler/optimizers/custom_graph_optimizer_registry.cc:113] Plugin optimizer for device_type GPU is enabled.\n",
      "2022-08-03 12:44:33.273052: I tensorflow/core/grappler/optimizers/custom_graph_optimizer_registry.cc:113] Plugin optimizer for device_type GPU is enabled.\n",
      "\u001b[32m[I 2022-08-03 12:44:33,828]\u001b[0m Trial 32 finished with value: 0.9034803509712219 and parameters: {'learning_rate': 0.00936918998541203, 'hidden_layer_size1': 640, 'hidden_layer_size2': 95, 'kernel_regularizer': 2.64202910469621e-07, 'bias_regularizer': 8.026505357161011e-05, 'activity_regularizer': 9.00866527051675e-06, 'dropout': 0.041177094578084605}. Best is trial 22 with value: 0.936034083366394.\u001b[0m\n"
     ]
    },
    {
     "name": "stdout",
     "output_type": "stream",
     "text": [
      "F1 Score: 0.9034803509712219; Loss=0.452762633562088\n"
     ]
    },
    {
     "name": "stderr",
     "output_type": "stream",
     "text": [
      "2022-08-03 12:44:34.874440: I tensorflow/core/grappler/optimizers/custom_graph_optimizer_registry.cc:113] Plugin optimizer for device_type GPU is enabled.\n",
      "2022-08-03 12:44:58.564298: I tensorflow/core/grappler/optimizers/custom_graph_optimizer_registry.cc:113] Plugin optimizer for device_type GPU is enabled.\n",
      "\u001b[32m[I 2022-08-03 12:44:59,117]\u001b[0m Trial 33 finished with value: 0.8927109241485596 and parameters: {'learning_rate': 0.009252460083512893, 'hidden_layer_size1': 687, 'hidden_layer_size2': 137, 'kernel_regularizer': 2.3406222911530013e-05, 'bias_regularizer': 9.239524067983552e-05, 'activity_regularizer': 6.325368228410692e-07, 'dropout': 0.051409274319768876}. Best is trial 22 with value: 0.936034083366394.\u001b[0m\n"
     ]
    },
    {
     "name": "stdout",
     "output_type": "stream",
     "text": [
      "F1 Score: 0.8927109241485596; Loss=0.6191580295562744\n"
     ]
    },
    {
     "name": "stderr",
     "output_type": "stream",
     "text": [
      "2022-08-03 12:44:59.859051: I tensorflow/core/grappler/optimizers/custom_graph_optimizer_registry.cc:113] Plugin optimizer for device_type GPU is enabled.\n",
      "2022-08-03 12:45:22.804421: I tensorflow/core/grappler/optimizers/custom_graph_optimizer_registry.cc:113] Plugin optimizer for device_type GPU is enabled.\n",
      "\u001b[32m[I 2022-08-03 12:45:23,371]\u001b[0m Trial 34 finished with value: 0.8978921175003052 and parameters: {'learning_rate': 0.009899199892506738, 'hidden_layer_size1': 556, 'hidden_layer_size2': 298, 'kernel_regularizer': 7.722736268707042e-06, 'bias_regularizer': 7.372368525501239e-05, 'activity_regularizer': 1.0554927827886184e-05, 'dropout': 0.09889177214168363}. Best is trial 22 with value: 0.936034083366394.\u001b[0m\n"
     ]
    },
    {
     "name": "stdout",
     "output_type": "stream",
     "text": [
      "F1 Score: 0.8978921175003052; Loss=0.5523701310157776\n"
     ]
    },
    {
     "name": "stderr",
     "output_type": "stream",
     "text": [
      "2022-08-03 12:45:24.167249: I tensorflow/core/grappler/optimizers/custom_graph_optimizer_registry.cc:113] Plugin optimizer for device_type GPU is enabled.\n",
      "2022-08-03 12:45:45.761205: I tensorflow/core/grappler/optimizers/custom_graph_optimizer_registry.cc:113] Plugin optimizer for device_type GPU is enabled.\n",
      "\u001b[32m[I 2022-08-03 12:45:46,309]\u001b[0m Trial 35 finished with value: 0.8830986618995667 and parameters: {'learning_rate': 0.0084205701420848, 'hidden_layer_size1': 612, 'hidden_layer_size2': 108, 'kernel_regularizer': 1.5370045995683814e-05, 'bias_regularizer': 8.303648689469214e-05, 'activity_regularizer': 3.917678533230786e-06, 'dropout': 0.031109061430079164}. Best is trial 22 with value: 0.936034083366394.\u001b[0m\n"
     ]
    },
    {
     "name": "stdout",
     "output_type": "stream",
     "text": [
      "F1 Score: 0.8830986618995667; Loss=0.5392708778381348\n"
     ]
    },
    {
     "name": "stderr",
     "output_type": "stream",
     "text": [
      "2022-08-03 12:45:47.016951: I tensorflow/core/grappler/optimizers/custom_graph_optimizer_registry.cc:113] Plugin optimizer for device_type GPU is enabled.\n",
      "2022-08-03 12:46:12.152886: I tensorflow/core/grappler/optimizers/custom_graph_optimizer_registry.cc:113] Plugin optimizer for device_type GPU is enabled.\n",
      "\u001b[32m[I 2022-08-03 12:46:12,698]\u001b[0m Trial 36 finished with value: 0.8181752562522888 and parameters: {'learning_rate': 0.0073847707885469965, 'hidden_layer_size1': 820, 'hidden_layer_size2': 43, 'kernel_regularizer': 9.5933207931871e-05, 'bias_regularizer': 9.822424926699336e-05, 'activity_regularizer': 2.297297999221003e-05, 'dropout': 0.021197860110716747}. Best is trial 22 with value: 0.936034083366394.\u001b[0m\n"
     ]
    },
    {
     "name": "stdout",
     "output_type": "stream",
     "text": [
      "F1 Score: 0.8181752562522888; Loss=0.948420524597168\n"
     ]
    },
    {
     "name": "stderr",
     "output_type": "stream",
     "text": [
      "2022-08-03 12:46:13.402898: I tensorflow/core/grappler/optimizers/custom_graph_optimizer_registry.cc:113] Plugin optimizer for device_type GPU is enabled.\n",
      "2022-08-03 12:46:37.412783: I tensorflow/core/grappler/optimizers/custom_graph_optimizer_registry.cc:113] Plugin optimizer for device_type GPU is enabled.\n",
      "\u001b[32m[I 2022-08-03 12:46:38,053]\u001b[0m Trial 37 finished with value: 0.8823831081390381 and parameters: {'learning_rate': 0.009272506587844452, 'hidden_layer_size1': 697, 'hidden_layer_size2': 238, 'kernel_regularizer': 5.670353136070214e-06, 'bias_regularizer': 5.955041603881622e-05, 'activity_regularizer': 4.208582965248614e-05, 'dropout': 0.047907829200142846}. Best is trial 22 with value: 0.936034083366394.\u001b[0m\n"
     ]
    },
    {
     "name": "stdout",
     "output_type": "stream",
     "text": [
      "F1 Score: 0.8823831081390381; Loss=0.5530359745025635\n"
     ]
    },
    {
     "name": "stderr",
     "output_type": "stream",
     "text": [
      "2022-08-03 12:46:39.001101: I tensorflow/core/grappler/optimizers/custom_graph_optimizer_registry.cc:113] Plugin optimizer for device_type GPU is enabled.\n",
      "2022-08-03 12:47:02.868430: I tensorflow/core/grappler/optimizers/custom_graph_optimizer_registry.cc:113] Plugin optimizer for device_type GPU is enabled.\n",
      "\u001b[32m[I 2022-08-03 12:47:03,475]\u001b[0m Trial 38 finished with value: 0.8499150276184082 and parameters: {'learning_rate': 0.007791850200367136, 'hidden_layer_size1': 569, 'hidden_layer_size2': 155, 'kernel_regularizer': 2.2542677788039485e-05, 'bias_regularizer': 6.98969177767853e-05, 'activity_regularizer': 3.048285991980697e-05, 'dropout': 0.04036983839561174}. Best is trial 22 with value: 0.936034083366394.\u001b[0m\n"
     ]
    },
    {
     "name": "stdout",
     "output_type": "stream",
     "text": [
      "F1 Score: 0.8499150276184082; Loss=0.6979961395263672\n"
     ]
    },
    {
     "name": "stderr",
     "output_type": "stream",
     "text": [
      "2022-08-03 12:47:04.232937: I tensorflow/core/grappler/optimizers/custom_graph_optimizer_registry.cc:113] Plugin optimizer for device_type GPU is enabled.\n",
      "2022-08-03 12:47:27.472112: I tensorflow/core/grappler/optimizers/custom_graph_optimizer_registry.cc:113] Plugin optimizer for device_type GPU is enabled.\n",
      "\u001b[32m[I 2022-08-03 12:47:28,096]\u001b[0m Trial 39 finished with value: 0.8811720609664917 and parameters: {'learning_rate': 0.008577018436158261, 'hidden_layer_size1': 504, 'hidden_layer_size2': 265, 'kernel_regularizer': 5.841161669741482e-06, 'bias_regularizer': 8.541250335775228e-05, 'activity_regularizer': 1.5852861203037808e-05, 'dropout': 0.015146153640676088}. Best is trial 22 with value: 0.936034083366394.\u001b[0m\n"
     ]
    },
    {
     "name": "stdout",
     "output_type": "stream",
     "text": [
      "F1 Score: 0.8811720609664917; Loss=0.5782130360603333\n"
     ]
    },
    {
     "name": "stderr",
     "output_type": "stream",
     "text": [
      "2022-08-03 12:47:28.854385: I tensorflow/core/grappler/optimizers/custom_graph_optimizer_registry.cc:113] Plugin optimizer for device_type GPU is enabled.\n",
      "2022-08-03 12:47:52.882143: I tensorflow/core/grappler/optimizers/custom_graph_optimizer_registry.cc:113] Plugin optimizer for device_type GPU is enabled.\n",
      "\u001b[32m[I 2022-08-03 12:47:53,429]\u001b[0m Trial 40 finished with value: 0.9089877009391785 and parameters: {'learning_rate': 0.009621525706034341, 'hidden_layer_size1': 668, 'hidden_layer_size2': 180, 'kernel_regularizer': 1.2771701228603257e-05, 'bias_regularizer': 7.453229787032991e-05, 'activity_regularizer': 4.812731029737833e-06, 'dropout': 0.052646301534957245}. Best is trial 22 with value: 0.936034083366394.\u001b[0m\n"
     ]
    },
    {
     "name": "stdout",
     "output_type": "stream",
     "text": [
      "F1 Score: 0.9089877009391785; Loss=0.5290533900260925\n"
     ]
    },
    {
     "name": "stderr",
     "output_type": "stream",
     "text": [
      "2022-08-03 12:47:54.435033: I tensorflow/core/grappler/optimizers/custom_graph_optimizer_registry.cc:113] Plugin optimizer for device_type GPU is enabled.\n",
      "2022-08-03 12:48:20.732590: I tensorflow/core/grappler/optimizers/custom_graph_optimizer_registry.cc:113] Plugin optimizer for device_type GPU is enabled.\n",
      "\u001b[32m[I 2022-08-03 12:48:21,330]\u001b[0m Trial 41 finished with value: 0.9106981158256531 and parameters: {'learning_rate': 0.009947119297700823, 'hidden_layer_size1': 812, 'hidden_layer_size2': 354, 'kernel_regularizer': 8.942340539291362e-07, 'bias_regularizer': 7.878472679965983e-05, 'activity_regularizer': 1.2557727173343054e-05, 'dropout': 0.0289860257123483}. Best is trial 22 with value: 0.936034083366394.\u001b[0m\n"
     ]
    },
    {
     "name": "stdout",
     "output_type": "stream",
     "text": [
      "F1 Score: 0.9106981158256531; Loss=0.4620532989501953\n"
     ]
    },
    {
     "name": "stderr",
     "output_type": "stream",
     "text": [
      "2022-08-03 12:48:22.169592: I tensorflow/core/grappler/optimizers/custom_graph_optimizer_registry.cc:113] Plugin optimizer for device_type GPU is enabled.\n",
      "2022-08-03 12:48:49.608945: I tensorflow/core/grappler/optimizers/custom_graph_optimizer_registry.cc:113] Plugin optimizer for device_type GPU is enabled.\n",
      "\u001b[32m[I 2022-08-03 12:48:50,244]\u001b[0m Trial 42 finished with value: 0.8743573427200317 and parameters: {'learning_rate': 0.004805365120583043, 'hidden_layer_size1': 916, 'hidden_layer_size2': 27, 'kernel_regularizer': 1.4126693133236814e-06, 'bias_regularizer': 4.983090231969463e-05, 'activity_regularizer': 1.1697321962208088e-05, 'dropout': 0.024187018018109394}. Best is trial 22 with value: 0.936034083366394.\u001b[0m\n"
     ]
    },
    {
     "name": "stdout",
     "output_type": "stream",
     "text": [
      "F1 Score: 0.8743573427200317; Loss=0.5141679644584656\n"
     ]
    },
    {
     "name": "stderr",
     "output_type": "stream",
     "text": [
      "2022-08-03 12:48:50.979036: I tensorflow/core/grappler/optimizers/custom_graph_optimizer_registry.cc:113] Plugin optimizer for device_type GPU is enabled.\n",
      "2022-08-03 12:49:17.380066: I tensorflow/core/grappler/optimizers/custom_graph_optimizer_registry.cc:113] Plugin optimizer for device_type GPU is enabled.\n",
      "\u001b[32m[I 2022-08-03 12:49:17,993]\u001b[0m Trial 43 finished with value: 0.9006018042564392 and parameters: {'learning_rate': 0.009039212832608997, 'hidden_layer_size1': 785, 'hidden_layer_size2': 735, 'kernel_regularizer': 6.424120022513549e-06, 'bias_regularizer': 9.256588978921813e-05, 'activity_regularizer': 7.508040425421831e-05, 'dropout': 0.03142729924083473}. Best is trial 22 with value: 0.936034083366394.\u001b[0m\n"
     ]
    },
    {
     "name": "stdout",
     "output_type": "stream",
     "text": [
      "F1 Score: 0.9006018042564392; Loss=0.5220509171485901\n"
     ]
    },
    {
     "name": "stderr",
     "output_type": "stream",
     "text": [
      "2022-08-03 12:49:19.138659: I tensorflow/core/grappler/optimizers/custom_graph_optimizer_registry.cc:113] Plugin optimizer for device_type GPU is enabled.\n",
      "2022-08-03 12:49:44.338635: I tensorflow/core/grappler/optimizers/custom_graph_optimizer_registry.cc:113] Plugin optimizer for device_type GPU is enabled.\n",
      "\u001b[32m[I 2022-08-03 12:49:44,955]\u001b[0m Trial 44 finished with value: 0.8393182754516602 and parameters: {'learning_rate': 0.00834939369113609, 'hidden_layer_size1': 603, 'hidden_layer_size2': 84, 'kernel_regularizer': 8.335581637747833e-05, 'bias_regularizer': 6.410738308587934e-05, 'activity_regularizer': 2.1314661863086696e-05, 'dropout': 0.01904690154343181}. Best is trial 22 with value: 0.936034083366394.\u001b[0m\n"
     ]
    },
    {
     "name": "stdout",
     "output_type": "stream",
     "text": [
      "F1 Score: 0.8393182754516602; Loss=0.8418564200401306\n"
     ]
    },
    {
     "name": "stderr",
     "output_type": "stream",
     "text": [
      "2022-08-03 12:49:45.708965: I tensorflow/core/grappler/optimizers/custom_graph_optimizer_registry.cc:113] Plugin optimizer for device_type GPU is enabled.\n",
      "2022-08-03 12:50:05.471472: I tensorflow/core/grappler/optimizers/custom_graph_optimizer_registry.cc:113] Plugin optimizer for device_type GPU is enabled.\n",
      "\u001b[32m[I 2022-08-03 12:50:06,147]\u001b[0m Trial 45 finished with value: 0.8719234466552734 and parameters: {'learning_rate': 0.006944525064245744, 'hidden_layer_size1': 50, 'hidden_layer_size2': 885, 'kernel_regularizer': 1.8242585495657307e-05, 'bias_regularizer': 4.570467612300767e-05, 'activity_regularizer': 5.9617516543557895e-05, 'dropout': 0.03780706516288601}. Best is trial 22 with value: 0.936034083366394.\u001b[0m\n"
     ]
    },
    {
     "name": "stdout",
     "output_type": "stream",
     "text": [
      "F1 Score: 0.8719234466552734; Loss=0.5714186429977417\n"
     ]
    },
    {
     "name": "stderr",
     "output_type": "stream",
     "text": [
      "2022-08-03 12:50:06.935737: I tensorflow/core/grappler/optimizers/custom_graph_optimizer_registry.cc:113] Plugin optimizer for device_type GPU is enabled.\n",
      "2022-08-03 12:50:33.276051: I tensorflow/core/grappler/optimizers/custom_graph_optimizer_registry.cc:113] Plugin optimizer for device_type GPU is enabled.\n",
      "\u001b[32m[I 2022-08-03 12:50:33,885]\u001b[0m Trial 46 finished with value: 0.8861753940582275 and parameters: {'learning_rate': 0.007629490773828722, 'hidden_layer_size1': 856, 'hidden_layer_size2': 215, 'kernel_regularizer': 6.210316186621788e-07, 'bias_regularizer': 8.735286768673292e-05, 'activity_regularizer': 2.92051504119639e-05, 'dropout': 0.027518971373518206}. Best is trial 22 with value: 0.936034083366394.\u001b[0m\n"
     ]
    },
    {
     "name": "stdout",
     "output_type": "stream",
     "text": [
      "F1 Score: 0.8861753940582275; Loss=0.5148590207099915\n"
     ]
    },
    {
     "name": "stderr",
     "output_type": "stream",
     "text": [
      "2022-08-03 12:50:34.962122: I tensorflow/core/grappler/optimizers/custom_graph_optimizer_registry.cc:113] Plugin optimizer for device_type GPU is enabled.\n",
      "2022-08-03 12:50:59.595568: I tensorflow/core/grappler/optimizers/custom_graph_optimizer_registry.cc:113] Plugin optimizer for device_type GPU is enabled.\n",
      "\u001b[32m[I 2022-08-03 12:51:00,280]\u001b[0m Trial 47 finished with value: 0.824960470199585 and parameters: {'learning_rate': 0.0032628472432035447, 'hidden_layer_size1': 730, 'hidden_layer_size2': 472, 'kernel_regularizer': 6.377874995607577e-05, 'bias_regularizer': 6.803402687800868e-05, 'activity_regularizer': 1.4459345165346891e-05, 'dropout': 0.024046984328002313}. Best is trial 22 with value: 0.936034083366394.\u001b[0m\n"
     ]
    },
    {
     "name": "stdout",
     "output_type": "stream",
     "text": [
      "F1 Score: 0.824960470199585; Loss=0.7732433080673218\n"
     ]
    },
    {
     "name": "stderr",
     "output_type": "stream",
     "text": [
      "2022-08-03 12:51:00.976853: I tensorflow/core/grappler/optimizers/custom_graph_optimizer_registry.cc:113] Plugin optimizer for device_type GPU is enabled.\n",
      "2022-08-03 12:51:22.961511: I tensorflow/core/grappler/optimizers/custom_graph_optimizer_registry.cc:113] Plugin optimizer for device_type GPU is enabled.\n",
      "\u001b[32m[I 2022-08-03 12:51:23,493]\u001b[0m Trial 48 finished with value: 0.8908510208129883 and parameters: {'learning_rate': 0.004255300236198788, 'hidden_layer_size1': 337, 'hidden_layer_size2': 746, 'kernel_regularizer': 1.1771652943977645e-05, 'bias_regularizer': 3.35609884645876e-05, 'activity_regularizer': 5.383459179708015e-06, 'dropout': 0.061168319128974025}. Best is trial 22 with value: 0.936034083366394.\u001b[0m\n"
     ]
    },
    {
     "name": "stdout",
     "output_type": "stream",
     "text": [
      "F1 Score: 0.8908510208129883; Loss=0.5347780585289001\n"
     ]
    },
    {
     "name": "stderr",
     "output_type": "stream",
     "text": [
      "2022-08-03 12:51:24.288982: I tensorflow/core/grappler/optimizers/custom_graph_optimizer_registry.cc:113] Plugin optimizer for device_type GPU is enabled.\n",
      "2022-08-03 12:51:50.975041: I tensorflow/core/grappler/optimizers/custom_graph_optimizer_registry.cc:113] Plugin optimizer for device_type GPU is enabled.\n",
      "\u001b[32m[I 2022-08-03 12:51:51,605]\u001b[0m Trial 49 finished with value: 0.8644860982894897 and parameters: {'learning_rate': 0.0022143255999753477, 'hidden_layer_size1': 771, 'hidden_layer_size2': 324, 'kernel_regularizer': 5.942929412576982e-06, 'bias_regularizer': 7.762304757167658e-05, 'activity_regularizer': 4.034307577659309e-05, 'dropout': 0.036613790714735486}. Best is trial 22 with value: 0.936034083366394.\u001b[0m\n"
     ]
    },
    {
     "name": "stdout",
     "output_type": "stream",
     "text": [
      "F1 Score: 0.8644860982894897; Loss=0.5261691808700562\n"
     ]
    },
    {
     "name": "stderr",
     "output_type": "stream",
     "text": [
      "2022-08-03 12:51:52.298806: I tensorflow/core/grappler/optimizers/custom_graph_optimizer_registry.cc:113] Plugin optimizer for device_type GPU is enabled.\n",
      "2022-08-03 12:52:20.773205: I tensorflow/core/grappler/optimizers/custom_graph_optimizer_registry.cc:113] Plugin optimizer for device_type GPU is enabled.\n",
      "\u001b[32m[I 2022-08-03 12:52:21,470]\u001b[0m Trial 50 finished with value: 0.8716103434562683 and parameters: {'learning_rate': 0.009435837546018925, 'hidden_layer_size1': 968, 'hidden_layer_size2': 258, 'kernel_regularizer': 1.5765494020317522e-05, 'bias_regularizer': 2.13873044428835e-05, 'activity_regularizer': 8.281511381446758e-06, 'dropout': 0.011150576931993034}. Best is trial 22 with value: 0.936034083366394.\u001b[0m\n"
     ]
    },
    {
     "name": "stdout",
     "output_type": "stream",
     "text": [
      "F1 Score: 0.8716103434562683; Loss=0.5940662622451782\n"
     ]
    },
    {
     "name": "stderr",
     "output_type": "stream",
     "text": [
      "2022-08-03 12:52:22.162180: I tensorflow/core/grappler/optimizers/custom_graph_optimizer_registry.cc:113] Plugin optimizer for device_type GPU is enabled.\n",
      "2022-08-03 12:52:49.463256: I tensorflow/core/grappler/optimizers/custom_graph_optimizer_registry.cc:113] Plugin optimizer for device_type GPU is enabled.\n",
      "\u001b[32m[I 2022-08-03 12:52:50,187]\u001b[0m Trial 51 finished with value: 0.9211723804473877 and parameters: {'learning_rate': 0.009947179876562047, 'hidden_layer_size1': 831, 'hidden_layer_size2': 359, 'kernel_regularizer': 1.1824111010440572e-06, 'bias_regularizer': 7.780857814292936e-05, 'activity_regularizer': 1.7313978154454974e-05, 'dropout': 0.028573851284065425}. Best is trial 22 with value: 0.936034083366394.\u001b[0m\n"
     ]
    },
    {
     "name": "stdout",
     "output_type": "stream",
     "text": [
      "F1 Score: 0.9211723804473877; Loss=0.41377562284469604\n"
     ]
    },
    {
     "name": "stderr",
     "output_type": "stream",
     "text": [
      "2022-08-03 12:52:51.253383: I tensorflow/core/grappler/optimizers/custom_graph_optimizer_registry.cc:113] Plugin optimizer for device_type GPU is enabled.\n",
      "2022-08-03 12:53:27.007757: I tensorflow/core/grappler/optimizers/custom_graph_optimizer_registry.cc:113] Plugin optimizer for device_type GPU is enabled.\n",
      "\u001b[32m[I 2022-08-03 12:53:27,806]\u001b[0m Trial 52 finished with value: 0.9314529299736023 and parameters: {'learning_rate': 0.0088431094946176, 'hidden_layer_size1': 905, 'hidden_layer_size2': 488, 'kernel_regularizer': 4.105752981053187e-08, 'bias_regularizer': 7.086758455751479e-05, 'activity_regularizer': 1.6636925795510398e-05, 'dropout': 0.031707530319905135}. Best is trial 22 with value: 0.936034083366394.\u001b[0m\n"
     ]
    },
    {
     "name": "stdout",
     "output_type": "stream",
     "text": [
      "F1 Score: 0.9314529299736023; Loss=0.42444831132888794\n"
     ]
    },
    {
     "name": "stderr",
     "output_type": "stream",
     "text": [
      "2022-08-03 12:53:28.569683: I tensorflow/core/grappler/optimizers/custom_graph_optimizer_registry.cc:113] Plugin optimizer for device_type GPU is enabled.\n",
      "2022-08-03 12:53:57.172734: I tensorflow/core/grappler/optimizers/custom_graph_optimizer_registry.cc:113] Plugin optimizer for device_type GPU is enabled.\n",
      "\u001b[32m[I 2022-08-03 12:53:57,946]\u001b[0m Trial 53 finished with value: 0.9318221807479858 and parameters: {'learning_rate': 0.008904125746211031, 'hidden_layer_size1': 926, 'hidden_layer_size2': 394, 'kernel_regularizer': 5.081832766748414e-06, 'bias_regularizer': 7.073871217227017e-05, 'activity_regularizer': 3.492373745907475e-05, 'dropout': 0.0442673454936714}. Best is trial 22 with value: 0.936034083366394.\u001b[0m\n"
     ]
    },
    {
     "name": "stdout",
     "output_type": "stream",
     "text": [
      "F1 Score: 0.9318221807479858; Loss=0.4360087513923645\n"
     ]
    },
    {
     "name": "stderr",
     "output_type": "stream",
     "text": [
      "2022-08-03 12:53:58.876606: I tensorflow/core/grappler/optimizers/custom_graph_optimizer_registry.cc:113] Plugin optimizer for device_type GPU is enabled.\n",
      "2022-08-03 12:54:27.512762: I tensorflow/core/grappler/optimizers/custom_graph_optimizer_registry.cc:113] Plugin optimizer for device_type GPU is enabled.\n",
      "\u001b[32m[I 2022-08-03 12:54:28,318]\u001b[0m Trial 54 finished with value: 0.9010321497917175 and parameters: {'learning_rate': 0.008917858277119953, 'hidden_layer_size1': 936, 'hidden_layer_size2': 570, 'kernel_regularizer': 1.0442479947164208e-05, 'bias_regularizer': 6.064057453837678e-05, 'activity_regularizer': 3.38427678244566e-05, 'dropout': 0.04492713881368802}. Best is trial 22 with value: 0.936034083366394.\u001b[0m\n"
     ]
    },
    {
     "name": "stdout",
     "output_type": "stream",
     "text": [
      "F1 Score: 0.9010321497917175; Loss=0.5629534125328064\n"
     ]
    },
    {
     "name": "stderr",
     "output_type": "stream",
     "text": [
      "2022-08-03 12:54:29.529297: I tensorflow/core/grappler/optimizers/custom_graph_optimizer_registry.cc:113] Plugin optimizer for device_type GPU is enabled.\n",
      "2022-08-03 12:54:59.725011: I tensorflow/core/grappler/optimizers/custom_graph_optimizer_registry.cc:113] Plugin optimizer for device_type GPU is enabled.\n",
      "\u001b[32m[I 2022-08-03 12:55:00,569]\u001b[0m Trial 55 finished with value: 0.9001113176345825 and parameters: {'learning_rate': 0.009647100124327075, 'hidden_layer_size1': 888, 'hidden_layer_size2': 375, 'kernel_regularizer': 4.755808009224595e-06, 'bias_regularizer': 6.798805773686909e-05, 'activity_regularizer': 3.7364507180690895e-05, 'dropout': 0.041597622120203674}. Best is trial 22 with value: 0.936034083366394.\u001b[0m\n"
     ]
    },
    {
     "name": "stdout",
     "output_type": "stream",
     "text": [
      "F1 Score: 0.9001113176345825; Loss=0.4676947593688965\n"
     ]
    },
    {
     "name": "stderr",
     "output_type": "stream",
     "text": [
      "2022-08-03 12:55:01.332549: I tensorflow/core/grappler/optimizers/custom_graph_optimizer_registry.cc:113] Plugin optimizer for device_type GPU is enabled.\n",
      "2022-08-03 12:55:29.920954: I tensorflow/core/grappler/optimizers/custom_graph_optimizer_registry.cc:113] Plugin optimizer for device_type GPU is enabled.\n",
      "\u001b[32m[I 2022-08-03 12:55:30,734]\u001b[0m Trial 56 finished with value: 0.9112291932106018 and parameters: {'learning_rate': 0.009983763222888657, 'hidden_layer_size1': 984, 'hidden_layer_size2': 409, 'kernel_regularizer': 9.456069477706836e-06, 'bias_regularizer': 7.118082557734314e-05, 'activity_regularizer': 1.8892878352333224e-05, 'dropout': 0.033561481339075674}. Best is trial 22 with value: 0.936034083366394.\u001b[0m\n"
     ]
    },
    {
     "name": "stdout",
     "output_type": "stream",
     "text": [
      "F1 Score: 0.9112291932106018; Loss=0.5125720500946045\n"
     ]
    },
    {
     "name": "stderr",
     "output_type": "stream",
     "text": [
      "2022-08-03 12:55:31.477854: I tensorflow/core/grappler/optimizers/custom_graph_optimizer_registry.cc:113] Plugin optimizer for device_type GPU is enabled.\n",
      "2022-08-03 12:56:01.045459: I tensorflow/core/grappler/optimizers/custom_graph_optimizer_registry.cc:113] Plugin optimizer for device_type GPU is enabled.\n",
      "\u001b[32m[I 2022-08-03 12:56:01,931]\u001b[0m Trial 57 finished with value: 0.8904362916946411 and parameters: {'learning_rate': 0.008727203450144288, 'hidden_layer_size1': 1019, 'hidden_layer_size2': 494, 'kernel_regularizer': 3.918396261800598e-06, 'bias_regularizer': 8.478905952934668e-05, 'activity_regularizer': 2.7633348321053917e-05, 'dropout': 0.02543104358159563}. Best is trial 22 with value: 0.936034083366394.\u001b[0m\n"
     ]
    },
    {
     "name": "stdout",
     "output_type": "stream",
     "text": [
      "F1 Score: 0.8904362916946411; Loss=0.5208136439323425\n"
     ]
    },
    {
     "name": "stderr",
     "output_type": "stream",
     "text": [
      "2022-08-03 12:56:03.119321: I tensorflow/core/grappler/optimizers/custom_graph_optimizer_registry.cc:113] Plugin optimizer for device_type GPU is enabled.\n",
      "2022-08-03 12:56:32.113537: I tensorflow/core/grappler/optimizers/custom_graph_optimizer_registry.cc:113] Plugin optimizer for device_type GPU is enabled.\n",
      "\u001b[32m[I 2022-08-03 12:56:33,040]\u001b[0m Trial 58 finished with value: 0.8955891132354736 and parameters: {'learning_rate': 0.00829100460716661, 'hidden_layer_size1': 846, 'hidden_layer_size2': 345, 'kernel_regularizer': 1.996128061409783e-05, 'bias_regularizer': 5.539585368717543e-05, 'activity_regularizer': 5.517682524792555e-05, 'dropout': 0.0579076910844859}. Best is trial 22 with value: 0.936034083366394.\u001b[0m\n"
     ]
    },
    {
     "name": "stdout",
     "output_type": "stream",
     "text": [
      "F1 Score: 0.8955891132354736; Loss=0.5613704323768616\n"
     ]
    },
    {
     "name": "stderr",
     "output_type": "stream",
     "text": [
      "2022-08-03 12:56:33.836733: I tensorflow/core/grappler/optimizers/custom_graph_optimizer_registry.cc:113] Plugin optimizer for device_type GPU is enabled.\n",
      "2022-08-03 12:57:12.664080: I tensorflow/core/grappler/optimizers/custom_graph_optimizer_registry.cc:113] Plugin optimizer for device_type GPU is enabled.\n",
      "\u001b[32m[I 2022-08-03 12:57:13,561]\u001b[0m Trial 59 finished with value: 0.8474418520927429 and parameters: {'learning_rate': 0.007894979545783803, 'hidden_layer_size1': 900, 'hidden_layer_size2': 618, 'kernel_regularizer': 1.3867520021226182e-05, 'bias_regularizer': 7.270751494302798e-05, 'activity_regularizer': 1.66449647018306e-05, 'dropout': 0.0822887127016852}. Best is trial 22 with value: 0.936034083366394.\u001b[0m\n"
     ]
    },
    {
     "name": "stdout",
     "output_type": "stream",
     "text": [
      "F1 Score: 0.8474418520927429; Loss=0.6410737037658691\n"
     ]
    },
    {
     "name": "stderr",
     "output_type": "stream",
     "text": [
      "2022-08-03 12:57:14.425087: I tensorflow/core/grappler/optimizers/custom_graph_optimizer_registry.cc:113] Plugin optimizer for device_type GPU is enabled.\n",
      "2022-08-03 12:58:03.323352: I tensorflow/core/grappler/optimizers/custom_graph_optimizer_registry.cc:113] Plugin optimizer for device_type GPU is enabled.\n",
      "\u001b[32m[I 2022-08-03 12:58:04,363]\u001b[0m Trial 60 finished with value: 0.9064385294914246 and parameters: {'learning_rate': 0.009559773347701271, 'hidden_layer_size1': 943, 'hidden_layer_size2': 528, 'kernel_regularizer': 2.7303344285017795e-05, 'bias_regularizer': 6.20000355932318e-05, 'activity_regularizer': 4.4417532117099534e-05, 'dropout': 0.017946659117868923}. Best is trial 22 with value: 0.936034083366394.\u001b[0m\n"
     ]
    },
    {
     "name": "stdout",
     "output_type": "stream",
     "text": [
      "F1 Score: 0.9064385294914246; Loss=0.5929057002067566\n"
     ]
    },
    {
     "name": "stderr",
     "output_type": "stream",
     "text": [
      "2022-08-03 12:58:05.167074: I tensorflow/core/grappler/optimizers/custom_graph_optimizer_registry.cc:113] Plugin optimizer for device_type GPU is enabled.\n"
     ]
    }
   ],
   "source": [
    "study_nn_2 = optuna.create_study(direction='maximize')\n",
    "study_nn_2.optimize(objective_2_layer, n_trials=200)\n",
    "\n",
    "print('Number of finished trials:', len(study_nn_2.trials))\n",
    "print('Best trial:', study_nn_2.best_trial.params)"
   ]
  },
  {
   "cell_type": "markdown",
   "id": "13866ad9-28e4-4f8d-9cb1-e997e8cd7c6e",
   "metadata": {},
   "source": [
    "* Trial 31 finished with value: 0.9366583824157715 and parameters: {'learning_rate': 0.0057554337551177105, 'hidden_layer_size1': 227, 'hidden_layer_size2': 786, 'kernel_regularizer': 1.0103547773871587e-07, 'bias_regularizer': 3.174256984709423e-05, 'activity_regularizer': 9.21848377690784e-06, 'dropout': 0.043861145616068783}. Best is trial 31 with value: 0.9366583824157715.\n",
    "\n",
    "* **With stratified split**: Trial 22 finished with value: 0.936034083366394 and parameters: {'learning_rate': 0.008898464308222692, 'hidden_layer_size1': 495, 'hidden_layer_size2': 765, 'kernel_regularizer': 8.856221026715601e-07, 'bias_regularizer': 7.737459161815707e-05, 'activity_regularizer': 1.561737020593232e-05, 'dropout': 0.018195406988695262}. Best is trial 22 with value: 0.936034083366394."
   ]
  },
  {
   "cell_type": "code",
   "execution_count": null,
   "id": "d04b4a39-7d5c-4aa2-98ea-25899a5084f7",
   "metadata": {},
   "outputs": [],
   "source": []
  }
 ],
 "metadata": {
  "kernelspec": {
   "display_name": "Python 3 (ipykernel)",
   "language": "python",
   "name": "python3"
  },
  "language_info": {
   "codemirror_mode": {
    "name": "ipython",
    "version": 3
   },
   "file_extension": ".py",
   "mimetype": "text/x-python",
   "name": "python",
   "nbconvert_exporter": "python",
   "pygments_lexer": "ipython3",
   "version": "3.10.5"
  }
 },
 "nbformat": 4,
 "nbformat_minor": 5
}
