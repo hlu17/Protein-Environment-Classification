{
 "cells": [
  {
   "cell_type": "code",
   "execution_count": 1,
   "id": "b512f4d3-c74c-4847-a95e-132a25d1cd6f",
   "metadata": {},
   "outputs": [],
   "source": [
    "import os\n",
    "import sys\n",
    "module_path = os.path.abspath(os.path.join('..'))\n",
    "if module_path not in sys.path:\n",
    "    sys.path.append(module_path)\n",
    "\n",
    "from helpers import (get_training_observations, \n",
    "                     get_training_labels)\n",
    "import pandas as pd\n",
    "import numpy as np\n",
    "from joblib import dump\n",
    "from joblib import load\n",
    "\n",
    "# Model specific imports\n",
    "from sklearn.model_selection import train_test_split\n",
    "from sklearn.preprocessing import LabelEncoder\n",
    "from sklearn.metrics import accuracy_score, f1_score\n",
    "import matplotlib.pyplot as plt\n",
    "\n",
    "import tensorflow as tf\n",
    "import tensorflow_addons as tfa\n",
    "from tensorflow.keras import metrics\n",
    "tf.get_logger().setLevel('INFO')\n",
    "\n",
    "import optuna"
   ]
  },
  {
   "cell_type": "code",
   "execution_count": 2,
   "id": "b3a81fe3-6c84-4e51-9ad7-31bc4e78a1d4",
   "metadata": {},
   "outputs": [
    {
     "name": "stdout",
     "output_type": "stream",
     "text": [
      "Getting all training observations from 'metagenome_classification.db'...\n",
      "Getting all training labels from 'metagenome_classification.db'...\n"
     ]
    }
   ],
   "source": [
    "# Set up data\n",
    "x_train = get_training_observations()\n",
    "y_train = get_training_labels()\n",
    "le = load('../model_joblibs/final_labelEncoder.joblib')\n",
    "    \n",
    "y_train_transformed = le.transform(y_train['EMPO_3'])\n",
    "y_train_transformed\n",
    "\n",
    "x_tr, x_val, y_tr, y_val = train_test_split(x_train, y_train_transformed, test_size=0.2, random_state=27)   "
   ]
  },
  {
   "cell_type": "code",
   "execution_count": 3,
   "id": "b70d5f99-b4ae-4aae-b342-466f7c67f1ab",
   "metadata": {},
   "outputs": [],
   "source": [
    "K = tf.keras.backend\n",
    "\n",
    "def build_model(\n",
    "    activation='relu',\n",
    "    hidden_layer_sizes=[],\n",
    "    final_layer_activation='softmax',\n",
    "    dropout=0.0,\n",
    "    optimizer='Adam',\n",
    "    learning_rate=0.01,\n",
    "    kernel_regularizer=1e-5,\n",
    "    bias_regularizer=1e-5,\n",
    "    activity_regularizer=1e-5,\n",
    "    n_classes=15\n",
    "):\n",
    "    \"\"\"Build a multi-class logistic regression model using Keras.\n",
    "\n",
    "    Args:\n",
    "      n_classes: Number of output classes in the dataset.\n",
    "      hidden_layer_sizes: A list with the number of units in each hidden layer.\n",
    "      activation: The activation function to use for the hidden layers.\n",
    "      optimizer: The optimizer to use (SGD, Adam).\n",
    "      learning_rate: The desired learning rate for the optimizer.\n",
    "\n",
    "    Returns:\n",
    "      model: A tf.keras model (graph).\n",
    "    \"\"\"\n",
    "    tf.keras.backend.clear_session()\n",
    "    np.random.seed(0)\n",
    "    tf.random.set_seed(0)\n",
    "    model = tf.keras.Sequential()\n",
    "    model.add(tf.keras.layers.Flatten())\n",
    "    \n",
    "    for hidden_layer_size in hidden_layer_sizes:\n",
    "        if hidden_layer_size > n_classes:\n",
    "            model.add(tf.keras.layers.Dense(\n",
    "                hidden_layer_size,\n",
    "                activation=activation,\n",
    "                kernel_regularizer=tf.keras.regularizers.L2(kernel_regularizer),\n",
    "                bias_regularizer=tf.keras.regularizers.L2(bias_regularizer),\n",
    "                activity_regularizer=tf.keras.regularizers.L2(activity_regularizer)\n",
    "            ))\n",
    "            if dropout > 0:\n",
    "                model.add(tf.keras.layers.Dropout(dropout))\n",
    "\n",
    "    model.add(tf.keras.layers.Dense(\n",
    "        n_classes,\n",
    "        activation=final_layer_activation,\n",
    "        kernel_regularizer=tf.keras.regularizers.L2(kernel_regularizer),\n",
    "        bias_regularizer=tf.keras.regularizers.L2(bias_regularizer),\n",
    "        activity_regularizer=tf.keras.regularizers.L2(activity_regularizer)\n",
    "    ))\n",
    "    opt = None\n",
    "    if optimizer == \"SGD\":\n",
    "        opt = tf.keras.optimizers.SGD(learning_rate=learning_rate)\n",
    "    elif optimizer == \"Adam\":\n",
    "        opt = tf.keras.optimizers.Adam(learning_rate=learning_rate)\n",
    "    else:\n",
    "        raise f\"Unsupported optimizer, {optimizer}\"\n",
    "    model.compile(\n",
    "        loss=\"categorical_crossentropy\", optimizer=opt, \n",
    "        metrics=[tfa.metrics.F1Score(num_classes=15, average='weighted')]\n",
    "    )\n",
    "    return model\n",
    "    "
   ]
  },
  {
   "cell_type": "code",
   "execution_count": 4,
   "id": "2b89d716-c125-4678-960a-dabe2d66e73a",
   "metadata": {},
   "outputs": [],
   "source": [
    "def objective_2_layer(trial, x_tr=x_tr, x_val=x_val, y_tr=y_tr, y_val=y_val):\n",
    "    \n",
    "    # Set up XGBoost hyperparameter space\n",
    "    params = {\n",
    "        'learning_rate': trial.suggest_float('learning_rate', 0.0001, 0.01),\n",
    "        'hidden_layer_size1': trial.suggest_int('hidden_layer_size1', 0, 1024),\n",
    "        'hidden_layer_size2': trial.suggest_int('hidden_layer_size2', 0, 1024),\n",
    "        'kernel_regularizer': trial.suggest_float('kernel_regularizer', 1e-10, 1e-4),\n",
    "        'bias_regularizer': trial.suggest_float('bias_regularizer', 1e-10, 1e-4),\n",
    "        'activity_regularizer': trial.suggest_float('activity_regularizer', 1e-10, 1e-4),\n",
    "        'dropout': trial.suggest_float('dropout', 0, 0.1)\n",
    "    }\n",
    "    \n",
    "    hidden_layer_sizes = [params.pop('hidden_layer_size1'), params.pop('hidden_layer_size2')]\n",
    "    \n",
    "    y_tr_one_hot = K.one_hot(K.cast(y_tr, dtype='int64'), 15)\n",
    "    y_val_one_hot = K.one_hot(K.cast(y_val, dtype='int64'), 15)\n",
    "    \n",
    "    # Create model\n",
    "    nn = build_model(\n",
    "        **params,\n",
    "        n_classes=15,\n",
    "        optimizer='Adam',\n",
    "        final_layer_activation='softmax',\n",
    "        hidden_layer_sizes=hidden_layer_sizes\n",
    "    )\n",
    "    \n",
    "    # Fit model\n",
    "    nn.fit(x=x_tr,\n",
    "           y=y_tr_one_hot,\n",
    "           epochs=50,\n",
    "           batch_size=64,\n",
    "           verbose=0)\n",
    "    \n",
    "    evaluation = nn.evaluate(x=x_val, y=y_val_one_hot, verbose=0, return_dict=True)\n",
    "    f1_score = evaluation['f1_score']\n",
    "    loss = evaluation['loss']\n",
    "    \n",
    "    print(f'F1 Score: {f1_score}; Loss={loss}')\n",
    "    \n",
    "    return f1_score\n",
    "    "
   ]
  },
  {
   "cell_type": "code",
   "execution_count": null,
   "id": "ebaada76-7bcb-4854-87a0-4b904aa47dd1",
   "metadata": {},
   "outputs": [
    {
     "name": "stderr",
     "output_type": "stream",
     "text": [
      "\u001b[32m[I 2022-08-03 01:34:32,009]\u001b[0m A new study created in memory with name: no-name-a9133337-b67e-42bf-8233-7059ed00cc8a\u001b[0m\n"
     ]
    },
    {
     "name": "stdout",
     "output_type": "stream",
     "text": [
      "Metal device set to: Apple M1 Pro\n"
     ]
    },
    {
     "name": "stderr",
     "output_type": "stream",
     "text": [
      "2022-08-03 01:34:32.011185: I tensorflow/core/common_runtime/pluggable_device/pluggable_device_factory.cc:305] Could not identify NUMA node of platform GPU ID 0, defaulting to 0. Your kernel may not have been built with NUMA support.\n",
      "2022-08-03 01:34:32.011302: I tensorflow/core/common_runtime/pluggable_device/pluggable_device_factory.cc:271] Created TensorFlow device (/job:localhost/replica:0/task:0/device:GPU:0 with 0 MB memory) -> physical PluggableDevice (device: 0, name: METAL, pci bus id: <undefined>)\n",
      "2022-08-03 01:34:32.272870: W tensorflow/core/platform/profile_utils/cpu_utils.cc:128] Failed to get CPU frequency: 0 Hz\n",
      "2022-08-03 01:34:33.093874: I tensorflow/core/grappler/optimizers/custom_graph_optimizer_registry.cc:113] Plugin optimizer for device_type GPU is enabled.\n",
      "2022-08-03 01:34:52.553208: I tensorflow/core/grappler/optimizers/custom_graph_optimizer_registry.cc:113] Plugin optimizer for device_type GPU is enabled.\n",
      "\u001b[32m[I 2022-08-03 01:34:52,799]\u001b[0m Trial 0 finished with value: 0.8127579092979431 and parameters: {'learning_rate': 0.002782969230236495, 'hidden_layer_size1': 770, 'hidden_layer_size2': 184, 'kernel_regularizer': 8.469544182102355e-05, 'bias_regularizer': 1.4966763190688398e-05, 'activity_regularizer': 7.159085803700207e-05, 'dropout': 0.02421125602848867}. Best is trial 0 with value: 0.8127579092979431.\u001b[0m\n"
     ]
    },
    {
     "name": "stdout",
     "output_type": "stream",
     "text": [
      "F1 Score: 0.8127579092979431; Loss=0.8609961271286011\n"
     ]
    },
    {
     "name": "stderr",
     "output_type": "stream",
     "text": [
      "2022-08-03 01:34:53.618974: I tensorflow/core/grappler/optimizers/custom_graph_optimizer_registry.cc:113] Plugin optimizer for device_type GPU is enabled.\n",
      "2022-08-03 01:35:14.825515: I tensorflow/core/grappler/optimizers/custom_graph_optimizer_registry.cc:113] Plugin optimizer for device_type GPU is enabled.\n",
      "\u001b[32m[I 2022-08-03 01:35:15,059]\u001b[0m Trial 1 finished with value: 0.9067314863204956 and parameters: {'learning_rate': 0.001848870210055203, 'hidden_layer_size1': 604, 'hidden_layer_size2': 1019, 'kernel_regularizer': 5.788444265722835e-06, 'bias_regularizer': 4.794195273557686e-05, 'activity_regularizer': 4.2617283091840946e-05, 'dropout': 0.053811190216511234}. Best is trial 1 with value: 0.9067314863204956.\u001b[0m\n"
     ]
    },
    {
     "name": "stdout",
     "output_type": "stream",
     "text": [
      "F1 Score: 0.9067314863204956; Loss=0.4438188970088959\n"
     ]
    },
    {
     "name": "stderr",
     "output_type": "stream",
     "text": [
      "2022-08-03 01:35:15.663733: I tensorflow/core/grappler/optimizers/custom_graph_optimizer_registry.cc:113] Plugin optimizer for device_type GPU is enabled.\n",
      "2022-08-03 01:35:35.097926: I tensorflow/core/grappler/optimizers/custom_graph_optimizer_registry.cc:113] Plugin optimizer for device_type GPU is enabled.\n",
      "\u001b[32m[I 2022-08-03 01:35:35,319]\u001b[0m Trial 2 finished with value: 0.7961479425430298 and parameters: {'learning_rate': 0.005741991413889104, 'hidden_layer_size1': 737, 'hidden_layer_size2': 19, 'kernel_regularizer': 6.614515312393447e-05, 'bias_regularizer': 3.3981648213897305e-05, 'activity_regularizer': 9.652106178703123e-05, 'dropout': 0.052776277558191476}. Best is trial 1 with value: 0.9067314863204956.\u001b[0m\n"
     ]
    },
    {
     "name": "stdout",
     "output_type": "stream",
     "text": [
      "F1 Score: 0.7961479425430298; Loss=0.8647026419639587\n"
     ]
    },
    {
     "name": "stderr",
     "output_type": "stream",
     "text": [
      "2022-08-03 01:35:36.057890: I tensorflow/core/grappler/optimizers/custom_graph_optimizer_registry.cc:113] Plugin optimizer for device_type GPU is enabled.\n",
      "2022-08-03 01:36:05.619506: I tensorflow/core/grappler/optimizers/custom_graph_optimizer_registry.cc:113] Plugin optimizer for device_type GPU is enabled.\n",
      "\u001b[32m[I 2022-08-03 01:36:05,889]\u001b[0m Trial 3 finished with value: 0.8237309455871582 and parameters: {'learning_rate': 0.004976226187289588, 'hidden_layer_size1': 996, 'hidden_layer_size2': 862, 'kernel_regularizer': 5.865283567228528e-05, 'bias_regularizer': 6.774623038038298e-05, 'activity_regularizer': 3.243377865870918e-05, 'dropout': 0.08148024141493286}. Best is trial 1 with value: 0.9067314863204956.\u001b[0m\n"
     ]
    },
    {
     "name": "stdout",
     "output_type": "stream",
     "text": [
      "F1 Score: 0.8237309455871582; Loss=0.7529489994049072\n"
     ]
    },
    {
     "name": "stderr",
     "output_type": "stream",
     "text": [
      "2022-08-03 01:36:06.537070: I tensorflow/core/grappler/optimizers/custom_graph_optimizer_registry.cc:113] Plugin optimizer for device_type GPU is enabled.\n",
      "2022-08-03 01:36:22.370093: I tensorflow/core/grappler/optimizers/custom_graph_optimizer_registry.cc:113] Plugin optimizer for device_type GPU is enabled.\n",
      "\u001b[32m[I 2022-08-03 01:36:22,639]\u001b[0m Trial 4 finished with value: 0.8571744561195374 and parameters: {'learning_rate': 0.0034121820025488155, 'hidden_layer_size1': 190, 'hidden_layer_size2': 835, 'kernel_regularizer': 2.499375995861282e-05, 'bias_regularizer': 3.737000462122363e-05, 'activity_regularizer': 8.709441714759142e-05, 'dropout': 0.019204023216908894}. Best is trial 1 with value: 0.9067314863204956.\u001b[0m\n"
     ]
    },
    {
     "name": "stdout",
     "output_type": "stream",
     "text": [
      "F1 Score: 0.8571744561195374; Loss=0.553183376789093\n"
     ]
    },
    {
     "name": "stderr",
     "output_type": "stream",
     "text": [
      "2022-08-03 01:36:23.283854: I tensorflow/core/grappler/optimizers/custom_graph_optimizer_registry.cc:113] Plugin optimizer for device_type GPU is enabled.\n",
      "2022-08-03 01:36:43.257980: I tensorflow/core/grappler/optimizers/custom_graph_optimizer_registry.cc:113] Plugin optimizer for device_type GPU is enabled.\n",
      "\u001b[32m[I 2022-08-03 01:36:43,512]\u001b[0m Trial 5 finished with value: 0.919929563999176 and parameters: {'learning_rate': 0.009355454354509333, 'hidden_layer_size1': 480, 'hidden_layer_size2': 270, 'kernel_regularizer': 8.025734498164774e-06, 'bias_regularizer': 5.0574621230822386e-05, 'activity_regularizer': 8.820596163820452e-05, 'dropout': 0.07464322293131094}. Best is trial 5 with value: 0.919929563999176.\u001b[0m\n"
     ]
    },
    {
     "name": "stdout",
     "output_type": "stream",
     "text": [
      "F1 Score: 0.919929563999176; Loss=0.5214895606040955\n"
     ]
    },
    {
     "name": "stderr",
     "output_type": "stream",
     "text": [
      "2022-08-03 01:36:44.361518: I tensorflow/core/grappler/optimizers/custom_graph_optimizer_registry.cc:113] Plugin optimizer for device_type GPU is enabled.\n",
      "2022-08-03 01:36:57.159916: I tensorflow/core/grappler/optimizers/custom_graph_optimizer_registry.cc:113] Plugin optimizer for device_type GPU is enabled.\n",
      "\u001b[32m[I 2022-08-03 01:36:57,440]\u001b[0m Trial 6 finished with value: 0.8605377078056335 and parameters: {'learning_rate': 0.005643557006273002, 'hidden_layer_size1': 174, 'hidden_layer_size2': 688, 'kernel_regularizer': 7.265515446407603e-05, 'bias_regularizer': 8.638500384216792e-05, 'activity_regularizer': 8.404359610251972e-05, 'dropout': 0.08880101004025881}. Best is trial 5 with value: 0.919929563999176.\u001b[0m\n"
     ]
    },
    {
     "name": "stdout",
     "output_type": "stream",
     "text": [
      "F1 Score: 0.8605377078056335; Loss=0.7067101001739502\n"
     ]
    },
    {
     "name": "stderr",
     "output_type": "stream",
     "text": [
      "2022-08-03 01:36:58.105056: I tensorflow/core/grappler/optimizers/custom_graph_optimizer_registry.cc:113] Plugin optimizer for device_type GPU is enabled.\n",
      "2022-08-03 01:37:19.784168: I tensorflow/core/grappler/optimizers/custom_graph_optimizer_registry.cc:113] Plugin optimizer for device_type GPU is enabled.\n",
      "\u001b[32m[I 2022-08-03 01:37:20,141]\u001b[0m Trial 7 finished with value: 0.7976608276367188 and parameters: {'learning_rate': 0.0004297320658793149, 'hidden_layer_size1': 791, 'hidden_layer_size2': 598, 'kernel_regularizer': 6.4434869781970506e-06, 'bias_regularizer': 4.8957646322191905e-05, 'activity_regularizer': 7.619436342775396e-07, 'dropout': 0.05241678509028859}. Best is trial 5 with value: 0.919929563999176.\u001b[0m\n"
     ]
    },
    {
     "name": "stdout",
     "output_type": "stream",
     "text": [
      "F1 Score: 0.7976608276367188; Loss=0.6765335202217102\n"
     ]
    },
    {
     "name": "stderr",
     "output_type": "stream",
     "text": [
      "2022-08-03 01:37:20.813190: I tensorflow/core/grappler/optimizers/custom_graph_optimizer_registry.cc:113] Plugin optimizer for device_type GPU is enabled.\n",
      "2022-08-03 01:37:35.319917: I tensorflow/core/grappler/optimizers/custom_graph_optimizer_registry.cc:113] Plugin optimizer for device_type GPU is enabled.\n",
      "\u001b[32m[I 2022-08-03 01:37:35,664]\u001b[0m Trial 8 finished with value: 0.9322353601455688 and parameters: {'learning_rate': 0.007071347281606462, 'hidden_layer_size1': 207, 'hidden_layer_size2': 681, 'kernel_regularizer': 5.993915289702355e-06, 'bias_regularizer': 6.007997012594414e-05, 'activity_regularizer': 9.571780759175235e-05, 'dropout': 0.0739349162937856}. Best is trial 8 with value: 0.9322353601455688.\u001b[0m\n"
     ]
    },
    {
     "name": "stdout",
     "output_type": "stream",
     "text": [
      "F1 Score: 0.9322353601455688; Loss=0.4262852966785431\n"
     ]
    },
    {
     "name": "stderr",
     "output_type": "stream",
     "text": [
      "2022-08-03 01:37:36.731623: I tensorflow/core/grappler/optimizers/custom_graph_optimizer_registry.cc:113] Plugin optimizer for device_type GPU is enabled.\n",
      "2022-08-03 01:37:56.547128: I tensorflow/core/grappler/optimizers/custom_graph_optimizer_registry.cc:113] Plugin optimizer for device_type GPU is enabled.\n",
      "\u001b[32m[I 2022-08-03 01:37:56,993]\u001b[0m Trial 9 finished with value: 0.8607524633407593 and parameters: {'learning_rate': 0.002251899290109244, 'hidden_layer_size1': 499, 'hidden_layer_size2': 745, 'kernel_regularizer': 1.775876297334225e-05, 'bias_regularizer': 9.646589202057144e-05, 'activity_regularizer': 2.5835625006846586e-05, 'dropout': 0.0174966341928566}. Best is trial 8 with value: 0.9322353601455688.\u001b[0m\n"
     ]
    },
    {
     "name": "stdout",
     "output_type": "stream",
     "text": [
      "F1 Score: 0.8607524633407593; Loss=0.5377887487411499\n"
     ]
    },
    {
     "name": "stderr",
     "output_type": "stream",
     "text": [
      "2022-08-03 01:37:57.682664: I tensorflow/core/grappler/optimizers/custom_graph_optimizer_registry.cc:113] Plugin optimizer for device_type GPU is enabled.\n",
      "2022-08-03 01:38:13.082762: I tensorflow/core/grappler/optimizers/custom_graph_optimizer_registry.cc:113] Plugin optimizer for device_type GPU is enabled.\n",
      "\u001b[32m[I 2022-08-03 01:38:13,381]\u001b[0m Trial 10 finished with value: 0.8429607152938843 and parameters: {'learning_rate': 0.008819070051399877, 'hidden_layer_size1': 28, 'hidden_layer_size2': 452, 'kernel_regularizer': 3.701221723359488e-05, 'bias_regularizer': 7.331019897630895e-05, 'activity_regularizer': 6.121015172357494e-05, 'dropout': 0.09758238817072312}. Best is trial 8 with value: 0.9322353601455688.\u001b[0m\n"
     ]
    },
    {
     "name": "stdout",
     "output_type": "stream",
     "text": [
      "F1 Score: 0.8429607152938843; Loss=0.6605692505836487\n"
     ]
    },
    {
     "name": "stderr",
     "output_type": "stream",
     "text": [
      "2022-08-03 01:38:14.006084: I tensorflow/core/grappler/optimizers/custom_graph_optimizer_registry.cc:113] Plugin optimizer for device_type GPU is enabled.\n",
      "2022-08-03 01:38:33.111966: I tensorflow/core/grappler/optimizers/custom_graph_optimizer_registry.cc:113] Plugin optimizer for device_type GPU is enabled.\n",
      "\u001b[32m[I 2022-08-03 01:38:33,478]\u001b[0m Trial 11 finished with value: 0.8020584583282471 and parameters: {'learning_rate': 0.009232477974773163, 'hidden_layer_size1': 396, 'hidden_layer_size2': 382, 'kernel_regularizer': 4.002782888313385e-05, 'bias_regularizer': 6.88510020831917e-05, 'activity_regularizer': 9.620896333709305e-05, 'dropout': 0.07298096604868791}. Best is trial 8 with value: 0.9322353601455688.\u001b[0m\n"
     ]
    },
    {
     "name": "stdout",
     "output_type": "stream",
     "text": [
      "F1 Score: 0.8020584583282471; Loss=0.8504019379615784\n"
     ]
    },
    {
     "name": "stderr",
     "output_type": "stream",
     "text": [
      "2022-08-03 01:38:34.489120: I tensorflow/core/grappler/optimizers/custom_graph_optimizer_registry.cc:113] Plugin optimizer for device_type GPU is enabled.\n",
      "2022-08-03 01:38:58.541558: I tensorflow/core/grappler/optimizers/custom_graph_optimizer_registry.cc:113] Plugin optimizer for device_type GPU is enabled.\n",
      "\u001b[32m[I 2022-08-03 01:38:59,003]\u001b[0m Trial 12 finished with value: 0.9190021753311157 and parameters: {'learning_rate': 0.007550187397267654, 'hidden_layer_size1': 356, 'hidden_layer_size2': 309, 'kernel_regularizer': 3.264711271500312e-06, 'bias_regularizer': 1.5124400982731746e-06, 'activity_regularizer': 7.198104982722722e-05, 'dropout': 0.07027145034140317}. Best is trial 8 with value: 0.9322353601455688.\u001b[0m\n"
     ]
    },
    {
     "name": "stdout",
     "output_type": "stream",
     "text": [
      "F1 Score: 0.9190021753311157; Loss=0.4461666941642761\n"
     ]
    },
    {
     "name": "stderr",
     "output_type": "stream",
     "text": [
      "2022-08-03 01:38:59.942915: I tensorflow/core/grappler/optimizers/custom_graph_optimizer_registry.cc:113] Plugin optimizer for device_type GPU is enabled.\n",
      "2022-08-03 01:39:24.790682: I tensorflow/core/grappler/optimizers/custom_graph_optimizer_registry.cc:113] Plugin optimizer for device_type GPU is enabled.\n",
      "\u001b[32m[I 2022-08-03 01:39:25,259]\u001b[0m Trial 13 finished with value: 0.888755202293396 and parameters: {'learning_rate': 0.007466759991786086, 'hidden_layer_size1': 263, 'hidden_layer_size2': 191, 'kernel_regularizer': 2.411850820604357e-05, 'bias_regularizer': 6.101545853441455e-05, 'activity_regularizer': 7.477904774398739e-05, 'dropout': 0.06715146330542701}. Best is trial 8 with value: 0.9322353601455688.\u001b[0m\n"
     ]
    },
    {
     "name": "stdout",
     "output_type": "stream",
     "text": [
      "F1 Score: 0.888755202293396; Loss=0.5524205565452576\n"
     ]
    },
    {
     "name": "stderr",
     "output_type": "stream",
     "text": [
      "2022-08-03 01:39:26.235941: I tensorflow/core/grappler/optimizers/custom_graph_optimizer_registry.cc:113] Plugin optimizer for device_type GPU is enabled.\n",
      "2022-08-03 01:39:51.125271: I tensorflow/core/grappler/optimizers/custom_graph_optimizer_registry.cc:113] Plugin optimizer for device_type GPU is enabled.\n",
      "\u001b[32m[I 2022-08-03 01:39:51,607]\u001b[0m Trial 14 finished with value: 0.6021437644958496 and parameters: {'learning_rate': 0.007542483499897203, 'hidden_layer_size1': 5, 'hidden_layer_size2': 484, 'kernel_regularizer': 9.813550576585122e-05, 'bias_regularizer': 2.853631972959456e-05, 'activity_regularizer': 5.79874156757961e-05, 'dropout': 0.032736095908278966}. Best is trial 8 with value: 0.9322353601455688.\u001b[0m\n"
     ]
    },
    {
     "name": "stdout",
     "output_type": "stream",
     "text": [
      "F1 Score: 0.6021437644958496; Loss=1.2831577062606812\n"
     ]
    },
    {
     "name": "stderr",
     "output_type": "stream",
     "text": [
      "2022-08-03 01:39:52.328912: I tensorflow/core/grappler/optimizers/custom_graph_optimizer_registry.cc:113] Plugin optimizer for device_type GPU is enabled.\n",
      "2022-08-03 01:40:21.530469: I tensorflow/core/grappler/optimizers/custom_graph_optimizer_registry.cc:113] Plugin optimizer for device_type GPU is enabled.\n",
      "\u001b[32m[I 2022-08-03 01:40:21,926]\u001b[0m Trial 15 finished with value: 0.8846361637115479 and parameters: {'learning_rate': 0.009534963948549776, 'hidden_layer_size1': 539, 'hidden_layer_size2': 611, 'kernel_regularizer': 1.7007788513814913e-05, 'bias_regularizer': 8.149695862147163e-05, 'activity_regularizer': 9.96574330108507e-05, 'dropout': 0.038612694446224664}. Best is trial 8 with value: 0.9322353601455688.\u001b[0m\n"
     ]
    },
    {
     "name": "stdout",
     "output_type": "stream",
     "text": [
      "F1 Score: 0.8846361637115479; Loss=0.6723057627677917\n"
     ]
    },
    {
     "name": "stderr",
     "output_type": "stream",
     "text": [
      "2022-08-03 01:40:23.020892: I tensorflow/core/grappler/optimizers/custom_graph_optimizer_registry.cc:113] Plugin optimizer for device_type GPU is enabled.\n",
      "2022-08-03 01:40:49.134277: I tensorflow/core/grappler/optimizers/custom_graph_optimizer_registry.cc:113] Plugin optimizer for device_type GPU is enabled.\n",
      "\u001b[32m[I 2022-08-03 01:40:49,619]\u001b[0m Trial 16 finished with value: 0.8405776619911194 and parameters: {'learning_rate': 0.006695754594195083, 'hidden_layer_size1': 393, 'hidden_layer_size2': 262, 'kernel_regularizer': 3.606965704857014e-05, 'bias_regularizer': 5.5714076146326185e-05, 'activity_regularizer': 8.375277506374377e-05, 'dropout': 0.06380980159198532}. Best is trial 8 with value: 0.9322353601455688.\u001b[0m\n"
     ]
    },
    {
     "name": "stdout",
     "output_type": "stream",
     "text": [
      "F1 Score: 0.8405776619911194; Loss=0.7064917683601379\n"
     ]
    },
    {
     "name": "stderr",
     "output_type": "stream",
     "text": [
      "2022-08-03 01:40:50.501062: I tensorflow/core/grappler/optimizers/custom_graph_optimizer_registry.cc:113] Plugin optimizer for device_type GPU is enabled.\n",
      "2022-08-03 01:41:10.988226: I tensorflow/core/grappler/optimizers/custom_graph_optimizer_registry.cc:113] Plugin optimizer for device_type GPU is enabled.\n",
      "\u001b[32m[I 2022-08-03 01:41:11,482]\u001b[0m Trial 17 finished with value: 0.7548914551734924 and parameters: {'learning_rate': 0.008399624230739198, 'hidden_layer_size1': 130, 'hidden_layer_size2': 7, 'kernel_regularizer': 4.855308505302258e-05, 'bias_regularizer': 4.1712217028291005e-05, 'activity_regularizer': 5.412291907368258e-05, 'dropout': 0.09931849691483907}. Best is trial 8 with value: 0.9322353601455688.\u001b[0m\n"
     ]
    },
    {
     "name": "stdout",
     "output_type": "stream",
     "text": [
      "F1 Score: 0.7548914551734924; Loss=1.0983004570007324\n"
     ]
    },
    {
     "name": "stderr",
     "output_type": "stream",
     "text": [
      "2022-08-03 01:41:12.938068: I tensorflow/core/grappler/optimizers/custom_graph_optimizer_registry.cc:113] Plugin optimizer for device_type GPU is enabled.\n",
      "2022-08-03 01:41:40.163640: I tensorflow/core/grappler/optimizers/custom_graph_optimizer_registry.cc:113] Plugin optimizer for device_type GPU is enabled.\n",
      "\u001b[32m[I 2022-08-03 01:41:40,628]\u001b[0m Trial 18 finished with value: 0.9076378345489502 and parameters: {'learning_rate': 0.009927694677369465, 'hidden_layer_size1': 653, 'hidden_layer_size2': 571, 'kernel_regularizer': 1.4501833574266438e-05, 'bias_regularizer': 2.2813621903465777e-05, 'activity_regularizer': 8.717758576643881e-05, 'dropout': 0.08260506741110824}. Best is trial 8 with value: 0.9322353601455688.\u001b[0m\n"
     ]
    },
    {
     "name": "stdout",
     "output_type": "stream",
     "text": [
      "F1 Score: 0.9076378345489502; Loss=0.49764278531074524\n"
     ]
    },
    {
     "name": "stderr",
     "output_type": "stream",
     "text": [
      "2022-08-03 01:41:41.572973: I tensorflow/core/grappler/optimizers/custom_graph_optimizer_registry.cc:113] Plugin optimizer for device_type GPU is enabled.\n",
      "2022-08-03 01:42:05.848487: I tensorflow/core/grappler/optimizers/custom_graph_optimizer_registry.cc:113] Plugin optimizer for device_type GPU is enabled.\n",
      "\u001b[32m[I 2022-08-03 01:42:06,332]\u001b[0m Trial 19 finished with value: 0.9286679029464722 and parameters: {'learning_rate': 0.004194849290600387, 'hidden_layer_size1': 293, 'hidden_layer_size2': 377, 'kernel_regularizer': 7.498383922236221e-07, 'bias_regularizer': 5.555739669725007e-05, 'activity_regularizer': 9.524510024998714e-06, 'dropout': 0.002848704156872807}. Best is trial 8 with value: 0.9322353601455688.\u001b[0m\n"
     ]
    },
    {
     "name": "stdout",
     "output_type": "stream",
     "text": [
      "F1 Score: 0.9286679029464722; Loss=0.3508806526660919\n"
     ]
    },
    {
     "name": "stderr",
     "output_type": "stream",
     "text": [
      "2022-08-03 01:42:07.452811: I tensorflow/core/grappler/optimizers/custom_graph_optimizer_registry.cc:113] Plugin optimizer for device_type GPU is enabled.\n",
      "2022-08-03 01:42:32.080069: I tensorflow/core/grappler/optimizers/custom_graph_optimizer_registry.cc:113] Plugin optimizer for device_type GPU is enabled.\n",
      "\u001b[32m[I 2022-08-03 01:42:32,541]\u001b[0m Trial 20 finished with value: 0.8709454536437988 and parameters: {'learning_rate': 0.004363139177115728, 'hidden_layer_size1': 287, 'hidden_layer_size2': 411, 'kernel_regularizer': 2.8842933480011526e-05, 'bias_regularizer': 7.974863498258722e-05, 'activity_regularizer': 6.439776282078351e-06, 'dropout': 0.009882846594176958}. Best is trial 8 with value: 0.9322353601455688.\u001b[0m\n"
     ]
    },
    {
     "name": "stdout",
     "output_type": "stream",
     "text": [
      "F1 Score: 0.8709454536437988; Loss=0.560476541519165\n"
     ]
    },
    {
     "name": "stderr",
     "output_type": "stream",
     "text": [
      "2022-08-03 01:42:33.584113: I tensorflow/core/grappler/optimizers/custom_graph_optimizer_registry.cc:113] Plugin optimizer for device_type GPU is enabled.\n",
      "2022-08-03 01:42:59.326241: I tensorflow/core/grappler/optimizers/custom_graph_optimizer_registry.cc:113] Plugin optimizer for device_type GPU is enabled.\n",
      "\u001b[32m[I 2022-08-03 01:42:59,999]\u001b[0m Trial 21 finished with value: 0.8982623815536499 and parameters: {'learning_rate': 0.0064567634209159765, 'hidden_layer_size1': 466, 'hidden_layer_size2': 325, 'kernel_regularizer': 1.209235540686753e-05, 'bias_regularizer': 5.730261082968778e-05, 'activity_regularizer': 1.725503827891601e-05, 'dropout': 0.0026319663668091676}. Best is trial 8 with value: 0.9322353601455688.\u001b[0m\n"
     ]
    },
    {
     "name": "stdout",
     "output_type": "stream",
     "text": [
      "F1 Score: 0.8982623815536499; Loss=0.5727989673614502\n"
     ]
    },
    {
     "name": "stderr",
     "output_type": "stream",
     "text": [
      "2022-08-03 01:43:01.036588: I tensorflow/core/grappler/optimizers/custom_graph_optimizer_registry.cc:113] Plugin optimizer for device_type GPU is enabled.\n",
      "2022-08-03 01:43:26.855419: I tensorflow/core/grappler/optimizers/custom_graph_optimizer_registry.cc:113] Plugin optimizer for device_type GPU is enabled.\n",
      "\u001b[32m[I 2022-08-03 01:43:27,318]\u001b[0m Trial 22 finished with value: 0.9066170454025269 and parameters: {'learning_rate': 0.003967650662827173, 'hidden_layer_size1': 299, 'hidden_layer_size2': 143, 'kernel_regularizer': 1.8893522584286168e-06, 'bias_regularizer': 6.210275134387603e-05, 'activity_regularizer': 4.4009003956965735e-05, 'dropout': 0.08077738673867099}. Best is trial 8 with value: 0.9322353601455688.\u001b[0m\n"
     ]
    },
    {
     "name": "stdout",
     "output_type": "stream",
     "text": [
      "F1 Score: 0.9066170454025269; Loss=0.3990646302700043\n"
     ]
    },
    {
     "name": "stderr",
     "output_type": "stream",
     "text": [
      "2022-08-03 01:43:28.814454: I tensorflow/core/grappler/optimizers/custom_graph_optimizer_registry.cc:113] Plugin optimizer for device_type GPU is enabled.\n",
      "2022-08-03 01:43:51.625703: I tensorflow/core/grappler/optimizers/custom_graph_optimizer_registry.cc:113] Plugin optimizer for device_type GPU is enabled.\n",
      "\u001b[32m[I 2022-08-03 01:43:52,119]\u001b[0m Trial 23 finished with value: 0.9245792627334595 and parameters: {'learning_rate': 0.007951417504013389, 'hidden_layer_size1': 164, 'hidden_layer_size2': 522, 'kernel_regularizer': 7.800553297156018e-07, 'bias_regularizer': 4.842225787815055e-05, 'activity_regularizer': 1.5701330444845048e-05, 'dropout': 0.03745354423379026}. Best is trial 8 with value: 0.9322353601455688.\u001b[0m\n"
     ]
    },
    {
     "name": "stdout",
     "output_type": "stream",
     "text": [
      "F1 Score: 0.9245792627334595; Loss=0.40434446930885315\n"
     ]
    },
    {
     "name": "stderr",
     "output_type": "stream",
     "text": [
      "2022-08-03 01:43:52.934327: I tensorflow/core/grappler/optimizers/custom_graph_optimizer_registry.cc:113] Plugin optimizer for device_type GPU is enabled.\n",
      "2022-08-03 01:44:14.160809: I tensorflow/core/grappler/optimizers/custom_graph_optimizer_registry.cc:113] Plugin optimizer for device_type GPU is enabled.\n",
      "\u001b[32m[I 2022-08-03 01:44:14,634]\u001b[0m Trial 24 finished with value: 0.9286085367202759 and parameters: {'learning_rate': 0.006549265494086201, 'hidden_layer_size1': 93, 'hidden_layer_size2': 719, 'kernel_regularizer': 9.744943633926838e-07, 'bias_regularizer': 4.26223819192215e-05, 'activity_regularizer': 1.5409759570342558e-05, 'dropout': 0.04026636163109902}. Best is trial 8 with value: 0.9322353601455688.\u001b[0m\n"
     ]
    },
    {
     "name": "stdout",
     "output_type": "stream",
     "text": [
      "F1 Score: 0.9286085367202759; Loss=0.38258641958236694\n"
     ]
    },
    {
     "name": "stderr",
     "output_type": "stream",
     "text": [
      "2022-08-03 01:44:15.706819: I tensorflow/core/grappler/optimizers/custom_graph_optimizer_registry.cc:113] Plugin optimizer for device_type GPU is enabled.\n",
      "2022-08-03 01:44:39.402758: I tensorflow/core/grappler/optimizers/custom_graph_optimizer_registry.cc:113] Plugin optimizer for device_type GPU is enabled.\n",
      "\u001b[32m[I 2022-08-03 01:44:40,001]\u001b[0m Trial 25 finished with value: 0.9008972644805908 and parameters: {'learning_rate': 0.00642730348305684, 'hidden_layer_size1': 86, 'hidden_layer_size2': 746, 'kernel_regularizer': 1.951991484769944e-05, 'bias_regularizer': 3.97876940479293e-05, 'activity_regularizer': 3.1456403912479125e-05, 'dropout': 0.04560076990175001}. Best is trial 8 with value: 0.9322353601455688.\u001b[0m\n"
     ]
    },
    {
     "name": "stdout",
     "output_type": "stream",
     "text": [
      "F1 Score: 0.9008972644805908; Loss=0.4940660297870636\n"
     ]
    },
    {
     "name": "stderr",
     "output_type": "stream",
     "text": [
      "2022-08-03 01:44:41.352422: I tensorflow/core/grappler/optimizers/custom_graph_optimizer_registry.cc:113] Plugin optimizer for device_type GPU is enabled.\n",
      "2022-08-03 01:45:05.531486: I tensorflow/core/grappler/optimizers/custom_graph_optimizer_registry.cc:113] Plugin optimizer for device_type GPU is enabled.\n",
      "\u001b[32m[I 2022-08-03 01:45:06,076]\u001b[0m Trial 26 finished with value: 0.8920904994010925 and parameters: {'learning_rate': 0.005161357660810545, 'hidden_layer_size1': 230, 'hidden_layer_size2': 888, 'kernel_regularizer': 3.0174053844882088e-05, 'bias_regularizer': 2.1193039899860046e-05, 'activity_regularizer': 8.397688149226861e-06, 'dropout': 0.059591624073216505}. Best is trial 8 with value: 0.9322353601455688.\u001b[0m\n"
     ]
    },
    {
     "name": "stdout",
     "output_type": "stream",
     "text": [
      "F1 Score: 0.8920904994010925; Loss=0.5392149686813354\n"
     ]
    },
    {
     "name": "stderr",
     "output_type": "stream",
     "text": [
      "2022-08-03 01:45:06.933774: I tensorflow/core/grappler/optimizers/custom_graph_optimizer_registry.cc:113] Plugin optimizer for device_type GPU is enabled.\n",
      "2022-08-03 01:45:28.351818: I tensorflow/core/grappler/optimizers/custom_graph_optimizer_registry.cc:113] Plugin optimizer for device_type GPU is enabled.\n",
      "\u001b[32m[I 2022-08-03 01:45:28,911]\u001b[0m Trial 27 finished with value: 0.9245293140411377 and parameters: {'learning_rate': 0.006780460320824785, 'hidden_layer_size1': 90, 'hidden_layer_size2': 668, 'kernel_regularizer': 1.098166394409439e-05, 'bias_regularizer': 6.99428822023603e-05, 'activity_regularizer': 2.057129391503069e-05, 'dropout': 0.002485151568006709}. Best is trial 8 with value: 0.9322353601455688.\u001b[0m\n"
     ]
    },
    {
     "name": "stdout",
     "output_type": "stream",
     "text": [
      "F1 Score: 0.9245293140411377; Loss=0.4548113942146301\n"
     ]
    },
    {
     "name": "stderr",
     "output_type": "stream",
     "text": [
      "2022-08-03 01:45:29.841066: I tensorflow/core/grappler/optimizers/custom_graph_optimizer_registry.cc:113] Plugin optimizer for device_type GPU is enabled.\n",
      "2022-08-03 01:45:54.848761: I tensorflow/core/grappler/optimizers/custom_graph_optimizer_registry.cc:113] Plugin optimizer for device_type GPU is enabled.\n",
      "\u001b[32m[I 2022-08-03 01:45:55,413]\u001b[0m Trial 28 finished with value: 0.9357651472091675 and parameters: {'learning_rate': 0.004359217605154717, 'hidden_layer_size1': 328, 'hidden_layer_size2': 983, 'kernel_regularizer': 4.1532446646091604e-07, 'bias_regularizer': 3.087550319991163e-05, 'activity_regularizer': 4.1569797064003126e-05, 'dropout': 0.029780319203684204}. Best is trial 28 with value: 0.9357651472091675.\u001b[0m\n"
     ]
    },
    {
     "name": "stdout",
     "output_type": "stream",
     "text": [
      "F1 Score: 0.9357651472091675; Loss=0.3628014922142029\n"
     ]
    },
    {
     "name": "stderr",
     "output_type": "stream",
     "text": [
      "2022-08-03 01:45:56.651892: I tensorflow/core/grappler/optimizers/custom_graph_optimizer_registry.cc:113] Plugin optimizer for device_type GPU is enabled.\n",
      "2022-08-03 01:46:21.530835: I tensorflow/core/grappler/optimizers/custom_graph_optimizer_registry.cc:113] Plugin optimizer for device_type GPU is enabled.\n",
      "\u001b[32m[I 2022-08-03 01:46:22,134]\u001b[0m Trial 29 finished with value: 0.8365782499313354 and parameters: {'learning_rate': 0.003009775763480673, 'hidden_layer_size1': 340, 'hidden_layer_size2': 1001, 'kernel_regularizer': 8.266097413260916e-05, 'bias_regularizer': 4.954901192026413e-06, 'activity_regularizer': 4.091698733658226e-05, 'dropout': 0.03033886034197326}. Best is trial 28 with value: 0.9357651472091675.\u001b[0m\n"
     ]
    },
    {
     "name": "stdout",
     "output_type": "stream",
     "text": [
      "F1 Score: 0.8365782499313354; Loss=0.745579183101654\n"
     ]
    },
    {
     "name": "stderr",
     "output_type": "stream",
     "text": [
      "2022-08-03 01:46:22.979899: I tensorflow/core/grappler/optimizers/custom_graph_optimizer_registry.cc:113] Plugin optimizer for device_type GPU is enabled.\n",
      "2022-08-03 01:46:47.905859: I tensorflow/core/grappler/optimizers/custom_graph_optimizer_registry.cc:113] Plugin optimizer for device_type GPU is enabled.\n",
      "\u001b[32m[I 2022-08-03 01:46:48,551]\u001b[0m Trial 30 finished with value: 0.8776782155036926 and parameters: {'learning_rate': 0.004153674990205112, 'hidden_layer_size1': 408, 'hidden_layer_size2': 946, 'kernel_regularizer': 4.4547778260037896e-05, 'bias_regularizer': 1.5952660981883707e-05, 'activity_regularizer': 6.375078115624188e-05, 'dropout': 0.02383828256910135}. Best is trial 28 with value: 0.9357651472091675.\u001b[0m\n"
     ]
    },
    {
     "name": "stdout",
     "output_type": "stream",
     "text": [
      "F1 Score: 0.8776782155036926; Loss=0.6136471033096313\n"
     ]
    },
    {
     "name": "stderr",
     "output_type": "stream",
     "text": [
      "2022-08-03 01:46:49.746371: I tensorflow/core/grappler/optimizers/custom_graph_optimizer_registry.cc:113] Plugin optimizer for device_type GPU is enabled.\n",
      "2022-08-03 01:47:13.916969: I tensorflow/core/grappler/optimizers/custom_graph_optimizer_registry.cc:113] Plugin optimizer for device_type GPU is enabled.\n",
      "\u001b[32m[I 2022-08-03 01:47:14,523]\u001b[0m Trial 31 finished with value: 0.9366583824157715 and parameters: {'learning_rate': 0.0057554337551177105, 'hidden_layer_size1': 227, 'hidden_layer_size2': 786, 'kernel_regularizer': 1.0103547773871587e-07, 'bias_regularizer': 3.174256984709423e-05, 'activity_regularizer': 9.21848377690784e-06, 'dropout': 0.043861145616068783}. Best is trial 31 with value: 0.9366583824157715.\u001b[0m\n"
     ]
    },
    {
     "name": "stdout",
     "output_type": "stream",
     "text": [
      "F1 Score: 0.9366583824157715; Loss=0.3586789071559906\n"
     ]
    },
    {
     "name": "stderr",
     "output_type": "stream",
     "text": [
      "2022-08-03 01:47:15.442869: I tensorflow/core/grappler/optimizers/custom_graph_optimizer_registry.cc:113] Plugin optimizer for device_type GPU is enabled.\n",
      "2022-08-03 01:47:39.915854: I tensorflow/core/grappler/optimizers/custom_graph_optimizer_registry.cc:113] Plugin optimizer for device_type GPU is enabled.\n",
      "\u001b[32m[I 2022-08-03 01:47:40,549]\u001b[0m Trial 32 finished with value: 0.9169148206710815 and parameters: {'learning_rate': 0.0048699782656312545, 'hidden_layer_size1': 227, 'hidden_layer_size2': 796, 'kernel_regularizer': 1.2978438072819881e-05, 'bias_regularizer': 3.099809531366778e-05, 'activity_regularizer': 8.99574844794524e-06, 'dropout': 0.011975642845108846}. Best is trial 31 with value: 0.9366583824157715.\u001b[0m\n"
     ]
    },
    {
     "name": "stdout",
     "output_type": "stream",
     "text": [
      "F1 Score: 0.9169148206710815; Loss=0.45554569363594055\n"
     ]
    },
    {
     "name": "stderr",
     "output_type": "stream",
     "text": [
      "2022-08-03 01:47:41.342973: I tensorflow/core/grappler/optimizers/custom_graph_optimizer_registry.cc:113] Plugin optimizer for device_type GPU is enabled.\n",
      "2022-08-03 01:48:06.424452: I tensorflow/core/grappler/optimizers/custom_graph_optimizer_registry.cc:113] Plugin optimizer for device_type GPU is enabled.\n",
      "\u001b[32m[I 2022-08-03 01:48:06,933]\u001b[0m Trial 33 finished with value: 0.9122964143753052 and parameters: {'learning_rate': 0.005723067375825668, 'hidden_layer_size1': 307, 'hidden_layer_size2': 919, 'kernel_regularizer': 7.953839893335271e-06, 'bias_regularizer': 1.3288009260497915e-05, 'activity_regularizer': 3.588254575509109e-05, 'dropout': 0.04704497068572595}. Best is trial 31 with value: 0.9366583824157715.\u001b[0m\n"
     ]
    },
    {
     "name": "stdout",
     "output_type": "stream",
     "text": [
      "F1 Score: 0.9122964143753052; Loss=0.4793272614479065\n"
     ]
    },
    {
     "name": "stderr",
     "output_type": "stream",
     "text": [
      "2022-08-03 01:48:08.307250: I tensorflow/core/grappler/optimizers/custom_graph_optimizer_registry.cc:113] Plugin optimizer for device_type GPU is enabled.\n",
      "2022-08-03 01:48:32.040267: I tensorflow/core/grappler/optimizers/custom_graph_optimizer_registry.cc:113] Plugin optimizer for device_type GPU is enabled.\n",
      "\u001b[32m[I 2022-08-03 01:48:32,673]\u001b[0m Trial 34 finished with value: 0.9260532855987549 and parameters: {'learning_rate': 0.0035234661091100754, 'hidden_layer_size1': 233, 'hidden_layer_size2': 800, 'kernel_regularizer': 8.489864319992486e-07, 'bias_regularizer': 3.1764847810426006e-05, 'activity_regularizer': 2.4983260160367483e-05, 'dropout': 0.06155366990332132}. Best is trial 31 with value: 0.9366583824157715.\u001b[0m\n"
     ]
    },
    {
     "name": "stdout",
     "output_type": "stream",
     "text": [
      "F1 Score: 0.9260532855987549; Loss=0.361993670463562\n"
     ]
    },
    {
     "name": "stderr",
     "output_type": "stream",
     "text": [
      "2022-08-03 01:48:33.532110: I tensorflow/core/grappler/optimizers/custom_graph_optimizer_registry.cc:113] Plugin optimizer for device_type GPU is enabled.\n",
      "2022-08-03 01:49:01.030038: I tensorflow/core/grappler/optimizers/custom_graph_optimizer_registry.cc:113] Plugin optimizer for device_type GPU is enabled.\n",
      "\u001b[32m[I 2022-08-03 01:49:01,647]\u001b[0m Trial 35 finished with value: 0.8609697818756104 and parameters: {'learning_rate': 0.0018902556820706113, 'hidden_layer_size1': 566, 'hidden_layer_size2': 982, 'kernel_regularizer': 2.2426747540777555e-05, 'bias_regularizer': 2.3577962128799393e-05, 'activity_regularizer': 4.809591187892173e-05, 'dropout': 0.026481420087487526}. Best is trial 31 with value: 0.9366583824157715.\u001b[0m\n"
     ]
    },
    {
     "name": "stdout",
     "output_type": "stream",
     "text": [
      "F1 Score: 0.8609697818756104; Loss=0.5522674918174744\n"
     ]
    },
    {
     "name": "stderr",
     "output_type": "stream",
     "text": [
      "2022-08-03 01:49:02.567782: I tensorflow/core/grappler/optimizers/custom_graph_optimizer_registry.cc:113] Plugin optimizer for device_type GPU is enabled.\n",
      "2022-08-03 01:49:27.634293: I tensorflow/core/grappler/optimizers/custom_graph_optimizer_registry.cc:113] Plugin optimizer for device_type GPU is enabled.\n",
      "\u001b[32m[I 2022-08-03 01:49:28,258]\u001b[0m Trial 36 finished with value: 0.8453587293624878 and parameters: {'learning_rate': 0.004658837958306521, 'hidden_layer_size1': 446, 'hidden_layer_size2': 660, 'kernel_regularizer': 5.901997064573559e-05, 'bias_regularizer': 5.5017921317546036e-05, 'activity_regularizer': 6.773424348192413e-05, 'dropout': 0.01132365071905006}. Best is trial 31 with value: 0.9366583824157715.\u001b[0m\n"
     ]
    },
    {
     "name": "stdout",
     "output_type": "stream",
     "text": [
      "F1 Score: 0.8453587293624878; Loss=0.7280280590057373\n"
     ]
    },
    {
     "name": "stderr",
     "output_type": "stream",
     "text": [
      "2022-08-03 01:49:29.663220: I tensorflow/core/grappler/optimizers/custom_graph_optimizer_registry.cc:113] Plugin optimizer for device_type GPU is enabled.\n",
      "2022-08-03 01:50:00.470768: I tensorflow/core/grappler/optimizers/custom_graph_optimizer_registry.cc:113] Plugin optimizer for device_type GPU is enabled.\n",
      "\u001b[32m[I 2022-08-03 01:50:01,155]\u001b[0m Trial 37 finished with value: 0.910904586315155 and parameters: {'learning_rate': 0.005350865077864234, 'hidden_layer_size1': 879, 'hidden_layer_size2': 836, 'kernel_regularizer': 6.829325541334535e-06, 'bias_regularizer': 3.625448776715228e-05, 'activity_regularizer': 2.8001627539283157e-07, 'dropout': 0.057669040958436356}. Best is trial 31 with value: 0.9366583824157715.\u001b[0m\n"
     ]
    },
    {
     "name": "stdout",
     "output_type": "stream",
     "text": [
      "F1 Score: 0.910904586315155; Loss=0.48631733655929565\n"
     ]
    },
    {
     "name": "stderr",
     "output_type": "stream",
     "text": [
      "2022-08-03 01:50:02.030472: I tensorflow/core/grappler/optimizers/custom_graph_optimizer_registry.cc:113] Plugin optimizer for device_type GPU is enabled.\n",
      "2022-08-03 01:50:24.347555: I tensorflow/core/grappler/optimizers/custom_graph_optimizer_registry.cc:113] Plugin optimizer for device_type GPU is enabled.\n",
      "\u001b[32m[I 2022-08-03 01:50:25,006]\u001b[0m Trial 38 finished with value: 0.7985445261001587 and parameters: {'learning_rate': 0.0009786547018270368, 'hidden_layer_size1': 156, 'hidden_layer_size2': 538, 'kernel_regularizer': 9.481871036445858e-06, 'bias_regularizer': 4.4177780353892094e-05, 'activity_regularizer': 2.7875423086115594e-05, 'dropout': 0.045277454828807406}. Best is trial 31 with value: 0.9366583824157715.\u001b[0m\n"
     ]
    },
    {
     "name": "stdout",
     "output_type": "stream",
     "text": [
      "F1 Score: 0.7985445261001587; Loss=0.6640958189964294\n"
     ]
    },
    {
     "name": "stderr",
     "output_type": "stream",
     "text": [
      "2022-08-03 01:50:26.005142: I tensorflow/core/grappler/optimizers/custom_graph_optimizer_registry.cc:113] Plugin optimizer for device_type GPU is enabled.\n",
      "2022-08-03 01:50:52.604548: I tensorflow/core/grappler/optimizers/custom_graph_optimizer_registry.cc:113] Plugin optimizer for device_type GPU is enabled.\n",
      "\u001b[32m[I 2022-08-03 01:50:53,338]\u001b[0m Trial 39 finished with value: 0.8851027488708496 and parameters: {'learning_rate': 0.006070228509343771, 'hidden_layer_size1': 642, 'hidden_layer_size2': 785, 'kernel_regularizer': 2.89329068105092e-05, 'bias_regularizer': 5.238658162765328e-05, 'activity_regularizer': 3.487151352982568e-05, 'dropout': 0.018071763140299485}. Best is trial 31 with value: 0.9366583824157715.\u001b[0m\n"
     ]
    },
    {
     "name": "stdout",
     "output_type": "stream",
     "text": [
      "F1 Score: 0.8851027488708496; Loss=0.5698229074478149\n"
     ]
    },
    {
     "name": "stderr",
     "output_type": "stream",
     "text": [
      "2022-08-03 01:50:54.139259: I tensorflow/core/grappler/optimizers/custom_graph_optimizer_registry.cc:113] Plugin optimizer for device_type GPU is enabled.\n",
      "2022-08-03 01:51:16.519026: I tensorflow/core/grappler/optimizers/custom_graph_optimizer_registry.cc:113] Plugin optimizer for device_type GPU is enabled.\n",
      "\u001b[32m[I 2022-08-03 01:51:17,116]\u001b[0m Trial 40 finished with value: 0.9048190116882324 and parameters: {'learning_rate': 0.0025836910892857723, 'hidden_layer_size1': 350, 'hidden_layer_size2': 877, 'kernel_regularizer': 6.6584044160352006e-06, 'bias_regularizer': 6.16998278462191e-05, 'activity_regularizer': 7.749558044970969e-05, 'dropout': 0.05373384104701542}. Best is trial 31 with value: 0.9366583824157715.\u001b[0m\n"
     ]
    },
    {
     "name": "stdout",
     "output_type": "stream",
     "text": [
      "F1 Score: 0.9048190116882324; Loss=0.42899686098098755\n"
     ]
    },
    {
     "name": "stderr",
     "output_type": "stream",
     "text": [
      "2022-08-03 01:51:18.019408: I tensorflow/core/grappler/optimizers/custom_graph_optimizer_registry.cc:113] Plugin optimizer for device_type GPU is enabled.\n",
      "2022-08-03 01:51:38.299080: I tensorflow/core/grappler/optimizers/custom_graph_optimizer_registry.cc:113] Plugin optimizer for device_type GPU is enabled.\n",
      "\u001b[32m[I 2022-08-03 01:51:39,027]\u001b[0m Trial 41 finished with value: 0.9287838935852051 and parameters: {'learning_rate': 0.007047979579016953, 'hidden_layer_size1': 96, 'hidden_layer_size2': 720, 'kernel_regularizer': 8.04781872765428e-07, 'bias_regularizer': 4.438148962547878e-05, 'activity_regularizer': 1.5322557691397305e-05, 'dropout': 0.03683750791686722}. Best is trial 31 with value: 0.9366583824157715.\u001b[0m\n"
     ]
    },
    {
     "name": "stdout",
     "output_type": "stream",
     "text": [
      "F1 Score: 0.9287838935852051; Loss=0.37070661783218384\n"
     ]
    },
    {
     "name": "stderr",
     "output_type": "stream",
     "text": [
      "2022-08-03 01:51:40.288989: I tensorflow/core/grappler/optimizers/custom_graph_optimizer_registry.cc:113] Plugin optimizer for device_type GPU is enabled.\n",
      "2022-08-03 01:52:01.878211: I tensorflow/core/grappler/optimizers/custom_graph_optimizer_registry.cc:113] Plugin optimizer for device_type GPU is enabled.\n",
      "\u001b[32m[I 2022-08-03 01:52:02,516]\u001b[0m Trial 42 finished with value: 0.9280489683151245 and parameters: {'learning_rate': 0.007089450252726732, 'hidden_layer_size1': 204, 'hidden_layer_size2': 607, 'kernel_regularizer': 2.108819542630676e-08, 'bias_regularizer': 4.6953361499748683e-05, 'activity_regularizer': 1.084094699133002e-05, 'dropout': 0.03548367149481586}. Best is trial 31 with value: 0.9366583824157715.\u001b[0m\n"
     ]
    },
    {
     "name": "stdout",
     "output_type": "stream",
     "text": [
      "F1 Score: 0.9280489683151245; Loss=0.47158288955688477\n"
     ]
    },
    {
     "name": "stderr",
     "output_type": "stream",
     "text": [
      "2022-08-03 01:52:03.397377: I tensorflow/core/grappler/optimizers/custom_graph_optimizer_registry.cc:113] Plugin optimizer for device_type GPU is enabled.\n",
      "2022-08-03 01:52:22.537811: I tensorflow/core/grappler/optimizers/custom_graph_optimizer_registry.cc:113] Plugin optimizer for device_type GPU is enabled.\n",
      "\u001b[32m[I 2022-08-03 01:52:23,133]\u001b[0m Trial 43 finished with value: 0.916460394859314 and parameters: {'learning_rate': 0.006020064560813438, 'hidden_layer_size1': 66, 'hidden_layer_size2': 641, 'kernel_regularizer': 5.5084515350687265e-06, 'bias_regularizer': 2.6819509596779466e-05, 'activity_regularizer': 2.0774092962956236e-05, 'dropout': 0.02742518192403748}. Best is trial 31 with value: 0.9366583824157715.\u001b[0m\n"
     ]
    },
    {
     "name": "stdout",
     "output_type": "stream",
     "text": [
      "F1 Score: 0.916460394859314; Loss=0.42328548431396484\n"
     ]
    },
    {
     "name": "stderr",
     "output_type": "stream",
     "text": [
      "2022-08-03 01:52:23.987208: I tensorflow/core/grappler/optimizers/custom_graph_optimizer_registry.cc:113] Plugin optimizer for device_type GPU is enabled.\n",
      "2022-08-03 01:52:44.496709: I tensorflow/core/grappler/optimizers/custom_graph_optimizer_registry.cc:113] Plugin optimizer for device_type GPU is enabled.\n",
      "\u001b[32m[I 2022-08-03 01:52:45,159]\u001b[0m Trial 44 finished with value: 0.8803285360336304 and parameters: {'learning_rate': 0.0036561949028163735, 'hidden_layer_size1': 132, 'hidden_layer_size2': 729, 'kernel_regularizer': 1.546501977948113e-05, 'bias_regularizer': 3.661422362872245e-05, 'activity_regularizer': 4.927800518907614e-06, 'dropout': 0.04175725021888063}. Best is trial 31 with value: 0.9366583824157715.\u001b[0m\n"
     ]
    },
    {
     "name": "stdout",
     "output_type": "stream",
     "text": [
      "F1 Score: 0.8803285360336304; Loss=0.49291616678237915\n"
     ]
    },
    {
     "name": "stderr",
     "output_type": "stream",
     "text": [
      "2022-08-03 01:52:46.396600: I tensorflow/core/grappler/optimizers/custom_graph_optimizer_registry.cc:113] Plugin optimizer for device_type GPU is enabled.\n",
      "2022-08-03 01:53:10.762403: I tensorflow/core/grappler/optimizers/custom_graph_optimizer_registry.cc:113] Plugin optimizer for device_type GPU is enabled.\n",
      "\u001b[32m[I 2022-08-03 01:53:11,431]\u001b[0m Trial 45 finished with value: 0.9135288000106812 and parameters: {'learning_rate': 0.008281563101205614, 'hidden_layer_size1': 257, 'hidden_layer_size2': 1019, 'kernel_regularizer': 1.0363033358950685e-05, 'bias_regularizer': 4.60131711678947e-05, 'activity_regularizer': 1.2476480528432362e-05, 'dropout': 0.05022702315750148}. Best is trial 31 with value: 0.9366583824157715.\u001b[0m\n"
     ]
    },
    {
     "name": "stdout",
     "output_type": "stream",
     "text": [
      "F1 Score: 0.9135288000106812; Loss=0.5159244537353516\n"
     ]
    },
    {
     "name": "stderr",
     "output_type": "stream",
     "text": [
      "2022-08-03 01:53:12.201175: I tensorflow/core/grappler/optimizers/custom_graph_optimizer_registry.cc:113] Plugin optimizer for device_type GPU is enabled.\n",
      "2022-08-03 01:53:30.802586: I tensorflow/core/grappler/optimizers/custom_graph_optimizer_registry.cc:113] Plugin optimizer for device_type GPU is enabled.\n",
      "\u001b[32m[I 2022-08-03 01:53:31,449]\u001b[0m Trial 46 finished with value: 0.8688226938247681 and parameters: {'learning_rate': 0.005401573911358794, 'hidden_layer_size1': 42, 'hidden_layer_size2': 443, 'kernel_regularizer': 2.0862416430706725e-05, 'bias_regularizer': 6.620893167940516e-05, 'activity_regularizer': 3.1425206570511386e-06, 'dropout': 0.022708739347022756}. Best is trial 31 with value: 0.9366583824157715.\u001b[0m\n"
     ]
    },
    {
     "name": "stdout",
     "output_type": "stream",
     "text": [
      "F1 Score: 0.8688226938247681; Loss=0.5292251110076904\n"
     ]
    },
    {
     "name": "stderr",
     "output_type": "stream",
     "text": [
      "2022-08-03 01:53:32.372090: I tensorflow/core/grappler/optimizers/custom_graph_optimizer_registry.cc:113] Plugin optimizer for device_type GPU is enabled.\n",
      "2022-08-03 01:53:53.445593: I tensorflow/core/grappler/optimizers/custom_graph_optimizer_registry.cc:113] Plugin optimizer for device_type GPU is enabled.\n",
      "\u001b[32m[I 2022-08-03 01:53:54,324]\u001b[0m Trial 47 finished with value: 0.9277267456054688 and parameters: {'learning_rate': 0.004511150885172952, 'hidden_layer_size1': 190, 'hidden_layer_size2': 948, 'kernel_regularizer': 4.6585496875402095e-06, 'bias_regularizer': 7.45358276450151e-05, 'activity_regularizer': 2.380257756042116e-05, 'dropout': 0.032374365610763296}. Best is trial 31 with value: 0.9366583824157715.\u001b[0m\n"
     ]
    },
    {
     "name": "stdout",
     "output_type": "stream",
     "text": [
      "F1 Score: 0.9277267456054688; Loss=0.4115765392780304\n"
     ]
    },
    {
     "name": "stderr",
     "output_type": "stream",
     "text": [
      "2022-08-03 01:53:55.066733: I tensorflow/core/grappler/optimizers/custom_graph_optimizer_registry.cc:113] Plugin optimizer for device_type GPU is enabled.\n",
      "2022-08-03 01:54:27.597273: I tensorflow/core/grappler/optimizers/custom_graph_optimizer_registry.cc:113] Plugin optimizer for device_type GPU is enabled.\n",
      "\u001b[32m[I 2022-08-03 01:54:28,434]\u001b[0m Trial 48 finished with value: 0.8549816608428955 and parameters: {'learning_rate': 0.002972614502890853, 'hidden_layer_size1': 1006, 'hidden_layer_size2': 696, 'kernel_regularizer': 6.467070457273062e-05, 'bias_regularizer': 3.3239404097851655e-05, 'activity_regularizer': 2.9792157253089377e-05, 'dropout': 0.09008380860924195}. Best is trial 31 with value: 0.9366583824157715.\u001b[0m\n"
     ]
    },
    {
     "name": "stdout",
     "output_type": "stream",
     "text": [
      "F1 Score: 0.8549816608428955; Loss=0.738514244556427\n"
     ]
    },
    {
     "name": "stderr",
     "output_type": "stream",
     "text": [
      "2022-08-03 01:54:29.365117: I tensorflow/core/grappler/optimizers/custom_graph_optimizer_registry.cc:113] Plugin optimizer for device_type GPU is enabled.\n",
      "2022-08-03 01:54:51.301374: I tensorflow/core/grappler/optimizers/custom_graph_optimizer_registry.cc:113] Plugin optimizer for device_type GPU is enabled.\n",
      "\u001b[32m[I 2022-08-03 01:54:52,063]\u001b[0m Trial 49 finished with value: 0.9052227735519409 and parameters: {'learning_rate': 0.007136367193844461, 'hidden_layer_size1': 122, 'hidden_layer_size2': 777, 'kernel_regularizer': 1.4498523177279222e-05, 'bias_regularizer': 5.1492126904036305e-05, 'activity_regularizer': 3.951294453214002e-05, 'dropout': 0.04212225067078484}. Best is trial 31 with value: 0.9366583824157715.\u001b[0m\n"
     ]
    },
    {
     "name": "stdout",
     "output_type": "stream",
     "text": [
      "F1 Score: 0.9052227735519409; Loss=0.5033604502677917\n"
     ]
    },
    {
     "name": "stderr",
     "output_type": "stream",
     "text": [
      "2022-08-03 01:54:53.588417: I tensorflow/core/grappler/optimizers/custom_graph_optimizer_registry.cc:113] Plugin optimizer for device_type GPU is enabled.\n",
      "2022-08-03 01:55:18.006982: I tensorflow/core/grappler/optimizers/custom_graph_optimizer_registry.cc:113] Plugin optimizer for device_type GPU is enabled.\n",
      "\u001b[32m[I 2022-08-03 01:55:18,752]\u001b[0m Trial 50 finished with value: 0.9134052991867065 and parameters: {'learning_rate': 0.005997914073819527, 'hidden_layer_size1': 327, 'hidden_layer_size2': 844, 'kernel_regularizer': 4.978786376091117e-06, 'bias_regularizer': 9.688757555273623e-05, 'activity_regularizer': 5.114912571686047e-05, 'dropout': 0.006793142879297635}. Best is trial 31 with value: 0.9366583824157715.\u001b[0m\n"
     ]
    },
    {
     "name": "stdout",
     "output_type": "stream",
     "text": [
      "F1 Score: 0.9134052991867065; Loss=0.4798078238964081\n"
     ]
    },
    {
     "name": "stderr",
     "output_type": "stream",
     "text": [
      "2022-08-03 01:55:19.663320: I tensorflow/core/grappler/optimizers/custom_graph_optimizer_registry.cc:113] Plugin optimizer for device_type GPU is enabled.\n",
      "2022-08-03 01:55:41.860717: I tensorflow/core/grappler/optimizers/custom_graph_optimizer_registry.cc:113] Plugin optimizer for device_type GPU is enabled.\n",
      "\u001b[32m[I 2022-08-03 01:55:42,647]\u001b[0m Trial 51 finished with value: 0.9241141080856323 and parameters: {'learning_rate': 0.007829265541414061, 'hidden_layer_size1': 96, 'hidden_layer_size2': 701, 'kernel_regularizer': 6.639389565780751e-07, 'bias_regularizer': 4.2994868745441045e-05, 'activity_regularizer': 1.3839619644835333e-05, 'dropout': 0.04069062230272203}. Best is trial 31 with value: 0.9366583824157715.\u001b[0m\n"
     ]
    },
    {
     "name": "stdout",
     "output_type": "stream",
     "text": [
      "F1 Score: 0.9241141080856323; Loss=0.3893878161907196\n"
     ]
    },
    {
     "name": "stderr",
     "output_type": "stream",
     "text": [
      "2022-08-03 01:55:43.507178: I tensorflow/core/grappler/optimizers/custom_graph_optimizer_registry.cc:113] Plugin optimizer for device_type GPU is enabled.\n",
      "2022-08-03 01:56:10.370542: I tensorflow/core/grappler/optimizers/custom_graph_optimizer_registry.cc:113] Plugin optimizer for device_type GPU is enabled.\n",
      "\u001b[32m[I 2022-08-03 01:56:11,071]\u001b[0m Trial 52 finished with value: 0.864424467086792 and parameters: {'learning_rate': 0.007201645831190684, 'hidden_layer_size1': 1, 'hidden_layer_size2': 718, 'kernel_regularizer': 4.479359580525597e-06, 'bias_regularizer': 3.894989841094767e-05, 'activity_regularizer': 1.8685897690762696e-05, 'dropout': 0.056728891515149614}. Best is trial 31 with value: 0.9366583824157715.\u001b[0m\n"
     ]
    },
    {
     "name": "stdout",
     "output_type": "stream",
     "text": [
      "F1 Score: 0.864424467086792; Loss=0.5867596864700317\n"
     ]
    },
    {
     "name": "stderr",
     "output_type": "stream",
     "text": [
      "2022-08-03 01:56:12.428260: I tensorflow/core/grappler/optimizers/custom_graph_optimizer_registry.cc:113] Plugin optimizer for device_type GPU is enabled.\n",
      "2022-08-03 01:56:35.778499: I tensorflow/core/grappler/optimizers/custom_graph_optimizer_registry.cc:113] Plugin optimizer for device_type GPU is enabled.\n",
      "\u001b[32m[I 2022-08-03 01:56:36,491]\u001b[0m Trial 53 finished with value: 0.9242527484893799 and parameters: {'learning_rate': 0.006453409958659443, 'hidden_layer_size1': 267, 'hidden_layer_size2': 476, 'kernel_regularizer': 8.583639234722376e-06, 'bias_regularizer': 2.7956713812153518e-05, 'activity_regularizer': 9.283585966124677e-05, 'dropout': 0.03528626186517456}. Best is trial 31 with value: 0.9366583824157715.\u001b[0m\n"
     ]
    },
    {
     "name": "stdout",
     "output_type": "stream",
     "text": [
      "F1 Score: 0.9242527484893799; Loss=0.4563837945461273\n"
     ]
    },
    {
     "name": "stderr",
     "output_type": "stream",
     "text": [
      "2022-08-03 01:56:37.287501: I tensorflow/core/grappler/optimizers/custom_graph_optimizer_registry.cc:113] Plugin optimizer for device_type GPU is enabled.\n",
      "2022-08-03 02:09:46.029085: I tensorflow/core/grappler/optimizers/custom_graph_optimizer_registry.cc:113] Plugin optimizer for device_type GPU is enabled.\n",
      "\u001b[32m[I 2022-08-03 02:09:46,665]\u001b[0m Trial 54 finished with value: 0.9128272533416748 and parameters: {'learning_rate': 0.005012368426667107, 'hidden_layer_size1': 172, 'hidden_layer_size2': 556, 'kernel_regularizer': 1.6882323060126873e-05, 'bias_regularizer': 5.722030287266866e-05, 'activity_regularizer': 1.4236349055331779e-05, 'dropout': 0.04750572192506665}. Best is trial 31 with value: 0.9366583824157715.\u001b[0m\n"
     ]
    },
    {
     "name": "stdout",
     "output_type": "stream",
     "text": [
      "F1 Score: 0.9128272533416748; Loss=0.47451460361480713\n"
     ]
    },
    {
     "name": "stderr",
     "output_type": "stream",
     "text": [
      "2022-08-03 02:09:47.413689: I tensorflow/core/grappler/optimizers/custom_graph_optimizer_registry.cc:113] Plugin optimizer for device_type GPU is enabled.\n",
      "2022-08-03 02:10:10.088157: I tensorflow/core/grappler/optimizers/custom_graph_optimizer_registry.cc:113] Plugin optimizer for device_type GPU is enabled.\n",
      "\u001b[32m[I 2022-08-03 02:10:10,777]\u001b[0m Trial 55 finished with value: 0.9182519912719727 and parameters: {'learning_rate': 0.006806072756831235, 'hidden_layer_size1': 383, 'hidden_layer_size2': 633, 'kernel_regularizer': 4.003311854647037e-06, 'bias_regularizer': 4.16434094028979e-05, 'activity_regularizer': 4.926584424686456e-06, 'dropout': 0.020938108610755887}. Best is trial 31 with value: 0.9366583824157715.\u001b[0m\n"
     ]
    },
    {
     "name": "stdout",
     "output_type": "stream",
     "text": [
      "F1 Score: 0.9182519912719727; Loss=0.5193957090377808\n"
     ]
    },
    {
     "name": "stderr",
     "output_type": "stream",
     "text": [
      "2022-08-03 02:10:12.002984: I tensorflow/core/grappler/optimizers/custom_graph_optimizer_registry.cc:113] Plugin optimizer for device_type GPU is enabled.\n",
      "2022-08-03 02:11:41.914004: I tensorflow/core/grappler/optimizers/custom_graph_optimizer_registry.cc:113] Plugin optimizer for device_type GPU is enabled.\n",
      "\u001b[32m[I 2022-08-03 02:11:42,769]\u001b[0m Trial 56 finished with value: 0.8984267115592957 and parameters: {'learning_rate': 0.0038916527659285695, 'hidden_layer_size1': 127, 'hidden_layer_size2': 362, 'kernel_regularizer': 1.040929700428924e-05, 'bias_regularizer': 6.511048554881211e-05, 'activity_regularizer': 2.3009245171982545e-05, 'dropout': 0.03050755719006261}. Best is trial 31 with value: 0.9366583824157715.\u001b[0m\n"
     ]
    },
    {
     "name": "stdout",
     "output_type": "stream",
     "text": [
      "F1 Score: 0.8984267115592957; Loss=0.4653995633125305\n"
     ]
    },
    {
     "name": "stderr",
     "output_type": "stream",
     "text": [
      "2022-08-03 02:11:43.681766: I tensorflow/core/grappler/optimizers/custom_graph_optimizer_registry.cc:113] Plugin optimizer for device_type GPU is enabled.\n",
      "2022-08-03 02:12:17.030755: I tensorflow/core/grappler/optimizers/custom_graph_optimizer_registry.cc:113] Plugin optimizer for device_type GPU is enabled.\n",
      "\u001b[32m[I 2022-08-03 02:12:18,011]\u001b[0m Trial 57 finished with value: 0.9221595525741577 and parameters: {'learning_rate': 0.008747663673240879, 'hidden_layer_size1': 48, 'hidden_layer_size2': 753, 'kernel_regularizer': 4.786224741891897e-07, 'bias_regularizer': 5.264034694911622e-05, 'activity_regularizer': 9.199494809699283e-06, 'dropout': 0.0670730344253817}. Best is trial 31 with value: 0.9366583824157715.\u001b[0m\n"
     ]
    },
    {
     "name": "stdout",
     "output_type": "stream",
     "text": [
      "F1 Score: 0.9221595525741577; Loss=0.3950195014476776\n"
     ]
    },
    {
     "name": "stderr",
     "output_type": "stream",
     "text": [
      "2022-08-03 02:12:19.465456: I tensorflow/core/grappler/optimizers/custom_graph_optimizer_registry.cc:113] Plugin optimizer for device_type GPU is enabled.\n",
      "2022-08-03 02:13:03.688216: I tensorflow/core/grappler/optimizers/custom_graph_optimizer_registry.cc:113] Plugin optimizer for device_type GPU is enabled.\n",
      "\u001b[32m[I 2022-08-03 02:13:05,179]\u001b[0m Trial 58 finished with value: 0.9245260953903198 and parameters: {'learning_rate': 0.005540737244077224, 'hidden_layer_size1': 207, 'hidden_layer_size2': 899, 'kernel_regularizer': 1.2396519748389079e-05, 'bias_regularizer': 1.9816230128467085e-05, 'activity_regularizer': 1.760384556423872e-05, 'dropout': 0.014553591540528987}. Best is trial 31 with value: 0.9366583824157715.\u001b[0m\n"
     ]
    },
    {
     "name": "stdout",
     "output_type": "stream",
     "text": [
      "F1 Score: 0.9245260953903198; Loss=0.4610161781311035\n"
     ]
    },
    {
     "name": "stderr",
     "output_type": "stream",
     "text": [
      "2022-08-03 02:13:07.484594: I tensorflow/core/grappler/optimizers/custom_graph_optimizer_registry.cc:113] Plugin optimizer for device_type GPU is enabled.\n",
      "2022-08-03 02:13:47.749328: I tensorflow/core/grappler/optimizers/custom_graph_optimizer_registry.cc:113] Plugin optimizer for device_type GPU is enabled.\n",
      "\u001b[32m[I 2022-08-03 02:13:49,650]\u001b[0m Trial 59 finished with value: 0.8787274360656738 and parameters: {'learning_rate': 0.006207876921667037, 'hidden_layer_size1': 286, 'hidden_layer_size2': 210, 'kernel_regularizer': 1.8876524391765376e-05, 'bias_regularizer': 5.97887702802058e-05, 'activity_regularizer': 2.401375791682321e-06, 'dropout': 0.07586856895767112}. Best is trial 31 with value: 0.9366583824157715.\u001b[0m\n"
     ]
    },
    {
     "name": "stdout",
     "output_type": "stream",
     "text": [
      "F1 Score: 0.8787274360656738; Loss=0.5411748290061951\n"
     ]
    },
    {
     "name": "stderr",
     "output_type": "stream",
     "text": [
      "2022-08-03 02:13:51.778318: I tensorflow/core/grappler/optimizers/custom_graph_optimizer_registry.cc:113] Plugin optimizer for device_type GPU is enabled.\n",
      "2022-08-03 02:14:57.426566: I tensorflow/core/grappler/optimizers/custom_graph_optimizer_registry.cc:113] Plugin optimizer for device_type GPU is enabled.\n",
      "\u001b[32m[I 2022-08-03 02:14:59,997]\u001b[0m Trial 60 finished with value: 0.8376790285110474 and parameters: {'learning_rate': 0.007969313906468652, 'hidden_layer_size1': 153, 'hidden_layer_size2': 496, 'kernel_regularizer': 7.893671023847936e-05, 'bias_regularizer': 3.562875041936652e-05, 'activity_regularizer': 5.560123981019426e-05, 'dropout': 0.04261163035146272}. Best is trial 31 with value: 0.9366583824157715.\u001b[0m\n"
     ]
    },
    {
     "name": "stdout",
     "output_type": "stream",
     "text": [
      "F1 Score: 0.8376790285110474; Loss=0.7702682614326477\n"
     ]
    },
    {
     "name": "stderr",
     "output_type": "stream",
     "text": [
      "2022-08-03 02:15:02.875255: I tensorflow/core/grappler/optimizers/custom_graph_optimizer_registry.cc:113] Plugin optimizer for device_type GPU is enabled.\n"
     ]
    }
   ],
   "source": [
    "study_nn_2 = optuna.create_study(direction='maximize')\n",
    "study_nn_2.optimize(objective_2_layer, n_trials=200)\n",
    "\n",
    "print('Number of finished trials:', len(study_nn_2.trials))\n",
    "print('Best trial:', study_nn_2.best_trial.params)"
   ]
  },
  {
   "cell_type": "markdown",
   "id": "13866ad9-28e4-4f8d-9cb1-e997e8cd7c6e",
   "metadata": {},
   "source": [
    "* Trial 31 finished with value: 0.9366583824157715 and parameters: {'learning_rate': 0.0057554337551177105, 'hidden_layer_size1': 227, 'hidden_layer_size2': 786, 'kernel_regularizer': 1.0103547773871587e-07, 'bias_regularizer': 3.174256984709423e-05, 'activity_regularizer': 9.21848377690784e-06, 'dropout': 0.043861145616068783}. Best is trial 31 with value: 0.9366583824157715."
   ]
  },
  {
   "cell_type": "code",
   "execution_count": null,
   "id": "d04b4a39-7d5c-4aa2-98ea-25899a5084f7",
   "metadata": {},
   "outputs": [],
   "source": []
  }
 ],
 "metadata": {
  "kernelspec": {
   "display_name": "Python 3 (ipykernel)",
   "language": "python",
   "name": "python3"
  },
  "language_info": {
   "codemirror_mode": {
    "name": "ipython",
    "version": 3
   },
   "file_extension": ".py",
   "mimetype": "text/x-python",
   "name": "python",
   "nbconvert_exporter": "python",
   "pygments_lexer": "ipython3",
   "version": "3.10.5"
  }
 },
 "nbformat": 4,
 "nbformat_minor": 5
}
