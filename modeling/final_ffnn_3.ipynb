{
 "cells": [
  {
   "cell_type": "code",
   "execution_count": 1,
   "id": "b512f4d3-c74c-4847-a95e-132a25d1cd6f",
   "metadata": {},
   "outputs": [],
   "source": [
    "import os\n",
    "import sys\n",
    "module_path = os.path.abspath(os.path.join('..'))\n",
    "if module_path not in sys.path:\n",
    "    sys.path.append(module_path)\n",
    "\n",
    "from helpers import (get_training_observations, \n",
    "                     get_training_labels)\n",
    "import pandas as pd\n",
    "import numpy as np\n",
    "from joblib import dump\n",
    "from joblib import load\n",
    "\n",
    "# Model specific imports\n",
    "from sklearn.model_selection import train_test_split\n",
    "from sklearn.preprocessing import LabelEncoder\n",
    "from sklearn.metrics import accuracy_score, f1_score\n",
    "import matplotlib.pyplot as plt\n",
    "\n",
    "import tensorflow as tf\n",
    "import tensorflow_addons as tfa\n",
    "from tensorflow.keras import metrics\n",
    "tf.get_logger().setLevel('INFO')\n",
    "\n",
    "import optuna"
   ]
  },
  {
   "cell_type": "code",
   "execution_count": 2,
   "id": "b3a81fe3-6c84-4e51-9ad7-31bc4e78a1d4",
   "metadata": {},
   "outputs": [
    {
     "name": "stdout",
     "output_type": "stream",
     "text": [
      "Getting all training observations from 'metagenome_classification.db'...\n",
      "Getting all training labels from 'metagenome_classification.db'...\n"
     ]
    }
   ],
   "source": [
    "# Set up data\n",
    "x_train = get_training_observations()\n",
    "y_train = get_training_labels()\n",
    "le = load('../model_joblibs/final_labelEncoder.joblib')\n",
    "    \n",
    "y_train_transformed = le.transform(y_train['EMPO_3'])\n",
    "y_train_transformed\n",
    "\n",
    "x_tr, x_val, y_tr, y_val = train_test_split(x_train, y_train_transformed, test_size=0.2, random_state=0, stratify=y_train_transformed)   \n"
   ]
  },
  {
   "cell_type": "code",
   "execution_count": 3,
   "id": "b70d5f99-b4ae-4aae-b342-466f7c67f1ab",
   "metadata": {},
   "outputs": [],
   "source": [
    "K = tf.keras.backend\n",
    "\n",
    "def build_model(\n",
    "    activation='relu',\n",
    "    hidden_layer_sizes=[],\n",
    "    final_layer_activation='softmax',\n",
    "    dropout=0.0,\n",
    "    optimizer='Adam',\n",
    "    learning_rate=0.01,\n",
    "    kernel_regularizer=1e-5,\n",
    "    bias_regularizer=1e-5,\n",
    "    activity_regularizer=1e-5,\n",
    "    n_classes=15\n",
    "):\n",
    "    \"\"\"Build a multi-class logistic regression model using Keras.\n",
    "\n",
    "    Args:\n",
    "      n_classes: Number of output classes in the dataset.\n",
    "      hidden_layer_sizes: A list with the number of units in each hidden layer.\n",
    "      activation: The activation function to use for the hidden layers.\n",
    "      optimizer: The optimizer to use (SGD, Adam).\n",
    "      learning_rate: The desired learning rate for the optimizer.\n",
    "\n",
    "    Returns:\n",
    "      model: A tf.keras model (graph).\n",
    "    \"\"\"\n",
    "    tf.keras.backend.clear_session()\n",
    "    np.random.seed(0)\n",
    "    tf.random.set_seed(0)\n",
    "    model = tf.keras.Sequential()\n",
    "    model.add(tf.keras.layers.Flatten())\n",
    "    \n",
    "    for hidden_layer_size in hidden_layer_sizes:\n",
    "        if hidden_layer_size > n_classes:\n",
    "            model.add(tf.keras.layers.Dense(\n",
    "                hidden_layer_size,\n",
    "                activation=activation,\n",
    "                kernel_regularizer=tf.keras.regularizers.L2(kernel_regularizer),\n",
    "                bias_regularizer=tf.keras.regularizers.L2(bias_regularizer),\n",
    "                activity_regularizer=tf.keras.regularizers.L2(activity_regularizer)\n",
    "            ))\n",
    "            if dropout > 0:\n",
    "                model.add(tf.keras.layers.Dropout(dropout))\n",
    "\n",
    "    model.add(tf.keras.layers.Dense(\n",
    "        n_classes,\n",
    "        activation=final_layer_activation,\n",
    "        kernel_regularizer=tf.keras.regularizers.L2(kernel_regularizer),\n",
    "        bias_regularizer=tf.keras.regularizers.L2(bias_regularizer),\n",
    "        activity_regularizer=tf.keras.regularizers.L2(activity_regularizer)\n",
    "    ))\n",
    "    opt = None\n",
    "    if optimizer == \"SGD\":\n",
    "        opt = tf.keras.optimizers.SGD(learning_rate=learning_rate)\n",
    "    elif optimizer == \"Adam\":\n",
    "        opt = tf.keras.optimizers.Adam(learning_rate=learning_rate)\n",
    "    else:\n",
    "        raise f\"Unsupported optimizer, {optimizer}\"\n",
    "    model.compile(\n",
    "        loss=\"categorical_crossentropy\", optimizer=opt, \n",
    "        metrics=[tfa.metrics.F1Score(num_classes=15, average='weighted')]\n",
    "    )\n",
    "    return model\n",
    "    "
   ]
  },
  {
   "cell_type": "code",
   "execution_count": 4,
   "id": "2b89d716-c125-4678-960a-dabe2d66e73a",
   "metadata": {},
   "outputs": [],
   "source": [
    "def objective_3_layer(trial, x_tr=x_tr, x_val=x_val, y_tr=y_tr, y_val=y_val):\n",
    "    \n",
    "    # Set up XGBoost hyperparameter space\n",
    "    params = {\n",
    "        'learning_rate': trial.suggest_float('learning_rate', 0.0001, 0.01),\n",
    "        'hidden_layer_size1': trial.suggest_int('hidden_layer_size1', 0, 1024),\n",
    "        'hidden_layer_size2': trial.suggest_int('hidden_layer_size2', 0, 1024),\n",
    "        'hidden_layer_size3': trial.suggest_int('hidden_layer_size3', 0, 1024),\n",
    "        'kernel_regularizer': trial.suggest_float('kernel_regularizer', 1e-10, 1e-4),\n",
    "        'bias_regularizer': trial.suggest_float('bias_regularizer', 1e-10, 1e-4),\n",
    "        'activity_regularizer': trial.suggest_float('activity_regularizer', 1e-10, 1e-4),\n",
    "        'dropout': trial.suggest_float('dropout', 0, 0.1)\n",
    "    }\n",
    "    \n",
    "    hidden_layer_sizes = [params.pop('hidden_layer_size1'), params.pop('hidden_layer_size2'), params.pop('hidden_layer_size3')]\n",
    "    \n",
    "    y_tr_one_hot = K.one_hot(K.cast(y_tr, dtype='int64'), 15)\n",
    "    y_val_one_hot = K.one_hot(K.cast(y_val, dtype='int64'), 15)\n",
    "    \n",
    "    # Create model\n",
    "    nn = build_model(\n",
    "        **params,\n",
    "        n_classes=15,\n",
    "        optimizer='Adam',\n",
    "        final_layer_activation='softmax',\n",
    "        hidden_layer_sizes=hidden_layer_sizes\n",
    "    )\n",
    "    \n",
    "    # Fit model\n",
    "    nn.fit(x=x_tr,\n",
    "           y=y_tr_one_hot,\n",
    "           epochs=50,\n",
    "           batch_size=64,\n",
    "           verbose=0)\n",
    "    \n",
    "    evaluation = nn.evaluate(x=x_val, y=y_val_one_hot, verbose=0, return_dict=True)\n",
    "    f1_score = evaluation['f1_score']\n",
    "    loss = evaluation['loss']\n",
    "    \n",
    "    print(f'F1 Score: {f1_score}; Loss={loss}')\n",
    "    \n",
    "    return f1_score\n",
    "    "
   ]
  },
  {
   "cell_type": "code",
   "execution_count": null,
   "id": "ebaada76-7bcb-4854-87a0-4b904aa47dd1",
   "metadata": {},
   "outputs": [
    {
     "name": "stderr",
     "output_type": "stream",
     "text": [
      "\u001b[32m[I 2022-08-03 18:06:57,360]\u001b[0m A new study created in memory with name: no-name-577c86e0-718f-4470-a57f-58e3b8375092\u001b[0m\n"
     ]
    },
    {
     "name": "stdout",
     "output_type": "stream",
     "text": [
      "Metal device set to: Apple M1 Pro\n"
     ]
    },
    {
     "name": "stderr",
     "output_type": "stream",
     "text": [
      "2022-08-03 18:06:57.362218: I tensorflow/core/common_runtime/pluggable_device/pluggable_device_factory.cc:305] Could not identify NUMA node of platform GPU ID 0, defaulting to 0. Your kernel may not have been built with NUMA support.\n",
      "2022-08-03 18:06:57.362408: I tensorflow/core/common_runtime/pluggable_device/pluggable_device_factory.cc:271] Created TensorFlow device (/job:localhost/replica:0/task:0/device:GPU:0 with 0 MB memory) -> physical PluggableDevice (device: 0, name: METAL, pci bus id: <undefined>)\n",
      "2022-08-03 18:06:57.452861: W tensorflow/core/platform/profile_utils/cpu_utils.cc:128] Failed to get CPU frequency: 0 Hz\n",
      "2022-08-03 18:06:58.010425: I tensorflow/core/grappler/optimizers/custom_graph_optimizer_registry.cc:113] Plugin optimizer for device_type GPU is enabled.\n",
      "2022-08-03 18:07:12.758035: I tensorflow/core/grappler/optimizers/custom_graph_optimizer_registry.cc:113] Plugin optimizer for device_type GPU is enabled.\n",
      "\u001b[32m[I 2022-08-03 18:07:12,973]\u001b[0m Trial 0 finished with value: 0.898534893989563 and parameters: {'learning_rate': 0.0011956528420910737, 'hidden_layer_size1': 896, 'hidden_layer_size2': 657, 'hidden_layer_size3': 763, 'kernel_regularizer': 3.201580988479658e-05, 'bias_regularizer': 6.687531356628347e-05, 'activity_regularizer': 2.7105171612795235e-05, 'dropout': 0.007982374138947191}. Best is trial 0 with value: 0.898534893989563.\u001b[0m\n"
     ]
    },
    {
     "name": "stdout",
     "output_type": "stream",
     "text": [
      "F1 Score: 0.898534893989563; Loss=0.5751761198043823\n"
     ]
    },
    {
     "name": "stderr",
     "output_type": "stream",
     "text": [
      "2022-08-03 18:07:13.455545: I tensorflow/core/grappler/optimizers/custom_graph_optimizer_registry.cc:113] Plugin optimizer for device_type GPU is enabled.\n",
      "2022-08-03 18:07:24.583407: I tensorflow/core/grappler/optimizers/custom_graph_optimizer_registry.cc:113] Plugin optimizer for device_type GPU is enabled.\n",
      "\u001b[32m[I 2022-08-03 18:07:24,791]\u001b[0m Trial 1 finished with value: 0.8586052656173706 and parameters: {'learning_rate': 0.000979931377394091, 'hidden_layer_size1': 406, 'hidden_layer_size2': 449, 'hidden_layer_size3': 1014, 'kernel_regularizer': 5.655522744433374e-05, 'bias_regularizer': 8.583939977149671e-05, 'activity_regularizer': 4.5311083119561646e-06, 'dropout': 0.005701038908311507}. Best is trial 0 with value: 0.898534893989563.\u001b[0m\n"
     ]
    },
    {
     "name": "stdout",
     "output_type": "stream",
     "text": [
      "F1 Score: 0.8586052656173706; Loss=0.6676629781723022\n"
     ]
    },
    {
     "name": "stderr",
     "output_type": "stream",
     "text": [
      "2022-08-03 18:07:25.288836: I tensorflow/core/grappler/optimizers/custom_graph_optimizer_registry.cc:113] Plugin optimizer for device_type GPU is enabled.\n",
      "2022-08-03 18:07:40.084411: I tensorflow/core/grappler/optimizers/custom_graph_optimizer_registry.cc:113] Plugin optimizer for device_type GPU is enabled.\n",
      "\u001b[32m[I 2022-08-03 18:07:40,318]\u001b[0m Trial 2 finished with value: 0.8998470902442932 and parameters: {'learning_rate': 0.0017634486611031474, 'hidden_layer_size1': 878, 'hidden_layer_size2': 306, 'hidden_layer_size3': 811, 'kernel_regularizer': 6.793445899615955e-05, 'bias_regularizer': 5.187438813406983e-05, 'activity_regularizer': 3.828763547213488e-05, 'dropout': 0.0568642379668921}. Best is trial 2 with value: 0.8998470902442932.\u001b[0m\n"
     ]
    },
    {
     "name": "stdout",
     "output_type": "stream",
     "text": [
      "F1 Score: 0.8998470902442932; Loss=0.6145341992378235\n"
     ]
    },
    {
     "name": "stderr",
     "output_type": "stream",
     "text": [
      "2022-08-03 18:07:41.057263: I tensorflow/core/grappler/optimizers/custom_graph_optimizer_registry.cc:113] Plugin optimizer for device_type GPU is enabled.\n",
      "2022-08-03 18:07:55.498744: I tensorflow/core/grappler/optimizers/custom_graph_optimizer_registry.cc:113] Plugin optimizer for device_type GPU is enabled.\n",
      "\u001b[32m[I 2022-08-03 18:07:55,703]\u001b[0m Trial 3 finished with value: 0.7366900444030762 and parameters: {'learning_rate': 0.008324657806200245, 'hidden_layer_size1': 840, 'hidden_layer_size2': 684, 'hidden_layer_size3': 647, 'kernel_regularizer': 4.57658617421912e-05, 'bias_regularizer': 9.424866819872725e-05, 'activity_regularizer': 3.617215028632542e-05, 'dropout': 0.08757017246846749}. Best is trial 2 with value: 0.8998470902442932.\u001b[0m\n"
     ]
    },
    {
     "name": "stdout",
     "output_type": "stream",
     "text": [
      "F1 Score: 0.7366900444030762; Loss=1.0601609945297241\n"
     ]
    },
    {
     "name": "stderr",
     "output_type": "stream",
     "text": [
      "2022-08-03 18:07:56.185345: I tensorflow/core/grappler/optimizers/custom_graph_optimizer_registry.cc:113] Plugin optimizer for device_type GPU is enabled.\n",
      "2022-08-03 18:08:09.410847: I tensorflow/core/grappler/optimizers/custom_graph_optimizer_registry.cc:113] Plugin optimizer for device_type GPU is enabled.\n",
      "\u001b[32m[I 2022-08-03 18:08:09,651]\u001b[0m Trial 4 finished with value: 0.7863767147064209 and parameters: {'learning_rate': 0.007051651010451853, 'hidden_layer_size1': 717, 'hidden_layer_size2': 388, 'hidden_layer_size3': 198, 'kernel_regularizer': 5.181041917194296e-05, 'bias_regularizer': 2.961276457458203e-05, 'activity_regularizer': 8.385089573511201e-05, 'dropout': 0.0508597870942005}. Best is trial 2 with value: 0.8998470902442932.\u001b[0m\n"
     ]
    },
    {
     "name": "stdout",
     "output_type": "stream",
     "text": [
      "F1 Score: 0.7863767147064209; Loss=0.9645529985427856\n"
     ]
    },
    {
     "name": "stderr",
     "output_type": "stream",
     "text": [
      "2022-08-03 18:08:10.238217: I tensorflow/core/grappler/optimizers/custom_graph_optimizer_registry.cc:113] Plugin optimizer for device_type GPU is enabled.\n",
      "2022-08-03 18:08:20.714179: I tensorflow/core/grappler/optimizers/custom_graph_optimizer_registry.cc:113] Plugin optimizer for device_type GPU is enabled.\n",
      "\u001b[32m[I 2022-08-03 18:08:20,948]\u001b[0m Trial 5 finished with value: 0.827305018901825 and parameters: {'learning_rate': 0.004340709050103056, 'hidden_layer_size1': 222, 'hidden_layer_size2': 791, 'hidden_layer_size3': 384, 'kernel_regularizer': 8.079512297486071e-05, 'bias_regularizer': 6.56604346897638e-05, 'activity_regularizer': 9.950381075252332e-05, 'dropout': 0.03744214195460658}. Best is trial 2 with value: 0.8998470902442932.\u001b[0m\n"
     ]
    },
    {
     "name": "stdout",
     "output_type": "stream",
     "text": [
      "F1 Score: 0.827305018901825; Loss=0.7934134602546692\n"
     ]
    },
    {
     "name": "stderr",
     "output_type": "stream",
     "text": [
      "2022-08-03 18:08:21.427287: I tensorflow/core/grappler/optimizers/custom_graph_optimizer_registry.cc:113] Plugin optimizer for device_type GPU is enabled.\n",
      "2022-08-03 18:08:35.711178: I tensorflow/core/grappler/optimizers/custom_graph_optimizer_registry.cc:113] Plugin optimizer for device_type GPU is enabled.\n",
      "\u001b[32m[I 2022-08-03 18:08:35,962]\u001b[0m Trial 6 finished with value: 0.7957789897918701 and parameters: {'learning_rate': 0.003275486406364002, 'hidden_layer_size1': 758, 'hidden_layer_size2': 879, 'hidden_layer_size3': 935, 'kernel_regularizer': 3.5887278999186584e-05, 'bias_regularizer': 3.026567451810775e-05, 'activity_regularizer': 6.6647840885327e-05, 'dropout': 0.021079222024513213}. Best is trial 2 with value: 0.8998470902442932.\u001b[0m\n"
     ]
    },
    {
     "name": "stdout",
     "output_type": "stream",
     "text": [
      "F1 Score: 0.7957789897918701; Loss=0.8148916363716125\n"
     ]
    },
    {
     "name": "stderr",
     "output_type": "stream",
     "text": [
      "2022-08-03 18:08:36.557748: I tensorflow/core/grappler/optimizers/custom_graph_optimizer_registry.cc:113] Plugin optimizer for device_type GPU is enabled.\n",
      "2022-08-03 18:08:47.264700: I tensorflow/core/grappler/optimizers/custom_graph_optimizer_registry.cc:113] Plugin optimizer for device_type GPU is enabled.\n",
      "\u001b[32m[I 2022-08-03 18:08:47,526]\u001b[0m Trial 7 finished with value: 0.8383708596229553 and parameters: {'learning_rate': 0.0016271378446502671, 'hidden_layer_size1': 247, 'hidden_layer_size2': 429, 'hidden_layer_size3': 642, 'kernel_regularizer': 7.281141815735342e-05, 'bias_regularizer': 4.250872759858516e-05, 'activity_regularizer': 6.574653272683905e-05, 'dropout': 0.0310678940983502}. Best is trial 2 with value: 0.8998470902442932.\u001b[0m\n"
     ]
    },
    {
     "name": "stdout",
     "output_type": "stream",
     "text": [
      "F1 Score: 0.8383708596229553; Loss=0.6868383288383484\n"
     ]
    },
    {
     "name": "stderr",
     "output_type": "stream",
     "text": [
      "2022-08-03 18:08:47.993902: I tensorflow/core/grappler/optimizers/custom_graph_optimizer_registry.cc:113] Plugin optimizer for device_type GPU is enabled.\n",
      "2022-08-03 18:08:57.984407: I tensorflow/core/grappler/optimizers/custom_graph_optimizer_registry.cc:113] Plugin optimizer for device_type GPU is enabled.\n",
      "\u001b[32m[I 2022-08-03 18:08:58,275]\u001b[0m Trial 8 finished with value: 0.869382381439209 and parameters: {'learning_rate': 0.00824822504674401, 'hidden_layer_size1': 57, 'hidden_layer_size2': 272, 'hidden_layer_size3': 359, 'kernel_regularizer': 1.7263035772807677e-05, 'bias_regularizer': 3.149286297056756e-05, 'activity_regularizer': 1.5514907626555714e-05, 'dropout': 0.07204091028138657}. Best is trial 2 with value: 0.8998470902442932.\u001b[0m\n"
     ]
    },
    {
     "name": "stdout",
     "output_type": "stream",
     "text": [
      "F1 Score: 0.869382381439209; Loss=0.6732197999954224\n"
     ]
    },
    {
     "name": "stderr",
     "output_type": "stream",
     "text": [
      "2022-08-03 18:08:58.780515: I tensorflow/core/grappler/optimizers/custom_graph_optimizer_registry.cc:113] Plugin optimizer for device_type GPU is enabled.\n",
      "2022-08-03 18:09:12.659506: I tensorflow/core/grappler/optimizers/custom_graph_optimizer_registry.cc:113] Plugin optimizer for device_type GPU is enabled.\n",
      "\u001b[32m[I 2022-08-03 18:09:12,910]\u001b[0m Trial 9 finished with value: 0.8039883375167847 and parameters: {'learning_rate': 0.007413988648127998, 'hidden_layer_size1': 709, 'hidden_layer_size2': 777, 'hidden_layer_size3': 434, 'kernel_regularizer': 5.881769239220147e-05, 'bias_regularizer': 1.3804265538839e-05, 'activity_regularizer': 4.676064878077091e-06, 'dropout': 0.00968534799717693}. Best is trial 2 with value: 0.8998470902442932.\u001b[0m\n"
     ]
    },
    {
     "name": "stdout",
     "output_type": "stream",
     "text": [
      "F1 Score: 0.8039883375167847; Loss=0.9953538179397583\n"
     ]
    },
    {
     "name": "stderr",
     "output_type": "stream",
     "text": [
      "2022-08-03 18:09:13.601850: I tensorflow/core/grappler/optimizers/custom_graph_optimizer_registry.cc:113] Plugin optimizer for device_type GPU is enabled.\n",
      "2022-08-03 18:09:28.942279: I tensorflow/core/grappler/optimizers/custom_graph_optimizer_registry.cc:113] Plugin optimizer for device_type GPU is enabled.\n",
      "\u001b[32m[I 2022-08-03 18:09:29,284]\u001b[0m Trial 10 finished with value: 0.7042964696884155 and parameters: {'learning_rate': 0.0031647582083629278, 'hidden_layer_size1': 1006, 'hidden_layer_size2': 75, 'hidden_layer_size3': 80, 'kernel_regularizer': 9.385948125142601e-05, 'bias_regularizer': 6.967870287752281e-07, 'activity_regularizer': 4.740272766097514e-05, 'dropout': 0.06264117877578383}. Best is trial 2 with value: 0.8998470902442932.\u001b[0m\n"
     ]
    },
    {
     "name": "stdout",
     "output_type": "stream",
     "text": [
      "F1 Score: 0.7042964696884155; Loss=1.0835649967193604\n"
     ]
    },
    {
     "name": "stderr",
     "output_type": "stream",
     "text": [
      "2022-08-03 18:09:29.787311: I tensorflow/core/grappler/optimizers/custom_graph_optimizer_registry.cc:113] Plugin optimizer for device_type GPU is enabled.\n",
      "2022-08-03 18:09:45.481333: I tensorflow/core/grappler/optimizers/custom_graph_optimizer_registry.cc:113] Plugin optimizer for device_type GPU is enabled.\n",
      "\u001b[32m[I 2022-08-03 18:09:45,797]\u001b[0m Trial 11 finished with value: 0.8357245922088623 and parameters: {'learning_rate': 0.0002639814626617514, 'hidden_layer_size1': 1013, 'hidden_layer_size2': 623, 'hidden_layer_size3': 810, 'kernel_regularizer': 7.733099695630693e-06, 'bias_regularizer': 6.670377663446418e-05, 'activity_regularizer': 2.9350112012482486e-05, 'dropout': 0.047798728126665704}. Best is trial 2 with value: 0.8998470902442932.\u001b[0m\n"
     ]
    },
    {
     "name": "stdout",
     "output_type": "stream",
     "text": [
      "F1 Score: 0.8357245922088623; Loss=0.5998050570487976\n"
     ]
    },
    {
     "name": "stderr",
     "output_type": "stream",
     "text": [
      "2022-08-03 18:09:46.518057: I tensorflow/core/grappler/optimizers/custom_graph_optimizer_registry.cc:113] Plugin optimizer for device_type GPU is enabled.\n",
      "2022-08-03 18:09:59.613270: I tensorflow/core/grappler/optimizers/custom_graph_optimizer_registry.cc:113] Plugin optimizer for device_type GPU is enabled.\n",
      "\u001b[32m[I 2022-08-03 18:09:59,901]\u001b[0m Trial 12 finished with value: 0.8690359592437744 and parameters: {'learning_rate': 0.002371532605303411, 'hidden_layer_size1': 547, 'hidden_layer_size2': 1004, 'hidden_layer_size3': 762, 'kernel_regularizer': 2.845581132665842e-05, 'bias_regularizer': 5.878837451993993e-05, 'activity_regularizer': 2.7173251507292923e-05, 'dropout': 0.09807085294616444}. Best is trial 2 with value: 0.8998470902442932.\u001b[0m\n"
     ]
    },
    {
     "name": "stdout",
     "output_type": "stream",
     "text": [
      "F1 Score: 0.8690359592437744; Loss=0.611042320728302\n"
     ]
    },
    {
     "name": "stderr",
     "output_type": "stream",
     "text": [
      "2022-08-03 18:10:00.428801: I tensorflow/core/grappler/optimizers/custom_graph_optimizer_registry.cc:113] Plugin optimizer for device_type GPU is enabled.\n",
      "2022-08-03 18:10:14.994169: I tensorflow/core/grappler/optimizers/custom_graph_optimizer_registry.cc:113] Plugin optimizer for device_type GPU is enabled.\n",
      "\u001b[32m[I 2022-08-03 18:10:15,341]\u001b[0m Trial 13 finished with value: 0.8485193252563477 and parameters: {'learning_rate': 0.005647289779409115, 'hidden_layer_size1': 886, 'hidden_layer_size2': 186, 'hidden_layer_size3': 829, 'kernel_regularizer': 7.609898537148568e-05, 'bias_regularizer': 7.667038810723725e-05, 'activity_regularizer': 4.832351863915401e-05, 'dropout': 0.06972947244309588}. Best is trial 2 with value: 0.8998470902442932.\u001b[0m\n"
     ]
    },
    {
     "name": "stdout",
     "output_type": "stream",
     "text": [
      "F1 Score: 0.8485193252563477; Loss=0.6596310138702393\n"
     ]
    },
    {
     "name": "stderr",
     "output_type": "stream",
     "text": [
      "2022-08-03 18:10:15.990772: I tensorflow/core/grappler/optimizers/custom_graph_optimizer_registry.cc:113] Plugin optimizer for device_type GPU is enabled.\n",
      "2022-08-03 18:10:29.133953: I tensorflow/core/grappler/optimizers/custom_graph_optimizer_registry.cc:113] Plugin optimizer for device_type GPU is enabled.\n",
      "\u001b[32m[I 2022-08-03 18:10:29,487]\u001b[0m Trial 14 finished with value: 0.727895975112915 and parameters: {'learning_rate': 0.004976913759992039, 'hidden_layer_size1': 610, 'hidden_layer_size2': 564, 'hidden_layer_size3': 626, 'kernel_regularizer': 3.271269261632838e-05, 'bias_regularizer': 4.9466544648873965e-05, 'activity_regularizer': 2.0397496502422158e-05, 'dropout': 0.026003746407903573}. Best is trial 2 with value: 0.8998470902442932.\u001b[0m\n"
     ]
    },
    {
     "name": "stdout",
     "output_type": "stream",
     "text": [
      "F1 Score: 0.727895975112915; Loss=1.100427508354187\n"
     ]
    },
    {
     "name": "stderr",
     "output_type": "stream",
     "text": [
      "2022-08-03 18:10:30.073890: I tensorflow/core/grappler/optimizers/custom_graph_optimizer_registry.cc:113] Plugin optimizer for device_type GPU is enabled.\n",
      "2022-08-03 18:10:45.020925: I tensorflow/core/grappler/optimizers/custom_graph_optimizer_registry.cc:113] Plugin optimizer for device_type GPU is enabled.\n",
      "\u001b[32m[I 2022-08-03 18:10:45,350]\u001b[0m Trial 15 finished with value: 0.7570074796676636 and parameters: {'learning_rate': 0.009999289204417772, 'hidden_layer_size1': 863, 'hidden_layer_size2': 269, 'hidden_layer_size3': 885, 'kernel_regularizer': 6.703592562507291e-05, 'bias_regularizer': 7.6717105257279e-05, 'activity_regularizer': 4.0986470269173805e-05, 'dropout': 0.049336347291174185}. Best is trial 2 with value: 0.8998470902442932.\u001b[0m\n"
     ]
    },
    {
     "name": "stdout",
     "output_type": "stream",
     "text": [
      "F1 Score: 0.7570074796676636; Loss=1.0245193243026733\n"
     ]
    },
    {
     "name": "stderr",
     "output_type": "stream",
     "text": [
      "2022-08-03 18:10:46.086216: I tensorflow/core/grappler/optimizers/custom_graph_optimizer_registry.cc:113] Plugin optimizer for device_type GPU is enabled.\n",
      "2022-08-03 18:11:02.206243: I tensorflow/core/grappler/optimizers/custom_graph_optimizer_registry.cc:113] Plugin optimizer for device_type GPU is enabled.\n",
      "\u001b[32m[I 2022-08-03 18:11:02,603]\u001b[0m Trial 16 finished with value: 0.8635920286178589 and parameters: {'learning_rate': 0.0019757463093277917, 'hidden_layer_size1': 937, 'hidden_layer_size2': 528, 'hidden_layer_size3': 547, 'kernel_regularizer': 9.55535091050683e-05, 'bias_regularizer': 5.175645824168421e-05, 'activity_regularizer': 6.026946158920581e-05, 'dropout': 0.0011297786143077762}. Best is trial 2 with value: 0.8998470902442932.\u001b[0m\n"
     ]
    },
    {
     "name": "stdout",
     "output_type": "stream",
     "text": [
      "F1 Score: 0.8635920286178589; Loss=0.699392557144165\n"
     ]
    },
    {
     "name": "stderr",
     "output_type": "stream",
     "text": [
      "2022-08-03 18:11:03.159849: I tensorflow/core/grappler/optimizers/custom_graph_optimizer_registry.cc:113] Plugin optimizer for device_type GPU is enabled.\n",
      "2022-08-03 18:11:15.438591: I tensorflow/core/grappler/optimizers/custom_graph_optimizer_registry.cc:113] Plugin optimizer for device_type GPU is enabled.\n",
      "\u001b[32m[I 2022-08-03 18:11:15,863]\u001b[0m Trial 17 finished with value: 0.7838348150253296 and parameters: {'learning_rate': 0.0003357292515841976, 'hidden_layer_size1': 379, 'hidden_layer_size2': 34, 'hidden_layer_size3': 736, 'kernel_regularizer': 2.040628677416152e-05, 'bias_regularizer': 4.195603331169596e-05, 'activity_regularizer': 1.7912878607055932e-05, 'dropout': 0.016450852990286608}. Best is trial 2 with value: 0.8998470902442932.\u001b[0m\n"
     ]
    },
    {
     "name": "stdout",
     "output_type": "stream",
     "text": [
      "F1 Score: 0.7838348150253296; Loss=0.823468029499054\n"
     ]
    },
    {
     "name": "stderr",
     "output_type": "stream",
     "text": [
      "2022-08-03 18:11:16.395743: I tensorflow/core/grappler/optimizers/custom_graph_optimizer_registry.cc:113] Plugin optimizer for device_type GPU is enabled.\n",
      "2022-08-03 18:11:30.519344: I tensorflow/core/grappler/optimizers/custom_graph_optimizer_registry.cc:113] Plugin optimizer for device_type GPU is enabled.\n",
      "\u001b[32m[I 2022-08-03 18:11:30,889]\u001b[0m Trial 18 finished with value: 0.8335262537002563 and parameters: {'learning_rate': 0.0030975614311431125, 'hidden_layer_size1': 655, 'hidden_layer_size2': 279, 'hidden_layer_size3': 1004, 'kernel_regularizer': 4.0381733621177795e-05, 'bias_regularizer': 7.96723519334878e-05, 'activity_regularizer': 5.4242854906631245e-05, 'dropout': 0.03742090305034901}. Best is trial 2 with value: 0.8998470902442932.\u001b[0m\n"
     ]
    },
    {
     "name": "stdout",
     "output_type": "stream",
     "text": [
      "F1 Score: 0.8335262537002563; Loss=0.7839691638946533\n"
     ]
    },
    {
     "name": "stderr",
     "output_type": "stream",
     "text": [
      "2022-08-03 18:11:31.443708: I tensorflow/core/grappler/optimizers/custom_graph_optimizer_registry.cc:113] Plugin optimizer for device_type GPU is enabled.\n",
      "2022-08-03 18:11:47.629015: I tensorflow/core/grappler/optimizers/custom_graph_optimizer_registry.cc:113] Plugin optimizer for device_type GPU is enabled.\n",
      "\u001b[32m[I 2022-08-03 18:11:47,980]\u001b[0m Trial 19 finished with value: 0.8021057844161987 and parameters: {'learning_rate': 0.0042410738060117605, 'hidden_layer_size1': 815, 'hidden_layer_size2': 687, 'hidden_layer_size3': 493, 'kernel_regularizer': 6.855506268657443e-06, 'bias_regularizer': 9.853447238735078e-05, 'activity_regularizer': 3.609484516087221e-05, 'dropout': 0.06156113704051325}. Best is trial 2 with value: 0.8998470902442932.\u001b[0m\n"
     ]
    },
    {
     "name": "stdout",
     "output_type": "stream",
     "text": [
      "F1 Score: 0.8021057844161987; Loss=0.895943820476532\n"
     ]
    },
    {
     "name": "stderr",
     "output_type": "stream",
     "text": [
      "2022-08-03 18:11:48.550290: I tensorflow/core/grappler/optimizers/custom_graph_optimizer_registry.cc:113] Plugin optimizer for device_type GPU is enabled.\n",
      "2022-08-03 18:12:02.100923: I tensorflow/core/grappler/optimizers/custom_graph_optimizer_registry.cc:113] Plugin optimizer for device_type GPU is enabled.\n",
      "\u001b[32m[I 2022-08-03 18:12:02,539]\u001b[0m Trial 20 finished with value: 0.8535528182983398 and parameters: {'learning_rate': 0.001278601493806419, 'hidden_layer_size1': 470, 'hidden_layer_size2': 367, 'hidden_layer_size3': 722, 'kernel_regularizer': 8.693042383207295e-05, 'bias_regularizer': 6.463014339644536e-05, 'activity_regularizer': 7.734932488030668e-05, 'dropout': 0.0753592529983527}. Best is trial 2 with value: 0.8998470902442932.\u001b[0m\n"
     ]
    },
    {
     "name": "stdout",
     "output_type": "stream",
     "text": [
      "F1 Score: 0.8535528182983398; Loss=0.66546630859375\n"
     ]
    },
    {
     "name": "stderr",
     "output_type": "stream",
     "text": [
      "2022-08-03 18:12:03.140167: I tensorflow/core/grappler/optimizers/custom_graph_optimizer_registry.cc:113] Plugin optimizer for device_type GPU is enabled.\n",
      "2022-08-03 18:12:14.462000: I tensorflow/core/grappler/optimizers/custom_graph_optimizer_registry.cc:113] Plugin optimizer for device_type GPU is enabled.\n",
      "\u001b[32m[I 2022-08-03 18:12:14,844]\u001b[0m Trial 21 finished with value: 0.8562940359115601 and parameters: {'learning_rate': 0.009535109232426314, 'hidden_layer_size1': 1, 'hidden_layer_size2': 230, 'hidden_layer_size3': 314, 'kernel_regularizer': 1.80140145009431e-05, 'bias_regularizer': 2.9298194540013814e-05, 'activity_regularizer': 1.4691116838872294e-05, 'dropout': 0.078932778400202}. Best is trial 2 with value: 0.8998470902442932.\u001b[0m\n"
     ]
    },
    {
     "name": "stdout",
     "output_type": "stream",
     "text": [
      "F1 Score: 0.8562940359115601; Loss=0.7036681175231934\n"
     ]
    },
    {
     "name": "stderr",
     "output_type": "stream",
     "text": [
      "2022-08-03 18:12:15.376750: I tensorflow/core/grappler/optimizers/custom_graph_optimizer_registry.cc:113] Plugin optimizer for device_type GPU is enabled.\n",
      "2022-08-03 18:12:27.245345: I tensorflow/core/grappler/optimizers/custom_graph_optimizer_registry.cc:113] Plugin optimizer for device_type GPU is enabled.\n",
      "\u001b[32m[I 2022-08-03 18:12:27,685]\u001b[0m Trial 22 finished with value: 0.8613815307617188 and parameters: {'learning_rate': 0.00623938164676879, 'hidden_layer_size1': 67, 'hidden_layer_size2': 138, 'hidden_layer_size3': 272, 'kernel_regularizer': 2.1539594712588368e-05, 'bias_regularizer': 1.8458802666602094e-05, 'activity_regularizer': 1.1392655079506877e-05, 'dropout': 0.05949928612020794}. Best is trial 2 with value: 0.8998470902442932.\u001b[0m\n"
     ]
    },
    {
     "name": "stdout",
     "output_type": "stream",
     "text": [
      "F1 Score: 0.8613815307617188; Loss=0.7080952525138855\n"
     ]
    },
    {
     "name": "stderr",
     "output_type": "stream",
     "text": [
      "2022-08-03 18:12:28.323172: I tensorflow/core/grappler/optimizers/custom_graph_optimizer_registry.cc:113] Plugin optimizer for device_type GPU is enabled.\n",
      "2022-08-03 18:12:41.055226: I tensorflow/core/grappler/optimizers/custom_graph_optimizer_registry.cc:113] Plugin optimizer for device_type GPU is enabled.\n",
      "\u001b[32m[I 2022-08-03 18:12:41,511]\u001b[0m Trial 23 finished with value: 0.8791552186012268 and parameters: {'learning_rate': 0.0024685688660889002, 'hidden_layer_size1': 206, 'hidden_layer_size2': 334, 'hidden_layer_size3': 132, 'kernel_regularizer': 1.4078579318858377e-05, 'bias_regularizer': 3.936563180380917e-05, 'activity_regularizer': 2.6336813036274678e-05, 'dropout': 0.08926532078485297}. Best is trial 2 with value: 0.8998470902442932.\u001b[0m\n"
     ]
    },
    {
     "name": "stdout",
     "output_type": "stream",
     "text": [
      "F1 Score: 0.8791552186012268; Loss=0.52824866771698\n"
     ]
    },
    {
     "name": "stderr",
     "output_type": "stream",
     "text": [
      "2022-08-03 18:12:42.113291: I tensorflow/core/grappler/optimizers/custom_graph_optimizer_registry.cc:113] Plugin optimizer for device_type GPU is enabled.\n",
      "2022-08-03 18:12:54.443434: I tensorflow/core/grappler/optimizers/custom_graph_optimizer_registry.cc:113] Plugin optimizer for device_type GPU is enabled.\n",
      "\u001b[32m[I 2022-08-03 18:12:54,875]\u001b[0m Trial 24 finished with value: 0.8604873418807983 and parameters: {'learning_rate': 0.0027220965325103863, 'hidden_layer_size1': 243, 'hidden_layer_size2': 487, 'hidden_layer_size3': 58, 'kernel_regularizer': 6.140679617946349e-05, 'bias_regularizer': 5.554804518264378e-05, 'activity_regularizer': 2.742578859987692e-05, 'dropout': 0.09444387876197319}. Best is trial 2 with value: 0.8998470902442932.\u001b[0m\n"
     ]
    },
    {
     "name": "stdout",
     "output_type": "stream",
     "text": [
      "F1 Score: 0.8604873418807983; Loss=0.6513016223907471\n"
     ]
    },
    {
     "name": "stderr",
     "output_type": "stream",
     "text": [
      "2022-08-03 18:12:55.451262: I tensorflow/core/grappler/optimizers/custom_graph_optimizer_registry.cc:113] Plugin optimizer for device_type GPU is enabled.\n",
      "2022-08-03 18:13:08.583069: I tensorflow/core/grappler/optimizers/custom_graph_optimizer_registry.cc:113] Plugin optimizer for device_type GPU is enabled.\n",
      "\u001b[32m[I 2022-08-03 18:13:09,027]\u001b[0m Trial 25 finished with value: 0.9047679901123047 and parameters: {'learning_rate': 0.003911135788085077, 'hidden_layer_size1': 313, 'hidden_layer_size2': 344, 'hidden_layer_size3': 170, 'kernel_regularizer': 1.1075096125404753e-06, 'bias_regularizer': 4.1568617879999036e-05, 'activity_regularizer': 4.016711692192532e-05, 'dropout': 0.08491461515423784}. Best is trial 25 with value: 0.9047679901123047.\u001b[0m\n"
     ]
    },
    {
     "name": "stdout",
     "output_type": "stream",
     "text": [
      "F1 Score: 0.9047679901123047; Loss=0.47100791335105896\n"
     ]
    },
    {
     "name": "stderr",
     "output_type": "stream",
     "text": [
      "2022-08-03 18:13:09.633809: I tensorflow/core/grappler/optimizers/custom_graph_optimizer_registry.cc:113] Plugin optimizer for device_type GPU is enabled.\n",
      "2022-08-03 18:13:22.984723: I tensorflow/core/grappler/optimizers/custom_graph_optimizer_registry.cc:113] Plugin optimizer for device_type GPU is enabled.\n",
      "\u001b[32m[I 2022-08-03 18:13:23,413]\u001b[0m Trial 26 finished with value: 0.9124149084091187 and parameters: {'learning_rate': 0.003993205564880827, 'hidden_layer_size1': 376, 'hidden_layer_size2': 594, 'hidden_layer_size3': 515, 'kernel_regularizer': 5.582902354793125e-07, 'bias_regularizer': 4.9494198317697114e-05, 'activity_regularizer': 4.145587576980681e-05, 'dropout': 0.08060163847026149}. Best is trial 26 with value: 0.9124149084091187.\u001b[0m\n"
     ]
    },
    {
     "name": "stdout",
     "output_type": "stream",
     "text": [
      "F1 Score: 0.9124149084091187; Loss=0.5101689696311951\n"
     ]
    },
    {
     "name": "stderr",
     "output_type": "stream",
     "text": [
      "2022-08-03 18:13:23.945994: I tensorflow/core/grappler/optimizers/custom_graph_optimizer_registry.cc:113] Plugin optimizer for device_type GPU is enabled.\n",
      "2022-08-03 18:13:36.766161: I tensorflow/core/grappler/optimizers/custom_graph_optimizer_registry.cc:113] Plugin optimizer for device_type GPU is enabled.\n",
      "\u001b[32m[I 2022-08-03 18:13:37,177]\u001b[0m Trial 27 finished with value: 0.9062038660049438 and parameters: {'learning_rate': 0.004197129894353312, 'hidden_layer_size1': 333, 'hidden_layer_size2': 562, 'hidden_layer_size3': 226, 'kernel_regularizer': 3.1240117232970533e-07, 'bias_regularizer': 4.892722249978144e-05, 'activity_regularizer': 3.727339451914834e-05, 'dropout': 0.08677529077511008}. Best is trial 26 with value: 0.9124149084091187.\u001b[0m\n"
     ]
    },
    {
     "name": "stdout",
     "output_type": "stream",
     "text": [
      "F1 Score: 0.9062038660049438; Loss=0.49632683396339417\n"
     ]
    },
    {
     "name": "stderr",
     "output_type": "stream",
     "text": [
      "2022-08-03 18:13:37.860336: I tensorflow/core/grappler/optimizers/custom_graph_optimizer_registry.cc:113] Plugin optimizer for device_type GPU is enabled.\n",
      "2022-08-03 18:13:50.400693: I tensorflow/core/grappler/optimizers/custom_graph_optimizer_registry.cc:113] Plugin optimizer for device_type GPU is enabled.\n",
      "\u001b[32m[I 2022-08-03 18:13:50,831]\u001b[0m Trial 28 finished with value: 0.9307509660720825 and parameters: {'learning_rate': 0.00399057337146822, 'hidden_layer_size1': 321, 'hidden_layer_size2': 571, 'hidden_layer_size3': 233, 'kernel_regularizer': 2.412083737943694e-07, 'bias_regularizer': 3.7539762303542793e-05, 'activity_regularizer': 4.493669155490493e-05, 'dropout': 0.0816250430781725}. Best is trial 28 with value: 0.9307509660720825.\u001b[0m\n"
     ]
    },
    {
     "name": "stdout",
     "output_type": "stream",
     "text": [
      "F1 Score: 0.9307509660720825; Loss=0.4486440122127533\n"
     ]
    },
    {
     "name": "stderr",
     "output_type": "stream",
     "text": [
      "2022-08-03 18:13:51.418375: I tensorflow/core/grappler/optimizers/custom_graph_optimizer_registry.cc:113] Plugin optimizer for device_type GPU is enabled.\n",
      "2022-08-03 18:14:03.596320: I tensorflow/core/grappler/optimizers/custom_graph_optimizer_registry.cc:113] Plugin optimizer for device_type GPU is enabled.\n",
      "\u001b[32m[I 2022-08-03 18:14:04,024]\u001b[0m Trial 29 finished with value: 0.9061073064804077 and parameters: {'learning_rate': 0.005062578180032657, 'hidden_layer_size1': 149, 'hidden_layer_size2': 583, 'hidden_layer_size3': 262, 'kernel_regularizer': 3.958000466257317e-06, 'bias_regularizer': 1.97365251105299e-05, 'activity_regularizer': 5.523488244558887e-05, 'dropout': 0.08058563569199659}. Best is trial 28 with value: 0.9307509660720825.\u001b[0m\n"
     ]
    },
    {
     "name": "stdout",
     "output_type": "stream",
     "text": [
      "F1 Score: 0.9061073064804077; Loss=0.49267202615737915\n"
     ]
    },
    {
     "name": "stderr",
     "output_type": "stream",
     "text": [
      "2022-08-03 18:14:04.693144: I tensorflow/core/grappler/optimizers/custom_graph_optimizer_registry.cc:113] Plugin optimizer for device_type GPU is enabled.\n",
      "2022-08-03 18:14:18.112831: I tensorflow/core/grappler/optimizers/custom_graph_optimizer_registry.cc:113] Plugin optimizer for device_type GPU is enabled.\n",
      "\u001b[32m[I 2022-08-03 18:14:18,595]\u001b[0m Trial 30 finished with value: 0.9085193872451782 and parameters: {'learning_rate': 0.003789965663468842, 'hidden_layer_size1': 359, 'hidden_layer_size2': 740, 'hidden_layer_size3': 490, 'kernel_regularizer': 9.698598993726264e-06, 'bias_regularizer': 4.6009500957300835e-05, 'activity_regularizer': 4.250474393441202e-05, 'dropout': 0.09376342151262326}. Best is trial 28 with value: 0.9307509660720825.\u001b[0m\n"
     ]
    },
    {
     "name": "stdout",
     "output_type": "stream",
     "text": [
      "F1 Score: 0.9085193872451782; Loss=0.5422679781913757\n"
     ]
    },
    {
     "name": "stderr",
     "output_type": "stream",
     "text": [
      "2022-08-03 18:14:19.065681: I tensorflow/core/grappler/optimizers/custom_graph_optimizer_registry.cc:113] Plugin optimizer for device_type GPU is enabled.\n",
      "2022-08-03 18:14:31.659895: I tensorflow/core/grappler/optimizers/custom_graph_optimizer_registry.cc:113] Plugin optimizer for device_type GPU is enabled.\n",
      "\u001b[32m[I 2022-08-03 18:14:32,105]\u001b[0m Trial 31 finished with value: 0.8934142589569092 and parameters: {'learning_rate': 0.003703042616887754, 'hidden_layer_size1': 339, 'hidden_layer_size2': 747, 'hidden_layer_size3': 1, 'kernel_regularizer': 9.90425860937634e-06, 'bias_regularizer': 4.60216004083864e-05, 'activity_regularizer': 4.5875972792087224e-05, 'dropout': 0.09233564060107576}. Best is trial 28 with value: 0.9307509660720825.\u001b[0m\n"
     ]
    },
    {
     "name": "stdout",
     "output_type": "stream",
     "text": [
      "F1 Score: 0.8934142589569092; Loss=0.507733941078186\n"
     ]
    },
    {
     "name": "stderr",
     "output_type": "stream",
     "text": [
      "2022-08-03 18:14:32.746263: I tensorflow/core/grappler/optimizers/custom_graph_optimizer_registry.cc:113] Plugin optimizer for device_type GPU is enabled.\n",
      "2022-08-03 18:14:47.875857: I tensorflow/core/grappler/optimizers/custom_graph_optimizer_registry.cc:113] Plugin optimizer for device_type GPU is enabled.\n",
      "\u001b[32m[I 2022-08-03 18:14:48,509]\u001b[0m Trial 32 finished with value: 0.9153475761413574 and parameters: {'learning_rate': 0.00469950924677728, 'hidden_layer_size1': 456, 'hidden_layer_size2': 864, 'hidden_layer_size3': 498, 'kernel_regularizer': 9.796673904381009e-07, 'bias_regularizer': 5.8517441932527596e-05, 'activity_regularizer': 5.360441238361178e-05, 'dropout': 0.09907559772894921}. Best is trial 28 with value: 0.9307509660720825.\u001b[0m\n"
     ]
    },
    {
     "name": "stdout",
     "output_type": "stream",
     "text": [
      "F1 Score: 0.9153475761413574; Loss=0.45551183819770813\n"
     ]
    },
    {
     "name": "stderr",
     "output_type": "stream",
     "text": [
      "2022-08-03 18:14:49.105102: I tensorflow/core/grappler/optimizers/custom_graph_optimizer_registry.cc:113] Plugin optimizer for device_type GPU is enabled.\n",
      "2022-08-03 18:15:04.564798: I tensorflow/core/grappler/optimizers/custom_graph_optimizer_registry.cc:113] Plugin optimizer for device_type GPU is enabled.\n",
      "\u001b[32m[I 2022-08-03 18:15:05,174]\u001b[0m Trial 33 finished with value: 0.7887222766876221 and parameters: {'learning_rate': 0.00491310021675215, 'hidden_layer_size1': 504, 'hidden_layer_size2': 887, 'hidden_layer_size3': 520, 'kernel_regularizer': 2.643562389635773e-05, 'bias_regularizer': 5.9453173190750954e-05, 'activity_regularizer': 5.530854202364373e-05, 'dropout': 0.09928766157902763}. Best is trial 28 with value: 0.9307509660720825.\u001b[0m\n"
     ]
    },
    {
     "name": "stdout",
     "output_type": "stream",
     "text": [
      "F1 Score: 0.7887222766876221; Loss=0.8806512951850891\n"
     ]
    },
    {
     "name": "stderr",
     "output_type": "stream",
     "text": [
      "2022-08-03 18:15:05.761944: I tensorflow/core/grappler/optimizers/custom_graph_optimizer_registry.cc:113] Plugin optimizer for device_type GPU is enabled.\n",
      "2022-08-03 18:15:21.537170: I tensorflow/core/grappler/optimizers/custom_graph_optimizer_registry.cc:113] Plugin optimizer for device_type GPU is enabled.\n",
      "\u001b[32m[I 2022-08-03 18:15:22,113]\u001b[0m Trial 34 finished with value: 0.8153934478759766 and parameters: {'learning_rate': 0.006068951119130783, 'hidden_layer_size1': 441, 'hidden_layer_size2': 855, 'hidden_layer_size3': 453, 'kernel_regularizer': 1.1228927982285553e-05, 'bias_regularizer': 3.528697370848104e-05, 'activity_regularizer': 6.264048617799643e-05, 'dropout': 0.08257071489371791}. Best is trial 28 with value: 0.9307509660720825.\u001b[0m\n"
     ]
    },
    {
     "name": "stdout",
     "output_type": "stream",
     "text": [
      "F1 Score: 0.8153934478759766; Loss=0.7941584587097168\n"
     ]
    },
    {
     "name": "stderr",
     "output_type": "stream",
     "text": [
      "2022-08-03 18:15:22.649476: I tensorflow/core/grappler/optimizers/custom_graph_optimizer_registry.cc:113] Plugin optimizer for device_type GPU is enabled.\n",
      "2022-08-03 18:15:37.818148: I tensorflow/core/grappler/optimizers/custom_graph_optimizer_registry.cc:113] Plugin optimizer for device_type GPU is enabled.\n",
      "\u001b[32m[I 2022-08-03 18:15:38,404]\u001b[0m Trial 35 finished with value: 0.7647548913955688 and parameters: {'learning_rate': 0.0048773657458807355, 'hidden_layer_size1': 391, 'hidden_layer_size2': 990, 'hidden_layer_size3': 596, 'kernel_regularizer': 5.278541629014067e-06, 'bias_regularizer': 5.627700579830571e-05, 'activity_regularizer': 7.305366906977694e-05, 'dropout': 0.06692873200829412}. Best is trial 28 with value: 0.9307509660720825.\u001b[0m\n"
     ]
    },
    {
     "name": "stdout",
     "output_type": "stream",
     "text": [
      "F1 Score: 0.7647548913955688; Loss=1.1542643308639526\n"
     ]
    },
    {
     "name": "stderr",
     "output_type": "stream",
     "text": [
      "2022-08-03 18:15:38.954307: I tensorflow/core/grappler/optimizers/custom_graph_optimizer_registry.cc:113] Plugin optimizer for device_type GPU is enabled.\n",
      "2022-08-03 18:15:55.456653: I tensorflow/core/grappler/optimizers/custom_graph_optimizer_registry.cc:113] Plugin optimizer for device_type GPU is enabled.\n",
      "\u001b[32m[I 2022-08-03 18:15:56,123]\u001b[0m Trial 36 finished with value: 0.7442783117294312 and parameters: {'learning_rate': 0.005515415953720484, 'hidden_layer_size1': 544, 'hidden_layer_size2': 682, 'hidden_layer_size3': 420, 'kernel_regularizer': 1.1995485307469893e-05, 'bias_regularizer': 7.341279937011088e-05, 'activity_regularizer': 5.1996332987714233e-05, 'dropout': 0.09244858946090141}. Best is trial 28 with value: 0.9307509660720825.\u001b[0m\n"
     ]
    },
    {
     "name": "stdout",
     "output_type": "stream",
     "text": [
      "F1 Score: 0.7442783117294312; Loss=1.0807061195373535\n"
     ]
    },
    {
     "name": "stderr",
     "output_type": "stream",
     "text": [
      "2022-08-03 18:15:56.815544: I tensorflow/core/grappler/optimizers/custom_graph_optimizer_registry.cc:113] Plugin optimizer for device_type GPU is enabled.\n",
      "2022-08-03 18:16:12.654985: I tensorflow/core/grappler/optimizers/custom_graph_optimizer_registry.cc:113] Plugin optimizer for device_type GPU is enabled.\n",
      "\u001b[32m[I 2022-08-03 18:16:13,351]\u001b[0m Trial 37 finished with value: 0.9174801111221313 and parameters: {'learning_rate': 0.0036864403698269174, 'hidden_layer_size1': 298, 'hidden_layer_size2': 735, 'hidden_layer_size3': 582, 'kernel_regularizer': 2.1311214124677986e-07, 'bias_regularizer': 6.186097724746129e-05, 'activity_regularizer': 4.379508594202058e-05, 'dropout': 0.09967943100863988}. Best is trial 28 with value: 0.9307509660720825.\u001b[0m\n"
     ]
    },
    {
     "name": "stdout",
     "output_type": "stream",
     "text": [
      "F1 Score: 0.9174801111221313; Loss=0.5328603982925415\n"
     ]
    },
    {
     "name": "stderr",
     "output_type": "stream",
     "text": [
      "2022-08-03 18:16:13.936438: I tensorflow/core/grappler/optimizers/custom_graph_optimizer_registry.cc:113] Plugin optimizer for device_type GPU is enabled.\n",
      "2022-08-03 18:16:29.176719: I tensorflow/core/grappler/optimizers/custom_graph_optimizer_registry.cc:113] Plugin optimizer for device_type GPU is enabled.\n",
      "\u001b[32m[I 2022-08-03 18:16:29,790]\u001b[0m Trial 38 finished with value: 0.9148057699203491 and parameters: {'learning_rate': 0.006694821121334568, 'hidden_layer_size1': 268, 'hidden_layer_size2': 832, 'hidden_layer_size3': 693, 'kernel_regularizer': 1.4051913157721362e-06, 'bias_regularizer': 8.9631021419747e-05, 'activity_regularizer': 3.3745400311365155e-05, 'dropout': 0.09932760743645741}. Best is trial 28 with value: 0.9307509660720825.\u001b[0m\n"
     ]
    },
    {
     "name": "stdout",
     "output_type": "stream",
     "text": [
      "F1 Score: 0.9148057699203491; Loss=0.5683242678642273\n"
     ]
    },
    {
     "name": "stderr",
     "output_type": "stream",
     "text": [
      "2022-08-03 18:16:30.480777: I tensorflow/core/grappler/optimizers/custom_graph_optimizer_registry.cc:113] Plugin optimizer for device_type GPU is enabled.\n",
      "2022-08-03 18:16:46.049433: I tensorflow/core/grappler/optimizers/custom_graph_optimizer_registry.cc:113] Plugin optimizer for device_type GPU is enabled.\n",
      "\u001b[32m[I 2022-08-03 18:16:46,760]\u001b[0m Trial 39 finished with value: 0.9114333391189575 and parameters: {'learning_rate': 0.006761924111537636, 'hidden_layer_size1': 283, 'hidden_layer_size2': 837, 'hidden_layer_size3': 710, 'kernel_regularizer': 2.253856468529385e-05, 'bias_regularizer': 9.75838114286779e-05, 'activity_regularizer': 3.2423186141091186e-05, 'dropout': 0.09833556757251949}. Best is trial 28 with value: 0.9307509660720825.\u001b[0m\n"
     ]
    },
    {
     "name": "stdout",
     "output_type": "stream",
     "text": [
      "F1 Score: 0.9114333391189575; Loss=0.533988356590271\n"
     ]
    },
    {
     "name": "stderr",
     "output_type": "stream",
     "text": [
      "2022-08-03 18:16:47.284772: I tensorflow/core/grappler/optimizers/custom_graph_optimizer_registry.cc:113] Plugin optimizer for device_type GPU is enabled.\n"
     ]
    }
   ],
   "source": [
    "study_nn_3 = optuna.create_study(direction='maximize')\n",
    "study_nn_3.optimize(objective_3_layer, n_trials=100)\n",
    "\n",
    "print('Number of finished trials:', len(study_nn_3.trials))\n",
    "print('Best trial:', study_nn_3.best_trial.params)"
   ]
  },
  {
   "cell_type": "markdown",
   "id": "6f768ade-34ba-48b4-9553-d89ece65c37c",
   "metadata": {},
   "source": [
    "* Trial 29 finished with value: 0.9176479578018188 and parameters: {'learning_rate': 0.006120059584156001, 'hidden_layer_size1': 6, 'hidden_layer_size2': 871, 'hidden_layer_size3': 424, 'kernel_regularizer': 7.04892717757341e-07, 'bias_regularizer': 8.077172989474054e-05, 'activity_regularizer': 4.125772221139609e-05, 'dropout': 0.03581861197995262}. Best is trial 29 with value: 0.9176479578018188.\n",
    "\n",
    "* **With stratified sampling:** Trial 39 finished with value: 0.9002330303192139 and parameters: {'learning_rate': 0.007284468192554461, 'hidden_layer_size1': 399, 'hidden_layer_size2': 928, 'hidden_layer_size3': 208, 'kernel_regularizer': 6.137914541289313e-06, 'bias_regularizer': 9.963601430040577e-05, 'activity_regularizer': 7.078406366492952e-05, 'dropout': 0.02909313212948919}. Best is trial 39 with value: 0.9002330303192139\n",
    "\n",
    "* **With stratified sampling:** Trial 28 finished with value: 0.9307509660720825 and parameters: {'learning_rate': 0.00399057337146822, 'hidden_layer_size1': 321, 'hidden_layer_size2': 571, 'hidden_layer_size3': 233, 'kernel_regularizer': 2.412083737943694e-07, 'bias_regularizer': 3.7539762303542793e-05, 'activity_regularizer': 4.493669155490493e-05, 'dropout': 0.0816250430781725}. Best is trial 28 with value: 0.9307509660720825."
   ]
  },
  {
   "cell_type": "code",
   "execution_count": null,
   "id": "26f240a2-4e1b-4106-a93f-0bd728f52429",
   "metadata": {},
   "outputs": [],
   "source": []
  }
 ],
 "metadata": {
  "kernelspec": {
   "display_name": "Python 3 (ipykernel)",
   "language": "python",
   "name": "python3"
  },
  "language_info": {
   "codemirror_mode": {
    "name": "ipython",
    "version": 3
   },
   "file_extension": ".py",
   "mimetype": "text/x-python",
   "name": "python",
   "nbconvert_exporter": "python",
   "pygments_lexer": "ipython3",
   "version": "3.10.5"
  }
 },
 "nbformat": 4,
 "nbformat_minor": 5
}
