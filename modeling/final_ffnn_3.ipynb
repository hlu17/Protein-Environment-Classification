{
 "cells": [
  {
   "cell_type": "code",
   "execution_count": 1,
   "id": "b512f4d3-c74c-4847-a95e-132a25d1cd6f",
   "metadata": {},
   "outputs": [],
   "source": [
    "import os\n",
    "import sys\n",
    "module_path = os.path.abspath(os.path.join('..'))\n",
    "if module_path not in sys.path:\n",
    "    sys.path.append(module_path)\n",
    "\n",
    "from helpers import (get_training_observations, \n",
    "                     get_training_labels)\n",
    "import pandas as pd\n",
    "import numpy as np\n",
    "from joblib import dump\n",
    "from joblib import load\n",
    "\n",
    "# Model specific imports\n",
    "from sklearn.model_selection import train_test_split\n",
    "from sklearn.preprocessing import LabelEncoder\n",
    "from sklearn.metrics import accuracy_score, f1_score\n",
    "import matplotlib.pyplot as plt\n",
    "\n",
    "import tensorflow as tf\n",
    "import tensorflow_addons as tfa\n",
    "from tensorflow.keras import metrics\n",
    "tf.get_logger().setLevel('INFO')\n",
    "\n",
    "import optuna"
   ]
  },
  {
   "cell_type": "code",
   "execution_count": 2,
   "id": "b3a81fe3-6c84-4e51-9ad7-31bc4e78a1d4",
   "metadata": {},
   "outputs": [
    {
     "name": "stdout",
     "output_type": "stream",
     "text": [
      "Getting all training observations from 'metagenome_classification.db'...\n",
      "Getting all training labels from 'metagenome_classification.db'...\n"
     ]
    }
   ],
   "source": [
    "# Set up data\n",
    "x_train = get_training_observations()\n",
    "y_train = get_training_labels()\n",
    "le = load('../model_joblibs/final_labelEncoder.joblib')\n",
    "    \n",
    "y_train_transformed = le.transform(y_train['EMPO_3'])\n",
    "y_train_transformed\n",
    "\n",
    "x_tr, x_val, y_tr, y_val = train_test_split(x_train, y_train_transformed, test_size=0.2, random_state=27)   "
   ]
  },
  {
   "cell_type": "code",
   "execution_count": 3,
   "id": "b70d5f99-b4ae-4aae-b342-466f7c67f1ab",
   "metadata": {},
   "outputs": [],
   "source": [
    "K = tf.keras.backend\n",
    "\n",
    "def build_model(\n",
    "    activation='relu',\n",
    "    hidden_layer_sizes=[],\n",
    "    final_layer_activation='softmax',\n",
    "    dropout=0.0,\n",
    "    optimizer='Adam',\n",
    "    learning_rate=0.01,\n",
    "    kernel_regularizer=1e-5,\n",
    "    bias_regularizer=1e-5,\n",
    "    activity_regularizer=1e-5,\n",
    "    n_classes=15\n",
    "):\n",
    "    \"\"\"Build a multi-class logistic regression model using Keras.\n",
    "\n",
    "    Args:\n",
    "      n_classes: Number of output classes in the dataset.\n",
    "      hidden_layer_sizes: A list with the number of units in each hidden layer.\n",
    "      activation: The activation function to use for the hidden layers.\n",
    "      optimizer: The optimizer to use (SGD, Adam).\n",
    "      learning_rate: The desired learning rate for the optimizer.\n",
    "\n",
    "    Returns:\n",
    "      model: A tf.keras model (graph).\n",
    "    \"\"\"\n",
    "    tf.keras.backend.clear_session()\n",
    "    np.random.seed(0)\n",
    "    tf.random.set_seed(0)\n",
    "    model = tf.keras.Sequential()\n",
    "    model.add(tf.keras.layers.Flatten())\n",
    "    \n",
    "    for hidden_layer_size in hidden_layer_sizes:\n",
    "        if hidden_layer_size > n_classes:\n",
    "            model.add(tf.keras.layers.Dense(\n",
    "                hidden_layer_size,\n",
    "                activation=activation,\n",
    "                kernel_regularizer=tf.keras.regularizers.L2(kernel_regularizer),\n",
    "                bias_regularizer=tf.keras.regularizers.L2(bias_regularizer),\n",
    "                activity_regularizer=tf.keras.regularizers.L2(activity_regularizer)\n",
    "            ))\n",
    "            if dropout > 0:\n",
    "                model.add(tf.keras.layers.Dropout(dropout))\n",
    "\n",
    "    model.add(tf.keras.layers.Dense(\n",
    "        n_classes,\n",
    "        activation=final_layer_activation,\n",
    "        kernel_regularizer=tf.keras.regularizers.L2(kernel_regularizer),\n",
    "        bias_regularizer=tf.keras.regularizers.L2(bias_regularizer),\n",
    "        activity_regularizer=tf.keras.regularizers.L2(activity_regularizer)\n",
    "    ))\n",
    "    opt = None\n",
    "    if optimizer == \"SGD\":\n",
    "        opt = tf.keras.optimizers.SGD(learning_rate=learning_rate)\n",
    "    elif optimizer == \"Adam\":\n",
    "        opt = tf.keras.optimizers.Adam(learning_rate=learning_rate)\n",
    "    else:\n",
    "        raise f\"Unsupported optimizer, {optimizer}\"\n",
    "    model.compile(\n",
    "        loss=\"categorical_crossentropy\", optimizer=opt, \n",
    "        metrics=[tfa.metrics.F1Score(num_classes=15, average='weighted')]\n",
    "    )\n",
    "    return model\n",
    "    "
   ]
  },
  {
   "cell_type": "code",
   "execution_count": 4,
   "id": "2b89d716-c125-4678-960a-dabe2d66e73a",
   "metadata": {},
   "outputs": [],
   "source": [
    "def objective_3_layer(trial, x_tr=x_tr, x_val=x_val, y_tr=y_tr, y_val=y_val):\n",
    "    \n",
    "    # Set up XGBoost hyperparameter space\n",
    "    params = {\n",
    "        'learning_rate': trial.suggest_float('learning_rate', 0.0001, 0.01),\n",
    "        'hidden_layer_size1': trial.suggest_int('hidden_layer_size1', 0, 1024),\n",
    "        'hidden_layer_size2': trial.suggest_int('hidden_layer_size2', 0, 1024),\n",
    "        'hidden_layer_size3': trial.suggest_int('hidden_layer_size3', 0, 1024),\n",
    "        'kernel_regularizer': trial.suggest_float('kernel_regularizer', 1e-10, 1e-4),\n",
    "        'bias_regularizer': trial.suggest_float('bias_regularizer', 1e-10, 1e-4),\n",
    "        'activity_regularizer': trial.suggest_float('activity_regularizer', 1e-10, 1e-4),\n",
    "        'dropout': trial.suggest_float('dropout', 0, 0.1)\n",
    "    }\n",
    "    \n",
    "    hidden_layer_sizes = [params.pop('hidden_layer_size1'), params.pop('hidden_layer_size2'), params.pop('hidden_layer_size3')]\n",
    "    \n",
    "    y_tr_one_hot = K.one_hot(K.cast(y_tr, dtype='int64'), 15)\n",
    "    y_val_one_hot = K.one_hot(K.cast(y_val, dtype='int64'), 15)\n",
    "    \n",
    "    # Create model\n",
    "    nn = build_model(\n",
    "        **params,\n",
    "        n_classes=15,\n",
    "        optimizer='Adam',\n",
    "        final_layer_activation='softmax',\n",
    "        hidden_layer_sizes=hidden_layer_sizes\n",
    "    )\n",
    "    \n",
    "    # Fit model\n",
    "    nn.fit(x=x_tr,\n",
    "           y=y_tr_one_hot,\n",
    "           epochs=50,\n",
    "           batch_size=64,\n",
    "           verbose=0)\n",
    "    \n",
    "    evaluation = nn.evaluate(x=x_val, y=y_val_one_hot, verbose=0, return_dict=True)\n",
    "    f1_score = evaluation['f1_score']\n",
    "    loss = evaluation['loss']\n",
    "    \n",
    "    print(f'F1 Score: {f1_score}; Loss={loss}')\n",
    "    \n",
    "    return f1_score\n",
    "    "
   ]
  },
  {
   "cell_type": "code",
   "execution_count": null,
   "id": "ebaada76-7bcb-4854-87a0-4b904aa47dd1",
   "metadata": {},
   "outputs": [
    {
     "name": "stderr",
     "output_type": "stream",
     "text": [
      "\u001b[32m[I 2022-08-03 01:34:41,897]\u001b[0m A new study created in memory with name: no-name-5b8b4fd9-5075-4548-bbce-bdd291ccee1b\u001b[0m\n"
     ]
    },
    {
     "name": "stdout",
     "output_type": "stream",
     "text": [
      "Metal device set to: Apple M1 Pro\n"
     ]
    },
    {
     "name": "stderr",
     "output_type": "stream",
     "text": [
      "2022-08-03 01:34:41.901291: I tensorflow/core/common_runtime/pluggable_device/pluggable_device_factory.cc:305] Could not identify NUMA node of platform GPU ID 0, defaulting to 0. Your kernel may not have been built with NUMA support.\n",
      "2022-08-03 01:34:41.901502: I tensorflow/core/common_runtime/pluggable_device/pluggable_device_factory.cc:271] Created TensorFlow device (/job:localhost/replica:0/task:0/device:GPU:0 with 0 MB memory) -> physical PluggableDevice (device: 0, name: METAL, pci bus id: <undefined>)\n",
      "2022-08-03 01:34:42.222862: W tensorflow/core/platform/profile_utils/cpu_utils.cc:128] Failed to get CPU frequency: 0 Hz\n",
      "2022-08-03 01:34:43.185407: I tensorflow/core/grappler/optimizers/custom_graph_optimizer_registry.cc:113] Plugin optimizer for device_type GPU is enabled.\n",
      "2022-08-03 01:35:16.862424: I tensorflow/core/grappler/optimizers/custom_graph_optimizer_registry.cc:113] Plugin optimizer for device_type GPU is enabled.\n",
      "\u001b[32m[I 2022-08-03 01:35:17,164]\u001b[0m Trial 0 finished with value: 0.9125401973724365 and parameters: {'learning_rate': 0.002885131052840692, 'hidden_layer_size1': 895, 'hidden_layer_size2': 1005, 'hidden_layer_size3': 812, 'kernel_regularizer': 4.804470007775174e-05, 'bias_regularizer': 1.7777729158162786e-05, 'activity_regularizer': 4.3256958326360244e-05, 'dropout': 0.01226149419194833}. Best is trial 0 with value: 0.9125401973724365.\u001b[0m\n"
     ]
    },
    {
     "name": "stdout",
     "output_type": "stream",
     "text": [
      "F1 Score: 0.9125401973724365; Loss=0.5355969071388245\n"
     ]
    },
    {
     "name": "stderr",
     "output_type": "stream",
     "text": [
      "2022-08-03 01:35:17.850159: I tensorflow/core/grappler/optimizers/custom_graph_optimizer_registry.cc:113] Plugin optimizer for device_type GPU is enabled.\n",
      "2022-08-03 01:35:36.694201: I tensorflow/core/grappler/optimizers/custom_graph_optimizer_registry.cc:113] Plugin optimizer for device_type GPU is enabled.\n",
      "\u001b[32m[I 2022-08-03 01:35:37,036]\u001b[0m Trial 1 finished with value: 0.8929336071014404 and parameters: {'learning_rate': 0.006754698625646383, 'hidden_layer_size1': 43, 'hidden_layer_size2': 889, 'hidden_layer_size3': 293, 'kernel_regularizer': 6.132842482914758e-05, 'bias_regularizer': 6.306411002393794e-05, 'activity_regularizer': 4.183009307221787e-05, 'dropout': 0.03914116316812516}. Best is trial 0 with value: 0.9125401973724365.\u001b[0m\n"
     ]
    },
    {
     "name": "stdout",
     "output_type": "stream",
     "text": [
      "F1 Score: 0.8929336071014404; Loss=0.5546483993530273\n"
     ]
    },
    {
     "name": "stderr",
     "output_type": "stream",
     "text": [
      "2022-08-03 01:35:37.811534: I tensorflow/core/grappler/optimizers/custom_graph_optimizer_registry.cc:113] Plugin optimizer for device_type GPU is enabled.\n",
      "2022-08-03 01:36:15.073450: I tensorflow/core/grappler/optimizers/custom_graph_optimizer_registry.cc:113] Plugin optimizer for device_type GPU is enabled.\n",
      "\u001b[32m[I 2022-08-03 01:36:15,383]\u001b[0m Trial 2 finished with value: 0.8182069063186646 and parameters: {'learning_rate': 0.008978401303882385, 'hidden_layer_size1': 993, 'hidden_layer_size2': 330, 'hidden_layer_size3': 377, 'kernel_regularizer': 3.27281275222861e-05, 'bias_regularizer': 8.920685556311497e-05, 'activity_regularizer': 3.806859934345935e-05, 'dropout': 0.0755988442033224}. Best is trial 0 with value: 0.9125401973724365.\u001b[0m\n"
     ]
    },
    {
     "name": "stdout",
     "output_type": "stream",
     "text": [
      "F1 Score: 0.8182069063186646; Loss=0.7792340517044067\n"
     ]
    },
    {
     "name": "stderr",
     "output_type": "stream",
     "text": [
      "2022-08-03 01:36:16.417587: I tensorflow/core/grappler/optimizers/custom_graph_optimizer_registry.cc:113] Plugin optimizer for device_type GPU is enabled.\n",
      "2022-08-03 01:36:43.245533: I tensorflow/core/grappler/optimizers/custom_graph_optimizer_registry.cc:113] Plugin optimizer for device_type GPU is enabled.\n",
      "\u001b[32m[I 2022-08-03 01:36:43,536]\u001b[0m Trial 3 finished with value: 0.9071027040481567 and parameters: {'learning_rate': 0.007543485998125467, 'hidden_layer_size1': 758, 'hidden_layer_size2': 443, 'hidden_layer_size3': 770, 'kernel_regularizer': 9.210084503401802e-06, 'bias_regularizer': 4.0721478465059245e-05, 'activity_regularizer': 3.905468103751333e-05, 'dropout': 0.015764403322337996}. Best is trial 0 with value: 0.9125401973724365.\u001b[0m\n"
     ]
    },
    {
     "name": "stdout",
     "output_type": "stream",
     "text": [
      "F1 Score: 0.9071027040481567; Loss=0.4761009216308594\n"
     ]
    },
    {
     "name": "stderr",
     "output_type": "stream",
     "text": [
      "2022-08-03 01:36:44.356436: I tensorflow/core/grappler/optimizers/custom_graph_optimizer_registry.cc:113] Plugin optimizer for device_type GPU is enabled.\n",
      "2022-08-03 01:37:02.651421: I tensorflow/core/grappler/optimizers/custom_graph_optimizer_registry.cc:113] Plugin optimizer for device_type GPU is enabled.\n",
      "\u001b[32m[I 2022-08-03 01:37:03,008]\u001b[0m Trial 4 finished with value: 0.8565226197242737 and parameters: {'learning_rate': 0.008661217235762053, 'hidden_layer_size1': 532, 'hidden_layer_size2': 357, 'hidden_layer_size3': 123, 'kernel_regularizer': 1.4905913637301343e-05, 'bias_regularizer': 7.840465228476345e-05, 'activity_regularizer': 8.503405154183415e-05, 'dropout': 0.03392587977432115}. Best is trial 0 with value: 0.9125401973724365.\u001b[0m\n"
     ]
    },
    {
     "name": "stdout",
     "output_type": "stream",
     "text": [
      "F1 Score: 0.8565226197242737; Loss=0.6774997711181641\n"
     ]
    },
    {
     "name": "stderr",
     "output_type": "stream",
     "text": [
      "2022-08-03 01:37:04.143411: I tensorflow/core/grappler/optimizers/custom_graph_optimizer_registry.cc:113] Plugin optimizer for device_type GPU is enabled.\n",
      "2022-08-03 01:37:24.345083: I tensorflow/core/grappler/optimizers/custom_graph_optimizer_registry.cc:113] Plugin optimizer for device_type GPU is enabled.\n",
      "\u001b[32m[I 2022-08-03 01:37:24,714]\u001b[0m Trial 5 finished with value: 0.8338446021080017 and parameters: {'learning_rate': 0.005895245876992191, 'hidden_layer_size1': 186, 'hidden_layer_size2': 985, 'hidden_layer_size3': 440, 'kernel_regularizer': 5.688260514213151e-05, 'bias_regularizer': 6.933767041729056e-05, 'activity_regularizer': 6.125125801424853e-05, 'dropout': 0.09783077931813307}. Best is trial 0 with value: 0.9125401973724365.\u001b[0m\n"
     ]
    },
    {
     "name": "stdout",
     "output_type": "stream",
     "text": [
      "F1 Score: 0.8338446021080017; Loss=0.7671986222267151\n"
     ]
    },
    {
     "name": "stderr",
     "output_type": "stream",
     "text": [
      "2022-08-03 01:37:25.471546: I tensorflow/core/grappler/optimizers/custom_graph_optimizer_registry.cc:113] Plugin optimizer for device_type GPU is enabled.\n",
      "2022-08-03 01:37:49.608470: I tensorflow/core/grappler/optimizers/custom_graph_optimizer_registry.cc:113] Plugin optimizer for device_type GPU is enabled.\n",
      "\u001b[32m[I 2022-08-03 01:37:50,099]\u001b[0m Trial 6 finished with value: 0.9029321670532227 and parameters: {'learning_rate': 0.009760143062458745, 'hidden_layer_size1': 631, 'hidden_layer_size2': 528, 'hidden_layer_size3': 548, 'kernel_regularizer': 9.86588931792766e-06, 'bias_regularizer': 6.970214967624828e-06, 'activity_regularizer': 5.854226873587902e-06, 'dropout': 0.02557269365654217}. Best is trial 0 with value: 0.9125401973724365.\u001b[0m\n"
     ]
    },
    {
     "name": "stdout",
     "output_type": "stream",
     "text": [
      "F1 Score: 0.9029321670532227; Loss=0.5234387516975403\n"
     ]
    },
    {
     "name": "stderr",
     "output_type": "stream",
     "text": [
      "2022-08-03 01:37:51.257707: I tensorflow/core/grappler/optimizers/custom_graph_optimizer_registry.cc:113] Plugin optimizer for device_type GPU is enabled.\n",
      "2022-08-03 01:38:14.751051: I tensorflow/core/grappler/optimizers/custom_graph_optimizer_registry.cc:113] Plugin optimizer for device_type GPU is enabled.\n",
      "\u001b[32m[I 2022-08-03 01:38:15,113]\u001b[0m Trial 7 finished with value: 0.836341142654419 and parameters: {'learning_rate': 0.007002332818078575, 'hidden_layer_size1': 752, 'hidden_layer_size2': 523, 'hidden_layer_size3': 60, 'kernel_regularizer': 9.06791082587748e-05, 'bias_regularizer': 5.1251946775904645e-05, 'activity_regularizer': 5.618032368726727e-05, 'dropout': 0.02126330764074428}. Best is trial 0 with value: 0.9125401973724365.\u001b[0m\n"
     ]
    },
    {
     "name": "stdout",
     "output_type": "stream",
     "text": [
      "F1 Score: 0.836341142654419; Loss=0.6966146230697632\n"
     ]
    },
    {
     "name": "stderr",
     "output_type": "stream",
     "text": [
      "2022-08-03 01:38:15.989832: I tensorflow/core/grappler/optimizers/custom_graph_optimizer_registry.cc:113] Plugin optimizer for device_type GPU is enabled.\n",
      "2022-08-03 01:38:46.812837: I tensorflow/core/grappler/optimizers/custom_graph_optimizer_registry.cc:113] Plugin optimizer for device_type GPU is enabled.\n",
      "\u001b[32m[I 2022-08-03 01:38:47,434]\u001b[0m Trial 8 finished with value: 0.7916069030761719 and parameters: {'learning_rate': 0.0084603232052539, 'hidden_layer_size1': 969, 'hidden_layer_size2': 442, 'hidden_layer_size3': 312, 'kernel_regularizer': 6.676289795441002e-05, 'bias_regularizer': 4.377721540982358e-05, 'activity_regularizer': 5.084838677290785e-05, 'dropout': 0.024896463881563913}. Best is trial 0 with value: 0.9125401973724365.\u001b[0m\n"
     ]
    },
    {
     "name": "stdout",
     "output_type": "stream",
     "text": [
      "F1 Score: 0.7916069030761719; Loss=0.8234994411468506\n"
     ]
    },
    {
     "name": "stderr",
     "output_type": "stream",
     "text": [
      "2022-08-03 01:38:48.445990: I tensorflow/core/grappler/optimizers/custom_graph_optimizer_registry.cc:113] Plugin optimizer for device_type GPU is enabled.\n",
      "2022-08-03 01:39:18.346772: I tensorflow/core/grappler/optimizers/custom_graph_optimizer_registry.cc:113] Plugin optimizer for device_type GPU is enabled.\n",
      "\u001b[32m[I 2022-08-03 01:39:18,837]\u001b[0m Trial 9 finished with value: 0.8699281215667725 and parameters: {'learning_rate': 0.0069249137860968825, 'hidden_layer_size1': 598, 'hidden_layer_size2': 115, 'hidden_layer_size3': 961, 'kernel_regularizer': 7.258531248392767e-05, 'bias_regularizer': 2.412408394962607e-05, 'activity_regularizer': 9.350373564394935e-05, 'dropout': 0.05519969179459266}. Best is trial 0 with value: 0.9125401973724365.\u001b[0m\n"
     ]
    },
    {
     "name": "stdout",
     "output_type": "stream",
     "text": [
      "F1 Score: 0.8699281215667725; Loss=0.6214032769203186\n"
     ]
    },
    {
     "name": "stderr",
     "output_type": "stream",
     "text": [
      "2022-08-03 01:39:20.226911: I tensorflow/core/grappler/optimizers/custom_graph_optimizer_registry.cc:113] Plugin optimizer for device_type GPU is enabled.\n",
      "2022-08-03 01:39:50.990653: I tensorflow/core/grappler/optimizers/custom_graph_optimizer_registry.cc:113] Plugin optimizer for device_type GPU is enabled.\n",
      "\u001b[32m[I 2022-08-03 01:39:51,469]\u001b[0m Trial 10 finished with value: 0.8531487584114075 and parameters: {'learning_rate': 0.002198079172914196, 'hidden_layer_size1': 346, 'hidden_layer_size2': 761, 'hidden_layer_size3': 753, 'kernel_regularizer': 3.688760374283992e-05, 'bias_regularizer': 8.793110201991882e-08, 'activity_regularizer': 1.3126155927849506e-05, 'dropout': 3.4590862617265086e-05}. Best is trial 0 with value: 0.9125401973724365.\u001b[0m\n"
     ]
    },
    {
     "name": "stdout",
     "output_type": "stream",
     "text": [
      "F1 Score: 0.8531487584114075; Loss=0.6557000875473022\n"
     ]
    },
    {
     "name": "stderr",
     "output_type": "stream",
     "text": [
      "2022-08-03 01:39:52.498252: I tensorflow/core/grappler/optimizers/custom_graph_optimizer_registry.cc:113] Plugin optimizer for device_type GPU is enabled.\n",
      "2022-08-03 01:40:28.697758: I tensorflow/core/grappler/optimizers/custom_graph_optimizer_registry.cc:113] Plugin optimizer for device_type GPU is enabled.\n",
      "\u001b[32m[I 2022-08-03 01:40:29,307]\u001b[0m Trial 11 finished with value: 0.9106184244155884 and parameters: {'learning_rate': 0.003268479030393291, 'hidden_layer_size1': 817, 'hidden_layer_size2': 715, 'hidden_layer_size3': 778, 'kernel_regularizer': 3.170271329238129e-05, 'bias_regularizer': 2.9386178172664945e-05, 'activity_regularizer': 2.5648422375409146e-05, 'dropout': 3.690147155401349e-05}. Best is trial 0 with value: 0.9125401973724365.\u001b[0m\n"
     ]
    },
    {
     "name": "stdout",
     "output_type": "stream",
     "text": [
      "F1 Score: 0.9106184244155884; Loss=0.43569374084472656\n"
     ]
    },
    {
     "name": "stderr",
     "output_type": "stream",
     "text": [
      "2022-08-03 01:40:30.775066: I tensorflow/core/grappler/optimizers/custom_graph_optimizer_registry.cc:113] Plugin optimizer for device_type GPU is enabled.\n",
      "2022-08-03 01:41:03.503553: I tensorflow/core/grappler/optimizers/custom_graph_optimizer_registry.cc:113] Plugin optimizer for device_type GPU is enabled.\n",
      "\u001b[32m[I 2022-08-03 01:41:04,039]\u001b[0m Trial 12 finished with value: 0.8142330050468445 and parameters: {'learning_rate': 0.0032874203585721803, 'hidden_layer_size1': 879, 'hidden_layer_size2': 731, 'hidden_layer_size3': 961, 'kernel_regularizer': 4.1446399402417805e-05, 'bias_regularizer': 2.1039056705389854e-05, 'activity_regularizer': 1.9255761154838002e-05, 'dropout': 0.0016541448752118262}. Best is trial 0 with value: 0.9125401973724365.\u001b[0m\n"
     ]
    },
    {
     "name": "stdout",
     "output_type": "stream",
     "text": [
      "F1 Score: 0.8142330050468445; Loss=0.7401089072227478\n"
     ]
    },
    {
     "name": "stderr",
     "output_type": "stream",
     "text": [
      "2022-08-03 01:41:05.089237: I tensorflow/core/grappler/optimizers/custom_graph_optimizer_registry.cc:113] Plugin optimizer for device_type GPU is enabled.\n",
      "2022-08-03 01:41:35.977670: I tensorflow/core/grappler/optimizers/custom_graph_optimizer_registry.cc:113] Plugin optimizer for device_type GPU is enabled.\n",
      "\u001b[32m[I 2022-08-03 01:41:36,630]\u001b[0m Trial 13 finished with value: 0.8465262651443481 and parameters: {'learning_rate': 0.0039370454053292425, 'hidden_layer_size1': 777, 'hidden_layer_size2': 740, 'hidden_layer_size3': 698, 'kernel_regularizer': 2.3952948949715638e-05, 'bias_regularizer': 2.842139238212431e-05, 'activity_regularizer': 2.398965503611125e-05, 'dropout': 0.008813478442461388}. Best is trial 0 with value: 0.9125401973724365.\u001b[0m\n"
     ]
    },
    {
     "name": "stdout",
     "output_type": "stream",
     "text": [
      "F1 Score: 0.8465262651443481; Loss=0.7660545110702515\n"
     ]
    },
    {
     "name": "stderr",
     "output_type": "stream",
     "text": [
      "2022-08-03 01:41:37.919515: I tensorflow/core/grappler/optimizers/custom_graph_optimizer_registry.cc:113] Plugin optimizer for device_type GPU is enabled.\n",
      "2022-08-03 01:42:06.864612: I tensorflow/core/grappler/optimizers/custom_graph_optimizer_registry.cc:113] Plugin optimizer for device_type GPU is enabled.\n",
      "\u001b[32m[I 2022-08-03 01:42:07,481]\u001b[0m Trial 14 finished with value: 0.8525210022926331 and parameters: {'learning_rate': 0.00047361390799804774, 'hidden_layer_size1': 389, 'hidden_layer_size2': 1020, 'hidden_layer_size3': 592, 'kernel_regularizer': 4.76581012662636e-05, 'bias_regularizer': 1.3627064863923576e-05, 'activity_regularizer': 7.104723454140152e-05, 'dropout': 0.05374903298476811}. Best is trial 0 with value: 0.9125401973724365.\u001b[0m\n"
     ]
    },
    {
     "name": "stdout",
     "output_type": "stream",
     "text": [
      "F1 Score: 0.8525210022926331; Loss=0.6111623644828796\n"
     ]
    },
    {
     "name": "stderr",
     "output_type": "stream",
     "text": [
      "2022-08-03 01:42:08.538165: I tensorflow/core/grappler/optimizers/custom_graph_optimizer_registry.cc:113] Plugin optimizer for device_type GPU is enabled.\n",
      "2022-08-03 01:42:41.241692: I tensorflow/core/grappler/optimizers/custom_graph_optimizer_registry.cc:113] Plugin optimizer for device_type GPU is enabled.\n",
      "\u001b[32m[I 2022-08-03 01:42:41,794]\u001b[0m Trial 15 finished with value: 0.8912363052368164 and parameters: {'learning_rate': 0.0017624289581694146, 'hidden_layer_size1': 861, 'hidden_layer_size2': 860, 'hidden_layer_size3': 855, 'kernel_regularizer': 7.989874985976242e-05, 'bias_regularizer': 3.4302993635219403e-05, 'activity_regularizer': 2.9149100797190335e-05, 'dropout': 0.013506123130736474}. Best is trial 0 with value: 0.9125401973724365.\u001b[0m\n"
     ]
    },
    {
     "name": "stdout",
     "output_type": "stream",
     "text": [
      "F1 Score: 0.8912363052368164; Loss=0.6025751233100891\n"
     ]
    },
    {
     "name": "stderr",
     "output_type": "stream",
     "text": [
      "2022-08-03 01:42:43.268733: I tensorflow/core/grappler/optimizers/custom_graph_optimizer_registry.cc:113] Plugin optimizer for device_type GPU is enabled.\n",
      "2022-08-03 01:43:15.301432: I tensorflow/core/grappler/optimizers/custom_graph_optimizer_registry.cc:113] Plugin optimizer for device_type GPU is enabled.\n",
      "\u001b[32m[I 2022-08-03 01:43:15,888]\u001b[0m Trial 16 finished with value: 0.8992912769317627 and parameters: {'learning_rate': 0.004536273687551731, 'hidden_layer_size1': 665, 'hidden_layer_size2': 631, 'hidden_layer_size3': 624, 'kernel_regularizer': 2.5782404921940248e-05, 'bias_regularizer': 5.223378881864594e-05, 'activity_regularizer': 6.801843605446791e-05, 'dropout': 0.04282993952326525}. Best is trial 0 with value: 0.9125401973724365.\u001b[0m\n"
     ]
    },
    {
     "name": "stdout",
     "output_type": "stream",
     "text": [
      "F1 Score: 0.8992912769317627; Loss=0.5720788240432739\n"
     ]
    },
    {
     "name": "stderr",
     "output_type": "stream",
     "text": [
      "2022-08-03 01:43:17.356611: I tensorflow/core/grappler/optimizers/custom_graph_optimizer_registry.cc:113] Plugin optimizer for device_type GPU is enabled.\n",
      "2022-08-03 01:43:50.863300: I tensorflow/core/grappler/optimizers/custom_graph_optimizer_registry.cc:113] Plugin optimizer for device_type GPU is enabled.\n",
      "\u001b[32m[I 2022-08-03 01:43:51,502]\u001b[0m Trial 17 finished with value: 0.8843313455581665 and parameters: {'learning_rate': 0.002729967058672998, 'hidden_layer_size1': 895, 'hidden_layer_size2': 914, 'hidden_layer_size3': 881, 'kernel_regularizer': 3.646468865069178e-07, 'bias_regularizer': 1.0932148746610091e-05, 'activity_regularizer': 3.0136294751973497e-05, 'dropout': 0.07471015393301356}. Best is trial 0 with value: 0.9125401973724365.\u001b[0m\n"
     ]
    },
    {
     "name": "stdout",
     "output_type": "stream",
     "text": [
      "F1 Score: 0.8843313455581665; Loss=0.5507867932319641\n"
     ]
    },
    {
     "name": "stderr",
     "output_type": "stream",
     "text": [
      "2022-08-03 01:43:52.497433: I tensorflow/core/grappler/optimizers/custom_graph_optimizer_registry.cc:113] Plugin optimizer for device_type GPU is enabled.\n",
      "2022-08-03 01:44:19.293426: I tensorflow/core/grappler/optimizers/custom_graph_optimizer_registry.cc:113] Plugin optimizer for device_type GPU is enabled.\n",
      "\u001b[32m[I 2022-08-03 01:44:19,760]\u001b[0m Trial 18 finished with value: 0.836671769618988 and parameters: {'learning_rate': 0.0007573411965171805, 'hidden_layer_size1': 422, 'hidden_layer_size2': 81, 'hidden_layer_size3': 843, 'kernel_regularizer': 4.812389498445719e-05, 'bias_regularizer': 1.953599985146412e-05, 'activity_regularizer': 3.246875584227263e-06, 'dropout': 0.008630377870438192}. Best is trial 0 with value: 0.9125401973724365.\u001b[0m\n"
     ]
    },
    {
     "name": "stdout",
     "output_type": "stream",
     "text": [
      "F1 Score: 0.836671769618988; Loss=0.6938447952270508\n"
     ]
    },
    {
     "name": "stderr",
     "output_type": "stream",
     "text": [
      "2022-08-03 01:44:20.719064: I tensorflow/core/grappler/optimizers/custom_graph_optimizer_registry.cc:113] Plugin optimizer for device_type GPU is enabled.\n",
      "2022-08-03 01:44:55.394428: I tensorflow/core/grappler/optimizers/custom_graph_optimizer_registry.cc:113] Plugin optimizer for device_type GPU is enabled.\n",
      "\u001b[32m[I 2022-08-03 01:44:55,955]\u001b[0m Trial 19 finished with value: 0.8858115673065186 and parameters: {'learning_rate': 0.005384877163140159, 'hidden_layer_size1': 1005, 'hidden_layer_size2': 676, 'hidden_layer_size3': 999, 'kernel_regularizer': 2.49985221079578e-05, 'bias_regularizer': 3.290820765085977e-05, 'activity_regularizer': 4.4099763717266415e-05, 'dropout': 0.031289104993009645}. Best is trial 0 with value: 0.9125401973724365.\u001b[0m\n"
     ]
    },
    {
     "name": "stdout",
     "output_type": "stream",
     "text": [
      "F1 Score: 0.8858115673065186; Loss=0.6860513091087341\n"
     ]
    },
    {
     "name": "stderr",
     "output_type": "stream",
     "text": [
      "2022-08-03 01:44:56.933692: I tensorflow/core/grappler/optimizers/custom_graph_optimizer_registry.cc:113] Plugin optimizer for device_type GPU is enabled.\n",
      "2022-08-03 01:45:24.636704: I tensorflow/core/grappler/optimizers/custom_graph_optimizer_registry.cc:113] Plugin optimizer for device_type GPU is enabled.\n",
      "\u001b[32m[I 2022-08-03 01:45:25,193]\u001b[0m Trial 20 finished with value: 0.8848625421524048 and parameters: {'learning_rate': 0.0013871678306663477, 'hidden_layer_size1': 710, 'hidden_layer_size2': 827, 'hidden_layer_size3': 710, 'kernel_regularizer': 5.7518809820574355e-05, 'bias_regularizer': 4.037661477834335e-05, 'activity_regularizer': 1.39424658865484e-05, 'dropout': 0.06515779914547695}. Best is trial 0 with value: 0.9125401973724365.\u001b[0m\n"
     ]
    },
    {
     "name": "stdout",
     "output_type": "stream",
     "text": [
      "F1 Score: 0.8848625421524048; Loss=0.6208823919296265\n"
     ]
    },
    {
     "name": "stderr",
     "output_type": "stream",
     "text": [
      "2022-08-03 01:45:26.750235: I tensorflow/core/grappler/optimizers/custom_graph_optimizer_registry.cc:113] Plugin optimizer for device_type GPU is enabled.\n",
      "2022-08-03 01:45:58.481965: I tensorflow/core/grappler/optimizers/custom_graph_optimizer_registry.cc:113] Plugin optimizer for device_type GPU is enabled.\n",
      "\u001b[32m[I 2022-08-03 01:45:59,054]\u001b[0m Trial 21 finished with value: 0.883344292640686 and parameters: {'learning_rate': 0.0036292872440942406, 'hidden_layer_size1': 823, 'hidden_layer_size2': 185, 'hidden_layer_size3': 786, 'kernel_regularizer': 1.2181390999028387e-05, 'bias_regularizer': 3.982460735299061e-05, 'activity_regularizer': 3.3222680305190235e-05, 'dropout': 0.017794225259586877}. Best is trial 0 with value: 0.9125401973724365.\u001b[0m\n"
     ]
    },
    {
     "name": "stdout",
     "output_type": "stream",
     "text": [
      "F1 Score: 0.883344292640686; Loss=0.5092723965644836\n"
     ]
    },
    {
     "name": "stderr",
     "output_type": "stream",
     "text": [
      "2022-08-03 01:46:00.204798: I tensorflow/core/grappler/optimizers/custom_graph_optimizer_registry.cc:113] Plugin optimizer for device_type GPU is enabled.\n",
      "2022-08-03 01:46:33.065247: I tensorflow/core/grappler/optimizers/custom_graph_optimizer_registry.cc:113] Plugin optimizer for device_type GPU is enabled.\n",
      "\u001b[32m[I 2022-08-03 01:46:33,623]\u001b[0m Trial 22 finished with value: 0.9126343727111816 and parameters: {'learning_rate': 0.004516289891875287, 'hidden_layer_size1': 921, 'hidden_layer_size2': 594, 'hidden_layer_size3': 652, 'kernel_regularizer': 3.389768026361118e-05, 'bias_regularizer': 5.597770981438987e-05, 'activity_regularizer': 4.788141693515648e-05, 'dropout': 0.008682085584974013}. Best is trial 22 with value: 0.9126343727111816.\u001b[0m\n"
     ]
    },
    {
     "name": "stdout",
     "output_type": "stream",
     "text": [
      "F1 Score: 0.9126343727111816; Loss=0.52875816822052\n"
     ]
    },
    {
     "name": "stderr",
     "output_type": "stream",
     "text": [
      "2022-08-03 01:46:35.014434: I tensorflow/core/grappler/optimizers/custom_graph_optimizer_registry.cc:113] Plugin optimizer for device_type GPU is enabled.\n",
      "2022-08-03 01:47:07.443256: I tensorflow/core/grappler/optimizers/custom_graph_optimizer_registry.cc:113] Plugin optimizer for device_type GPU is enabled.\n",
      "\u001b[32m[I 2022-08-03 01:47:08,071]\u001b[0m Trial 23 finished with value: 0.8419498205184937 and parameters: {'learning_rate': 0.004730999655752816, 'hidden_layer_size1': 907, 'hidden_layer_size2': 597, 'hidden_layer_size3': 652, 'kernel_regularizer': 3.351154093663187e-05, 'bias_regularizer': 6.039295070573633e-05, 'activity_regularizer': 4.827981229453089e-05, 'dropout': 0.00027853444495598513}. Best is trial 22 with value: 0.9126343727111816.\u001b[0m\n"
     ]
    },
    {
     "name": "stdout",
     "output_type": "stream",
     "text": [
      "F1 Score: 0.8419498205184937; Loss=0.6249547004699707\n"
     ]
    },
    {
     "name": "stderr",
     "output_type": "stream",
     "text": [
      "2022-08-03 01:47:09.143869: I tensorflow/core/grappler/optimizers/custom_graph_optimizer_registry.cc:113] Plugin optimizer for device_type GPU is enabled.\n",
      "2022-08-03 01:47:40.608903: I tensorflow/core/grappler/optimizers/custom_graph_optimizer_registry.cc:113] Plugin optimizer for device_type GPU is enabled.\n",
      "\u001b[32m[I 2022-08-03 01:47:41,273]\u001b[0m Trial 24 finished with value: 0.9030874967575073 and parameters: {'learning_rate': 0.002734306278086106, 'hidden_layer_size1': 931, 'hidden_layer_size2': 598, 'hidden_layer_size3': 482, 'kernel_regularizer': 4.318703257577576e-05, 'bias_regularizer': 5.590504851717339e-05, 'activity_regularizer': 5.871395630189346e-05, 'dropout': 0.0075644638180446064}. Best is trial 22 with value: 0.9126343727111816.\u001b[0m\n"
     ]
    },
    {
     "name": "stdout",
     "output_type": "stream",
     "text": [
      "F1 Score: 0.9030874967575073; Loss=0.545356035232544\n"
     ]
    },
    {
     "name": "stderr",
     "output_type": "stream",
     "text": [
      "2022-08-03 01:47:42.715078: I tensorflow/core/grappler/optimizers/custom_graph_optimizer_registry.cc:113] Plugin optimizer for device_type GPU is enabled.\n",
      "2022-08-03 01:48:15.604714: I tensorflow/core/grappler/optimizers/custom_graph_optimizer_registry.cc:113] Plugin optimizer for device_type GPU is enabled.\n",
      "\u001b[32m[I 2022-08-03 01:48:16,384]\u001b[0m Trial 25 finished with value: 0.8457039594650269 and parameters: {'learning_rate': 0.0041485002271536, 'hidden_layer_size1': 809, 'hidden_layer_size2': 798, 'hidden_layer_size3': 900, 'kernel_regularizer': 5.344653662290719e-05, 'bias_regularizer': 7.486172975356141e-05, 'activity_regularizer': 7.670480157507037e-05, 'dropout': 0.008071791928282269}. Best is trial 22 with value: 0.9126343727111816.\u001b[0m\n"
     ]
    },
    {
     "name": "stdout",
     "output_type": "stream",
     "text": [
      "F1 Score: 0.8457039594650269; Loss=0.7504494786262512\n"
     ]
    },
    {
     "name": "stderr",
     "output_type": "stream",
     "text": [
      "2022-08-03 01:48:17.483058: I tensorflow/core/grappler/optimizers/custom_graph_optimizer_registry.cc:113] Plugin optimizer for device_type GPU is enabled.\n",
      "2022-08-03 01:48:50.963746: I tensorflow/core/grappler/optimizers/custom_graph_optimizer_registry.cc:113] Plugin optimizer for device_type GPU is enabled.\n",
      "\u001b[32m[I 2022-08-03 01:48:51,844]\u001b[0m Trial 26 finished with value: 0.9125103950500488 and parameters: {'learning_rate': 0.005564313142836201, 'hidden_layer_size1': 1017, 'hidden_layer_size2': 953, 'hidden_layer_size3': 546, 'kernel_regularizer': 2.1339833752482527e-05, 'bias_regularizer': 9.471203518118334e-05, 'activity_regularizer': 5.140468201672945e-05, 'dropout': 0.030301848390698497}. Best is trial 22 with value: 0.9126343727111816.\u001b[0m\n"
     ]
    },
    {
     "name": "stdout",
     "output_type": "stream",
     "text": [
      "F1 Score: 0.9125103950500488; Loss=0.5455687642097473\n"
     ]
    },
    {
     "name": "stderr",
     "output_type": "stream",
     "text": [
      "2022-08-03 01:48:53.183367: I tensorflow/core/grappler/optimizers/custom_graph_optimizer_registry.cc:113] Plugin optimizer for device_type GPU is enabled.\n",
      "2022-08-03 01:49:27.489004: I tensorflow/core/grappler/optimizers/custom_graph_optimizer_registry.cc:113] Plugin optimizer for device_type GPU is enabled.\n",
      "\u001b[32m[I 2022-08-03 01:49:28,246]\u001b[0m Trial 27 finished with value: 0.8777197003364563 and parameters: {'learning_rate': 0.005798585619059644, 'hidden_layer_size1': 1016, 'hidden_layer_size2': 936, 'hidden_layer_size3': 516, 'kernel_regularizer': 2.0886282623077667e-05, 'bias_regularizer': 9.21736345302073e-05, 'activity_regularizer': 5.2130617060353996e-05, 'dropout': 0.029997929524275626}. Best is trial 22 with value: 0.9126343727111816.\u001b[0m\n"
     ]
    },
    {
     "name": "stdout",
     "output_type": "stream",
     "text": [
      "F1 Score: 0.8777197003364563; Loss=0.6283122897148132\n"
     ]
    },
    {
     "name": "stderr",
     "output_type": "stream",
     "text": [
      "2022-08-03 01:49:29.398480: I tensorflow/core/grappler/optimizers/custom_graph_optimizer_registry.cc:113] Plugin optimizer for device_type GPU is enabled.\n",
      "2022-08-03 01:50:07.021357: I tensorflow/core/grappler/optimizers/custom_graph_optimizer_registry.cc:113] Plugin optimizer for device_type GPU is enabled.\n",
      "\u001b[32m[I 2022-08-03 01:50:07,607]\u001b[0m Trial 28 finished with value: 0.8871304988861084 and parameters: {'learning_rate': 0.00521085572333335, 'hidden_layer_size1': 937, 'hidden_layer_size2': 965, 'hidden_layer_size3': 208, 'kernel_regularizer': 4.079863242388779e-05, 'bias_regularizer': 9.705824655424643e-05, 'activity_regularizer': 6.967139753545466e-05, 'dropout': 0.04267969839329902}. Best is trial 22 with value: 0.9126343727111816.\u001b[0m\n"
     ]
    },
    {
     "name": "stdout",
     "output_type": "stream",
     "text": [
      "F1 Score: 0.8871304988861084; Loss=0.6787331104278564\n"
     ]
    },
    {
     "name": "stderr",
     "output_type": "stream",
     "text": [
      "2022-08-03 01:50:08.655442: I tensorflow/core/grappler/optimizers/custom_graph_optimizer_registry.cc:113] Plugin optimizer for device_type GPU is enabled.\n",
      "2022-08-03 01:50:38.285338: I tensorflow/core/grappler/optimizers/custom_graph_optimizer_registry.cc:113] Plugin optimizer for device_type GPU is enabled.\n",
      "\u001b[32m[I 2022-08-03 01:50:38,842]\u001b[0m Trial 29 finished with value: 0.9176479578018188 and parameters: {'learning_rate': 0.006120059584156001, 'hidden_layer_size1': 6, 'hidden_layer_size2': 871, 'hidden_layer_size3': 424, 'kernel_regularizer': 7.04892717757341e-07, 'bias_regularizer': 8.077172989474054e-05, 'activity_regularizer': 4.125772221139609e-05, 'dropout': 0.03581861197995262}. Best is trial 29 with value: 0.9176479578018188.\u001b[0m\n"
     ]
    },
    {
     "name": "stdout",
     "output_type": "stream",
     "text": [
      "F1 Score: 0.9176479578018188; Loss=0.4762229919433594\n"
     ]
    },
    {
     "name": "stderr",
     "output_type": "stream",
     "text": [
      "2022-08-03 01:50:40.349336: I tensorflow/core/grappler/optimizers/custom_graph_optimizer_registry.cc:113] Plugin optimizer for device_type GPU is enabled.\n",
      "2022-08-03 01:51:04.207289: I tensorflow/core/grappler/optimizers/custom_graph_optimizer_registry.cc:113] Plugin optimizer for device_type GPU is enabled.\n",
      "\u001b[32m[I 2022-08-03 01:51:04,857]\u001b[0m Trial 30 finished with value: 0.8584384918212891 and parameters: {'learning_rate': 0.006064081723347042, 'hidden_layer_size1': 49, 'hidden_layer_size2': 881, 'hidden_layer_size3': 411, 'kernel_regularizer': 7.664406261875066e-07, 'bias_regularizer': 7.774072610423788e-05, 'activity_regularizer': 4.2902078246391005e-05, 'dropout': 0.03717822687171732}. Best is trial 29 with value: 0.9176479578018188.\u001b[0m\n"
     ]
    },
    {
     "name": "stdout",
     "output_type": "stream",
     "text": [
      "F1 Score: 0.8584384918212891; Loss=0.6566678285598755\n"
     ]
    },
    {
     "name": "stderr",
     "output_type": "stream",
     "text": [
      "2022-08-03 01:51:05.769071: I tensorflow/core/grappler/optimizers/custom_graph_optimizer_registry.cc:113] Plugin optimizer for device_type GPU is enabled.\n",
      "2022-08-03 01:51:34.233631: I tensorflow/core/grappler/optimizers/custom_graph_optimizer_registry.cc:113] Plugin optimizer for device_type GPU is enabled.\n",
      "\u001b[32m[I 2022-08-03 01:51:34,856]\u001b[0m Trial 31 finished with value: 0.8256891965866089 and parameters: {'learning_rate': 0.006347779120629482, 'hidden_layer_size1': 9, 'hidden_layer_size2': 1022, 'hidden_layer_size3': 333, 'kernel_regularizer': 2.065653586761263e-05, 'bias_regularizer': 8.55108704944241e-05, 'activity_regularizer': 3.8431973848650835e-05, 'dropout': 0.04750832549482621}. Best is trial 29 with value: 0.9176479578018188.\u001b[0m\n"
     ]
    },
    {
     "name": "stdout",
     "output_type": "stream",
     "text": [
      "F1 Score: 0.8256891965866089; Loss=0.7671010494232178\n"
     ]
    },
    {
     "name": "stderr",
     "output_type": "stream",
     "text": [
      "2022-08-03 01:51:36.174631: I tensorflow/core/grappler/optimizers/custom_graph_optimizer_registry.cc:113] Plugin optimizer for device_type GPU is enabled.\n",
      "2022-08-03 01:52:02.576013: I tensorflow/core/grappler/optimizers/custom_graph_optimizer_registry.cc:113] Plugin optimizer for device_type GPU is enabled.\n",
      "\u001b[32m[I 2022-08-03 01:52:03,350]\u001b[0m Trial 32 finished with value: 0.8717578649520874 and parameters: {'learning_rate': 0.007609862379425578, 'hidden_layer_size1': 266, 'hidden_layer_size2': 906, 'hidden_layer_size3': 576, 'kernel_regularizer': 1.742815611011642e-05, 'bias_regularizer': 6.72450524529959e-05, 'activity_regularizer': 4.684170444833802e-05, 'dropout': 0.022288754696530046}. Best is trial 29 with value: 0.9176479578018188.\u001b[0m\n"
     ]
    },
    {
     "name": "stdout",
     "output_type": "stream",
     "text": [
      "F1 Score: 0.8717578649520874; Loss=0.5474801659584045\n"
     ]
    },
    {
     "name": "stderr",
     "output_type": "stream",
     "text": [
      "2022-08-03 01:52:04.427600: I tensorflow/core/grappler/optimizers/custom_graph_optimizer_registry.cc:113] Plugin optimizer for device_type GPU is enabled.\n",
      "2022-08-03 01:52:26.798147: I tensorflow/core/grappler/optimizers/custom_graph_optimizer_registry.cc:113] Plugin optimizer for device_type GPU is enabled.\n",
      "\u001b[32m[I 2022-08-03 01:52:27,551]\u001b[0m Trial 33 finished with value: 0.9058825969696045 and parameters: {'learning_rate': 0.0046102104145308775, 'hidden_layer_size1': 106, 'hidden_layer_size2': 838, 'hidden_layer_size3': 476, 'kernel_regularizer': 5.626438795789702e-06, 'bias_regularizer': 9.943601362606358e-05, 'activity_regularizer': 3.61115938022023e-05, 'dropout': 0.014896184231916847}. Best is trial 29 with value: 0.9176479578018188.\u001b[0m\n"
     ]
    },
    {
     "name": "stdout",
     "output_type": "stream",
     "text": [
      "F1 Score: 0.9058825969696045; Loss=0.5590633153915405\n"
     ]
    },
    {
     "name": "stderr",
     "output_type": "stream",
     "text": [
      "2022-08-03 01:52:28.971863: I tensorflow/core/grappler/optimizers/custom_graph_optimizer_registry.cc:113] Plugin optimizer for device_type GPU is enabled.\n",
      "2022-08-03 01:53:01.946712: I tensorflow/core/grappler/optimizers/custom_graph_optimizer_registry.cc:113] Plugin optimizer for device_type GPU is enabled.\n",
      "\u001b[32m[I 2022-08-03 01:53:02,760]\u001b[0m Trial 34 finished with value: 0.8590553998947144 and parameters: {'learning_rate': 0.005363711820235357, 'hidden_layer_size1': 967, 'hidden_layer_size2': 286, 'hidden_layer_size3': 367, 'kernel_regularizer': 3.0409965382206907e-05, 'bias_regularizer': 8.410284272374623e-05, 'activity_regularizer': 6.289979634412397e-05, 'dropout': 0.02866119389949591}. Best is trial 29 with value: 0.9176479578018188.\u001b[0m\n"
     ]
    },
    {
     "name": "stdout",
     "output_type": "stream",
     "text": [
      "F1 Score: 0.8590553998947144; Loss=0.6326072216033936\n"
     ]
    },
    {
     "name": "stderr",
     "output_type": "stream",
     "text": [
      "2022-08-03 01:53:03.885572: I tensorflow/core/grappler/optimizers/custom_graph_optimizer_registry.cc:113] Plugin optimizer for device_type GPU is enabled.\n",
      "2022-08-03 01:53:30.955011: I tensorflow/core/grappler/optimizers/custom_graph_optimizer_registry.cc:113] Plugin optimizer for device_type GPU is enabled.\n",
      "\u001b[32m[I 2022-08-03 01:53:31,741]\u001b[0m Trial 35 finished with value: 0.8811018466949463 and parameters: {'learning_rate': 0.007233986143372537, 'hidden_layer_size1': 541, 'hidden_layer_size2': 956, 'hidden_layer_size3': 683, 'kernel_regularizer': 6.249398341055756e-05, 'bias_regularizer': 9.329587878427114e-05, 'activity_regularizer': 5.3819003221453887e-05, 'dropout': 0.038955196601778305}. Best is trial 29 with value: 0.9176479578018188.\u001b[0m\n"
     ]
    },
    {
     "name": "stdout",
     "output_type": "stream",
     "text": [
      "F1 Score: 0.8811018466949463; Loss=0.631137490272522\n"
     ]
    },
    {
     "name": "stderr",
     "output_type": "stream",
     "text": [
      "2022-08-03 01:53:32.767379: I tensorflow/core/grappler/optimizers/custom_graph_optimizer_registry.cc:113] Plugin optimizer for device_type GPU is enabled.\n",
      "2022-08-03 01:53:58.396283: I tensorflow/core/grappler/optimizers/custom_graph_optimizer_registry.cc:113] Plugin optimizer for device_type GPU is enabled.\n",
      "\u001b[32m[I 2022-08-03 01:53:59,337]\u001b[0m Trial 36 finished with value: 0.8869667649269104 and parameters: {'learning_rate': 0.007805479692202874, 'hidden_layer_size1': 156, 'hidden_layer_size2': 420, 'hidden_layer_size3': 244, 'kernel_regularizer': 1.585431002988847e-05, 'bias_regularizer': 7.106631849211528e-05, 'activity_regularizer': 4.092909516656933e-05, 'dropout': 0.034057029123669244}. Best is trial 29 with value: 0.9176479578018188.\u001b[0m\n"
     ]
    },
    {
     "name": "stdout",
     "output_type": "stream",
     "text": [
      "F1 Score: 0.8869667649269104; Loss=0.46927541494369507\n"
     ]
    },
    {
     "name": "stderr",
     "output_type": "stream",
     "text": [
      "2022-08-03 01:54:00.589187: I tensorflow/core/grappler/optimizers/custom_graph_optimizer_registry.cc:113] Plugin optimizer for device_type GPU is enabled.\n",
      "2022-08-03 01:54:38.409449: I tensorflow/core/grappler/optimizers/custom_graph_optimizer_registry.cc:113] Plugin optimizer for device_type GPU is enabled.\n",
      "\u001b[32m[I 2022-08-03 01:54:39,235]\u001b[0m Trial 37 finished with value: 0.9087700843811035 and parameters: {'learning_rate': 0.006360559192554152, 'hidden_layer_size1': 1022, 'hidden_layer_size2': 807, 'hidden_layer_size3': 540, 'kernel_regularizer': 6.042841546360711e-06, 'bias_regularizer': 8.92198683245421e-05, 'activity_regularizer': 6.194693024650291e-05, 'dropout': 0.016793213517501893}. Best is trial 29 with value: 0.9176479578018188.\u001b[0m\n"
     ]
    },
    {
     "name": "stdout",
     "output_type": "stream",
     "text": [
      "F1 Score: 0.9087700843811035; Loss=0.5343448519706726\n"
     ]
    },
    {
     "name": "stderr",
     "output_type": "stream",
     "text": [
      "2022-08-03 01:54:40.178652: I tensorflow/core/grappler/optimizers/custom_graph_optimizer_registry.cc:113] Plugin optimizer for device_type GPU is enabled.\n",
      "2022-08-03 01:55:17.152262: I tensorflow/core/grappler/optimizers/custom_graph_optimizer_registry.cc:113] Plugin optimizer for device_type GPU is enabled.\n",
      "\u001b[32m[I 2022-08-03 01:55:17,929]\u001b[0m Trial 38 finished with value: 0.8769218921661377 and parameters: {'learning_rate': 0.004096575762214373, 'hidden_layer_size1': 502, 'hidden_layer_size2': 981, 'hidden_layer_size3': 619, 'kernel_regularizer': 3.738936621777674e-05, 'bias_regularizer': 8.347890906387088e-05, 'activity_regularizer': 7.787529540231559e-05, 'dropout': 0.09885848575969698}. Best is trial 29 with value: 0.9176479578018188.\u001b[0m\n"
     ]
    },
    {
     "name": "stdout",
     "output_type": "stream",
     "text": [
      "F1 Score: 0.8769218921661377; Loss=0.5387108325958252\n"
     ]
    },
    {
     "name": "stderr",
     "output_type": "stream",
     "text": [
      "2022-08-03 01:55:19.850202: I tensorflow/core/grappler/optimizers/custom_graph_optimizer_registry.cc:113] Plugin optimizer for device_type GPU is enabled.\n",
      "2022-08-03 01:55:49.035788: I tensorflow/core/grappler/optimizers/custom_graph_optimizer_registry.cc:113] Plugin optimizer for device_type GPU is enabled.\n",
      "\u001b[32m[I 2022-08-03 01:55:50,018]\u001b[0m Trial 39 finished with value: 0.8918083906173706 and parameters: {'learning_rate': 0.008095809600484154, 'hidden_layer_size1': 736, 'hidden_layer_size2': 279, 'hidden_layer_size3': 415, 'kernel_regularizer': 9.3203645209411e-06, 'bias_regularizer': 5.7584366270286286e-05, 'activity_regularizer': 4.675275606315627e-05, 'dropout': 0.021084475466755986}. Best is trial 29 with value: 0.9176479578018188.\u001b[0m\n"
     ]
    },
    {
     "name": "stdout",
     "output_type": "stream",
     "text": [
      "F1 Score: 0.8918083906173706; Loss=0.5156732201576233\n"
     ]
    },
    {
     "name": "stderr",
     "output_type": "stream",
     "text": [
      "2022-08-03 01:55:50.902566: I tensorflow/core/grappler/optimizers/custom_graph_optimizer_registry.cc:113] Plugin optimizer for device_type GPU is enabled.\n",
      "2022-08-03 01:56:17.248378: I tensorflow/core/grappler/optimizers/custom_graph_optimizer_registry.cc:113] Plugin optimizer for device_type GPU is enabled.\n",
      "\u001b[32m[I 2022-08-03 01:56:18,142]\u001b[0m Trial 40 finished with value: 0.8085407018661499 and parameters: {'learning_rate': 0.005000091264700382, 'hidden_layer_size1': 273, 'hidden_layer_size2': 15, 'hidden_layer_size3': 255, 'kernel_regularizer': 9.95388639758878e-05, 'bias_regularizer': 6.572750616012963e-05, 'activity_regularizer': 5.573566401006565e-05, 'dropout': 0.062114235008335045}. Best is trial 29 with value: 0.9176479578018188.\u001b[0m\n"
     ]
    },
    {
     "name": "stdout",
     "output_type": "stream",
     "text": [
      "F1 Score: 0.8085407018661499; Loss=0.8262576460838318\n"
     ]
    },
    {
     "name": "stderr",
     "output_type": "stream",
     "text": [
      "2022-08-03 01:56:19.448851: I tensorflow/core/grappler/optimizers/custom_graph_optimizer_registry.cc:113] Plugin optimizer for device_type GPU is enabled.\n"
     ]
    }
   ],
   "source": [
    "study_nn_3 = optuna.create_study(direction='maximize')\n",
    "study_nn_3.optimize(objective_3_layer, n_trials=200)\n",
    "\n",
    "print('Number of finished trials:', len(study_nn_3.trials))\n",
    "print('Best trial:', study_nn_3.best_trial.params)"
   ]
  },
  {
   "cell_type": "markdown",
   "id": "6f768ade-34ba-48b4-9553-d89ece65c37c",
   "metadata": {},
   "source": [
    "* Trial 29 finished with value: 0.9176479578018188 and parameters: {'learning_rate': 0.006120059584156001, 'hidden_layer_size1': 6, 'hidden_layer_size2': 871, 'hidden_layer_size3': 424, 'kernel_regularizer': 7.04892717757341e-07, 'bias_regularizer': 8.077172989474054e-05, 'activity_regularizer': 4.125772221139609e-05, 'dropout': 0.03581861197995262}. Best is trial 29 with value: 0.9176479578018188."
   ]
  },
  {
   "cell_type": "code",
   "execution_count": null,
   "id": "26f240a2-4e1b-4106-a93f-0bd728f52429",
   "metadata": {},
   "outputs": [],
   "source": []
  }
 ],
 "metadata": {
  "kernelspec": {
   "display_name": "Python 3 (ipykernel)",
   "language": "python",
   "name": "python3"
  },
  "language_info": {
   "codemirror_mode": {
    "name": "ipython",
    "version": 3
   },
   "file_extension": ".py",
   "mimetype": "text/x-python",
   "name": "python",
   "nbconvert_exporter": "python",
   "pygments_lexer": "ipython3",
   "version": "3.10.5"
  }
 },
 "nbformat": 4,
 "nbformat_minor": 5
}
