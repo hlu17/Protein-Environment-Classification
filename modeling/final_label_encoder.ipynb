{
 "cells": [
  {
   "cell_type": "markdown",
   "id": "25b90a73-b94f-4209-8331-108c8828e4f1",
   "metadata": {},
   "source": [
    "# Label Encoder\n",
    "\n",
    "This script creates a label encoder from the training dataset (includes all environments) and saves it as a .joblib file in the model_joblibs folder to use in creating the xgb model, neural network, and for model comoparison."
   ]
  },
  {
   "cell_type": "code",
   "execution_count": 1,
   "id": "e91f0d0d-8027-4693-9bf9-a15d350247f0",
   "metadata": {},
   "outputs": [],
   "source": [
    "import os\n",
    "import sys\n",
    "module_path = os.path.abspath(os.path.join('..'))\n",
    "if module_path not in sys.path:\n",
    "    sys.path.append(module_path)\n",
    "\n",
    "from helpers import (get_training_labels, \n",
    "                     get_test_labels)\n",
    "import pandas as pd\n",
    "import numpy as np\n",
    "from joblib import dump\n",
    "from sklearn.preprocessing import LabelEncoder"
   ]
  },
  {
   "cell_type": "code",
   "execution_count": 2,
   "id": "1d750b83-3f22-4087-999d-4815645828aa",
   "metadata": {},
   "outputs": [
    {
     "name": "stdout",
     "output_type": "stream",
     "text": [
      "Getting all training labels from 'metagenome_classification.db'...\n"
     ]
    },
    {
     "data": {
      "text/plain": [
       "['../model_joblibs/final_labelEncoder.joblib']"
      ]
     },
     "execution_count": 2,
     "metadata": {},
     "output_type": "execute_result"
    }
   ],
   "source": [
    "y_train = get_training_labels()\n",
    "\n",
    "##### encode labels for all datasets \n",
    "le = LabelEncoder()\n",
    "le.fit(y_train['EMPO_3'])\n",
    "\n",
    "# to save encoder \n",
    "dump(le,'../model_joblibs/final_labelEncoder.joblib')"
   ]
  },
  {
   "cell_type": "code",
   "execution_count": null,
   "id": "0f5c81ab-3a2f-4e4f-9584-540cbd22f9f2",
   "metadata": {},
   "outputs": [],
   "source": []
  }
 ],
 "metadata": {
  "kernelspec": {
   "display_name": "Python 3 (ipykernel)",
   "language": "python",
   "name": "python3"
  },
  "language_info": {
   "codemirror_mode": {
    "name": "ipython",
    "version": 3
   },
   "file_extension": ".py",
   "mimetype": "text/x-python",
   "name": "python",
   "nbconvert_exporter": "python",
   "pygments_lexer": "ipython3",
   "version": "3.10.5"
  }
 },
 "nbformat": 4,
 "nbformat_minor": 5
}
