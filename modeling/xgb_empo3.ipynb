{
 "cells": [
  {
   "cell_type": "markdown",
   "id": "3d4965eb",
   "metadata": {},
   "source": [
    "# Example modeling process"
   ]
  },
  {
   "cell_type": "markdown",
   "id": "10664d32",
   "metadata": {},
   "source": [
    "### Imports"
   ]
  },
  {
   "cell_type": "code",
   "execution_count": 1,
   "id": "56cae12f",
   "metadata": {},
   "outputs": [
    {
     "name": "stderr",
     "output_type": "stream",
     "text": [
      "/Users/Sophie/opt/anaconda3/envs/xgb/lib/python3.10/site-packages/xgboost/compat.py:36: FutureWarning: pandas.Int64Index is deprecated and will be removed from pandas in a future version. Use pandas.Index with the appropriate dtype instead.\n",
      "  from pandas import MultiIndex, Int64Index\n"
     ]
    }
   ],
   "source": [
    "import os\n",
    "import sys\n",
    "module_path = os.path.abspath(os.path.join('..'))\n",
    "if module_path not in sys.path:\n",
    "    sys.path.append(module_path)\n",
    "\n",
    "from helpers import (get_training_observations, \n",
    "                     get_training_labels, \n",
    "                     get_protein_proportions)\n",
    "import pandas as pd\n",
    "import numpy as np\n",
    "from joblib import dump\n",
    "from joblib import load\n",
    "\n",
    "# Model specific imports\n",
    "from sklearn.model_selection import train_test_split\n",
    "from sklearn.decomposition import TruncatedSVD\n",
    "from sklearn.preprocessing import LabelEncoder\n",
    "from sklearn.metrics import accuracy_score\n",
    "import xgboost as xgb\n",
    "from xgboost import plot_tree\n",
    "import matplotlib.pyplot as plt\n",
    "import time"
   ]
  },
  {
   "cell_type": "markdown",
   "id": "02264c03",
   "metadata": {},
   "source": [
    "### Load training data and labels"
   ]
  },
  {
   "cell_type": "code",
   "execution_count": 2,
   "id": "426cf755",
   "metadata": {},
   "outputs": [
    {
     "name": "stdout",
     "output_type": "stream",
     "text": [
      "Getting all training observations from 'metagenome_classification.db'...\n",
      "Getting all training labels from 'metagenome_classification.db'...\n"
     ]
    }
   ],
   "source": [
    "x_train = get_training_observations()\n",
    "y_train = get_training_labels()\n",
    "le = load('../model_joblibs/xgb_labelEncoder.joblib')"
   ]
  },
  {
   "cell_type": "code",
   "execution_count": 5,
   "id": "6f0907b5",
   "metadata": {},
   "outputs": [
    {
     "data": {
      "text/html": [
       "<div>\n",
       "<style scoped>\n",
       "    .dataframe tbody tr th:only-of-type {\n",
       "        vertical-align: middle;\n",
       "    }\n",
       "\n",
       "    .dataframe tbody tr th {\n",
       "        vertical-align: top;\n",
       "    }\n",
       "\n",
       "    .dataframe thead th {\n",
       "        text-align: right;\n",
       "    }\n",
       "</style>\n",
       "<table border=\"1\" class=\"dataframe\">\n",
       "  <thead>\n",
       "    <tr style=\"text-align: right;\">\n",
       "      <th>index</th>\n",
       "      <th>PF00001.19</th>\n",
       "      <th>PF00002.22</th>\n",
       "      <th>PF00003.20</th>\n",
       "      <th>PF00004.27</th>\n",
       "      <th>PF00005.25</th>\n",
       "      <th>PF00006.23</th>\n",
       "      <th>PF00007.20</th>\n",
       "      <th>PF00008.25</th>\n",
       "      <th>PF00009.25</th>\n",
       "      <th>PF00010.24</th>\n",
       "      <th>...</th>\n",
       "      <th>PF17216.1</th>\n",
       "      <th>PF17217.1</th>\n",
       "      <th>PF17218.1</th>\n",
       "      <th>PF17219.1</th>\n",
       "      <th>PF17220.1</th>\n",
       "      <th>PF17221.1</th>\n",
       "      <th>PF17222.1</th>\n",
       "      <th>PF17223.1</th>\n",
       "      <th>PF17224.1</th>\n",
       "      <th>PF17225.1</th>\n",
       "    </tr>\n",
       "  </thead>\n",
       "  <tbody>\n",
       "    <tr>\n",
       "      <th>0</th>\n",
       "      <td>0.000000e+00</td>\n",
       "      <td>0.000000e+00</td>\n",
       "      <td>0.0</td>\n",
       "      <td>0.004020</td>\n",
       "      <td>0.006243</td>\n",
       "      <td>0.001039</td>\n",
       "      <td>0.0</td>\n",
       "      <td>0.000000</td>\n",
       "      <td>0.003265</td>\n",
       "      <td>0.000000</td>\n",
       "      <td>...</td>\n",
       "      <td>0.0</td>\n",
       "      <td>0.0</td>\n",
       "      <td>0.0</td>\n",
       "      <td>0.0</td>\n",
       "      <td>0.0</td>\n",
       "      <td>0.0</td>\n",
       "      <td>0.0</td>\n",
       "      <td>0.0</td>\n",
       "      <td>0.0</td>\n",
       "      <td>0.0</td>\n",
       "    </tr>\n",
       "    <tr>\n",
       "      <th>1</th>\n",
       "      <td>0.000000e+00</td>\n",
       "      <td>0.000000e+00</td>\n",
       "      <td>0.0</td>\n",
       "      <td>0.003575</td>\n",
       "      <td>0.013739</td>\n",
       "      <td>0.001026</td>\n",
       "      <td>0.0</td>\n",
       "      <td>0.000000</td>\n",
       "      <td>0.002235</td>\n",
       "      <td>0.000007</td>\n",
       "      <td>...</td>\n",
       "      <td>0.0</td>\n",
       "      <td>0.0</td>\n",
       "      <td>0.0</td>\n",
       "      <td>0.0</td>\n",
       "      <td>0.0</td>\n",
       "      <td>0.0</td>\n",
       "      <td>0.0</td>\n",
       "      <td>0.0</td>\n",
       "      <td>0.0</td>\n",
       "      <td>0.0</td>\n",
       "    </tr>\n",
       "    <tr>\n",
       "      <th>2</th>\n",
       "      <td>4.376880e-07</td>\n",
       "      <td>2.188440e-07</td>\n",
       "      <td>0.0</td>\n",
       "      <td>0.001619</td>\n",
       "      <td>0.016218</td>\n",
       "      <td>0.000916</td>\n",
       "      <td>0.0</td>\n",
       "      <td>0.000002</td>\n",
       "      <td>0.001711</td>\n",
       "      <td>0.000000</td>\n",
       "      <td>...</td>\n",
       "      <td>0.0</td>\n",
       "      <td>0.0</td>\n",
       "      <td>0.0</td>\n",
       "      <td>0.0</td>\n",
       "      <td>0.0</td>\n",
       "      <td>0.0</td>\n",
       "      <td>0.0</td>\n",
       "      <td>0.0</td>\n",
       "      <td>0.0</td>\n",
       "      <td>0.0</td>\n",
       "    </tr>\n",
       "    <tr>\n",
       "      <th>3</th>\n",
       "      <td>0.000000e+00</td>\n",
       "      <td>0.000000e+00</td>\n",
       "      <td>0.0</td>\n",
       "      <td>0.002737</td>\n",
       "      <td>0.019874</td>\n",
       "      <td>0.001785</td>\n",
       "      <td>0.0</td>\n",
       "      <td>0.000000</td>\n",
       "      <td>0.003570</td>\n",
       "      <td>0.000000</td>\n",
       "      <td>...</td>\n",
       "      <td>0.0</td>\n",
       "      <td>0.0</td>\n",
       "      <td>0.0</td>\n",
       "      <td>0.0</td>\n",
       "      <td>0.0</td>\n",
       "      <td>0.0</td>\n",
       "      <td>0.0</td>\n",
       "      <td>0.0</td>\n",
       "      <td>0.0</td>\n",
       "      <td>0.0</td>\n",
       "    </tr>\n",
       "    <tr>\n",
       "      <th>4</th>\n",
       "      <td>0.000000e+00</td>\n",
       "      <td>0.000000e+00</td>\n",
       "      <td>0.0</td>\n",
       "      <td>0.001992</td>\n",
       "      <td>0.012389</td>\n",
       "      <td>0.001154</td>\n",
       "      <td>0.0</td>\n",
       "      <td>0.000013</td>\n",
       "      <td>0.002286</td>\n",
       "      <td>0.000000</td>\n",
       "      <td>...</td>\n",
       "      <td>0.0</td>\n",
       "      <td>0.0</td>\n",
       "      <td>0.0</td>\n",
       "      <td>0.0</td>\n",
       "      <td>0.0</td>\n",
       "      <td>0.0</td>\n",
       "      <td>0.0</td>\n",
       "      <td>0.0</td>\n",
       "      <td>0.0</td>\n",
       "      <td>0.0</td>\n",
       "    </tr>\n",
       "    <tr>\n",
       "      <th>5</th>\n",
       "      <td>0.000000e+00</td>\n",
       "      <td>0.000000e+00</td>\n",
       "      <td>0.0</td>\n",
       "      <td>0.001684</td>\n",
       "      <td>0.016435</td>\n",
       "      <td>0.000931</td>\n",
       "      <td>0.0</td>\n",
       "      <td>0.000000</td>\n",
       "      <td>0.001806</td>\n",
       "      <td>0.000000</td>\n",
       "      <td>...</td>\n",
       "      <td>0.0</td>\n",
       "      <td>0.0</td>\n",
       "      <td>0.0</td>\n",
       "      <td>0.0</td>\n",
       "      <td>0.0</td>\n",
       "      <td>0.0</td>\n",
       "      <td>0.0</td>\n",
       "      <td>0.0</td>\n",
       "      <td>0.0</td>\n",
       "      <td>0.0</td>\n",
       "    </tr>\n",
       "    <tr>\n",
       "      <th>6</th>\n",
       "      <td>0.000000e+00</td>\n",
       "      <td>0.000000e+00</td>\n",
       "      <td>0.0</td>\n",
       "      <td>0.001404</td>\n",
       "      <td>0.023274</td>\n",
       "      <td>0.000845</td>\n",
       "      <td>0.0</td>\n",
       "      <td>0.000000</td>\n",
       "      <td>0.001497</td>\n",
       "      <td>0.000000</td>\n",
       "      <td>...</td>\n",
       "      <td>0.0</td>\n",
       "      <td>0.0</td>\n",
       "      <td>0.0</td>\n",
       "      <td>0.0</td>\n",
       "      <td>0.0</td>\n",
       "      <td>0.0</td>\n",
       "      <td>0.0</td>\n",
       "      <td>0.0</td>\n",
       "      <td>0.0</td>\n",
       "      <td>0.0</td>\n",
       "    </tr>\n",
       "    <tr>\n",
       "      <th>7</th>\n",
       "      <td>0.000000e+00</td>\n",
       "      <td>0.000000e+00</td>\n",
       "      <td>0.0</td>\n",
       "      <td>0.002301</td>\n",
       "      <td>0.015752</td>\n",
       "      <td>0.000925</td>\n",
       "      <td>0.0</td>\n",
       "      <td>0.000000</td>\n",
       "      <td>0.001843</td>\n",
       "      <td>0.000000</td>\n",
       "      <td>...</td>\n",
       "      <td>0.0</td>\n",
       "      <td>0.0</td>\n",
       "      <td>0.0</td>\n",
       "      <td>0.0</td>\n",
       "      <td>0.0</td>\n",
       "      <td>0.0</td>\n",
       "      <td>0.0</td>\n",
       "      <td>0.0</td>\n",
       "      <td>0.0</td>\n",
       "      <td>0.0</td>\n",
       "    </tr>\n",
       "    <tr>\n",
       "      <th>8</th>\n",
       "      <td>0.000000e+00</td>\n",
       "      <td>0.000000e+00</td>\n",
       "      <td>0.0</td>\n",
       "      <td>0.001885</td>\n",
       "      <td>0.014797</td>\n",
       "      <td>0.001012</td>\n",
       "      <td>0.0</td>\n",
       "      <td>0.000000</td>\n",
       "      <td>0.001689</td>\n",
       "      <td>0.000000</td>\n",
       "      <td>...</td>\n",
       "      <td>0.0</td>\n",
       "      <td>0.0</td>\n",
       "      <td>0.0</td>\n",
       "      <td>0.0</td>\n",
       "      <td>0.0</td>\n",
       "      <td>0.0</td>\n",
       "      <td>0.0</td>\n",
       "      <td>0.0</td>\n",
       "      <td>0.0</td>\n",
       "      <td>0.0</td>\n",
       "    </tr>\n",
       "    <tr>\n",
       "      <th>9</th>\n",
       "      <td>0.000000e+00</td>\n",
       "      <td>0.000000e+00</td>\n",
       "      <td>0.0</td>\n",
       "      <td>0.004574</td>\n",
       "      <td>0.013601</td>\n",
       "      <td>0.000995</td>\n",
       "      <td>0.0</td>\n",
       "      <td>0.000000</td>\n",
       "      <td>0.002402</td>\n",
       "      <td>0.000000</td>\n",
       "      <td>...</td>\n",
       "      <td>0.0</td>\n",
       "      <td>0.0</td>\n",
       "      <td>0.0</td>\n",
       "      <td>0.0</td>\n",
       "      <td>0.0</td>\n",
       "      <td>0.0</td>\n",
       "      <td>0.0</td>\n",
       "      <td>0.0</td>\n",
       "      <td>0.0</td>\n",
       "      <td>0.0</td>\n",
       "    </tr>\n",
       "  </tbody>\n",
       "</table>\n",
       "<p>10 rows × 16306 columns</p>\n",
       "</div>"
      ],
      "text/plain": [
       "index    PF00001.19    PF00002.22  PF00003.20  PF00004.27  PF00005.25  \\\n",
       "0      0.000000e+00  0.000000e+00         0.0    0.004020    0.006243   \n",
       "1      0.000000e+00  0.000000e+00         0.0    0.003575    0.013739   \n",
       "2      4.376880e-07  2.188440e-07         0.0    0.001619    0.016218   \n",
       "3      0.000000e+00  0.000000e+00         0.0    0.002737    0.019874   \n",
       "4      0.000000e+00  0.000000e+00         0.0    0.001992    0.012389   \n",
       "5      0.000000e+00  0.000000e+00         0.0    0.001684    0.016435   \n",
       "6      0.000000e+00  0.000000e+00         0.0    0.001404    0.023274   \n",
       "7      0.000000e+00  0.000000e+00         0.0    0.002301    0.015752   \n",
       "8      0.000000e+00  0.000000e+00         0.0    0.001885    0.014797   \n",
       "9      0.000000e+00  0.000000e+00         0.0    0.004574    0.013601   \n",
       "\n",
       "index  PF00006.23  PF00007.20  PF00008.25  PF00009.25  PF00010.24  ...  \\\n",
       "0        0.001039         0.0    0.000000    0.003265    0.000000  ...   \n",
       "1        0.001026         0.0    0.000000    0.002235    0.000007  ...   \n",
       "2        0.000916         0.0    0.000002    0.001711    0.000000  ...   \n",
       "3        0.001785         0.0    0.000000    0.003570    0.000000  ...   \n",
       "4        0.001154         0.0    0.000013    0.002286    0.000000  ...   \n",
       "5        0.000931         0.0    0.000000    0.001806    0.000000  ...   \n",
       "6        0.000845         0.0    0.000000    0.001497    0.000000  ...   \n",
       "7        0.000925         0.0    0.000000    0.001843    0.000000  ...   \n",
       "8        0.001012         0.0    0.000000    0.001689    0.000000  ...   \n",
       "9        0.000995         0.0    0.000000    0.002402    0.000000  ...   \n",
       "\n",
       "index  PF17216.1  PF17217.1  PF17218.1  PF17219.1  PF17220.1  PF17221.1  \\\n",
       "0            0.0        0.0        0.0        0.0        0.0        0.0   \n",
       "1            0.0        0.0        0.0        0.0        0.0        0.0   \n",
       "2            0.0        0.0        0.0        0.0        0.0        0.0   \n",
       "3            0.0        0.0        0.0        0.0        0.0        0.0   \n",
       "4            0.0        0.0        0.0        0.0        0.0        0.0   \n",
       "5            0.0        0.0        0.0        0.0        0.0        0.0   \n",
       "6            0.0        0.0        0.0        0.0        0.0        0.0   \n",
       "7            0.0        0.0        0.0        0.0        0.0        0.0   \n",
       "8            0.0        0.0        0.0        0.0        0.0        0.0   \n",
       "9            0.0        0.0        0.0        0.0        0.0        0.0   \n",
       "\n",
       "index  PF17222.1  PF17223.1  PF17224.1  PF17225.1  \n",
       "0            0.0        0.0        0.0        0.0  \n",
       "1            0.0        0.0        0.0        0.0  \n",
       "2            0.0        0.0        0.0        0.0  \n",
       "3            0.0        0.0        0.0        0.0  \n",
       "4            0.0        0.0        0.0        0.0  \n",
       "5            0.0        0.0        0.0        0.0  \n",
       "6            0.0        0.0        0.0        0.0  \n",
       "7            0.0        0.0        0.0        0.0  \n",
       "8            0.0        0.0        0.0        0.0  \n",
       "9            0.0        0.0        0.0        0.0  \n",
       "\n",
       "[10 rows x 16306 columns]"
      ]
     },
     "execution_count": 5,
     "metadata": {},
     "output_type": "execute_result"
    }
   ],
   "source": [
    "x_train.head(10)"
   ]
  },
  {
   "cell_type": "code",
   "execution_count": 6,
   "id": "dc49d270",
   "metadata": {},
   "outputs": [
    {
     "data": {
      "text/html": [
       "<div>\n",
       "<style scoped>\n",
       "    .dataframe tbody tr th:only-of-type {\n",
       "        vertical-align: middle;\n",
       "    }\n",
       "\n",
       "    .dataframe tbody tr th {\n",
       "        vertical-align: top;\n",
       "    }\n",
       "\n",
       "    .dataframe thead th {\n",
       "        text-align: right;\n",
       "    }\n",
       "</style>\n",
       "<table border=\"1\" class=\"dataframe\">\n",
       "  <thead>\n",
       "    <tr style=\"text-align: right;\">\n",
       "      <th>index</th>\n",
       "      <th>EMPO_1</th>\n",
       "      <th>EMPO_2</th>\n",
       "      <th>EMPO_3</th>\n",
       "    </tr>\n",
       "  </thead>\n",
       "  <tbody>\n",
       "    <tr>\n",
       "      <th>0</th>\n",
       "      <td>Free-living</td>\n",
       "      <td>Saline</td>\n",
       "      <td>Hypersaline (saline)</td>\n",
       "    </tr>\n",
       "    <tr>\n",
       "      <th>1</th>\n",
       "      <td>Free-living</td>\n",
       "      <td>Saline</td>\n",
       "      <td>Water (saline)</td>\n",
       "    </tr>\n",
       "    <tr>\n",
       "      <th>2</th>\n",
       "      <td>Host-associated</td>\n",
       "      <td>Plant</td>\n",
       "      <td>Plant rhizosphere</td>\n",
       "    </tr>\n",
       "    <tr>\n",
       "      <th>3</th>\n",
       "      <td>Free-living</td>\n",
       "      <td>Non-saline</td>\n",
       "      <td>Soil (non-saline)</td>\n",
       "    </tr>\n",
       "    <tr>\n",
       "      <th>4</th>\n",
       "      <td>Free-living</td>\n",
       "      <td>Saline</td>\n",
       "      <td>Water (saline)</td>\n",
       "    </tr>\n",
       "  </tbody>\n",
       "</table>\n",
       "</div>"
      ],
      "text/plain": [
       "index           EMPO_1      EMPO_2                EMPO_3\n",
       "0          Free-living      Saline  Hypersaline (saline)\n",
       "1          Free-living      Saline        Water (saline)\n",
       "2      Host-associated       Plant     Plant rhizosphere\n",
       "3          Free-living  Non-saline     Soil (non-saline)\n",
       "4          Free-living      Saline        Water (saline)"
      ]
     },
     "execution_count": 6,
     "metadata": {},
     "output_type": "execute_result"
    }
   ],
   "source": [
    "y_train.head()"
   ]
  },
  {
   "cell_type": "code",
   "execution_count": 18,
   "id": "02b480db",
   "metadata": {},
   "outputs": [
    {
     "data": {
      "text/plain": [
       "16306"
      ]
     },
     "execution_count": 18,
     "metadata": {},
     "output_type": "execute_result"
    }
   ],
   "source": [
    "len(x_train.columns)"
   ]
  },
  {
   "cell_type": "markdown",
   "id": "8f397441",
   "metadata": {},
   "source": [
    "### Data manipulation\n",
    "Validation splits, dimensionality reduction, etc"
   ]
  },
  {
   "cell_type": "code",
   "execution_count": 3,
   "id": "6008be0e",
   "metadata": {},
   "outputs": [
    {
     "data": {
      "text/plain": [
       "0     3\n",
       "1    14\n",
       "2     5\n",
       "3     9\n",
       "4    14\n",
       "Name: EMPO_3, dtype: int64"
      ]
     },
     "execution_count": 3,
     "metadata": {},
     "output_type": "execute_result"
    }
   ],
   "source": [
    "y_train['EMPO_3'] = le.transform(y_train['EMPO_3'])\n",
    "y_train['EMPO_3'].head()"
   ]
  },
  {
   "cell_type": "code",
   "execution_count": 4,
   "id": "9422cedc",
   "metadata": {},
   "outputs": [
    {
     "name": "stderr",
     "output_type": "stream",
     "text": [
      "/Users/Sophie/opt/anaconda3/envs/xgb/lib/python3.10/site-packages/xgboost/data.py:250: FutureWarning: pandas.Int64Index is deprecated and will be removed from pandas in a future version. Use pandas.Index with the appropriate dtype instead.\n",
      "  elif isinstance(data.columns, (pd.Int64Index, pd.RangeIndex)):\n"
     ]
    }
   ],
   "source": [
    "# Split into train/validation if not CV\n",
    "x_tr, x_val, y_tr, y_val = train_test_split(x_train, y_train['EMPO_3'], test_size=0.2, random_state=0)\n",
    "# for hyperparameter tuning later\n",
    "dtrain = xgb.DMatrix(x_tr, label=y_tr)\n",
    "dval = xgb.DMatrix(x_val, label=y_val)"
   ]
  },
  {
   "cell_type": "markdown",
   "id": "a2d3f9c8",
   "metadata": {},
   "source": [
    "## Baseline"
   ]
  },
  {
   "cell_type": "code",
   "execution_count": 22,
   "id": "1c17bdb7",
   "metadata": {},
   "outputs": [],
   "source": [
    "# function to plot the logloss\n",
    "def eval_graphs(model):\n",
    "    results = model.evals_result()\n",
    "    x_arr = np.arange(len(results['validation_0']['mlogloss']))+1\n",
    "    fig = plt.figure(figsize=(12, 4))\n",
    "    ax = fig.add_subplot(1, 2, 1)\n",
    "    ax.plot(x_arr, results['validation_0']['mlogloss'], label='Train loss')\n",
    "    ax.plot(x_arr, results['validation_1']['mlogloss'], label='Validation loss')\n",
    "    ax.legend(fontsize=15)\n",
    "    ax.set_xlabel('Epoch', size=15)\n",
    "    ax.set_ylabel('Loss', size=15)\n",
    "    plt.title('Model LogLoss Curve')\n",
    "    plt.show()\n",
    "    \n",
    "def eval_score(model, x_tr=x_tr, y_tr=y_tr, eval_set=[(x_tr, y_tr), (x_val, y_val)], x_true=x_val, y_true=y_val):\n",
    "    start = time.time()\n",
    "    model.fit(x_tr,y_tr,\n",
    "              eval_set=eval_set,\n",
    "              early_stopping_rounds=10,\n",
    "              verbose=0)\n",
    "    stop = time.time()\n",
    "    # predict validation data\n",
    "    y_pred = model.predict(x_true)\n",
    "    # print accuracy score \n",
    "    print(\"Training Set Accuracy Score on EMPO 3: \", accuracy_score(y_true, y_pred))\n",
    "    # print model training time\n",
    "    print(f\"Baseline Model Training Time: {stop-start}s\")\n",
    "    return y_pred"
   ]
  },
  {
   "cell_type": "code",
   "execution_count": 27,
   "id": "d9ef2547",
   "metadata": {},
   "outputs": [
    {
     "name": "stderr",
     "output_type": "stream",
     "text": [
      "/Users/Sophie/opt/anaconda3/envs/xgb/lib/python3.10/site-packages/xgboost/data.py:250: FutureWarning: pandas.Int64Index is deprecated and will be removed from pandas in a future version. Use pandas.Index with the appropriate dtype instead.\n",
      "  elif isinstance(data.columns, (pd.Int64Index, pd.RangeIndex)):\n"
     ]
    },
    {
     "name": "stdout",
     "output_type": "stream",
     "text": [
      "Training Set Accuracy Score on EMPO 3:  0.932\n",
      "Baseline Model Training Time: 1687.4736032485962s\n"
     ]
    },
    {
     "data": {
      "image/png": "[encoded data removed]",
      "text/plain": [
       "<Figure size 864x288 with 1 Axes>"
      ]
     },
     "metadata": {
      "needs_background": "light"
     },
     "output_type": "display_data"
    }
   ],
   "source": [
    "baseline_model = xgb.XGBClassifier(objective='multi:softmax',\n",
    "                                eval_metric=['merror','mlogloss'],\n",
    "                                n_estimators = 250,\n",
    "                                eta=0.03,\n",
    "                                use_label_encoder=False)\n",
    "# fit model and get predictions on validation set\n",
    "baseline_pred = eval_score(baseline_model)\n",
    "# plot loss curve\n",
    "eval_graphs(baseline_model)"
   ]
  },
  {
   "cell_type": "code",
   "execution_count": 28,
   "id": "02610c6e",
   "metadata": {},
   "outputs": [
    {
     "data": {
      "image/png": "[encoded data removed]",
      "text/plain": [
       "<Figure size 864x288 with 1 Axes>"
      ]
     },
     "metadata": {
      "needs_background": "light"
     },
     "output_type": "display_data"
    }
   ],
   "source": [
    "results = baseline_model.evals_result()\n",
    "x_arr = np.arange(len(results['validation_0']['mlogloss']))+1\n",
    "fig = plt.figure(figsize=(12, 4))\n",
    "ax = fig.add_subplot(1, 2, 1)\n",
    "ax.plot(x_arr, results['validation_0']['merror'], label='Train loss')\n",
    "ax.plot(x_arr, results['validation_1']['merror'], label='Validation loss')\n",
    "ax.legend(fontsize=15)\n",
    "ax.set_xlabel('Epoch', size=15)\n",
    "ax.set_ylabel('MError', size=15)\n",
    "plt.title('Model MError Curve')\n",
    "plt.show()"
   ]
  },
  {
   "cell_type": "markdown",
   "id": "3b833fcb",
   "metadata": {},
   "source": [
    "### Model Tuning\n",
    "\n",
    "For work here are the hyperparameters we usually try:\n",
    "* model complexity:\n",
    "    * max_depth: integers from 8 to 20\n",
    "    * min_child_weight: integers from 1 to 100\n",
    "    * gamma: float between 0 and 4\n",
    "* randomness:\n",
    "    * lambda/reg_lambda: log scaling .001 to 1\n",
    "    * alpha/reg_alpha: log scaling .001 to 10\n",
    "    * learning_rate: log scaling .01 to 1\n",
    "    * subsample: float between 0.2 and 1\n",
    "    * colsample_bytree, colsample_bylevel, colsample_bynode: for each, floats between 0.3 and 1\n",
    "\n",
    "There are obviously a ton of different possible combinations here, so we use gridSearch pick the more important ones to test. I would just set learning rate at 0.01 and try changing the max_depth & min_child_weight parameters first.\n",
    "\n",
    "accuracy|eta|colsample_bytree|gamma|max_depth|min_child_weight|reg_alpha|reg_lambda\n",
    "--------|---|----------------|-----|---------|----------------|---|--\n",
    "0.884 | 0.3 | 0.8166109190737193|1.3524019417422217 | 9 | 3 | 40 | 0.38875374236059673\n",
    "0.92|0.3|0.7332967013192906|1.180637520546325|10|3|0.0|0.665768265241745\n",
    "0.94|0.3|0.4718126556989784|1.1448126444222648|7|7|0.0|0.9968450328215387\n",
    "0.92|0.6233550058931083|1.0|3.125965168028287|9|6|0.6278402276742281|2.750270104431137"
   ]
  },
  {
   "cell_type": "code",
   "execution_count": 24,
   "id": "8e9a1f30",
   "metadata": {},
   "outputs": [
    {
     "name": "stdout",
     "output_type": "stream",
     "text": [
      "SCORE:                                                                          \n",
      "0.7                                                                             \n",
      "  1%|▏                   | 1/100 [05:43<9:27:01, 343.65s/trial, best loss: -0.7]"
     ]
    },
    {
     "name": "stderr",
     "output_type": "stream",
     "text": [
      "/Users/Sophie/opt/anaconda3/envs/xgb/lib/python3.10/site-packages/xgboost/data.py:250: FutureWarning: pandas.Int64Index is deprecated and will be removed from pandas in a future version. Use pandas.Index with the appropriate dtype instead.\n",
      "  elif isinstance(data.columns, (pd.Int64Index, pd.RangeIndex)):\n",
      "\n"
     ]
    },
    {
     "name": "stdout",
     "output_type": "stream",
     "text": [
      "SCORE:                                                                          \n",
      "0.736                                                                           \n",
      "  2%|▎                 | 2/100 [11:19<9:13:32, 338.91s/trial, best loss: -0.736]"
     ]
    },
    {
     "name": "stderr",
     "output_type": "stream",
     "text": [
      "/Users/Sophie/opt/anaconda3/envs/xgb/lib/python3.10/site-packages/xgboost/data.py:250: FutureWarning: pandas.Int64Index is deprecated and will be removed from pandas in a future version. Use pandas.Index with the appropriate dtype instead.\n",
      "  elif isinstance(data.columns, (pd.Int64Index, pd.RangeIndex)):\n",
      "\n"
     ]
    },
    {
     "name": "stdout",
     "output_type": "stream",
     "text": [
      "SCORE:                                                                          \n",
      "0.928                                                                           \n",
      "  3%|▌                 | 3/100 [14:30<7:18:33, 271.27s/trial, best loss: -0.928]"
     ]
    },
    {
     "name": "stderr",
     "output_type": "stream",
     "text": [
      "/Users/Sophie/opt/anaconda3/envs/xgb/lib/python3.10/site-packages/xgboost/data.py:250: FutureWarning: pandas.Int64Index is deprecated and will be removed from pandas in a future version. Use pandas.Index with the appropriate dtype instead.\n",
      "  elif isinstance(data.columns, (pd.Int64Index, pd.RangeIndex)):\n",
      "\n"
     ]
    },
    {
     "name": "stdout",
     "output_type": "stream",
     "text": [
      "SCORE:                                                                          \n",
      "0.736                                                                           \n",
      "  4%|▋                 | 4/100 [20:23<8:06:05, 303.81s/trial, best loss: -0.928]"
     ]
    },
    {
     "name": "stderr",
     "output_type": "stream",
     "text": [
      "/Users/Sophie/opt/anaconda3/envs/xgb/lib/python3.10/site-packages/xgboost/data.py:250: FutureWarning: pandas.Int64Index is deprecated and will be removed from pandas in a future version. Use pandas.Index with the appropriate dtype instead.\n",
      "  elif isinstance(data.columns, (pd.Int64Index, pd.RangeIndex)):\n",
      "\n"
     ]
    },
    {
     "name": "stdout",
     "output_type": "stream",
     "text": [
      "SCORE:                                                                          \n",
      "0.748                                                                           \n",
      "  5%|▉                 | 5/100 [25:46<8:11:37, 310.50s/trial, best loss: -0.928]"
     ]
    },
    {
     "name": "stderr",
     "output_type": "stream",
     "text": [
      "/Users/Sophie/opt/anaconda3/envs/xgb/lib/python3.10/site-packages/xgboost/data.py:250: FutureWarning: pandas.Int64Index is deprecated and will be removed from pandas in a future version. Use pandas.Index with the appropriate dtype instead.\n",
      "  elif isinstance(data.columns, (pd.Int64Index, pd.RangeIndex)):\n",
      "\n"
     ]
    },
    {
     "name": "stdout",
     "output_type": "stream",
     "text": [
      "SCORE:                                                                          \n",
      "0.824                                                                           \n",
      "  6%|█                 | 6/100 [31:53<8:36:30, 329.69s/trial, best loss: -0.928]"
     ]
    },
    {
     "name": "stderr",
     "output_type": "stream",
     "text": [
      "/Users/Sophie/opt/anaconda3/envs/xgb/lib/python3.10/site-packages/xgboost/data.py:250: FutureWarning: pandas.Int64Index is deprecated and will be removed from pandas in a future version. Use pandas.Index with the appropriate dtype instead.\n",
      "  elif isinstance(data.columns, (pd.Int64Index, pd.RangeIndex)):\n",
      "\n"
     ]
    },
    {
     "name": "stdout",
     "output_type": "stream",
     "text": [
      "SCORE:                                                                          \n",
      "0.9                                                                             \n",
      "  7%|█▎                | 7/100 [40:06<9:53:53, 383.15s/trial, best loss: -0.928]"
     ]
    },
    {
     "name": "stderr",
     "output_type": "stream",
     "text": [
      "/Users/Sophie/opt/anaconda3/envs/xgb/lib/python3.10/site-packages/xgboost/data.py:250: FutureWarning: pandas.Int64Index is deprecated and will be removed from pandas in a future version. Use pandas.Index with the appropriate dtype instead.\n",
      "  elif isinstance(data.columns, (pd.Int64Index, pd.RangeIndex)):\n",
      "\n"
     ]
    },
    {
     "name": "stdout",
     "output_type": "stream",
     "text": [
      "SCORE:                                                                          \n",
      "0.764                                                                           \n",
      "  8%|█▍                | 8/100 [46:28<9:47:13, 382.97s/trial, best loss: -0.928]"
     ]
    },
    {
     "name": "stderr",
     "output_type": "stream",
     "text": [
      "/Users/Sophie/opt/anaconda3/envs/xgb/lib/python3.10/site-packages/xgboost/data.py:250: FutureWarning: pandas.Int64Index is deprecated and will be removed from pandas in a future version. Use pandas.Index with the appropriate dtype instead.\n",
      "  elif isinstance(data.columns, (pd.Int64Index, pd.RangeIndex)):\n",
      "\n"
     ]
    },
    {
     "name": "stdout",
     "output_type": "stream",
     "text": [
      "SCORE:                                                                          \n",
      "0.912                                                                           \n",
      "  9%|█▌               | 9/100 [53:46<10:06:44, 400.05s/trial, best loss: -0.928]"
     ]
    },
    {
     "name": "stderr",
     "output_type": "stream",
     "text": [
      "/Users/Sophie/opt/anaconda3/envs/xgb/lib/python3.10/site-packages/xgboost/data.py:250: FutureWarning: pandas.Int64Index is deprecated and will be removed from pandas in a future version. Use pandas.Index with the appropriate dtype instead.\n",
      "  elif isinstance(data.columns, (pd.Int64Index, pd.RangeIndex)):\n",
      "\n"
     ]
    },
    {
     "name": "stdout",
     "output_type": "stream",
     "text": [
      "SCORE:                                                                          \n",
      "0.748                                                                           \n",
      " 10%|█▋               | 10/100 [59:28<9:33:21, 382.24s/trial, best loss: -0.928]"
     ]
    },
    {
     "name": "stderr",
     "output_type": "stream",
     "text": [
      "/Users/Sophie/opt/anaconda3/envs/xgb/lib/python3.10/site-packages/xgboost/data.py:250: FutureWarning: pandas.Int64Index is deprecated and will be removed from pandas in a future version. Use pandas.Index with the appropriate dtype instead.\n",
      "  elif isinstance(data.columns, (pd.Int64Index, pd.RangeIndex)):\n",
      "\n"
     ]
    },
    {
     "name": "stdout",
     "output_type": "stream",
     "text": [
      "SCORE:                                                                          \n",
      "0.736                                                                           \n",
      " 11%|█▋             | 11/100 [1:05:06<9:06:54, 368.70s/trial, best loss: -0.928]"
     ]
    },
    {
     "name": "stderr",
     "output_type": "stream",
     "text": [
      "/Users/Sophie/opt/anaconda3/envs/xgb/lib/python3.10/site-packages/xgboost/data.py:250: FutureWarning: pandas.Int64Index is deprecated and will be removed from pandas in a future version. Use pandas.Index with the appropriate dtype instead.\n",
      "  elif isinstance(data.columns, (pd.Int64Index, pd.RangeIndex)):\n",
      "\n"
     ]
    },
    {
     "name": "stdout",
     "output_type": "stream",
     "text": [
      "SCORE:                                                                          \n",
      "0.76                                                                            \n",
      " 12%|█▊             | 12/100 [1:12:05<9:23:04, 383.91s/trial, best loss: -0.928]"
     ]
    },
    {
     "name": "stderr",
     "output_type": "stream",
     "text": [
      "/Users/Sophie/opt/anaconda3/envs/xgb/lib/python3.10/site-packages/xgboost/data.py:250: FutureWarning: pandas.Int64Index is deprecated and will be removed from pandas in a future version. Use pandas.Index with the appropriate dtype instead.\n",
      "  elif isinstance(data.columns, (pd.Int64Index, pd.RangeIndex)):\n",
      "\n"
     ]
    },
    {
     "name": "stdout",
     "output_type": "stream",
     "text": [
      "SCORE:                                                                          \n",
      "0.712                                                                           \n",
      " 13%|█▉             | 13/100 [1:17:30<8:50:44, 366.03s/trial, best loss: -0.928]"
     ]
    },
    {
     "name": "stderr",
     "output_type": "stream",
     "text": [
      "/Users/Sophie/opt/anaconda3/envs/xgb/lib/python3.10/site-packages/xgboost/data.py:250: FutureWarning: pandas.Int64Index is deprecated and will be removed from pandas in a future version. Use pandas.Index with the appropriate dtype instead.\n",
      "  elif isinstance(data.columns, (pd.Int64Index, pd.RangeIndex)):\n",
      "\n"
     ]
    },
    {
     "name": "stdout",
     "output_type": "stream",
     "text": [
      "SCORE:                                                                          \n",
      "0.748                                                                           \n",
      " 14%|██             | 14/100 [1:23:06<8:31:42, 357.00s/trial, best loss: -0.928]"
     ]
    },
    {
     "name": "stderr",
     "output_type": "stream",
     "text": [
      "/Users/Sophie/opt/anaconda3/envs/xgb/lib/python3.10/site-packages/xgboost/data.py:250: FutureWarning: pandas.Int64Index is deprecated and will be removed from pandas in a future version. Use pandas.Index with the appropriate dtype instead.\n",
      "  elif isinstance(data.columns, (pd.Int64Index, pd.RangeIndex)):\n",
      "\n"
     ]
    },
    {
     "name": "stdout",
     "output_type": "stream",
     "text": [
      "SCORE:                                                                          \n",
      "0.656                                                                           \n",
      " 15%|██▎            | 15/100 [1:28:58<8:23:30, 355.42s/trial, best loss: -0.928]"
     ]
    },
    {
     "name": "stderr",
     "output_type": "stream",
     "text": [
      "/Users/Sophie/opt/anaconda3/envs/xgb/lib/python3.10/site-packages/xgboost/data.py:250: FutureWarning: pandas.Int64Index is deprecated and will be removed from pandas in a future version. Use pandas.Index with the appropriate dtype instead.\n",
      "  elif isinstance(data.columns, (pd.Int64Index, pd.RangeIndex)):\n",
      "\n"
     ]
    },
    {
     "name": "stdout",
     "output_type": "stream",
     "text": [
      "SCORE:                                                                          \n",
      "0.92                                                                            \n",
      " 16%|██▍            | 16/100 [1:36:04<8:47:26, 376.74s/trial, best loss: -0.928]"
     ]
    },
    {
     "name": "stderr",
     "output_type": "stream",
     "text": [
      "/Users/Sophie/opt/anaconda3/envs/xgb/lib/python3.10/site-packages/xgboost/data.py:250: FutureWarning: pandas.Int64Index is deprecated and will be removed from pandas in a future version. Use pandas.Index with the appropriate dtype instead.\n",
      "  elif isinstance(data.columns, (pd.Int64Index, pd.RangeIndex)):\n",
      "\n"
     ]
    },
    {
     "name": "stdout",
     "output_type": "stream",
     "text": [
      "SCORE:                                                                          \n",
      "0.644                                                                           \n",
      " 17%|██▌            | 17/100 [1:42:09<8:36:25, 373.32s/trial, best loss: -0.928]"
     ]
    },
    {
     "name": "stderr",
     "output_type": "stream",
     "text": [
      "/Users/Sophie/opt/anaconda3/envs/xgb/lib/python3.10/site-packages/xgboost/data.py:250: FutureWarning: pandas.Int64Index is deprecated and will be removed from pandas in a future version. Use pandas.Index with the appropriate dtype instead.\n",
      "  elif isinstance(data.columns, (pd.Int64Index, pd.RangeIndex)):\n",
      "\n"
     ]
    },
    {
     "name": "stdout",
     "output_type": "stream",
     "text": [
      "SCORE:                                                                          \n",
      "0.924                                                                           \n",
      " 18%|██▌           | 18/100 [1:52:04<10:00:53, 439.68s/trial, best loss: -0.928]"
     ]
    },
    {
     "name": "stderr",
     "output_type": "stream",
     "text": [
      "/Users/Sophie/opt/anaconda3/envs/xgb/lib/python3.10/site-packages/xgboost/data.py:250: FutureWarning: pandas.Int64Index is deprecated and will be removed from pandas in a future version. Use pandas.Index with the appropriate dtype instead.\n",
      "  elif isinstance(data.columns, (pd.Int64Index, pd.RangeIndex)):\n",
      "\n"
     ]
    },
    {
     "name": "stdout",
     "output_type": "stream",
     "text": [
      "SCORE:                                                                          \n",
      "0.892                                                                           \n",
      " 19%|██▋           | 19/100 [1:59:57<10:07:10, 449.76s/trial, best loss: -0.928]"
     ]
    },
    {
     "name": "stderr",
     "output_type": "stream",
     "text": [
      "/Users/Sophie/opt/anaconda3/envs/xgb/lib/python3.10/site-packages/xgboost/data.py:250: FutureWarning: pandas.Int64Index is deprecated and will be removed from pandas in a future version. Use pandas.Index with the appropriate dtype instead.\n",
      "  elif isinstance(data.columns, (pd.Int64Index, pd.RangeIndex)):\n",
      "\n"
     ]
    },
    {
     "name": "stdout",
     "output_type": "stream",
     "text": [
      "SCORE:                                                                          \n",
      "0.804                                                                           \n",
      " 20%|███            | 20/100 [2:06:25<9:34:50, 431.13s/trial, best loss: -0.928]"
     ]
    },
    {
     "name": "stderr",
     "output_type": "stream",
     "text": [
      "/Users/Sophie/opt/anaconda3/envs/xgb/lib/python3.10/site-packages/xgboost/data.py:250: FutureWarning: pandas.Int64Index is deprecated and will be removed from pandas in a future version. Use pandas.Index with the appropriate dtype instead.\n",
      "  elif isinstance(data.columns, (pd.Int64Index, pd.RangeIndex)):\n",
      "\n"
     ]
    },
    {
     "name": "stdout",
     "output_type": "stream",
     "text": [
      "SCORE:                                                                          \n",
      "0.908                                                                           \n",
      " 21%|██▉           | 21/100 [2:18:07<11:14:44, 512.46s/trial, best loss: -0.928]"
     ]
    },
    {
     "name": "stderr",
     "output_type": "stream",
     "text": [
      "/Users/Sophie/opt/anaconda3/envs/xgb/lib/python3.10/site-packages/xgboost/data.py:250: FutureWarning: pandas.Int64Index is deprecated and will be removed from pandas in a future version. Use pandas.Index with the appropriate dtype instead.\n",
      "  elif isinstance(data.columns, (pd.Int64Index, pd.RangeIndex)):\n",
      "\n"
     ]
    },
    {
     "name": "stdout",
     "output_type": "stream",
     "text": [
      "SCORE:                                                                          \n",
      "0.908                                                                           \n",
      " 22%|███           | 22/100 [2:44:40<18:08:04, 836.98s/trial, best loss: -0.928]"
     ]
    },
    {
     "name": "stderr",
     "output_type": "stream",
     "text": [
      "/Users/Sophie/opt/anaconda3/envs/xgb/lib/python3.10/site-packages/xgboost/data.py:250: FutureWarning: pandas.Int64Index is deprecated and will be removed from pandas in a future version. Use pandas.Index with the appropriate dtype instead.\n",
      "  elif isinstance(data.columns, (pd.Int64Index, pd.RangeIndex)):\n",
      "\n"
     ]
    },
    {
     "name": "stdout",
     "output_type": "stream",
     "text": [
      "SCORE:                                                                          \n",
      "0.92                                                                            \n",
      " 23%|███▏          | 23/100 [2:52:48<15:39:28, 732.05s/trial, best loss: -0.928]"
     ]
    },
    {
     "name": "stderr",
     "output_type": "stream",
     "text": [
      "/Users/Sophie/opt/anaconda3/envs/xgb/lib/python3.10/site-packages/xgboost/data.py:250: FutureWarning: pandas.Int64Index is deprecated and will be removed from pandas in a future version. Use pandas.Index with the appropriate dtype instead.\n",
      "  elif isinstance(data.columns, (pd.Int64Index, pd.RangeIndex)):\n",
      "\n"
     ]
    },
    {
     "name": "stdout",
     "output_type": "stream",
     "text": [
      "SCORE:                                                                          \n",
      "0.924                                                                           \n",
      " 24%|███▎          | 24/100 [2:59:51<13:29:46, 639.29s/trial, best loss: -0.928]"
     ]
    },
    {
     "name": "stderr",
     "output_type": "stream",
     "text": [
      "/Users/Sophie/opt/anaconda3/envs/xgb/lib/python3.10/site-packages/xgboost/data.py:250: FutureWarning: pandas.Int64Index is deprecated and will be removed from pandas in a future version. Use pandas.Index with the appropriate dtype instead.\n",
      "  elif isinstance(data.columns, (pd.Int64Index, pd.RangeIndex)):\n",
      "\n"
     ]
    },
    {
     "name": "stdout",
     "output_type": "stream",
     "text": [
      "SCORE:                                                                          \n",
      "0.9                                                                             \n",
      " 25%|███▌          | 25/100 [3:08:05<12:24:42, 595.77s/trial, best loss: -0.928]"
     ]
    },
    {
     "name": "stderr",
     "output_type": "stream",
     "text": [
      "/Users/Sophie/opt/anaconda3/envs/xgb/lib/python3.10/site-packages/xgboost/data.py:250: FutureWarning: pandas.Int64Index is deprecated and will be removed from pandas in a future version. Use pandas.Index with the appropriate dtype instead.\n",
      "  elif isinstance(data.columns, (pd.Int64Index, pd.RangeIndex)):\n",
      "\n"
     ]
    },
    {
     "name": "stdout",
     "output_type": "stream",
     "text": [
      "SCORE:                                                                          \n",
      "0.936                                                                           \n",
      " 26%|███▋          | 26/100 [3:17:11<11:56:24, 580.87s/trial, best loss: -0.936]"
     ]
    },
    {
     "name": "stderr",
     "output_type": "stream",
     "text": [
      "/Users/Sophie/opt/anaconda3/envs/xgb/lib/python3.10/site-packages/xgboost/data.py:250: FutureWarning: pandas.Int64Index is deprecated and will be removed from pandas in a future version. Use pandas.Index with the appropriate dtype instead.\n",
      "  elif isinstance(data.columns, (pd.Int64Index, pd.RangeIndex)):\n",
      "\n"
     ]
    },
    {
     "name": "stdout",
     "output_type": "stream",
     "text": [
      "SCORE:                                                                          \n",
      "0.916                                                                           \n",
      " 27%|███▊          | 27/100 [3:25:03<11:06:53, 548.13s/trial, best loss: -0.936]"
     ]
    },
    {
     "name": "stderr",
     "output_type": "stream",
     "text": [
      "/Users/Sophie/opt/anaconda3/envs/xgb/lib/python3.10/site-packages/xgboost/data.py:250: FutureWarning: pandas.Int64Index is deprecated and will be removed from pandas in a future version. Use pandas.Index with the appropriate dtype instead.\n",
      "  elif isinstance(data.columns, (pd.Int64Index, pd.RangeIndex)):\n",
      "\n"
     ]
    },
    {
     "name": "stdout",
     "output_type": "stream",
     "text": [
      "SCORE:                                                                          \n",
      "0.912                                                                           \n",
      " 28%|███▉          | 28/100 [3:39:34<12:54:12, 645.17s/trial, best loss: -0.936]"
     ]
    },
    {
     "name": "stderr",
     "output_type": "stream",
     "text": [
      "/Users/Sophie/opt/anaconda3/envs/xgb/lib/python3.10/site-packages/xgboost/data.py:250: FutureWarning: pandas.Int64Index is deprecated and will be removed from pandas in a future version. Use pandas.Index with the appropriate dtype instead.\n",
      "  elif isinstance(data.columns, (pd.Int64Index, pd.RangeIndex)):\n",
      "\n"
     ]
    },
    {
     "name": "stdout",
     "output_type": "stream",
     "text": [
      "SCORE:                                                                          \n",
      "0.924                                                                           \n",
      " 29%|████          | 29/100 [3:47:31<11:43:37, 594.62s/trial, best loss: -0.936]"
     ]
    },
    {
     "name": "stderr",
     "output_type": "stream",
     "text": [
      "/Users/Sophie/opt/anaconda3/envs/xgb/lib/python3.10/site-packages/xgboost/data.py:250: FutureWarning: pandas.Int64Index is deprecated and will be removed from pandas in a future version. Use pandas.Index with the appropriate dtype instead.\n",
      "  elif isinstance(data.columns, (pd.Int64Index, pd.RangeIndex)):\n",
      "\n"
     ]
    },
    {
     "name": "stdout",
     "output_type": "stream",
     "text": [
      "SCORE:                                                                          \n",
      "0.908                                                                           \n",
      " 30%|████▏         | 30/100 [3:54:30<10:32:17, 541.96s/trial, best loss: -0.936]"
     ]
    },
    {
     "name": "stderr",
     "output_type": "stream",
     "text": [
      "/Users/Sophie/opt/anaconda3/envs/xgb/lib/python3.10/site-packages/xgboost/data.py:250: FutureWarning: pandas.Int64Index is deprecated and will be removed from pandas in a future version. Use pandas.Index with the appropriate dtype instead.\n",
      "  elif isinstance(data.columns, (pd.Int64Index, pd.RangeIndex)):\n",
      "\n"
     ]
    },
    {
     "name": "stdout",
     "output_type": "stream",
     "text": [
      "SCORE:                                                                          \n",
      "0.896                                                                           \n",
      " 31%|████▎         | 31/100 [4:03:46<10:27:55, 546.03s/trial, best loss: -0.936]"
     ]
    },
    {
     "name": "stderr",
     "output_type": "stream",
     "text": [
      "/Users/Sophie/opt/anaconda3/envs/xgb/lib/python3.10/site-packages/xgboost/data.py:250: FutureWarning: pandas.Int64Index is deprecated and will be removed from pandas in a future version. Use pandas.Index with the appropriate dtype instead.\n",
      "  elif isinstance(data.columns, (pd.Int64Index, pd.RangeIndex)):\n",
      "\n"
     ]
    },
    {
     "name": "stdout",
     "output_type": "stream",
     "text": [
      "SCORE:                                                                          \n",
      "0.848                                                                           \n",
      " 32%|████▊          | 32/100 [4:10:51<9:38:00, 510.01s/trial, best loss: -0.936]"
     ]
    },
    {
     "name": "stderr",
     "output_type": "stream",
     "text": [
      "/Users/Sophie/opt/anaconda3/envs/xgb/lib/python3.10/site-packages/xgboost/data.py:250: FutureWarning: pandas.Int64Index is deprecated and will be removed from pandas in a future version. Use pandas.Index with the appropriate dtype instead.\n",
      "  elif isinstance(data.columns, (pd.Int64Index, pd.RangeIndex)):\n",
      "\n"
     ]
    },
    {
     "name": "stdout",
     "output_type": "stream",
     "text": [
      "SCORE:                                                                          \n",
      "0.92                                                                            \n",
      " 33%|████▌         | 33/100 [4:26:53<12:00:54, 645.59s/trial, best loss: -0.936]"
     ]
    },
    {
     "name": "stderr",
     "output_type": "stream",
     "text": [
      "/Users/Sophie/opt/anaconda3/envs/xgb/lib/python3.10/site-packages/xgboost/data.py:250: FutureWarning: pandas.Int64Index is deprecated and will be removed from pandas in a future version. Use pandas.Index with the appropriate dtype instead.\n",
      "  elif isinstance(data.columns, (pd.Int64Index, pd.RangeIndex)):\n",
      "\n"
     ]
    },
    {
     "name": "stdout",
     "output_type": "stream",
     "text": [
      "SCORE:                                                                          \n",
      "0.888                                                                           \n",
      " 34%|████▊         | 34/100 [4:33:37<10:30:11, 572.90s/trial, best loss: -0.936]"
     ]
    },
    {
     "name": "stderr",
     "output_type": "stream",
     "text": [
      "/Users/Sophie/opt/anaconda3/envs/xgb/lib/python3.10/site-packages/xgboost/data.py:250: FutureWarning: pandas.Int64Index is deprecated and will be removed from pandas in a future version. Use pandas.Index with the appropriate dtype instead.\n",
      "  elif isinstance(data.columns, (pd.Int64Index, pd.RangeIndex)):\n",
      "\n"
     ]
    },
    {
     "name": "stdout",
     "output_type": "stream",
     "text": [
      "SCORE:                                                                          \n",
      "0.928                                                                           \n",
      " 35%|█████▎         | 35/100 [4:41:07<9:40:48, 536.13s/trial, best loss: -0.936]"
     ]
    },
    {
     "name": "stderr",
     "output_type": "stream",
     "text": [
      "/Users/Sophie/opt/anaconda3/envs/xgb/lib/python3.10/site-packages/xgboost/data.py:250: FutureWarning: pandas.Int64Index is deprecated and will be removed from pandas in a future version. Use pandas.Index with the appropriate dtype instead.\n",
      "  elif isinstance(data.columns, (pd.Int64Index, pd.RangeIndex)):\n",
      "\n"
     ]
    },
    {
     "name": "stdout",
     "output_type": "stream",
     "text": [
      "SCORE:                                                                          \n",
      "0.908                                                                           \n",
      " 36%|█████▍         | 36/100 [4:48:25<9:00:25, 506.65s/trial, best loss: -0.936]"
     ]
    },
    {
     "name": "stderr",
     "output_type": "stream",
     "text": [
      "/Users/Sophie/opt/anaconda3/envs/xgb/lib/python3.10/site-packages/xgboost/data.py:250: FutureWarning: pandas.Int64Index is deprecated and will be removed from pandas in a future version. Use pandas.Index with the appropriate dtype instead.\n",
      "  elif isinstance(data.columns, (pd.Int64Index, pd.RangeIndex)):\n",
      "\n"
     ]
    },
    {
     "name": "stdout",
     "output_type": "stream",
     "text": [
      "SCORE:                                                                          \n",
      "0.912                                                                           \n",
      " 37%|█████▌         | 37/100 [4:55:49<8:32:20, 487.94s/trial, best loss: -0.936]"
     ]
    },
    {
     "name": "stderr",
     "output_type": "stream",
     "text": [
      "/Users/Sophie/opt/anaconda3/envs/xgb/lib/python3.10/site-packages/xgboost/data.py:250: FutureWarning: pandas.Int64Index is deprecated and will be removed from pandas in a future version. Use pandas.Index with the appropriate dtype instead.\n",
      "  elif isinstance(data.columns, (pd.Int64Index, pd.RangeIndex)):\n",
      "\n"
     ]
    },
    {
     "name": "stdout",
     "output_type": "stream",
     "text": [
      "SCORE:                                                                          \n",
      "0.936                                                                           \n",
      " 38%|█████▋         | 38/100 [5:03:48<8:21:14, 485.06s/trial, best loss: -0.936]"
     ]
    },
    {
     "name": "stderr",
     "output_type": "stream",
     "text": [
      "/Users/Sophie/opt/anaconda3/envs/xgb/lib/python3.10/site-packages/xgboost/data.py:250: FutureWarning: pandas.Int64Index is deprecated and will be removed from pandas in a future version. Use pandas.Index with the appropriate dtype instead.\n",
      "  elif isinstance(data.columns, (pd.Int64Index, pd.RangeIndex)):\n",
      "\n"
     ]
    },
    {
     "name": "stdout",
     "output_type": "stream",
     "text": [
      "SCORE:                                                                          \n",
      "0.78                                                                            \n",
      " 39%|█████▊         | 39/100 [5:11:09<7:59:43, 471.86s/trial, best loss: -0.936]"
     ]
    },
    {
     "name": "stderr",
     "output_type": "stream",
     "text": [
      "/Users/Sophie/opt/anaconda3/envs/xgb/lib/python3.10/site-packages/xgboost/data.py:250: FutureWarning: pandas.Int64Index is deprecated and will be removed from pandas in a future version. Use pandas.Index with the appropriate dtype instead.\n",
      "  elif isinstance(data.columns, (pd.Int64Index, pd.RangeIndex)):\n",
      "\n"
     ]
    },
    {
     "name": "stdout",
     "output_type": "stream",
     "text": [
      "SCORE:                                                                          \n",
      "0.932                                                                           \n",
      " 40%|██████         | 40/100 [5:13:59<6:21:22, 381.38s/trial, best loss: -0.936]"
     ]
    },
    {
     "name": "stderr",
     "output_type": "stream",
     "text": [
      "/Users/Sophie/opt/anaconda3/envs/xgb/lib/python3.10/site-packages/xgboost/data.py:250: FutureWarning: pandas.Int64Index is deprecated and will be removed from pandas in a future version. Use pandas.Index with the appropriate dtype instead.\n",
      "  elif isinstance(data.columns, (pd.Int64Index, pd.RangeIndex)):\n",
      "\n"
     ]
    },
    {
     "name": "stdout",
     "output_type": "stream",
     "text": [
      "SCORE:                                                                          \n",
      "0.744                                                                           \n",
      " 41%|██████▏        | 41/100 [5:20:53<6:24:38, 391.17s/trial, best loss: -0.936]"
     ]
    },
    {
     "name": "stderr",
     "output_type": "stream",
     "text": [
      "/Users/Sophie/opt/anaconda3/envs/xgb/lib/python3.10/site-packages/xgboost/data.py:250: FutureWarning: pandas.Int64Index is deprecated and will be removed from pandas in a future version. Use pandas.Index with the appropriate dtype instead.\n",
      "  elif isinstance(data.columns, (pd.Int64Index, pd.RangeIndex)):\n",
      "\n"
     ]
    },
    {
     "name": "stdout",
     "output_type": "stream",
     "text": [
      "SCORE:                                                                          \n",
      "0.912                                                                           \n",
      " 42%|██████▎        | 42/100 [5:31:26<7:28:12, 463.67s/trial, best loss: -0.936]"
     ]
    },
    {
     "name": "stderr",
     "output_type": "stream",
     "text": [
      "/Users/Sophie/opt/anaconda3/envs/xgb/lib/python3.10/site-packages/xgboost/data.py:250: FutureWarning: pandas.Int64Index is deprecated and will be removed from pandas in a future version. Use pandas.Index with the appropriate dtype instead.\n",
      "  elif isinstance(data.columns, (pd.Int64Index, pd.RangeIndex)):\n",
      "\n"
     ]
    },
    {
     "name": "stdout",
     "output_type": "stream",
     "text": [
      "SCORE:                                                                          \n",
      "0.864                                                                           \n",
      " 43%|██████▍        | 43/100 [5:38:58<7:17:12, 460.22s/trial, best loss: -0.936]"
     ]
    },
    {
     "name": "stderr",
     "output_type": "stream",
     "text": [
      "/Users/Sophie/opt/anaconda3/envs/xgb/lib/python3.10/site-packages/xgboost/data.py:250: FutureWarning: pandas.Int64Index is deprecated and will be removed from pandas in a future version. Use pandas.Index with the appropriate dtype instead.\n",
      "  elif isinstance(data.columns, (pd.Int64Index, pd.RangeIndex)):\n",
      "\n"
     ]
    },
    {
     "name": "stdout",
     "output_type": "stream",
     "text": [
      "SCORE:                                                                          \n",
      "0.896                                                                           \n",
      " 44%|██████▌        | 44/100 [5:48:39<7:43:15, 496.35s/trial, best loss: -0.936]"
     ]
    },
    {
     "name": "stderr",
     "output_type": "stream",
     "text": [
      "/Users/Sophie/opt/anaconda3/envs/xgb/lib/python3.10/site-packages/xgboost/data.py:250: FutureWarning: pandas.Int64Index is deprecated and will be removed from pandas in a future version. Use pandas.Index with the appropriate dtype instead.\n",
      "  elif isinstance(data.columns, (pd.Int64Index, pd.RangeIndex)):\n",
      "\n"
     ]
    },
    {
     "name": "stdout",
     "output_type": "stream",
     "text": [
      "SCORE:                                                                          \n",
      "0.908                                                                           \n",
      " 45%|██████▊        | 45/100 [6:00:33<8:34:52, 561.68s/trial, best loss: -0.936]"
     ]
    },
    {
     "name": "stderr",
     "output_type": "stream",
     "text": [
      "/Users/Sophie/opt/anaconda3/envs/xgb/lib/python3.10/site-packages/xgboost/data.py:250: FutureWarning: pandas.Int64Index is deprecated and will be removed from pandas in a future version. Use pandas.Index with the appropriate dtype instead.\n",
      "  elif isinstance(data.columns, (pd.Int64Index, pd.RangeIndex)):\n",
      "\n"
     ]
    },
    {
     "name": "stdout",
     "output_type": "stream",
     "text": [
      "SCORE:                                                                          \n",
      "0.912                                                                           \n",
      " 46%|██████▍       | 46/100 [6:23:25<12:04:19, 804.80s/trial, best loss: -0.936]"
     ]
    },
    {
     "name": "stderr",
     "output_type": "stream",
     "text": [
      "/Users/Sophie/opt/anaconda3/envs/xgb/lib/python3.10/site-packages/xgboost/data.py:250: FutureWarning: pandas.Int64Index is deprecated and will be removed from pandas in a future version. Use pandas.Index with the appropriate dtype instead.\n",
      "  elif isinstance(data.columns, (pd.Int64Index, pd.RangeIndex)):\n",
      "\n"
     ]
    },
    {
     "name": "stdout",
     "output_type": "stream",
     "text": [
      "SCORE:                                                                          \n",
      "0.844                                                                           \n",
      " 47%|██████▌       | 47/100 [6:31:13<10:21:47, 703.91s/trial, best loss: -0.936]"
     ]
    },
    {
     "name": "stderr",
     "output_type": "stream",
     "text": [
      "/Users/Sophie/opt/anaconda3/envs/xgb/lib/python3.10/site-packages/xgboost/data.py:250: FutureWarning: pandas.Int64Index is deprecated and will be removed from pandas in a future version. Use pandas.Index with the appropriate dtype instead.\n",
      "  elif isinstance(data.columns, (pd.Int64Index, pd.RangeIndex)):\n",
      "\n"
     ]
    },
    {
     "name": "stdout",
     "output_type": "stream",
     "text": [
      "SCORE:                                                                          \n",
      "0.896                                                                           \n",
      " 48%|███████▏       | 48/100 [6:40:10<9:26:32, 653.71s/trial, best loss: -0.936]"
     ]
    },
    {
     "name": "stderr",
     "output_type": "stream",
     "text": [
      "/Users/Sophie/opt/anaconda3/envs/xgb/lib/python3.10/site-packages/xgboost/data.py:250: FutureWarning: pandas.Int64Index is deprecated and will be removed from pandas in a future version. Use pandas.Index with the appropriate dtype instead.\n",
      "  elif isinstance(data.columns, (pd.Int64Index, pd.RangeIndex)):\n",
      "\n"
     ]
    },
    {
     "name": "stdout",
     "output_type": "stream",
     "text": [
      "SCORE:                                                                          \n",
      "0.908                                                                           \n",
      " 49%|███████▎       | 49/100 [6:47:18<8:18:10, 586.09s/trial, best loss: -0.936]"
     ]
    },
    {
     "name": "stderr",
     "output_type": "stream",
     "text": [
      "/Users/Sophie/opt/anaconda3/envs/xgb/lib/python3.10/site-packages/xgboost/data.py:250: FutureWarning: pandas.Int64Index is deprecated and will be removed from pandas in a future version. Use pandas.Index with the appropriate dtype instead.\n",
      "  elif isinstance(data.columns, (pd.Int64Index, pd.RangeIndex)):\n",
      "\n"
     ]
    },
    {
     "name": "stdout",
     "output_type": "stream",
     "text": [
      "SCORE:                                                                          \n",
      "0.768                                                                           \n",
      " 50%|███████▌       | 50/100 [6:53:54<7:20:51, 529.02s/trial, best loss: -0.936]"
     ]
    },
    {
     "name": "stderr",
     "output_type": "stream",
     "text": [
      "/Users/Sophie/opt/anaconda3/envs/xgb/lib/python3.10/site-packages/xgboost/data.py:250: FutureWarning: pandas.Int64Index is deprecated and will be removed from pandas in a future version. Use pandas.Index with the appropriate dtype instead.\n",
      "  elif isinstance(data.columns, (pd.Int64Index, pd.RangeIndex)):\n",
      "\n"
     ]
    },
    {
     "name": "stdout",
     "output_type": "stream",
     "text": [
      "SCORE:                                                                          \n",
      "0.912                                                                           \n",
      " 51%|███████▋       | 51/100 [6:57:07<5:49:46, 428.29s/trial, best loss: -0.936]"
     ]
    },
    {
     "name": "stderr",
     "output_type": "stream",
     "text": [
      "/Users/Sophie/opt/anaconda3/envs/xgb/lib/python3.10/site-packages/xgboost/data.py:250: FutureWarning: pandas.Int64Index is deprecated and will be removed from pandas in a future version. Use pandas.Index with the appropriate dtype instead.\n",
      "  elif isinstance(data.columns, (pd.Int64Index, pd.RangeIndex)):\n",
      "\n"
     ]
    },
    {
     "name": "stdout",
     "output_type": "stream",
     "text": [
      "SCORE:                                                                          \n",
      "0.912                                                                           \n",
      " 52%|███████▊       | 52/100 [7:05:27<5:59:44, 449.67s/trial, best loss: -0.936]"
     ]
    },
    {
     "name": "stderr",
     "output_type": "stream",
     "text": [
      "/Users/Sophie/opt/anaconda3/envs/xgb/lib/python3.10/site-packages/xgboost/data.py:250: FutureWarning: pandas.Int64Index is deprecated and will be removed from pandas in a future version. Use pandas.Index with the appropriate dtype instead.\n",
      "  elif isinstance(data.columns, (pd.Int64Index, pd.RangeIndex)):\n",
      "\n"
     ]
    },
    {
     "name": "stdout",
     "output_type": "stream",
     "text": [
      "SCORE:                                                                          \n",
      "0.916                                                                           \n",
      " 53%|███████▉       | 53/100 [7:12:09<5:41:07, 435.48s/trial, best loss: -0.936]"
     ]
    },
    {
     "name": "stderr",
     "output_type": "stream",
     "text": [
      "/Users/Sophie/opt/anaconda3/envs/xgb/lib/python3.10/site-packages/xgboost/data.py:250: FutureWarning: pandas.Int64Index is deprecated and will be removed from pandas in a future version. Use pandas.Index with the appropriate dtype instead.\n",
      "  elif isinstance(data.columns, (pd.Int64Index, pd.RangeIndex)):\n",
      "\n"
     ]
    },
    {
     "name": "stdout",
     "output_type": "stream",
     "text": [
      "SCORE:                                                                          \n",
      "0.728                                                                           \n",
      " 54%|████████       | 54/100 [7:17:15<5:04:07, 396.67s/trial, best loss: -0.936]"
     ]
    },
    {
     "name": "stderr",
     "output_type": "stream",
     "text": [
      "/Users/Sophie/opt/anaconda3/envs/xgb/lib/python3.10/site-packages/xgboost/data.py:250: FutureWarning: pandas.Int64Index is deprecated and will be removed from pandas in a future version. Use pandas.Index with the appropriate dtype instead.\n",
      "  elif isinstance(data.columns, (pd.Int64Index, pd.RangeIndex)):\n",
      "\n"
     ]
    },
    {
     "name": "stdout",
     "output_type": "stream",
     "text": [
      "SCORE:                                                                          \n",
      "0.908                                                                           \n",
      " 55%|████████▎      | 55/100 [7:24:56<5:12:00, 416.00s/trial, best loss: -0.936]"
     ]
    },
    {
     "name": "stderr",
     "output_type": "stream",
     "text": [
      "/Users/Sophie/opt/anaconda3/envs/xgb/lib/python3.10/site-packages/xgboost/data.py:250: FutureWarning: pandas.Int64Index is deprecated and will be removed from pandas in a future version. Use pandas.Index with the appropriate dtype instead.\n",
      "  elif isinstance(data.columns, (pd.Int64Index, pd.RangeIndex)):\n",
      "\n"
     ]
    },
    {
     "name": "stdout",
     "output_type": "stream",
     "text": [
      "SCORE:                                                                          \n",
      "0.932                                                                           \n",
      " 56%|████████▍      | 56/100 [7:32:35<5:14:23, 428.71s/trial, best loss: -0.936]"
     ]
    },
    {
     "name": "stderr",
     "output_type": "stream",
     "text": [
      "/Users/Sophie/opt/anaconda3/envs/xgb/lib/python3.10/site-packages/xgboost/data.py:250: FutureWarning: pandas.Int64Index is deprecated and will be removed from pandas in a future version. Use pandas.Index with the appropriate dtype instead.\n",
      "  elif isinstance(data.columns, (pd.Int64Index, pd.RangeIndex)):\n",
      "\n"
     ]
    },
    {
     "name": "stdout",
     "output_type": "stream",
     "text": [
      "SCORE:                                                                          \n",
      "0.9                                                                             \n",
      " 57%|████████▌      | 57/100 [7:38:37<4:53:02, 408.89s/trial, best loss: -0.936]"
     ]
    },
    {
     "name": "stderr",
     "output_type": "stream",
     "text": [
      "/Users/Sophie/opt/anaconda3/envs/xgb/lib/python3.10/site-packages/xgboost/data.py:250: FutureWarning: pandas.Int64Index is deprecated and will be removed from pandas in a future version. Use pandas.Index with the appropriate dtype instead.\n",
      "  elif isinstance(data.columns, (pd.Int64Index, pd.RangeIndex)):\n",
      "\n"
     ]
    },
    {
     "name": "stdout",
     "output_type": "stream",
     "text": [
      "SCORE:                                                                          \n",
      "0.808                                                                           \n",
      " 58%|████████▋      | 58/100 [7:44:27<4:33:46, 391.10s/trial, best loss: -0.936]"
     ]
    },
    {
     "name": "stderr",
     "output_type": "stream",
     "text": [
      "/Users/Sophie/opt/anaconda3/envs/xgb/lib/python3.10/site-packages/xgboost/data.py:250: FutureWarning: pandas.Int64Index is deprecated and will be removed from pandas in a future version. Use pandas.Index with the appropriate dtype instead.\n",
      "  elif isinstance(data.columns, (pd.Int64Index, pd.RangeIndex)):\n",
      "\n"
     ]
    },
    {
     "name": "stdout",
     "output_type": "stream",
     "text": [
      "SCORE:                                                                          \n",
      "0.912                                                                           \n",
      " 59%|████████▊      | 59/100 [8:03:21<6:59:28, 613.86s/trial, best loss: -0.936]"
     ]
    },
    {
     "name": "stderr",
     "output_type": "stream",
     "text": [
      "/Users/Sophie/opt/anaconda3/envs/xgb/lib/python3.10/site-packages/xgboost/data.py:250: FutureWarning: pandas.Int64Index is deprecated and will be removed from pandas in a future version. Use pandas.Index with the appropriate dtype instead.\n",
      "  elif isinstance(data.columns, (pd.Int64Index, pd.RangeIndex)):\n",
      "\n"
     ]
    },
    {
     "name": "stdout",
     "output_type": "stream",
     "text": [
      "SCORE:                                                                          \n",
      "0.908                                                                           \n",
      " 60%|█████████      | 60/100 [8:11:04<6:19:13, 568.84s/trial, best loss: -0.936]"
     ]
    },
    {
     "name": "stderr",
     "output_type": "stream",
     "text": [
      "/Users/Sophie/opt/anaconda3/envs/xgb/lib/python3.10/site-packages/xgboost/data.py:250: FutureWarning: pandas.Int64Index is deprecated and will be removed from pandas in a future version. Use pandas.Index with the appropriate dtype instead.\n",
      "  elif isinstance(data.columns, (pd.Int64Index, pd.RangeIndex)):\n",
      "\n"
     ]
    },
    {
     "name": "stdout",
     "output_type": "stream",
     "text": [
      "SCORE:                                                                          \n",
      "0.916                                                                           \n",
      " 61%|█████████▏     | 61/100 [8:19:52<6:01:45, 556.55s/trial, best loss: -0.936]"
     ]
    },
    {
     "name": "stderr",
     "output_type": "stream",
     "text": [
      "/Users/Sophie/opt/anaconda3/envs/xgb/lib/python3.10/site-packages/xgboost/data.py:250: FutureWarning: pandas.Int64Index is deprecated and will be removed from pandas in a future version. Use pandas.Index with the appropriate dtype instead.\n",
      "  elif isinstance(data.columns, (pd.Int64Index, pd.RangeIndex)):\n",
      "\n"
     ]
    },
    {
     "name": "stdout",
     "output_type": "stream",
     "text": [
      "SCORE:                                                                          \n",
      "0.892                                                                           \n",
      " 62%|█████████▎     | 62/100 [8:25:45<5:13:49, 495.51s/trial, best loss: -0.936]"
     ]
    },
    {
     "name": "stderr",
     "output_type": "stream",
     "text": [
      "/Users/Sophie/opt/anaconda3/envs/xgb/lib/python3.10/site-packages/xgboost/data.py:250: FutureWarning: pandas.Int64Index is deprecated and will be removed from pandas in a future version. Use pandas.Index with the appropriate dtype instead.\n",
      "  elif isinstance(data.columns, (pd.Int64Index, pd.RangeIndex)):\n",
      "\n"
     ]
    },
    {
     "name": "stdout",
     "output_type": "stream",
     "text": [
      "SCORE:                                                                          \n",
      "0.744                                                                           \n",
      " 63%|█████████▍     | 63/100 [8:31:24<4:36:26, 448.30s/trial, best loss: -0.936]"
     ]
    },
    {
     "name": "stderr",
     "output_type": "stream",
     "text": [
      "/Users/Sophie/opt/anaconda3/envs/xgb/lib/python3.10/site-packages/xgboost/data.py:250: FutureWarning: pandas.Int64Index is deprecated and will be removed from pandas in a future version. Use pandas.Index with the appropriate dtype instead.\n",
      "  elif isinstance(data.columns, (pd.Int64Index, pd.RangeIndex)):\n",
      "\n"
     ]
    },
    {
     "name": "stdout",
     "output_type": "stream",
     "text": [
      "SCORE:                                                                          \n",
      "0.904                                                                           \n",
      " 64%|█████████▌     | 64/100 [8:38:33<4:25:37, 442.71s/trial, best loss: -0.936]"
     ]
    },
    {
     "name": "stderr",
     "output_type": "stream",
     "text": [
      "/Users/Sophie/opt/anaconda3/envs/xgb/lib/python3.10/site-packages/xgboost/data.py:250: FutureWarning: pandas.Int64Index is deprecated and will be removed from pandas in a future version. Use pandas.Index with the appropriate dtype instead.\n",
      "  elif isinstance(data.columns, (pd.Int64Index, pd.RangeIndex)):\n",
      "\n"
     ]
    },
    {
     "name": "stdout",
     "output_type": "stream",
     "text": [
      "SCORE:                                                                          \n",
      "0.908                                                                           \n",
      " 65%|█████████▊     | 65/100 [8:44:34<4:03:50, 418.01s/trial, best loss: -0.936]"
     ]
    },
    {
     "name": "stderr",
     "output_type": "stream",
     "text": [
      "/Users/Sophie/opt/anaconda3/envs/xgb/lib/python3.10/site-packages/xgboost/data.py:250: FutureWarning: pandas.Int64Index is deprecated and will be removed from pandas in a future version. Use pandas.Index with the appropriate dtype instead.\n",
      "  elif isinstance(data.columns, (pd.Int64Index, pd.RangeIndex)):\n",
      "\n"
     ]
    },
    {
     "name": "stdout",
     "output_type": "stream",
     "text": [
      "SCORE:                                                                          \n",
      "0.924                                                                           \n",
      " 66%|█████████▉     | 66/100 [8:51:16<3:54:18, 413.49s/trial, best loss: -0.936]"
     ]
    },
    {
     "name": "stderr",
     "output_type": "stream",
     "text": [
      "/Users/Sophie/opt/anaconda3/envs/xgb/lib/python3.10/site-packages/xgboost/data.py:250: FutureWarning: pandas.Int64Index is deprecated and will be removed from pandas in a future version. Use pandas.Index with the appropriate dtype instead.\n",
      "  elif isinstance(data.columns, (pd.Int64Index, pd.RangeIndex)):\n",
      "\n"
     ]
    },
    {
     "name": "stdout",
     "output_type": "stream",
     "text": [
      "SCORE:                                                                          \n",
      "0.936                                                                           \n",
      " 67%|██████████     | 67/100 [8:57:50<3:44:10, 407.60s/trial, best loss: -0.936]"
     ]
    },
    {
     "name": "stderr",
     "output_type": "stream",
     "text": [
      "/Users/Sophie/opt/anaconda3/envs/xgb/lib/python3.10/site-packages/xgboost/data.py:250: FutureWarning: pandas.Int64Index is deprecated and will be removed from pandas in a future version. Use pandas.Index with the appropriate dtype instead.\n",
      "  elif isinstance(data.columns, (pd.Int64Index, pd.RangeIndex)):\n",
      "\n"
     ]
    },
    {
     "name": "stdout",
     "output_type": "stream",
     "text": [
      "SCORE:                                                                          \n",
      "0.928                                                                           \n",
      " 68%|██████████▏    | 68/100 [9:04:26<3:35:27, 404.00s/trial, best loss: -0.936]"
     ]
    },
    {
     "name": "stderr",
     "output_type": "stream",
     "text": [
      "/Users/Sophie/opt/anaconda3/envs/xgb/lib/python3.10/site-packages/xgboost/data.py:250: FutureWarning: pandas.Int64Index is deprecated and will be removed from pandas in a future version. Use pandas.Index with the appropriate dtype instead.\n",
      "  elif isinstance(data.columns, (pd.Int64Index, pd.RangeIndex)):\n",
      "\n"
     ]
    },
    {
     "name": "stdout",
     "output_type": "stream",
     "text": [
      "SCORE:                                                                          \n",
      "0.936                                                                           \n",
      " 69%|██████████▎    | 69/100 [9:13:05<3:46:33, 438.49s/trial, best loss: -0.936]"
     ]
    },
    {
     "name": "stderr",
     "output_type": "stream",
     "text": [
      "/Users/Sophie/opt/anaconda3/envs/xgb/lib/python3.10/site-packages/xgboost/data.py:250: FutureWarning: pandas.Int64Index is deprecated and will be removed from pandas in a future version. Use pandas.Index with the appropriate dtype instead.\n",
      "  elif isinstance(data.columns, (pd.Int64Index, pd.RangeIndex)):\n",
      "\n"
     ]
    },
    {
     "name": "stdout",
     "output_type": "stream",
     "text": [
      "SCORE:                                                                          \n",
      "0.924                                                                           \n",
      " 70%|██████████▌    | 70/100 [9:15:17<2:53:18, 346.63s/trial, best loss: -0.936]"
     ]
    },
    {
     "name": "stderr",
     "output_type": "stream",
     "text": [
      "/Users/Sophie/opt/anaconda3/envs/xgb/lib/python3.10/site-packages/xgboost/data.py:250: FutureWarning: pandas.Int64Index is deprecated and will be removed from pandas in a future version. Use pandas.Index with the appropriate dtype instead.\n",
      "  elif isinstance(data.columns, (pd.Int64Index, pd.RangeIndex)):\n",
      "\n"
     ]
    },
    {
     "name": "stdout",
     "output_type": "stream",
     "text": [
      "SCORE:                                                                          \n",
      "0.92                                                                            \n",
      " 71%|██████████▋    | 71/100 [9:17:52<2:19:44, 289.13s/trial, best loss: -0.936]"
     ]
    },
    {
     "name": "stderr",
     "output_type": "stream",
     "text": [
      "/Users/Sophie/opt/anaconda3/envs/xgb/lib/python3.10/site-packages/xgboost/data.py:250: FutureWarning: pandas.Int64Index is deprecated and will be removed from pandas in a future version. Use pandas.Index with the appropriate dtype instead.\n",
      "  elif isinstance(data.columns, (pd.Int64Index, pd.RangeIndex)):\n",
      "\n"
     ]
    },
    {
     "name": "stdout",
     "output_type": "stream",
     "text": [
      "SCORE:                                                                          \n",
      "0.912                                                                           \n",
      " 72%|██████████▊    | 72/100 [9:25:26<2:37:59, 338.54s/trial, best loss: -0.936]"
     ]
    },
    {
     "name": "stderr",
     "output_type": "stream",
     "text": [
      "/Users/Sophie/opt/anaconda3/envs/xgb/lib/python3.10/site-packages/xgboost/data.py:250: FutureWarning: pandas.Int64Index is deprecated and will be removed from pandas in a future version. Use pandas.Index with the appropriate dtype instead.\n",
      "  elif isinstance(data.columns, (pd.Int64Index, pd.RangeIndex)):\n",
      "\n"
     ]
    },
    {
     "name": "stdout",
     "output_type": "stream",
     "text": [
      "SCORE:                                                                          \n",
      "0.916                                                                           \n",
      " 73%|██████████▉    | 73/100 [9:29:47<2:21:51, 315.25s/trial, best loss: -0.936]"
     ]
    },
    {
     "name": "stderr",
     "output_type": "stream",
     "text": [
      "/Users/Sophie/opt/anaconda3/envs/xgb/lib/python3.10/site-packages/xgboost/data.py:250: FutureWarning: pandas.Int64Index is deprecated and will be removed from pandas in a future version. Use pandas.Index with the appropriate dtype instead.\n",
      "  elif isinstance(data.columns, (pd.Int64Index, pd.RangeIndex)):\n",
      "\n"
     ]
    },
    {
     "name": "stdout",
     "output_type": "stream",
     "text": [
      "SCORE:                                                                          \n",
      "0.908                                                                           \n",
      " 74%|███████████    | 74/100 [9:35:48<2:22:36, 329.10s/trial, best loss: -0.936]"
     ]
    },
    {
     "name": "stderr",
     "output_type": "stream",
     "text": [
      "/Users/Sophie/opt/anaconda3/envs/xgb/lib/python3.10/site-packages/xgboost/data.py:250: FutureWarning: pandas.Int64Index is deprecated and will be removed from pandas in a future version. Use pandas.Index with the appropriate dtype instead.\n",
      "  elif isinstance(data.columns, (pd.Int64Index, pd.RangeIndex)):\n",
      "\n"
     ]
    },
    {
     "name": "stdout",
     "output_type": "stream",
     "text": [
      "SCORE:                                                                          \n",
      "0.908                                                                           \n",
      " 75%|███████████▎   | 75/100 [9:42:00<2:22:29, 341.98s/trial, best loss: -0.936]"
     ]
    },
    {
     "name": "stderr",
     "output_type": "stream",
     "text": [
      "/Users/Sophie/opt/anaconda3/envs/xgb/lib/python3.10/site-packages/xgboost/data.py:250: FutureWarning: pandas.Int64Index is deprecated and will be removed from pandas in a future version. Use pandas.Index with the appropriate dtype instead.\n",
      "  elif isinstance(data.columns, (pd.Int64Index, pd.RangeIndex)):\n",
      "\n"
     ]
    },
    {
     "name": "stdout",
     "output_type": "stream",
     "text": [
      "SCORE:                                                                          \n",
      "0.928                                                                           \n",
      " 76%|███████████▍   | 76/100 [9:46:59<2:11:37, 329.08s/trial, best loss: -0.936]"
     ]
    },
    {
     "name": "stderr",
     "output_type": "stream",
     "text": [
      "/Users/Sophie/opt/anaconda3/envs/xgb/lib/python3.10/site-packages/xgboost/data.py:250: FutureWarning: pandas.Int64Index is deprecated and will be removed from pandas in a future version. Use pandas.Index with the appropriate dtype instead.\n",
      "  elif isinstance(data.columns, (pd.Int64Index, pd.RangeIndex)):\n",
      "\n"
     ]
    },
    {
     "name": "stdout",
     "output_type": "stream",
     "text": [
      "SCORE:                                                                          \n",
      "0.904                                                                           \n",
      " 77%|███████████▌   | 77/100 [9:53:07<2:10:34, 340.62s/trial, best loss: -0.936]"
     ]
    },
    {
     "name": "stderr",
     "output_type": "stream",
     "text": [
      "/Users/Sophie/opt/anaconda3/envs/xgb/lib/python3.10/site-packages/xgboost/data.py:250: FutureWarning: pandas.Int64Index is deprecated and will be removed from pandas in a future version. Use pandas.Index with the appropriate dtype instead.\n",
      "  elif isinstance(data.columns, (pd.Int64Index, pd.RangeIndex)):\n",
      "\n"
     ]
    },
    {
     "name": "stdout",
     "output_type": "stream",
     "text": [
      "SCORE:                                                                          \n",
      "0.908                                                                           \n",
      " 78%|███████████▋   | 78/100 [9:59:08<2:07:09, 346.81s/trial, best loss: -0.936]"
     ]
    },
    {
     "name": "stderr",
     "output_type": "stream",
     "text": [
      "/Users/Sophie/opt/anaconda3/envs/xgb/lib/python3.10/site-packages/xgboost/data.py:250: FutureWarning: pandas.Int64Index is deprecated and will be removed from pandas in a future version. Use pandas.Index with the appropriate dtype instead.\n",
      "  elif isinstance(data.columns, (pd.Int64Index, pd.RangeIndex)):\n",
      "\n"
     ]
    },
    {
     "name": "stdout",
     "output_type": "stream",
     "text": [
      "SCORE:                                                                          \n",
      "0.9                                                                             \n",
      " 79%|███████████   | 79/100 [10:05:16<2:03:34, 353.07s/trial, best loss: -0.936]"
     ]
    },
    {
     "name": "stderr",
     "output_type": "stream",
     "text": [
      "/Users/Sophie/opt/anaconda3/envs/xgb/lib/python3.10/site-packages/xgboost/data.py:250: FutureWarning: pandas.Int64Index is deprecated and will be removed from pandas in a future version. Use pandas.Index with the appropriate dtype instead.\n",
      "  elif isinstance(data.columns, (pd.Int64Index, pd.RangeIndex)):\n",
      "\n"
     ]
    },
    {
     "name": "stdout",
     "output_type": "stream",
     "text": [
      "SCORE:                                                                          \n",
      "0.924                                                                           \n",
      " 80%|███████████▏  | 80/100 [10:15:22<2:22:59, 428.95s/trial, best loss: -0.936]"
     ]
    },
    {
     "name": "stderr",
     "output_type": "stream",
     "text": [
      "/Users/Sophie/opt/anaconda3/envs/xgb/lib/python3.10/site-packages/xgboost/data.py:250: FutureWarning: pandas.Int64Index is deprecated and will be removed from pandas in a future version. Use pandas.Index with the appropriate dtype instead.\n",
      "  elif isinstance(data.columns, (pd.Int64Index, pd.RangeIndex)):\n",
      "\n"
     ]
    },
    {
     "name": "stdout",
     "output_type": "stream",
     "text": [
      "SCORE:                                                                          \n",
      "0.916                                                                           \n",
      " 81%|███████████▎  | 81/100 [10:17:33<1:47:31, 339.56s/trial, best loss: -0.936]"
     ]
    },
    {
     "name": "stderr",
     "output_type": "stream",
     "text": [
      "/Users/Sophie/opt/anaconda3/envs/xgb/lib/python3.10/site-packages/xgboost/data.py:250: FutureWarning: pandas.Int64Index is deprecated and will be removed from pandas in a future version. Use pandas.Index with the appropriate dtype instead.\n",
      "  elif isinstance(data.columns, (pd.Int64Index, pd.RangeIndex)):\n",
      "\n"
     ]
    },
    {
     "name": "stdout",
     "output_type": "stream",
     "text": [
      "SCORE:                                                                          \n",
      "0.884                                                                           \n",
      " 82%|███████████▍  | 82/100 [10:23:29<1:43:24, 344.69s/trial, best loss: -0.936]"
     ]
    },
    {
     "name": "stderr",
     "output_type": "stream",
     "text": [
      "/Users/Sophie/opt/anaconda3/envs/xgb/lib/python3.10/site-packages/xgboost/data.py:250: FutureWarning: pandas.Int64Index is deprecated and will be removed from pandas in a future version. Use pandas.Index with the appropriate dtype instead.\n",
      "  elif isinstance(data.columns, (pd.Int64Index, pd.RangeIndex)):\n",
      "\n"
     ]
    },
    {
     "name": "stdout",
     "output_type": "stream",
     "text": [
      "SCORE:                                                                          \n",
      "0.912                                                                           \n",
      " 83%|███████████▌  | 83/100 [10:29:30<1:38:58, 349.30s/trial, best loss: -0.936]"
     ]
    },
    {
     "name": "stderr",
     "output_type": "stream",
     "text": [
      "/Users/Sophie/opt/anaconda3/envs/xgb/lib/python3.10/site-packages/xgboost/data.py:250: FutureWarning: pandas.Int64Index is deprecated and will be removed from pandas in a future version. Use pandas.Index with the appropriate dtype instead.\n",
      "  elif isinstance(data.columns, (pd.Int64Index, pd.RangeIndex)):\n",
      "\n"
     ]
    },
    {
     "name": "stdout",
     "output_type": "stream",
     "text": [
      "SCORE:                                                                          \n",
      "0.92                                                                            \n",
      " 84%|███████████▊  | 84/100 [10:33:00<1:22:01, 307.57s/trial, best loss: -0.936]"
     ]
    },
    {
     "name": "stderr",
     "output_type": "stream",
     "text": [
      "/Users/Sophie/opt/anaconda3/envs/xgb/lib/python3.10/site-packages/xgboost/data.py:250: FutureWarning: pandas.Int64Index is deprecated and will be removed from pandas in a future version. Use pandas.Index with the appropriate dtype instead.\n",
      "  elif isinstance(data.columns, (pd.Int64Index, pd.RangeIndex)):\n",
      "\n"
     ]
    },
    {
     "name": "stdout",
     "output_type": "stream",
     "text": [
      "SCORE:                                                                          \n",
      "0.764                                                                           \n",
      " 85%|███████████▉  | 85/100 [10:38:41<1:19:23, 317.59s/trial, best loss: -0.936]"
     ]
    },
    {
     "name": "stderr",
     "output_type": "stream",
     "text": [
      "/Users/Sophie/opt/anaconda3/envs/xgb/lib/python3.10/site-packages/xgboost/data.py:250: FutureWarning: pandas.Int64Index is deprecated and will be removed from pandas in a future version. Use pandas.Index with the appropriate dtype instead.\n",
      "  elif isinstance(data.columns, (pd.Int64Index, pd.RangeIndex)):\n",
      "\n"
     ]
    },
    {
     "name": "stdout",
     "output_type": "stream",
     "text": [
      "SCORE:                                                                          \n",
      "0.892                                                                           \n",
      " 86%|████████████  | 86/100 [10:44:37<1:16:49, 329.28s/trial, best loss: -0.936]"
     ]
    },
    {
     "name": "stderr",
     "output_type": "stream",
     "text": [
      "/Users/Sophie/opt/anaconda3/envs/xgb/lib/python3.10/site-packages/xgboost/data.py:250: FutureWarning: pandas.Int64Index is deprecated and will be removed from pandas in a future version. Use pandas.Index with the appropriate dtype instead.\n",
      "  elif isinstance(data.columns, (pd.Int64Index, pd.RangeIndex)):\n",
      "\n"
     ]
    },
    {
     "name": "stdout",
     "output_type": "stream",
     "text": [
      "SCORE:                                                                          \n",
      "0.836                                                                           \n",
      " 87%|████████████▏ | 87/100 [10:50:25<1:12:30, 334.68s/trial, best loss: -0.936]"
     ]
    },
    {
     "name": "stderr",
     "output_type": "stream",
     "text": [
      "/Users/Sophie/opt/anaconda3/envs/xgb/lib/python3.10/site-packages/xgboost/data.py:250: FutureWarning: pandas.Int64Index is deprecated and will be removed from pandas in a future version. Use pandas.Index with the appropriate dtype instead.\n",
      "  elif isinstance(data.columns, (pd.Int64Index, pd.RangeIndex)):\n",
      "\n"
     ]
    },
    {
     "name": "stdout",
     "output_type": "stream",
     "text": [
      "SCORE:                                                                          \n",
      "0.916                                                                           \n",
      " 88%|████████████▎ | 88/100 [10:56:48<1:09:51, 349.33s/trial, best loss: -0.936]"
     ]
    },
    {
     "name": "stderr",
     "output_type": "stream",
     "text": [
      "/Users/Sophie/opt/anaconda3/envs/xgb/lib/python3.10/site-packages/xgboost/data.py:250: FutureWarning: pandas.Int64Index is deprecated and will be removed from pandas in a future version. Use pandas.Index with the appropriate dtype instead.\n",
      "  elif isinstance(data.columns, (pd.Int64Index, pd.RangeIndex)):\n",
      "\n"
     ]
    },
    {
     "name": "stdout",
     "output_type": "stream",
     "text": [
      "SCORE:                                                                          \n",
      "0.932                                                                           \n",
      " 89%|████████████▍ | 89/100 [11:03:54<1:08:15, 372.35s/trial, best loss: -0.936]"
     ]
    },
    {
     "name": "stderr",
     "output_type": "stream",
     "text": [
      "/Users/Sophie/opt/anaconda3/envs/xgb/lib/python3.10/site-packages/xgboost/data.py:250: FutureWarning: pandas.Int64Index is deprecated and will be removed from pandas in a future version. Use pandas.Index with the appropriate dtype instead.\n",
      "  elif isinstance(data.columns, (pd.Int64Index, pd.RangeIndex)):\n",
      "\n"
     ]
    },
    {
     "name": "stdout",
     "output_type": "stream",
     "text": [
      "SCORE:                                                                          \n",
      "0.924                                                                           \n",
      " 90%|████████████▌ | 90/100 [11:11:43<1:06:52, 401.29s/trial, best loss: -0.936]"
     ]
    },
    {
     "name": "stderr",
     "output_type": "stream",
     "text": [
      "/Users/Sophie/opt/anaconda3/envs/xgb/lib/python3.10/site-packages/xgboost/data.py:250: FutureWarning: pandas.Int64Index is deprecated and will be removed from pandas in a future version. Use pandas.Index with the appropriate dtype instead.\n",
      "  elif isinstance(data.columns, (pd.Int64Index, pd.RangeIndex)):\n",
      "\n"
     ]
    },
    {
     "name": "stdout",
     "output_type": "stream",
     "text": [
      "SCORE:                                                                          \n",
      "0.916                                                                           \n",
      " 91%|████████████▋ | 91/100 [11:22:24<1:10:59, 473.27s/trial, best loss: -0.936]"
     ]
    },
    {
     "name": "stderr",
     "output_type": "stream",
     "text": [
      "/Users/Sophie/opt/anaconda3/envs/xgb/lib/python3.10/site-packages/xgboost/data.py:250: FutureWarning: pandas.Int64Index is deprecated and will be removed from pandas in a future version. Use pandas.Index with the appropriate dtype instead.\n",
      "  elif isinstance(data.columns, (pd.Int64Index, pd.RangeIndex)):\n",
      "\n"
     ]
    },
    {
     "name": "stdout",
     "output_type": "stream",
     "text": [
      "SCORE:                                                                          \n",
      "0.888                                                                           \n",
      " 92%|██████████████▋ | 92/100 [11:28:18<58:20, 437.54s/trial, best loss: -0.936]"
     ]
    },
    {
     "name": "stderr",
     "output_type": "stream",
     "text": [
      "/Users/Sophie/opt/anaconda3/envs/xgb/lib/python3.10/site-packages/xgboost/data.py:250: FutureWarning: pandas.Int64Index is deprecated and will be removed from pandas in a future version. Use pandas.Index with the appropriate dtype instead.\n",
      "  elif isinstance(data.columns, (pd.Int64Index, pd.RangeIndex)):\n",
      "\n"
     ]
    },
    {
     "name": "stdout",
     "output_type": "stream",
     "text": [
      "SCORE:                                                                          \n",
      "0.908                                                                           \n",
      " 93%|██████████████▉ | 93/100 [11:34:18<48:19, 414.23s/trial, best loss: -0.936]"
     ]
    },
    {
     "name": "stderr",
     "output_type": "stream",
     "text": [
      "/Users/Sophie/opt/anaconda3/envs/xgb/lib/python3.10/site-packages/xgboost/data.py:250: FutureWarning: pandas.Int64Index is deprecated and will be removed from pandas in a future version. Use pandas.Index with the appropriate dtype instead.\n",
      "  elif isinstance(data.columns, (pd.Int64Index, pd.RangeIndex)):\n",
      "\n"
     ]
    },
    {
     "name": "stdout",
     "output_type": "stream",
     "text": [
      "SCORE:                                                                          \n",
      "0.904                                                                           \n",
      " 94%|███████████████ | 94/100 [11:40:27<40:03, 400.62s/trial, best loss: -0.936]"
     ]
    },
    {
     "name": "stderr",
     "output_type": "stream",
     "text": [
      "/Users/Sophie/opt/anaconda3/envs/xgb/lib/python3.10/site-packages/xgboost/data.py:250: FutureWarning: pandas.Int64Index is deprecated and will be removed from pandas in a future version. Use pandas.Index with the appropriate dtype instead.\n",
      "  elif isinstance(data.columns, (pd.Int64Index, pd.RangeIndex)):\n",
      "\n"
     ]
    },
    {
     "name": "stdout",
     "output_type": "stream",
     "text": [
      "SCORE:                                                                          \n",
      "0.9                                                                             \n",
      " 95%|███████████████▏| 95/100 [11:48:03<34:46, 417.33s/trial, best loss: -0.936]"
     ]
    },
    {
     "name": "stderr",
     "output_type": "stream",
     "text": [
      "/Users/Sophie/opt/anaconda3/envs/xgb/lib/python3.10/site-packages/xgboost/data.py:250: FutureWarning: pandas.Int64Index is deprecated and will be removed from pandas in a future version. Use pandas.Index with the appropriate dtype instead.\n",
      "  elif isinstance(data.columns, (pd.Int64Index, pd.RangeIndex)):\n",
      "\n"
     ]
    },
    {
     "name": "stdout",
     "output_type": "stream",
     "text": [
      "SCORE:                                                                          \n",
      "0.908                                                                           \n",
      " 96%|███████████████▎| 96/100 [11:55:49<28:46, 431.70s/trial, best loss: -0.936]"
     ]
    },
    {
     "name": "stderr",
     "output_type": "stream",
     "text": [
      "/Users/Sophie/opt/anaconda3/envs/xgb/lib/python3.10/site-packages/xgboost/data.py:250: FutureWarning: pandas.Int64Index is deprecated and will be removed from pandas in a future version. Use pandas.Index with the appropriate dtype instead.\n",
      "  elif isinstance(data.columns, (pd.Int64Index, pd.RangeIndex)):\n",
      "\n"
     ]
    },
    {
     "name": "stdout",
     "output_type": "stream",
     "text": [
      "SCORE:                                                                          \n",
      "0.808                                                                           \n",
      " 97%|███████████████▌| 97/100 [12:01:43<20:25, 408.50s/trial, best loss: -0.936]"
     ]
    },
    {
     "name": "stderr",
     "output_type": "stream",
     "text": [
      "/Users/Sophie/opt/anaconda3/envs/xgb/lib/python3.10/site-packages/xgboost/data.py:250: FutureWarning: pandas.Int64Index is deprecated and will be removed from pandas in a future version. Use pandas.Index with the appropriate dtype instead.\n",
      "  elif isinstance(data.columns, (pd.Int64Index, pd.RangeIndex)):\n",
      "\n"
     ]
    },
    {
     "name": "stdout",
     "output_type": "stream",
     "text": [
      "SCORE:                                                                          \n",
      "0.932                                                                           \n",
      " 98%|███████████████▋| 98/100 [12:05:22<11:43, 351.77s/trial, best loss: -0.936]"
     ]
    },
    {
     "name": "stderr",
     "output_type": "stream",
     "text": [
      "/Users/Sophie/opt/anaconda3/envs/xgb/lib/python3.10/site-packages/xgboost/data.py:250: FutureWarning: pandas.Int64Index is deprecated and will be removed from pandas in a future version. Use pandas.Index with the appropriate dtype instead.\n",
      "  elif isinstance(data.columns, (pd.Int64Index, pd.RangeIndex)):\n",
      "\n"
     ]
    },
    {
     "name": "stdout",
     "output_type": "stream",
     "text": [
      "SCORE:                                                                          \n",
      "0.916                                                                           \n",
      " 99%|███████████████▊| 99/100 [12:13:04<06:24, 384.73s/trial, best loss: -0.936]"
     ]
    },
    {
     "name": "stderr",
     "output_type": "stream",
     "text": [
      "/Users/Sophie/opt/anaconda3/envs/xgb/lib/python3.10/site-packages/xgboost/data.py:250: FutureWarning: pandas.Int64Index is deprecated and will be removed from pandas in a future version. Use pandas.Index with the appropriate dtype instead.\n",
      "  elif isinstance(data.columns, (pd.Int64Index, pd.RangeIndex)):\n",
      "\n"
     ]
    },
    {
     "name": "stdout",
     "output_type": "stream",
     "text": [
      "SCORE:                                                                          \n",
      "0.924                                                                           \n",
      "100%|███████████████| 100/100 [12:21:25<00:00, 444.86s/trial, best loss: -0.936]\n",
      "The best hyperparameters are :  \n",
      "\n",
      "{'gamma': 0.023174975386959007, 'max_depth': 14.0, 'min_child_weight': 15.0}\n"
     ]
    }
   ],
   "source": [
    "# parameters that increase model complexity\n",
    "from hyperopt import STATUS_OK, Trials, fmin, hp, tpe\n",
    "\n",
    "# initialize domain space for range of values\n",
    "space={'max_depth': hp.quniform(\"max_depth\", 8, 20, 1),\n",
    "       'min_child_weight' : hp.quniform('min_child_weight', 1, 100, 1),\n",
    "       'gamma': hp.uniform ('gamma', 0, 4)\n",
    "        }\n",
    "\n",
    "# define objective function\n",
    "def objective(space):\n",
    "    clf=xgb.XGBClassifier(objective='multi:softmax',\n",
    "                          eta=0.3,\n",
    "                          num_class=15,\n",
    "                          eval_metric=['merror','mlogloss'],\n",
    "                          n_estimators =250,\n",
    "                          max_depth = int(space['max_depth']), \n",
    "                          min_child_weight=int(space['min_child_weight']),\n",
    "                          gamma = space['gamma'],\n",
    "                          use_label_encoder=False)\n",
    "    \n",
    "    evaluation = [(x_tr, y_tr), (x_val, y_val)]\n",
    "    # early stopping\n",
    "    clf.fit(x_tr, y_tr,\n",
    "            eval_set=evaluation,\n",
    "            early_stopping_rounds=10,\n",
    "            verbose=0)\n",
    "    \n",
    "    pred = clf.predict(x_val)\n",
    "    accuracy = accuracy_score(y_val, pred)\n",
    "    print (\"SCORE:\", accuracy)\n",
    "    return {'loss': -accuracy, 'status': STATUS_OK }\n",
    "\n",
    "# optimization algorithm\n",
    "trials = Trials()\n",
    "\n",
    "best_hyperparams = fmin(fn = objective,\n",
    "                        space = space,\n",
    "                        algo = tpe.suggest,\n",
    "                        max_evals = 100,\n",
    "                        trials = trials)\n",
    "\n",
    "# print results\n",
    "print(\"The best hyperparameters are : \",\"\\n\")\n",
    "print(best_hyperparams)"
   ]
  },
  {
   "cell_type": "markdown",
   "id": "60b48062",
   "metadata": {},
   "source": [
    "### Model evaluation"
   ]
  },
  {
   "cell_type": "code",
   "execution_count": 33,
   "id": "f36d2710",
   "metadata": {},
   "outputs": [
    {
     "name": "stdout",
     "output_type": "stream",
     "text": [
      "Training Set Accuracy Score on EMPO 3:  0.924\n",
      "Baseline Model Training Time: 1213.2843372821808s\n"
     ]
    },
    {
     "data": {
      "image/png": "[encoded data removed]",
      "text/plain": [
       "<Figure size 864x288 with 1 Axes>"
      ]
     },
     "metadata": {
      "needs_background": "light"
     },
     "output_type": "display_data"
    }
   ],
   "source": [
    "# Parameters for best and final model\n",
    "best_model=xgb.XGBClassifier(objective='multi:softmax',\n",
    "                             eta=0.03,\n",
    "                             num_class=15,\n",
    "                             eval_metric=['merror','mlogloss'],\n",
    "                             n_estimators =250,\n",
    "                             max_depth = 14,\n",
    "                             min_child_weight=15,\n",
    "#                              reg_lambda=1,\n",
    "#                              reg_alpha = 0,\n",
    "                             gamma = 0.023174975386959007,\n",
    "#                              colsample_bytree=0.4718126556989784,\n",
    "                             use_label_encoder=False\n",
    "                             )\n",
    "\n",
    "# fit model and get predictions on validation set\n",
    "best_pred = eval_score(best_model)\n",
    "# plot loss curve\n",
    "eval_graphs(best_model)"
   ]
  },
  {
   "cell_type": "markdown",
   "id": "d79717c7",
   "metadata": {},
   "source": [
    "Comparing the final model and the baseline model, the final model has a smaller difference between the train and validation loss. Thus, we will use the final model parameters."
   ]
  },
  {
   "cell_type": "code",
   "execution_count": 35,
   "id": "52bb54fb",
   "metadata": {},
   "outputs": [
    {
     "data": {
      "image/png": "[encoded data removed]",
      "text/plain": [
       "<Figure size 864x288 with 1 Axes>"
      ]
     },
     "metadata": {
      "needs_background": "light"
     },
     "output_type": "display_data"
    }
   ],
   "source": [
    "results = baseline_model.evals_result()\n",
    "x_arr = np.arange(len(results['validation_0']['mlogloss']))+1\n",
    "fig = plt.figure(figsize=(12, 4))\n",
    "ax = fig.add_subplot(1, 2, 2)\n",
    "ax.plot(x_arr, results['validation_0']['merror'], label='Train loss')\n",
    "ax.plot(x_arr, results['validation_1']['merror'], label='Validation loss')\n",
    "ax.legend(fontsize=15)\n",
    "ax.set_xlabel('Epoch', size=15)\n",
    "ax.set_ylabel('MError', size=15)\n",
    "plt.title('Model MError Curve')\n",
    "plt.show()"
   ]
  },
  {
   "cell_type": "markdown",
   "id": "44ffb1f1",
   "metadata": {},
   "source": [
    "### Retrain best model\n",
    "After experimenting with models, retrain your favorite model using entire training set (including validation) before saving"
   ]
  },
  {
   "cell_type": "code",
   "execution_count": null,
   "id": "3dbb5076",
   "metadata": {},
   "outputs": [],
   "source": []
  },
  {
   "cell_type": "code",
   "execution_count": 38,
   "id": "2e2ce65f",
   "metadata": {},
   "outputs": [
    {
     "name": "stdout",
     "output_type": "stream",
     "text": [
      "XGBClassifier(base_score=0.5, booster='gbtree', colsample_bylevel=1,\n",
      "              colsample_bynode=1, colsample_bytree=1, enable_categorical=False,\n",
      "              eta=0.03, eval_metric=['merror', 'mlogloss'], gamma=0, gpu_id=-1,\n",
      "              importance_type=None, interaction_constraints='',\n",
      "              learning_rate=0.0299999993, max_delta_step=0, max_depth=6,\n",
      "              min_child_weight=1, missing=nan, monotone_constraints='()',\n",
      "              n_estimators=250, n_jobs=4, num_parallel_tree=1,\n",
      "              objective='multi:softprob', predictor='auto', random_state=0,\n",
      "              reg_alpha=0, reg_lambda=1, scale_pos_weight=None, subsample=1,\n",
      "              tree_method='exact', use_label_encoder=False, ...)\n",
      "Model Training Time: 3232.886157989502s\n"
     ]
    }
   ],
   "source": [
    "start = time.time() \n",
    "# fit to entire training dataset\n",
    "baseline_model.fit(x_train, y_train['EMPO_3'],\n",
    "                eval_set=[(x_train, y_train['EMPO_3'])],\n",
    "                verbose=0)\n",
    "stop = time.time()\n",
    "print(baseline_model)\n",
    "print(f\"Model Training Time: {stop-start}s\" )"
   ]
  },
  {
   "cell_type": "markdown",
   "id": "73e55e7e",
   "metadata": {},
   "source": [
    "### Save fitted model"
   ]
  },
  {
   "cell_type": "code",
   "execution_count": 39,
   "id": "c8d1e12b",
   "metadata": {},
   "outputs": [
    {
     "data": {
      "text/plain": [
       "['../model_joblibs/xgb_empo3_baseline.joblib']"
      ]
     },
     "execution_count": 39,
     "metadata": {},
     "output_type": "execute_result"
    }
   ],
   "source": [
    "# Save best model as joblib or pkl file to 'model_joblibs' folder\n",
    "dump(best_model, '../model_joblibs/xgb_empo3_baseline.joblib')"
   ]
  },
  {
   "cell_type": "code",
   "execution_count": null,
   "id": "374f0e81",
   "metadata": {},
   "outputs": [],
   "source": []
  }
 ],
 "metadata": {
  "kernelspec": {
   "display_name": "xgb",
   "language": "python",
   "name": "xgb"
  },
  "language_info": {
   "codemirror_mode": {
    "name": "ipython",
    "version": 3
   },
   "file_extension": ".py",
   "mimetype": "text/x-python",
   "name": "python",
   "nbconvert_exporter": "python",
   "pygments_lexer": "ipython3",
   "version": "3.10.4"
  }
 },
 "nbformat": 4,
 "nbformat_minor": 5
}
