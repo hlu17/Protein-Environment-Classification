{
 "cells": [
  {
   "cell_type": "code",
   "execution_count": 1,
   "id": "261224c6",
   "metadata": {},
   "outputs": [],
   "source": [
    "import os\n",
    "import sys\n",
    "module_path = os.path.abspath(os.path.join('..'))\n",
    "if module_path not in sys.path:\n",
    "    sys.path.append(module_path)\n",
    "\n",
    "from helpers import (get_training_observations, \n",
    "                     get_training_labels, \n",
    "                     get_protein_proportions)\n",
    "\n",
    "import shap\n",
    "import pandas as pd\n",
    "import numpy as np\n",
    "import matplotlib.pyplot as plt\n",
    "import gc"
   ]
  },
  {
   "cell_type": "markdown",
   "id": "f48c2876",
   "metadata": {},
   "source": [
    "### Decision Tree"
   ]
  },
  {
   "cell_type": "code",
   "execution_count": 6,
   "id": "a6c05d08",
   "metadata": {},
   "outputs": [
    {
     "name": "stdout",
     "output_type": "stream",
     "text": [
      "Getting all training observations from 'metagenome_classification.db'...\n"
     ]
    },
    {
     "data": {
      "text/plain": [
       "0"
      ]
     },
     "execution_count": 6,
     "metadata": {},
     "output_type": "execute_result"
    }
   ],
   "source": [
    "# Load decision tree model\n",
    "from joblib import load\n",
    "model_dt = load('../model_joblibs/final_decision_tree.joblib')\n",
    "x_train = get_training_observations()\n",
    "gc.collect()"
   ]
  },
  {
   "cell_type": "code",
   "execution_count": 38,
   "id": "1ae72326",
   "metadata": {},
   "outputs": [
    {
     "data": {
      "text/plain": [
       "array(['Aerosol (non-saline)', 'Animal corpus', 'Animal proximal gut',\n",
       "       'Hypersaline (saline)', 'Plant corpus', 'Plant rhizosphere',\n",
       "       'Plant surface', 'Sediment (non-saline)', 'Sediment (saline)',\n",
       "       'Soil (non-saline)', 'Subsurface (non-saline)',\n",
       "       'Surface (non-saline)', 'Surface (saline)', 'Water (non-saline)',\n",
       "       'Water (saline)'], dtype=object)"
      ]
     },
     "execution_count": 38,
     "metadata": {},
     "output_type": "execute_result"
    }
   ],
   "source": [
    "model_dt.classes_"
   ]
  },
  {
   "cell_type": "code",
   "execution_count": 15,
   "id": "14555e6a",
   "metadata": {},
   "outputs": [
    {
     "data": {
      "text/plain": [
       "22481"
      ]
     },
     "execution_count": 15,
     "metadata": {},
     "output_type": "execute_result"
    }
   ],
   "source": [
    "explainer = shap.TreeExplainer(model_dt)\n",
    "shap_values = explainer.shap_values(x_train)\n",
    "gc.collect()"
   ]
  },
  {
   "cell_type": "code",
   "execution_count": 18,
   "id": "749d68f4",
   "metadata": {},
   "outputs": [],
   "source": [
    "shap.summary_plot(shap_values, x_train, class_names=model_dt.classes_, show=False)\n",
    "plt.legend(loc=\"lower right\")\n",
    "plt.savefig(f'shap_decision_tree/shap_images/overall.png', bbox_inches=\"tight\")\n",
    "plt.close('all')"
   ]
  },
  {
   "cell_type": "code",
   "execution_count": 20,
   "id": "8a2c7a8a",
   "metadata": {},
   "outputs": [],
   "source": [
    "for i in range(len(shap_values)):\n",
    "    cat = model_dt.classes_[i]\n",
    "    vals = np.abs(shap_values[i]).mean(0)\n",
    "    feature_importance = pd.DataFrame(list(zip(x_train.columns, vals)), columns=['pfam','feature_importance_vals'])\n",
    "    feature_importance.sort_values(by=['feature_importance_vals'], ascending=False, inplace=True)\n",
    "    feature_importance.to_csv(f'shap_decision_tree/shap_data/{cat}.csv', index=False)\n",
    "    shap.summary_plot(shap_values[i], x_train, class_names=model_dt.classes_, show=False)\n",
    "    plt.savefig(f'shap_decision_tree/shap_images/{cat}.png', bbox_inches=\"tight\")\n",
    "    plt.close('all')\n",
    "    gc.collect()"
   ]
  },
  {
   "cell_type": "markdown",
   "id": "b49650fb",
   "metadata": {},
   "source": [
    "### XGBoost"
   ]
  },
  {
   "cell_type": "code",
   "execution_count": 7,
   "id": "de7aadb8",
   "metadata": {},
   "outputs": [
    {
     "data": {
      "text/plain": [
       "16"
      ]
     },
     "execution_count": 7,
     "metadata": {},
     "output_type": "execute_result"
    }
   ],
   "source": [
    "# Load decision tree model\n",
    "from joblib import load\n",
    "model_xgb = load('../model_joblibs/xgb_delaney.joblib')\n",
    "gc.collect()"
   ]
  },
  {
   "cell_type": "code",
   "execution_count": 21,
   "id": "5a7cd301",
   "metadata": {},
   "outputs": [
    {
     "name": "stderr",
     "output_type": "stream",
     "text": [
      "pandas.Int64Index is deprecated and will be removed from pandas in a future version. Use pandas.Index with the appropriate dtype instead.\n"
     ]
    },
    {
     "data": {
      "text/plain": [
       "174511"
      ]
     },
     "execution_count": 21,
     "metadata": {},
     "output_type": "execute_result"
    }
   ],
   "source": [
    "explainer = shap.TreeExplainer(model_xgb)\n",
    "shap_values = explainer.shap_values(x_train)\n",
    "gc.collect()"
   ]
  },
  {
   "cell_type": "code",
   "execution_count": 14,
   "id": "4c460371",
   "metadata": {},
   "outputs": [
    {
     "data": {
      "text/plain": [
       "344"
      ]
     },
     "execution_count": 14,
     "metadata": {},
     "output_type": "execute_result"
    }
   ],
   "source": [
    "shap.summary_plot(shap_values, x_train, class_names=model_dt.classes_, show=False)\n",
    "plt.legend(loc=\"lower right\")\n",
    "plt.savefig(f'shap_xgboost/shap_images/overall.png', bbox_inches=\"tight\")\n",
    "plt.close('all')\n",
    "gc.collect()"
   ]
  },
  {
   "cell_type": "code",
   "execution_count": 23,
   "id": "396ddee1",
   "metadata": {},
   "outputs": [],
   "source": [
    "for i in range(len(shap_values)):\n",
    "    cat = model_dt.classes_[i]\n",
    "    vals = np.abs(shap_values[i]).mean(0)\n",
    "    feature_importance = pd.DataFrame(list(zip(x_train.columns, vals)), columns=['pfam','feature_importance_vals'])\n",
    "    feature_importance.sort_values(by=['feature_importance_vals'], ascending=False, inplace=True)\n",
    "    feature_importance.to_csv(f'shap_xgboost/shap_data/{cat}.csv', index=False)\n",
    "    shap.summary_plot(shap_values[i], x_train, class_names=model_dt.classes_, show=False)\n",
    "    plt.savefig(f'shap_xgboost/shap_images/{cat}.png', bbox_inches=\"tight\")\n",
    "    plt.close('all')\n",
    "    gc.collect()"
   ]
  },
  {
   "cell_type": "code",
   "execution_count": null,
   "id": "ae54c49a",
   "metadata": {},
   "outputs": [],
   "source": []
  }
 ],
 "metadata": {
  "kernelspec": {
   "display_name": "Python 3 (ipykernel)",
   "language": "python",
   "name": "python3"
  },
  "language_info": {
   "codemirror_mode": {
    "name": "ipython",
    "version": 3
   },
   "file_extension": ".py",
   "mimetype": "text/x-python",
   "name": "python",
   "nbconvert_exporter": "python",
   "pygments_lexer": "ipython3",
   "version": "3.10.5"
  }
 },
 "nbformat": 4,
 "nbformat_minor": 5
}
