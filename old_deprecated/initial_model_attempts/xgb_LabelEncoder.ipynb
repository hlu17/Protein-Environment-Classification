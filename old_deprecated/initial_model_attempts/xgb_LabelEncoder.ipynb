{
 "cells": [
  {
   "cell_type": "markdown",
   "id": "b7ffc1b4",
   "metadata": {},
   "source": [
    "# XGBoost Label Encoder\n",
    "\n",
    "This script creates a label encoder from the full dataset and saves it as a .joblib file in the model_joblibs folder to use in creating the xgb model and for model comoparison."
   ]
  },
  {
   "cell_type": "code",
   "execution_count": 1,
   "id": "a9a7a6f6",
   "metadata": {},
   "outputs": [],
   "source": [
    "import os\n",
    "import sys\n",
    "module_path = os.path.abspath(os.path.join('..'))\n",
    "if module_path not in sys.path:\n",
    "    sys.path.append(module_path)\n",
    "\n",
    "from helpers import (get_training_observations, \n",
    "                     get_training_labels, \n",
    "                     get_test_labels,\n",
    "                     get_protein_proportions)\n",
    "import pandas as pd\n",
    "import numpy as np\n",
    "from joblib import dump\n",
    "from sklearn.preprocessing import LabelEncoder"
   ]
  },
  {
   "cell_type": "code",
   "execution_count": 2,
   "id": "f96874df",
   "metadata": {},
   "outputs": [
    {
     "name": "stdout",
     "output_type": "stream",
     "text": [
      "Getting all training labels from 'metagenome_classification.db'...\n",
      "Getting all test labels from 'metagenome_classification.db'...\n"
     ]
    },
    {
     "data": {
      "text/plain": [
       "['../model_joblibs/xgb_labelEncoder.joblib']"
      ]
     },
     "execution_count": 2,
     "metadata": {},
     "output_type": "execute_result"
    }
   ],
   "source": [
    "y_train = get_training_labels()\n",
    "y_test = get_test_labels()\n",
    "\n",
    "##### encode labels for all datasets \n",
    "le = LabelEncoder()\n",
    "le.fit(y_train['EMPO_3'])\n",
    "le.fit(y_test['EMPO_3'])\n",
    "# to save encoder \n",
    "dump(le,'../model_joblibs/xgb_labelEncoder.joblib',compress=9)"
   ]
  },
  {
   "cell_type": "code",
   "execution_count": null,
   "id": "67bafc4a",
   "metadata": {},
   "outputs": [],
   "source": []
  }
 ],
 "metadata": {
  "kernelspec": {
   "display_name": "xgb",
   "language": "python",
   "name": "xgb"
  },
  "language_info": {
   "codemirror_mode": {
    "name": "ipython",
    "version": 3
   },
   "file_extension": ".py",
   "mimetype": "text/x-python",
   "name": "python",
   "nbconvert_exporter": "python",
   "pygments_lexer": "ipython3",
   "version": "3.10.4"
  }
 },
 "nbformat": 4,
 "nbformat_minor": 5
}
